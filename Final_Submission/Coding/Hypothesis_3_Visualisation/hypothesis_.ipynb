{
 "metadata": {
  "name": "",
  "signature": "sha256:e5ec960d67eeac8166ad2d68cad7610d66c8087fd92f838da8b7da689ac45a2a"
 },
 "nbformat": 3,
 "nbformat_minor": 0,
 "worksheets": [
  {
   "cells": [
    {
     "cell_type": "code",
     "collapsed": false,
     "input": [
      "import pandas as pd\n",
      "\n",
      "def returnDF_JSON(fileURL):\n",
      "    # read the entire file into a python array\n",
      "    \n",
      "    with open(fileURL, 'rb') as f:\n",
      "        data = f.readlines()\n",
      "\n",
      "    # remove the trailing \"\\n\" from each line\n",
      "    data = map(lambda x: x.rstrip(), data)\n",
      "\n",
      "    # each element of 'data' is an individual JSON object.\n",
      "    # i want to convert it into an *array* of JSON objects\n",
      "    # which, in and of itself, is one large JSON object\n",
      "    # basically... add square brackets to the beginning\n",
      "    # and end, and have all the individual business JSON objects\n",
      "    # separated by a comma\n",
      "    data_json_str = \"[\" + ','.join(data) + \"]\"\n",
      "\n",
      "#     print \"Data: \" , data_json_str\n",
      "    # now, load it into pandas\n",
      "    df = pd.read_json(data_json_str)\n",
      "    return df"
     ],
     "language": "python",
     "metadata": {},
     "outputs": [],
     "prompt_number": 1
    },
    {
     "cell_type": "heading",
     "level": 4,
     "metadata": {},
     "source": [
      "Get the User DataFrame from JSON"
     ]
    },
    {
     "cell_type": "code",
     "collapsed": false,
     "input": [
      "user_small_path = 'G:\\\\Social_Networks_CSE592\\\\Project\\\\Dataset\\\\yelp_dataset_challenge_academic_dataset\\\\yelp_dataset_challenge_academic_dataset\\\\yelp_academic_dataset_user_small_new.json'\n",
      "\n",
      "user_df = returnDF_JSON(user_small_path)\n",
      "\n",
      "user_df.reset_index()\n",
      "user_df = user_df.set_index(user_df['user_id'])\n",
      "print user_df.head(5)\n"
     ],
     "language": "python",
     "metadata": {},
     "outputs": [
      {
       "output_type": "stream",
       "stream": "stdout",
       "text": [
        "         average_stars                                        compliments  \\\n",
        "user_id                                                                     \n",
        "7                 3.02  {u'note': 1, u'photos': 1, u'funny': 1, u'plai...   \n",
        "723               3.02  {u'note': 1, u'photos': 1, u'funny': 1, u'plai...   \n",
        "136381            4.14  {u'profile': 8, u'cute': 15, u'funny': 11, u'p...   \n",
        "33562             3.64  {u'profile': 110, u'cute': 209, u'funny': 561,...   \n",
        "176468            3.59  {u'profile': 9, u'cute': 23, u'funny': 122, u'...   \n",
        "\n",
        "                                                     elite  fans  \\\n",
        "user_id                                                            \n",
        "7                                                   [2014]     3   \n",
        "723                                                 [2014]     3   \n",
        "136381                                        [2005, 2006]    69   \n",
        "33562    [2005, 2006, 2007, 2008, 2009, 2010, 2011, 201...  1012   \n",
        "176468   [2005, 2006, 2007, 2008, 2009, 2010, 2011, 201...    93   \n",
        "\n",
        "                                                   friends     name  \\\n",
        "user_id                                                               \n",
        "7                                                  [00723]   Deepak   \n",
        "723                                                  [007]      Dee   \n",
        "136381   [33562, 176468, 136380, 157073, 261015, 188880...   Russel   \n",
        "33562    [136381, 176468, 136380, 139128, 157073, 14223...   Jeremy   \n",
        "176468   [136381, 33562, 142231, 65500, 14493, 119716, ...  Michael   \n",
        "\n",
        "         review_count  type  user_id  \\\n",
        "user_id                                \n",
        "7                 119  user        7   \n",
        "723                11  user      723   \n",
        "136381            108  user   136381   \n",
        "33562            1233  user    33562   \n",
        "176468            442  user   176468   \n",
        "\n",
        "                                                     votes yelping_since  \n",
        "user_id                                                                   \n",
        "7              {u'funny': 52, u'useful': 209, u'cool': 33}       2007-03  \n",
        "723            {u'funny': 52, u'useful': 209, u'cool': 33}       2007-03  \n",
        "136381       {u'funny': 166, u'useful': 278, u'cool': 245}       2004-10  \n",
        "33562    {u'funny': 6849, u'useful': 12642, u'cool': 9837}       2004-10  \n",
        "176468      {u'funny': 907, u'useful': 1445, u'cool': 727}       2004-10  \n"
       ]
      }
     ],
     "prompt_number": 2
    },
    {
     "cell_type": "heading",
     "level": 4,
     "metadata": {},
     "source": [
      "Get the Review DF from JSON"
     ]
    },
    {
     "cell_type": "code",
     "collapsed": false,
     "input": [
      "review_small_path = 'G:\\\\Social_Networks_CSE592\\\\Project\\\\Dataset\\\\yelp_dataset_challenge_academic_dataset\\\\yelp_dataset_challenge_academic_dataset\\\\review_pruned_small.json'\n",
      "\n",
      "review_df = returnDF_JSON(review_small_path)\n",
      "\n",
      "review_df.reset_index()\n",
      "review_df = review_df.set_index(review_df['review_id'])\n",
      "print review_df.head(5)"
     ],
     "language": "python",
     "metadata": {},
     "outputs": [
      {
       "output_type": "stream",
       "stream": "stdout",
       "text": [
        "           business_id       date  review_id  stars  user_id  \\\n",
        "review_id                                                      \n",
        "107                109 2014-09-28        107      5        7   \n",
        "10723              109 2014-09-28      10723      5      723   \n",
        "1264               109 2011-09-28       1264      5      895   \n",
        "1544               129 2010-03-17       1544      4     1081   \n",
        "1972               138 2012-12-13       1972      4     1330   \n",
        "\n",
        "                                              votes  \n",
        "review_id                                            \n",
        "107         {u'funny': 0, u'useful': 0, u'cool': 0}  \n",
        "10723       {u'funny': 0, u'useful': 0, u'cool': 0}  \n",
        "1264        {u'funny': 0, u'useful': 0, u'cool': 0}  \n",
        "1544        {u'funny': 0, u'useful': 0, u'cool': 0}  \n",
        "1972       {u'funny': 10, u'useful': 9, u'cool': 9}  \n"
       ]
      }
     ],
     "prompt_number": 7
    },
    {
     "cell_type": "heading",
     "level": 4,
     "metadata": {},
     "source": [
      "Get the \"List of users\" from stored pickle"
     ]
    },
    {
     "cell_type": "code",
     "collapsed": false,
     "input": [
      "import pickle\n",
      "\n",
      "def returnPickle(obj_file_path):\n",
      "    file_read = open(obj_file_path, 'r')\n",
      "    df_pickle = pickle.load(file_read)\n",
      "    return df_pickle\n",
      "\n",
      "listusers_path = 'G:\\\\Social_Networks_CSE592\\\\Project\\\\Dataset\\\\yelp_dataset_challenge_academic_dataset\\\\yelp_dataset_challenge_academic_dataset\\\\list_of_users.pkl'\n",
      "\n",
      "# createPickle(list_of_users, listusers_path)\n",
      "users_list = returnPickle(listusers_path)\n",
      "\n",
      "users_list.append(int('007'))\n",
      "users_list.append(int('00723'))\n",
      "print \"Len\", len(users_list)"
     ],
     "language": "python",
     "metadata": {},
     "outputs": [
      {
       "output_type": "stream",
       "stream": "stdout",
       "text": [
        "Len 406\n"
       ]
      }
     ],
     "prompt_number": 3
    },
    {
     "cell_type": "code",
     "collapsed": false,
     "input": [
      "print user_df.corr()"
     ],
     "language": "python",
     "metadata": {},
     "outputs": [
      {
       "output_type": "stream",
       "stream": "stdout",
       "text": [
        "               average_stars      fans  review_count   user_id\n",
        "average_stars       1.000000  0.061659      0.011803 -0.079070\n",
        "fans                0.061659  1.000000      0.670408 -0.171794\n",
        "review_count        0.011803  0.670408      1.000000 -0.305694\n",
        "user_id            -0.079070 -0.171794     -0.305694  1.000000\n"
       ]
      }
     ],
     "prompt_number": 5
    },
    {
     "cell_type": "code",
     "collapsed": false,
     "input": [
      "print user_df.columns\n",
      "print review_df.columns"
     ],
     "language": "python",
     "metadata": {},
     "outputs": [
      {
       "output_type": "stream",
       "stream": "stdout",
       "text": [
        "Index([u'average_stars', u'compliments', u'elite', u'fans', u'friends', u'name', u'review_count', u'type', u'user_id', u'votes', u'yelping_since'], dtype='object')\n",
        "Index([u'business_id', u'date', u'review_id', u'stars', u'user_id', u'votes'], dtype='object')\n"
       ]
      }
     ],
     "prompt_number": 6
    },
    {
     "cell_type": "code",
     "collapsed": false,
     "input": [
      "import dateutil.parser\n",
      "from datetime import *\n",
      "'''\n",
      "print review_dict[0]['review_date']\n",
      "dt = dateutil.parser.parse(review_dict[0]['review_date'])\n",
      "print review_dict[1]['review_date']\n",
      "dt1 = dateutil.parser.parse(review_dict[1]['review_date'])\n",
      "if(dt.date()<dt1.date()): print \"hi\"\n",
      "'''\n",
      "check_date = dateutil.parser.parse('2009-01-01')\n",
      "\n",
      "e = dateutil.parser.parse('2009')\n",
      "if e.year == check_date.year:\n",
      "    print \"Yes:\"\n",
      "    \n",
      "'''    \n",
      "for i in range(0, 50):\n",
      "#     print \"DF value is: \", review_df['date'][i]\n",
      "    date = dateutil.parser.parse(str(review_df['date'][i]))\n",
      "    if (date.date() < check_date.date()):\n",
      "'''"
     ],
     "language": "python",
     "metadata": {},
     "outputs": [
      {
       "output_type": "stream",
       "stream": "stdout",
       "text": [
        "Yes:\n"
       ]
      },
      {
       "metadata": {},
       "output_type": "pyout",
       "prompt_number": 4,
       "text": [
        "'    \\nfor i in range(0, 50):\\n#     print \"DF value is: \", review_df[\\'date\\'][i]\\n    date = dateutil.parser.parse(str(review_df[\\'date\\'][i]))\\n    if (date.date() < check_date.date()):\\n'"
       ]
      }
     ],
     "prompt_number": 4
    },
    {
     "cell_type": "code",
     "collapsed": false,
     "input": [
      "#Assign category based on business ID\n",
      "def category(_id):\n",
      "    cid = 1\n",
      "    if _id > 0 and _id <= 9000:\n",
      "        cid = 1\n",
      "    elif _id > 9000 and _id <= 18000:\n",
      "        cid = 2\n",
      "    elif _id > 18000 and _id <= 27000:\n",
      "        cid = 3\n",
      "    elif _id > 27000 and _id <= 36000:\n",
      "        cid = 4\n",
      "    elif _id > 36000 and _id <= 45000:\n",
      "        cid = 5\n",
      "    elif _id > 45000 and _id <= 54000:\n",
      "        cid = 6\n",
      "    elif _id > 54000 and _id <= 63000:\n",
      "        cid = 7\n",
      "    elif _id > 63000 and _id <= 72000:\n",
      "        cid = 8\n",
      "    \n",
      "    elif _id > 72000 and _id <= 81000:\n",
      "        cid = 12\n",
      "    elif _id > 81000:\n",
      "        cid = 13\n",
      "#     print \"CID is \", cid\n",
      "    return cid\n",
      "        "
     ],
     "language": "python",
     "metadata": {},
     "outputs": [],
     "prompt_number": 5
    },
    {
     "cell_type": "code",
     "collapsed": false,
     "input": [
      "#Assign category based on business ID\n",
      "def category_(_id):\n",
      "    cid = 1\n",
      "    return cid"
     ],
     "language": "python",
     "metadata": {},
     "outputs": [],
     "prompt_number": 73
    },
    {
     "cell_type": "code",
     "collapsed": false,
     "input": [
      "\n",
      "'''\n",
      "for i in range(0, 10):\n",
      "    if i == 8:\n",
      "        user_df['Influence'][i] = \"Yes\"\n",
      "\n",
      "for k in range(0, 15):\n",
      "    if user_df['Influence'][k] == \"Yes\":\n",
      "        print user_df[:][k:k+1]\n",
      "'''"
     ],
     "language": "python",
     "metadata": {},
     "outputs": [
      {
       "metadata": {},
       "output_type": "pyout",
       "prompt_number": 8,
       "text": [
        "'\\nfor i in range(0, 10):\\n    if i == 8:\\n        user_df[\\'Influence\\'][i] = \"Yes\"\\n\\nfor k in range(0, 15):\\n    if user_df[\\'Influence\\'][k] == \"Yes\":\\n        print user_df[:][k:k+1]\\n'"
       ]
      }
     ],
     "prompt_number": 8
    },
    {
     "cell_type": "code",
     "collapsed": false,
     "input": [
      "print users_list"
     ],
     "language": "python",
     "metadata": {},
     "outputs": [
      {
       "output_type": "stream",
       "stream": "stdout",
       "text": [
        "[261015, 136381, 55805, 231525, 79141, 162558, 66166, 155503, 6308, 76744, 110481, 70395, 142231, 33562, 176468, 181558, 96821, 205462, 87615, 96963, 87614, 142140, 110823, 146236, 146251, 21479, 70843, 70819, 137560, 1871, 119473, 121428, 155049, 143321, 11741, 138144, 5393, 122190, 43716, 9179, 2955, 97854, 120694, 158104, 187399, 50351, 12126, 170682, 160740, 142763, 143540, 4285, 143313, 96821, 191384, 65500, 33562, 176468, 79913, 94056, 36576, 33458, 261411, 63980, 201787, 65940, 70476, 4285, 58070, 1965, 139759, 56638, 158205, 63058, 57601, 228336, 238561, 205791, 295274, 245937, 69820, 1081, 56455, 336944, 261935, 132782, 74823, 321415, 235686, 85980, 157581, 5030, 45518, 165941, 141626, 265630, 235232, 235458, 60370, 332733, 71634, 228060, 318550, 358157, 71573, 150999, 231454, 89557, 14493, 176468, 102686, 124401, 155401, 15321, 297928, 123483, 181558, 205462, 162824, 231525, 107400, 33461, 119669, 59921, 121428, 159418, 155049, 97426, 145146, 111875, 108561, 118050, 145111, 43790, 22918, 33495, 33473, 154355, 120577, 256818, 58408, 63026, 139300, 107393, 118591, 43716, 83652, 66585, 118590, 80719, 145135, 136409, 160262, 54338, 151695, 66166, 146277, 27460, 133098, 226468, 208208, 51818, 116644, 235796, 9284, 164511, 118173, 5357, 110481, 64296, 153526, 146657, 127208, 171023, 149596, 145180, 16822, 140641, 46013, 47384, 110983, 66953, 65345, 68093, 220588, 156753, 129358, 222559, 167534, 60597, 160827, 64464, 61332, 18567, 154405, 120742, 174047, 102065, 70042, 70508, 127219, 139081, 71724, 113310, 157460, 107424, 228599, 215670, 123054, 27875, 250182, 114649, 164798, 33990, 9743, 169713, 130277, 7155, 114357, 210160, 110477, 37064, 180912, 244882, 159156, 163761, 294788, 90192, 262715, 9439, 160528, 226503, 107983, 56921, 287506, 74545, 256940, 148731, 166489, 188880, 136381, 33562, 139128, 46317, 118170, 35648, 160379, 151641, 46310, 138216, 113405, 284552, 62206, 172699, 281919, 169529, 105742, 109857, 16176, 18577, 152100, 33714, 33673, 64449, 161769, 71411, 109428, 230645, 93311, 20514, 230458, 70254, 167769, 170320, 74230, 97007, 72239, 180302, 118096, 355499, 121378, 154547, 163931, 146271, 33599, 1330, 117051, 33573, 17482, 56508, 114387, 1902, 22678, 9292, 303472, 15147, 14144, 6465, 334795, 71160, 63361, 82897, 230410, 114350, 33587, 57601, 229998, 145360, 69017, 101160, 81537, 229624, 227971, 235491, 164921, 120660, 22594, 295171, 64576, 159592, 63317, 297494, 18605, 103415, 211463, 64593, 245792, 156611, 174635, 200909, 113955, 197264, 123216, 39971, 28237, 177775, 312351, 292115, 18125, 189458, 86201, 261283, 120437, 191014, 211912, 219568, 203477, 9910, 5785, 59877, 334096, 138827, 278857, 35797, 102498, 15712, 330541, 214932, 140776, 227840, 143405, 151629, 167858, 5717, 22766, 109769, 332413, 67228, 254734, 4640, 895, 2283, 259549, 187765, 158683, 124728, 200978, 233542, 71059, 68267, 1643, 337139, 185663, 287955, 182546, 146658, 57001, 166991, 316644, 166123, 33619, 219477, 31302, 242479, 211705, 94183, 269362, 239127, 34851, 337878, 153661, 33588, 107904, 190254, 7, 723]\n"
       ]
      }
     ],
     "prompt_number": 5
    },
    {
     "cell_type": "code",
     "collapsed": false,
     "input": [
      "\n",
      "'''\n",
      "counter = 0\n",
      "for i in user_df.index:\n",
      "    print \"user is: \", i\n",
      "    print user_df['friends'][i]\n",
      "    counter += 1\n",
      "    if counter == 5:\n",
      "        break\n",
      "print user_df['friends'][7]\n",
      "'''\n",
      "print user_df['user_id'][int('7')]"
     ],
     "language": "python",
     "metadata": {},
     "outputs": [
      {
       "output_type": "stream",
       "stream": "stdout",
       "text": [
        "7\n"
       ]
      }
     ],
     "prompt_number": 8
    },
    {
     "cell_type": "code",
     "collapsed": false,
     "input": [
      "'''\n",
      "counter = 1\n",
      "for i in range(0, len(review_df)): #for i in range(0, len(review_df)):\n",
      "    review_id = review_df['review_id'][i]\n",
      "    business_cid = category(review_df['business_id'][i])\n",
      "    user_id = review_df['user_id'][i]\n",
      "    date = dateutil.parser.parse(str(review_df['date'][i]))\n",
      "    counter += 1\n",
      "    if counter == 50:\n",
      "        print \"Counter : \", counter\n",
      "        counter = 1\n",
      "    if int(user_id) in users_list:\n",
      "        #shortlisted users\n",
      "#         print \"Shortlisted user: \", user_id\n",
      "        for u in range(0, len(user_df)):\n",
      "            if int(user_id) == user_df['user_id'][u]:\n",
      "                #finding user in user_df\n",
      "                for e in user_df['elite'][u]:\n",
      "                    #checking if user is elite\n",
      "#                     print \"Check Elite: \", e\n",
      "                    check_date = dateutil.parser.parse(str(e))\n",
      "                    if check_date.year == date.year:\n",
      "#                         print \"Same Year: \", check_date.year\n",
      "                        for f in user_df['friends'][u]:\n",
      "#                             print \"Friend is: \", f\n",
      "                            if int(f) in users_list:\n",
      "#                                 print \"F in users_list\"\n",
      "                                for uf in range(0, len(review_df)):\n",
      "                                    if int(f) == int(review_df['user_id'][uf]):\n",
      "                                        bf_cid = category(review_df['business_id'][uf])\n",
      "                                        if int(business_cid) == int(bf_cid):\n",
      "#                                             print \"Inside for friend : \", f\n",
      "                                            \n",
      "                                            user_df['Influence'][u] = \"Yes\"\n",
      "                                            \n",
      "#                             else:\n",
      "#                                 continue\n",
      "#             else: \n",
      "#                 continue\n",
      "\n",
      "'''"
     ],
     "language": "python",
     "metadata": {},
     "outputs": [
      {
       "output_type": "stream",
       "stream": "stdout",
       "text": [
        "Counter :  50\n",
        "Counter : "
       ]
      },
      {
       "output_type": "stream",
       "stream": "stdout",
       "text": [
        " 50\n",
        "Counter : "
       ]
      },
      {
       "output_type": "stream",
       "stream": "stdout",
       "text": [
        " 50\n",
        "Counter : "
       ]
      },
      {
       "output_type": "stream",
       "stream": "stdout",
       "text": [
        " 50\n",
        "Counter : "
       ]
      },
      {
       "output_type": "stream",
       "stream": "stdout",
       "text": [
        " 50\n",
        "Counter : "
       ]
      },
      {
       "output_type": "stream",
       "stream": "stdout",
       "text": [
        " 50\n",
        "Counter : "
       ]
      },
      {
       "output_type": "stream",
       "stream": "stdout",
       "text": [
        " 50\n",
        "Counter : "
       ]
      },
      {
       "output_type": "stream",
       "stream": "stdout",
       "text": [
        " 50\n",
        "Counter : "
       ]
      },
      {
       "output_type": "stream",
       "stream": "stdout",
       "text": [
        " 50\n",
        "Counter : "
       ]
      },
      {
       "output_type": "stream",
       "stream": "stdout",
       "text": [
        " 50\n",
        "Counter : "
       ]
      },
      {
       "output_type": "stream",
       "stream": "stdout",
       "text": [
        " 50\n",
        "Counter : "
       ]
      },
      {
       "output_type": "stream",
       "stream": "stdout",
       "text": [
        " 50\n",
        "Counter : "
       ]
      },
      {
       "output_type": "stream",
       "stream": "stdout",
       "text": [
        " 50\n",
        "Counter : "
       ]
      },
      {
       "output_type": "stream",
       "stream": "stdout",
       "text": [
        " 50\n",
        "Counter : "
       ]
      },
      {
       "output_type": "stream",
       "stream": "stdout",
       "text": [
        " 50\n",
        "Counter : "
       ]
      },
      {
       "output_type": "stream",
       "stream": "stdout",
       "text": [
        " 50\n",
        "Counter : "
       ]
      },
      {
       "output_type": "stream",
       "stream": "stdout",
       "text": [
        " 50\n",
        "Counter : "
       ]
      },
      {
       "output_type": "stream",
       "stream": "stdout",
       "text": [
        " 50\n",
        "Counter : "
       ]
      },
      {
       "output_type": "stream",
       "stream": "stdout",
       "text": [
        " 50\n",
        "Counter : "
       ]
      },
      {
       "output_type": "stream",
       "stream": "stdout",
       "text": [
        " 50\n",
        "Counter : "
       ]
      },
      {
       "output_type": "stream",
       "stream": "stdout",
       "text": [
        " 50\n",
        "Counter : "
       ]
      },
      {
       "output_type": "stream",
       "stream": "stdout",
       "text": [
        " 50\n",
        "Counter : "
       ]
      }
     ]
    },
    {
     "cell_type": "code",
     "collapsed": false,
     "input": [
      "'''\n",
      "import pickle\n",
      "\n",
      "def returnPickle(obj_file_path):\n",
      "    file_read = open(obj_file_path, 'r')\n",
      "    df_pickle = pickle.load(file_read)\n",
      "    return df_pickle\n",
      "\n",
      "userreviews_path = 'G:\\\\Social_Networks_CSE592\\\\Project\\\\Dataset\\\\yelp_dataset_challenge_academic_dataset\\\\yelp_dataset_challenge_academic_dataset\\\\myUserReview.pkl'\n",
      "\n",
      "# createPickle(list_of_users, listusers_path)\n",
      "user_review = returnPickle(userreviews_path)\n",
      "'''"
     ],
     "language": "python",
     "metadata": {},
     "outputs": [
      {
       "output_type": "stream",
       "stream": "stdout",
       "text": [
        "[8, 100156, 252985, 253110, 504474, 580568, 691487, 944590, 1199932, 1351965, 1463016, 1515374]\n"
       ]
      }
     ],
     "prompt_number": 45
    },
    {
     "cell_type": "code",
     "collapsed": false,
     "input": [
      "#Create a list of reviews for each user\n",
      "user_rev_list = []\n",
      "usr_dict = {}\n",
      "sample_df = review_df\n",
      "\n",
      "print sample_df.head(2)\n",
      "for i in sample_df.index:\n",
      "    user_id = sample_df['user_id'][int(i)]\n",
      "    review_id = sample_df['review_id'][int(i)]\n",
      "    if user_id not in usr_dict:\n",
      "        key = user_id\n",
      "        usr_dict.setdefault(key, [])\n",
      "        usr_dict[key].append(review_id)\n",
      "    else:\n",
      "#         print \"AS of now : \", usr_dict[user_id]\n",
      "        usr_dict[user_id].append(review_id)"
     ],
     "language": "python",
     "metadata": {},
     "outputs": [
      {
       "output_type": "stream",
       "stream": "stdout",
       "text": [
        "           business_id       date  review_id  stars  user_id  \\\n",
        "review_id                                                      \n",
        "107                109 2014-09-28        107      5        7   \n",
        "10723              109 2014-09-28      10723      5      723   \n",
        "\n",
        "                                             votes  \n",
        "review_id                                           \n",
        "107        {u'funny': 0, u'useful': 0, u'cool': 0}  \n",
        "10723      {u'funny': 0, u'useful': 0, u'cool': 0}  \n"
       ]
      }
     ],
     "prompt_number": 8
    },
    {
     "cell_type": "code",
     "collapsed": false,
     "input": [
      "print usr_dict[int('7')] #User and reviews"
     ],
     "language": "python",
     "metadata": {},
     "outputs": [
      {
       "output_type": "stream",
       "stream": "stdout",
       "text": [
        "[107]\n"
       ]
      }
     ],
     "prompt_number": 10
    },
    {
     "cell_type": "code",
     "collapsed": false,
     "input": [
      "import dateutil.parser\n",
      "from datetime import *\n",
      "\n",
      "user_backup_df = user_df\n",
      "user_df['Influence'] = \"No\"\n",
      "counter = 1\n",
      "stop = 1\n",
      "for i in review_df.index: #for i in range(0, len(review_df)):\n",
      "    review_id = review_df['review_id'][i]\n",
      "    business_cid = category(review_df['business_id'][i])\n",
      "    user_id = review_df['user_id'][i]\n",
      "    date = dateutil.parser.parse(str(review_df['date'][i]))\n",
      "    counter += 1\n",
      "    if counter == 50:\n",
      "        print \"Counter - Sets\", stop\n",
      "        counter = 1\n",
      "        stop += 1\n",
      "        if stop == 90:\n",
      "            break\n",
      "    if int(user_id) in users_list:\n",
      "        #shortlisted users\n",
      "#         print \"Shortlisted user: \", int(user_id)\n",
      "        if int(user_id) == user_df['user_id'][int(user_id)] and user_df['Influence'][int(user_id)] == \"No\":\n",
      "            #finding user in user_df\n",
      "            for e in user_df['elite'][int(user_id)]:\n",
      "                #checking if user is elite\n",
      "#                     print \"Check Elite: \", e\n",
      "                check_date = dateutil.parser.parse(str(e))\n",
      "                if check_date.year == date.year:\n",
      "#                         print \"Same Year: \", check_date.year\n",
      "                    for f in user_df['friends'][int(user_id)]:\n",
      "#                             print \"Friend is: \", f\n",
      "                        if int(f) in users_list:\n",
      "                            for rev in usr_dict[int(f)]:\n",
      "#                                 print \"F in users_list\"\n",
      "                                if int(rev) == int(review_df['review_id'][int(rev)]):\n",
      "#                                     //..check_date = dateutil.parser.parse(str(e))\n",
      "#                                     //..\n",
      "                                        bf_cid = category(review_df['business_id'][int(rev)])\n",
      "                                        if int(business_cid) == int(bf_cid):\n",
      "        #                                         print \"Inside for friend : \", f\n",
      "                                            user_df['Influence'][int(user_id)] = \"Yes\"\n",
      "                                            break\n",
      "                                            \n"
     ],
     "language": "python",
     "metadata": {},
     "outputs": [
      {
       "output_type": "stream",
       "stream": "stdout",
       "text": [
        "Counter - Sets 1\n",
        "Counter - Sets"
       ]
      },
      {
       "output_type": "stream",
       "stream": "stdout",
       "text": [
        " 2\n",
        "Counter - Sets"
       ]
      },
      {
       "output_type": "stream",
       "stream": "stdout",
       "text": [
        " 3\n",
        "Counter - Sets"
       ]
      },
      {
       "output_type": "stream",
       "stream": "stdout",
       "text": [
        " 4\n",
        "Counter - Sets 5\n",
        "Counter - Sets"
       ]
      },
      {
       "output_type": "stream",
       "stream": "stdout",
       "text": [
        " 6\n",
        "Counter - Sets"
       ]
      },
      {
       "output_type": "stream",
       "stream": "stdout",
       "text": [
        " 7\n",
        "Counter - Sets"
       ]
      },
      {
       "output_type": "stream",
       "stream": "stdout",
       "text": [
        " 8\n",
        "Counter - Sets"
       ]
      },
      {
       "output_type": "stream",
       "stream": "stdout",
       "text": [
        " 9\n",
        "Counter - Sets"
       ]
      },
      {
       "output_type": "stream",
       "stream": "stdout",
       "text": [
        " 10\n",
        "Counter - Sets"
       ]
      },
      {
       "output_type": "stream",
       "stream": "stdout",
       "text": [
        " 11\n",
        "Counter - Sets"
       ]
      },
      {
       "output_type": "stream",
       "stream": "stdout",
       "text": [
        " 12\n",
        "Counter - Sets 13\n",
        "Counter - Sets 14\n",
        "Counter - Sets"
       ]
      },
      {
       "output_type": "stream",
       "stream": "stdout",
       "text": [
        " 15\n",
        "Counter - Sets"
       ]
      },
      {
       "output_type": "stream",
       "stream": "stdout",
       "text": [
        " 16\n",
        "Counter - Sets"
       ]
      },
      {
       "output_type": "stream",
       "stream": "stdout",
       "text": [
        " 17\n",
        "Counter - Sets"
       ]
      },
      {
       "output_type": "stream",
       "stream": "stdout",
       "text": [
        " 18\n",
        "Counter - Sets"
       ]
      },
      {
       "output_type": "stream",
       "stream": "stdout",
       "text": [
        " 19\n",
        "Counter - Sets"
       ]
      },
      {
       "output_type": "stream",
       "stream": "stdout",
       "text": [
        " 20\n",
        "Counter - Sets"
       ]
      },
      {
       "output_type": "stream",
       "stream": "stdout",
       "text": [
        " 21\n",
        "Counter - Sets"
       ]
      },
      {
       "output_type": "stream",
       "stream": "stdout",
       "text": [
        " 22\n",
        "Counter - Sets"
       ]
      },
      {
       "output_type": "stream",
       "stream": "stdout",
       "text": [
        " 23\n",
        "Counter - Sets"
       ]
      },
      {
       "output_type": "stream",
       "stream": "stdout",
       "text": [
        " 24\n",
        "Counter - Sets"
       ]
      },
      {
       "output_type": "stream",
       "stream": "stdout",
       "text": [
        " 25\n",
        "Counter - Sets"
       ]
      },
      {
       "output_type": "stream",
       "stream": "stdout",
       "text": [
        " 26\n",
        "Counter - Sets"
       ]
      },
      {
       "output_type": "stream",
       "stream": "stdout",
       "text": [
        " 27\n",
        "Counter - Sets"
       ]
      },
      {
       "output_type": "stream",
       "stream": "stdout",
       "text": [
        " 28\n",
        "Counter - Sets"
       ]
      },
      {
       "output_type": "stream",
       "stream": "stdout",
       "text": [
        " 29\n",
        "Counter - Sets 30\n",
        "Counter - Sets"
       ]
      },
      {
       "output_type": "stream",
       "stream": "stdout",
       "text": [
        " 31\n",
        "Counter - Sets 32\n",
        "Counter - Sets 33\n",
        "Counter - Sets"
       ]
      },
      {
       "output_type": "stream",
       "stream": "stdout",
       "text": [
        " 34\n",
        "Counter - Sets"
       ]
      },
      {
       "output_type": "stream",
       "stream": "stdout",
       "text": [
        " 35\n",
        "Counter - Sets"
       ]
      },
      {
       "output_type": "stream",
       "stream": "stdout",
       "text": [
        " 36\n",
        "Counter - Sets"
       ]
      },
      {
       "output_type": "stream",
       "stream": "stdout",
       "text": [
        " 37\n",
        "Counter - Sets"
       ]
      },
      {
       "output_type": "stream",
       "stream": "stdout",
       "text": [
        " 38\n",
        "Counter - Sets"
       ]
      },
      {
       "output_type": "stream",
       "stream": "stdout",
       "text": [
        " 39\n",
        "Counter - Sets 40\n",
        "Counter - Sets"
       ]
      },
      {
       "output_type": "stream",
       "stream": "stdout",
       "text": [
        " 41\n",
        "Counter - Sets"
       ]
      },
      {
       "output_type": "stream",
       "stream": "stdout",
       "text": [
        " 42\n",
        "Counter - Sets"
       ]
      },
      {
       "output_type": "stream",
       "stream": "stdout",
       "text": [
        " 43\n",
        "Counter - Sets"
       ]
      },
      {
       "output_type": "stream",
       "stream": "stdout",
       "text": [
        " 44\n",
        "Counter - Sets"
       ]
      },
      {
       "output_type": "stream",
       "stream": "stdout",
       "text": [
        " 45\n",
        "Counter - Sets"
       ]
      },
      {
       "output_type": "stream",
       "stream": "stdout",
       "text": [
        " 46\n",
        "Counter - Sets"
       ]
      },
      {
       "output_type": "stream",
       "stream": "stdout",
       "text": [
        " 47\n",
        "Counter - Sets"
       ]
      },
      {
       "output_type": "stream",
       "stream": "stdout",
       "text": [
        " 48\n",
        "Counter - Sets"
       ]
      },
      {
       "output_type": "stream",
       "stream": "stdout",
       "text": [
        " 49\n",
        "Counter - Sets"
       ]
      },
      {
       "output_type": "stream",
       "stream": "stdout",
       "text": [
        " 50\n",
        "Counter - Sets"
       ]
      },
      {
       "output_type": "stream",
       "stream": "stdout",
       "text": [
        " 51\n",
        "Counter - Sets"
       ]
      },
      {
       "output_type": "stream",
       "stream": "stdout",
       "text": [
        " 52\n",
        "Counter - Sets"
       ]
      },
      {
       "output_type": "stream",
       "stream": "stdout",
       "text": [
        " 53\n",
        "Counter - Sets"
       ]
      },
      {
       "output_type": "stream",
       "stream": "stdout",
       "text": [
        " 54\n",
        "Counter - Sets 55\n",
        "Counter - Sets"
       ]
      },
      {
       "output_type": "stream",
       "stream": "stdout",
       "text": [
        " 56\n",
        "Counter - Sets"
       ]
      },
      {
       "output_type": "stream",
       "stream": "stdout",
       "text": [
        " 57\n",
        "Counter - Sets 58\n",
        "Counter - Sets"
       ]
      },
      {
       "output_type": "stream",
       "stream": "stdout",
       "text": [
        " 59\n",
        "Counter - Sets 60\n",
        "Counter - Sets 61\n",
        "Counter - Sets 62\n",
        "Counter - Sets"
       ]
      },
      {
       "output_type": "stream",
       "stream": "stdout",
       "text": [
        " 63\n",
        "Counter - Sets"
       ]
      },
      {
       "output_type": "stream",
       "stream": "stdout",
       "text": [
        " 64\n",
        "Counter - Sets 65\n",
        "Counter - Sets"
       ]
      },
      {
       "output_type": "stream",
       "stream": "stdout",
       "text": [
        " 66\n",
        "Counter - Sets 67\n",
        "Counter - Sets 68\n",
        "Counter - Sets 69\n",
        "Counter - Sets"
       ]
      },
      {
       "output_type": "stream",
       "stream": "stdout",
       "text": [
        " 70\n",
        "Counter - Sets 71\n",
        "Counter - Sets"
       ]
      },
      {
       "output_type": "stream",
       "stream": "stdout",
       "text": [
        " 72\n",
        "Counter - Sets 73\n",
        "Counter - Sets 74\n",
        "Counter - Sets 75\n",
        "Counter - Sets"
       ]
      },
      {
       "output_type": "stream",
       "stream": "stdout",
       "text": [
        " 76\n",
        "Counter - Sets"
       ]
      },
      {
       "output_type": "stream",
       "stream": "stdout",
       "text": [
        " 77\n",
        "Counter - Sets 78\n",
        "Counter - Sets 79\n",
        "Counter - Sets 80\n",
        "Counter - Sets"
       ]
      },
      {
       "output_type": "stream",
       "stream": "stdout",
       "text": [
        " 81\n",
        "Counter - Sets 82\n",
        "Counter - Sets 83\n",
        "Counter - Sets 84\n",
        "Counter - Sets"
       ]
      },
      {
       "output_type": "stream",
       "stream": "stdout",
       "text": [
        " 85\n",
        "Counter - Sets 86\n",
        "Counter - Sets 87\n",
        "Counter - Sets"
       ]
      },
      {
       "output_type": "stream",
       "stream": "stdout",
       "text": [
        " 88\n",
        "Counter - Sets"
       ]
      },
      {
       "output_type": "stream",
       "stream": "stdout",
       "text": [
        " 89\n"
       ]
      }
     ],
     "prompt_number": 17
    },
    {
     "cell_type": "code",
     "collapsed": false,
     "input": [
      "counter = 1\n",
      "for k in user_df.index:\n",
      "    if user_df['Influence'][int(k)] == \"Yes\":\n",
      "        counter += 1\n",
      "print counter                            "
     ],
     "language": "python",
     "metadata": {},
     "outputs": [
      {
       "output_type": "stream",
       "stream": "stdout",
       "text": [
        "180\n"
       ]
      }
     ],
     "prompt_number": 20
    },
    {
     "cell_type": "code",
     "collapsed": false,
     "input": [
      "import pickle\n",
      "\n",
      "def createPickle(df, obj_file_path):\n",
      "    object_file_write = open(obj_file_path, 'w')\n",
      "    pickle.dump(df, object_file_write)"
     ],
     "language": "python",
     "metadata": {},
     "outputs": [],
     "prompt_number": 25
    },
    {
     "cell_type": "code",
     "collapsed": false,
     "input": [
      "elite_path = 'G:\\\\Social_Networks_CSE592\\\\Project\\\\Dataset\\\\yelp_dataset_challenge_academic_dataset\\\\yelp_dataset_challenge_academic_dataset\\\\elite.pkl'\n",
      "\n",
      "# createPickle(user_df, elite_path)\n",
      "new_user_df = returnPickle(elite_path)"
     ],
     "language": "python",
     "metadata": {},
     "outputs": [],
     "prompt_number": 9
    },
    {
     "cell_type": "code",
     "collapsed": false,
     "input": [
      "sample_df = new_user_df\n",
      "\n",
      "print sample_df.head(2)"
     ],
     "language": "python",
     "metadata": {},
     "outputs": [
      {
       "output_type": "stream",
       "stream": "stdout",
       "text": [
        "         average_stars                                        compliments  \\\n",
        "user_id                                                                     \n",
        "7                 3.02  {u'note': 1, u'photos': 1, u'cool': 1, u'plain...   \n",
        "723               3.02  {u'note': 1, u'photos': 1, u'cool': 1, u'plain...   \n",
        "\n",
        "          elite  fans  friends    name  review_count  type  user_id  \\\n",
        "user_id                                                               \n",
        "7        [2014]     3  [00723]  Deepak           119  user        7   \n",
        "723      [2014]     3    [007]     Dee            11  user      723   \n",
        "\n",
        "                                               votes yelping_since Influence  \n",
        "user_id                                                                       \n",
        "7        {u'funny': 52, u'useful': 209, u'cool': 33}       2007-03       Yes  \n",
        "723      {u'funny': 52, u'useful': 209, u'cool': 33}       2007-03       Yes  \n"
       ]
      }
     ],
     "prompt_number": 10
    },
    {
     "cell_type": "code",
     "collapsed": false,
     "input": [
      "for i in sample_df.index:\n",
      "    if sample_df['Influence'][i] == \"Yes\":\n",
      "        sample_df['Influence'][i] = 1\n",
      "    elif sample_df['Influence'][i] == \"No\":\n",
      "        sample_df['Influence'][i] = 0\n",
      "\n",
      "print sample_df.head(2)"
     ],
     "language": "python",
     "metadata": {},
     "outputs": [
      {
       "output_type": "stream",
       "stream": "stderr",
       "text": [
        "-c:3: SettingWithCopyWarning: \n",
        "A value is trying to be set on a copy of a slice from a DataFrame\n",
        "\n",
        "See the the caveats in the documentation: http://pandas.pydata.org/pandas-docs/stable/indexing.html#indexing-view-versus-copy\n",
        "-c:5: SettingWithCopyWarning: \n",
        "A value is trying to be set on a copy of a slice from a DataFrame\n",
        "\n",
        "See the the caveats in the documentation: http://pandas.pydata.org/pandas-docs/stable/indexing.html#indexing-view-versus-copy\n"
       ]
      },
      {
       "output_type": "stream",
       "stream": "stdout",
       "text": [
        "         average_stars                                        compliments  \\\n",
        "user_id                                                                     \n",
        "7                 3.02  {u'note': 1, u'photos': 1, u'cool': 1, u'plain...   \n",
        "723               3.02  {u'note': 1, u'photos': 1, u'cool': 1, u'plain...   \n",
        "\n",
        "          elite  fans  friends    name  review_count  type  user_id  \\\n",
        "user_id                                                               \n",
        "7        [2014]     3  [00723]  Deepak           119  user        7   \n",
        "723      [2014]     3    [007]     Dee            11  user      723   \n",
        "\n",
        "                                               votes yelping_since Influence  \n",
        "user_id                                                                       \n",
        "7        {u'funny': 52, u'useful': 209, u'cool': 33}       2007-03         1  \n",
        "723      {u'funny': 52, u'useful': 209, u'cool': 33}       2007-03         1  \n"
       ]
      }
     ],
     "prompt_number": 11
    },
    {
     "cell_type": "code",
     "collapsed": false,
     "input": [
      "import numpy as np\n",
      "import prettyplotlib as ppl\n",
      "import matplotlib.pyplot as plt"
     ],
     "language": "python",
     "metadata": {},
     "outputs": [],
     "prompt_number": 12
    },
    {
     "cell_type": "code",
     "collapsed": false,
     "input": [
      "sample_df_1 = sample_df\n",
      "plt.axis([-1, 2, 0, 250])\n",
      "\n",
      "plt.title('Elite Users - Influence of friends for similar business')\n",
      "plt.xlabel('Influenced - Yes = 1, No = 0')\n",
      "plt.ylabel('Number of Elite Users')\n",
      "plt.xticks(arange(2))\n",
      "plt.hist(sample_df_1['Influence'].values, color='blue')\n",
      "\n",
      "# plt.savefig('C:\\\\temp\\\\histogram_elite.jpg')"
     ],
     "language": "python",
     "metadata": {},
     "outputs": [
      {
       "metadata": {},
       "output_type": "pyout",
       "prompt_number": 17,
       "text": [
        "(array([ 211.,    0.,    0.,    0.,    0.,    0.,    0.,    0.,    0.,  179.]),\n",
        " array([ 0. ,  0.1,  0.2,  0.3,  0.4,  0.5,  0.6,  0.7,  0.8,  0.9,  1. ]),\n",
        " <a list of 10 Patch objects>)"
       ]
      },
      {
       "metadata": {},
       "output_type": "display_data",
       "png": "[encoded data removed]",
       "text": [
        "<matplotlib.figure.Figure at 0xd37cda0>"
       ]
      }
     ],
     "prompt_number": 17
    },
    {
     "cell_type": "code",
     "collapsed": false,
     "input": [
      "#heatmap to show the above correlation\n",
      "figsize(8, 8)\n",
      "corr = sample_df.corr(method='pearson')\n",
      "plt.imshow(corr, cmap='hot', interpolation='none')\n",
      "plt.colorbar()\n",
      "plt.xticks(range(len(corr)), corr.columns, rotation = 90)\n",
      "plt.yticks(range(len(corr)), corr.columns, rotation=0)\n",
      "# plt.savefig(\"C:\\\\temp\\\\correlation_users.jpg\")"
     ],
     "language": "python",
     "metadata": {},
     "outputs": [
      {
       "metadata": {},
       "output_type": "pyout",
       "prompt_number": 65,
       "text": [
        "([<matplotlib.axis.YTick at 0xd31def0>,\n",
        "  <matplotlib.axis.YTick at 0x10a8bf28>,\n",
        "  <matplotlib.axis.YTick at 0x107a7128>,\n",
        "  <matplotlib.axis.YTick at 0x107a7630>],\n",
        " <a list of 4 Text yticklabel objects>)"
       ]
      },
      {
       "metadata": {},
       "output_type": "display_data",
       "png": "[encoded data removed]",
       "text": [
        "<matplotlib.figure.Figure at 0xc913ef0>"
       ]
      }
     ],
     "prompt_number": 65
    },
    {
     "cell_type": "code",
     "collapsed": false,
     "input": [
      "sample_df_1 = sample_df_1.set_index([range(0,len(sample_df_1))])\n",
      "\n",
      "print sample_df_1.head(3)"
     ],
     "language": "python",
     "metadata": {},
     "outputs": [
      {
       "output_type": "stream",
       "stream": "stdout",
       "text": [
        "   average_stars                                        compliments  \\\n",
        "0           3.02  {u'note': 1, u'photos': 1, u'cool': 1, u'plain...   \n",
        "1           3.02  {u'note': 1, u'photos': 1, u'cool': 1, u'plain...   \n",
        "2           4.14  {u'profile': 8, u'cute': 15, u'funny': 11, u'p...   \n",
        "\n",
        "          elite  fans                                            friends  \\\n",
        "0        [2014]     3                                            [00723]   \n",
        "1        [2014]     3                                              [007]   \n",
        "2  [2005, 2006]    69  [33562, 176468, 136380, 157073, 261015, 188880...   \n",
        "\n",
        "     name  review_count  type  user_id  \\\n",
        "0  Deepak           119  user        7   \n",
        "1     Dee            11  user      723   \n",
        "2  Russel           108  user   136381   \n",
        "\n",
        "                                           votes yelping_since Influence  \n",
        "0    {u'funny': 52, u'useful': 209, u'cool': 33}       2007-03         1  \n",
        "1    {u'funny': 52, u'useful': 209, u'cool': 33}       2007-03         1  \n",
        "2  {u'funny': 166, u'useful': 278, u'cool': 245}       2004-10         0  \n"
       ]
      }
     ],
     "prompt_number": 25
    },
    {
     "cell_type": "code",
     "collapsed": false,
     "input": [
      "#Scatter plot - number of friends - X, users - Y axis, Influence  - color\n",
      "\n",
      "plt.clf()\n",
      "plt.figure(figsize=(10, 5))\n",
      "\n",
      "c = []\n",
      "for i in sample_df_1['Influence'].values:\n",
      "    if i == 1:\n",
      "        c.append('gray')\n",
      "    else:\n",
      "        c.append('brown')\n",
      "\n",
      "size = []\n",
      "for i in sample_df_1['friends'].values:\n",
      "    if len(i) > 5:\n",
      "        size.append(12)\n",
      "    else:\n",
      "        size.append(2)\n",
      "\n",
      "plt.scatter(sample_df_1.index, sample_df_1['review_count'], s=size, color=c)\n",
      "plt.title(\"Visualization Graph: X-axis: Users; Y-axis: No of Reviews *** Gray - Influenced, \"\\\n",
      "          \"Brown - Not Influenced *** Size - Greater than 5 Friends: s = 45; otherwise s = 8\")\n",
      "# plt.xlim(-10, 1500)\n",
      "# plt.ylim(-15, 1500)\n",
      "plt.xlabel('X - Axis : Index - Users')\n",
      "plt.ylabel('Y - axis : Review Count')\n",
      "# plt.gca().set_position([120, 200, 500, 1000])\n",
      "plt.show()\n",
      "# savefig(\"C:\\\\temp\\\\Visualization.jpg\")"
     ],
     "language": "python",
     "metadata": {},
     "outputs": [
      {
       "metadata": {},
       "output_type": "display_data",
       "text": [
        "<matplotlib.figure.Figure at 0x10c394e0>"
       ]
      },
      {
       "metadata": {},
       "output_type": "display_data",
       "png": "[encoded data removed]",
       "text": [
        "<matplotlib.figure.Figure at 0x10aa1d68>"
       ]
      }
     ],
     "prompt_number": 66
    },
    {
     "cell_type": "code",
     "collapsed": false,
     "input": [
      "size = []\n",
      "counter = 1\n",
      "for i in sample_df_1['friends'].values:\n",
      "    if len(i) > 5:\n",
      "        size.append(20)\n",
      "    else:\n",
      "        counter += 1\n",
      "        size.append(4)\n",
      "        \n",
      "print counter"
     ],
     "language": "python",
     "metadata": {},
     "outputs": [
      {
       "output_type": "stream",
       "stream": "stdout",
       "text": [
        "65\n"
       ]
      }
     ],
     "prompt_number": 43
    },
    {
     "cell_type": "code",
     "collapsed": false,
     "input": [],
     "language": "python",
     "metadata": {},
     "outputs": []
    }
   ],
   "metadata": {}
  }
 ]
}