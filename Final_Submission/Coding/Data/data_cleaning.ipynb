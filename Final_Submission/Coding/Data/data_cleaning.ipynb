{
 "metadata": {
  "name": "",
  "signature": "sha256:72ac198f8250e70bbda9954b14bd6b0cc11e3f956d0f053274a9861d43518524"
 },
 "nbformat": 3,
 "nbformat_minor": 0,
 "worksheets": [
  {
   "cells": [
    {
     "cell_type": "code",
     "collapsed": false,
     "input": [
      "import pandas as pd\n",
      "import pickle\n",
      "\n",
      "def returnPickle(obj_file_path):\n",
      "    file_read = open(obj_file_path, 'r')\n",
      "    df_pickle = pickle.load(file_read)\n",
      "    return df_pickle"
     ],
     "language": "python",
     "metadata": {},
     "outputs": [],
     "prompt_number": 1
    },
    {
     "cell_type": "code",
     "collapsed": false,
     "input": [
      "'''\n",
      "import re\n",
      "user_path = 'G:\\\\Social_Networks_CSE592\\\\Project\\\\Dataset\\\\yelp_dataset_challenge_academic_dataset\\\\yelp_dataset_challenge_academic_dataset\\\\yelp_academic_dataset_user.json'\n",
      "user_new_path = 'G:\\\\Social_Networks_CSE592\\\\Project\\\\Dataset\\\\yelp_dataset_challenge_academic_dataset\\\\yelp_dataset_challenge_academic_dataset\\\\yelp_academic_dataset_user_new.json'\n",
      "user_dic_path = 'G:\\\\Social_Networks_CSE592\\\\Project\\\\Dataset\\\\yelp_dataset_challenge_academic_dataset\\\\yelp_dataset_challenge_academic_dataset\\\\user_dic.pkl'\n",
      "\n",
      "user_dic = {}\n",
      "user_dic = returnPickle(user_dic_path)\n",
      "\n",
      "user_friend = {}\n",
      "\n",
      "counter = 1\n",
      "user_pattern = '\\\"user_id\\\": \\\"(.*?)\\\"\\, \\\"friends'\n",
      "friends_pattern = '\\\"friends\\\": \\[(.*?)\\]\\, \\\"fans'\n",
      "one_user = '\\\"(.*?)\\\"'\n",
      "\n",
      "fw = open(user_path, \"r\")\n",
      "fwr = open(user_new_path, \"w\")\n",
      "'''\n",
      "'''\n",
      "for line in fw:\n",
      "    items = re.findall(user_pattern, line)\n",
      "    match = re.sub(items[0], str(user_dic[items[0]]) , line)\n",
      "    if match:\n",
      "        print match\n",
      "    counter += 1\n",
      "    if counter == 3:\n",
      "        break\n",
      "'''\n",
      "'''\n",
      "for line in fw:\n",
      "#     print \"Line is : \", line\n",
      "    items_u = re.findall(user_pattern, line)\n",
      "    line = re.sub(items_u[0], str(user_dic[items_u[0]]) , line)\n",
      "    if user_dic[items_u[0]] not in user_friend:\n",
      "#         user_friend[user_dic[items_u[0]]] = \"\"\n",
      "        key = user_dic[items_u[0]] #USER\n",
      "        user_friend.setdefault(key, [])\n",
      "    items = re.findall(friends_pattern, line)\n",
      "    if items[0]:\n",
      "        item = re.findall(one_user, items[0])\n",
      "        if item:\n",
      "            for i in item:\n",
      "                line = re.sub(i, str(user_dic[i]) , line)\n",
      "                user_friend[key].append(user_dic[i]) #FRIENDS\n",
      "#     fwr.write(line)  #commented for safety\n",
      "\n",
      "# print \"dictionary: \", user_friend\n",
      "'''\n"
     ],
     "language": "python",
     "metadata": {},
     "outputs": [
      {
       "metadata": {},
       "output_type": "pyout",
       "prompt_number": 1,
       "text": [
        "'\\nfor line in fw:\\n#     print \"Line is : \", line\\n    items_u = re.findall(user_pattern, line)\\n    line = re.sub(items_u[0], str(user_dic[items_u[0]]) , line)\\n    if user_dic[items_u[0]] not in user_friend:\\n#         user_friend[user_dic[items_u[0]]] = \"\"\\n        key = user_dic[items_u[0]] #USER\\n        user_friend.setdefault(key, [])\\n    items = re.findall(friends_pattern, line)\\n    if items[0]:\\n        item = re.findall(one_user, items[0])\\n        if item:\\n            for i in item:\\n                line = re.sub(i, str(user_dic[i]) , line)\\n                user_friend[key].append(user_dic[i]) #FRIENDS\\n#     fwr.write(line)  #commented for safety\\n\\n# print \"dictionary: \", user_friend\\n'"
       ]
      }
     ],
     "prompt_number": 1
    },
    {
     "cell_type": "code",
     "collapsed": false,
     "input": [
      "'''\n",
      "review_dic_path = 'G:\\\\Social_Networks_CSE592\\\\Project\\\\Dataset\\\\yelp_dataset_challenge_academic_dataset\\\\yelp_dataset_challenge_academic_dataset\\\\review_dic.pkl'\n",
      "business_dic_path = 'G:\\\\Social_Networks_CSE592\\\\Project\\\\Dataset\\\\yelp_dataset_challenge_academic_dataset\\\\yelp_dataset_challenge_academic_dataset\\\\business_dic.pkl'\n",
      "\n",
      "review_path = 'G:\\\\Social_Networks_CSE592\\\\Project\\\\Dataset\\\\yelp_dataset_challenge_academic_dataset\\\\yelp_dataset_challenge_academic_dataset\\\\temp.json'\n",
      "review_new_path = 'G:\\\\Social_Networks_CSE592\\\\Project\\\\Dataset\\\\yelp_dataset_challenge_academic_dataset\\\\yelp_dataset_challenge_academic_dataset\\\\review_pruned.json'\n",
      "\n",
      "review_dic = returnPickle(review_dic_path)\n",
      "business_dic = returnPickle(business_dic_path)\n",
      "\n",
      "fr = open(review_path, \"r\")\n",
      "# fwr = open(review_new_path, \"w\")\n",
      "\n",
      "user_pattern = '\\\"user_id\\\": \\\"(.*?)\\\"\\, \\\"review_id'\n",
      "review_pattern = '\\\"review_id\\\": \\\"(.*?)\\\"\\, \\\"stars'\n",
      "business_pattern = '\\\"business_id\\\": \\\"(.*?)\\\"\\}'\n",
      "\n",
      "counter = 1\n",
      "\n",
      "for line in fr:\n",
      "#     print \"Before: \", line\n",
      "    items_u = re.findall(user_pattern, line)\n",
      "    line = re.sub(items_u[0], str(user_dic[items_u[0]]) , line)\n",
      "    items_r = re.findall(review_pattern, line)\n",
      "    line = re.sub(items_r[0], str(review_dic[items_r[0]]) , line)\n",
      "    items_b = re.findall(business_pattern, line)\n",
      "    line = re.sub(items_b[0], str(business_dic[items_b[0]]) , line)\n",
      "#     print \"After :\", line\n",
      "#     fwr.write(line)\n",
      "    \n",
      "print \"Done\"\n",
      "'''"
     ],
     "language": "python",
     "metadata": {},
     "outputs": [
      {
       "output_type": "stream",
       "stream": "stdout",
       "text": [
        "Done\n"
       ]
      }
     ],
     "prompt_number": 24
    },
    {
     "cell_type": "code",
     "collapsed": false,
     "input": [],
     "language": "python",
     "metadata": {},
     "outputs": []
    },
    {
     "cell_type": "code",
     "collapsed": false,
     "input": [],
     "language": "python",
     "metadata": {},
     "outputs": []
    }
   ],
   "metadata": {}
  }
 ]
}