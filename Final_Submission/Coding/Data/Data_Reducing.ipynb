{
 "metadata": {
  "name": "",
  "signature": "sha256:606522447adeb64c219c94d153b8d9b06bb3c40d11d4fe2eae4e966c871592e2"
 },
 "nbformat": 3,
 "nbformat_minor": 0,
 "worksheets": [
  {
   "cells": [
    {
     "cell_type": "code",
     "collapsed": false,
     "input": [
      "import pandas as pd\n",
      "import pickle\n",
      "\n",
      "def createPickle(df, obj_file_path):\n",
      "    object_file_write = open(obj_file_path, 'w')\n",
      "    pickle.dump(df, object_file_write)\n",
      "    \n",
      "def returnPickle(obj_file_path):\n",
      "    file_read = open(obj_file_path, 'r')\n",
      "    df_pickle = pickle.load(file_read)\n",
      "    return df_pickle"
     ],
     "language": "python",
     "metadata": {},
     "outputs": [],
     "prompt_number": 3
    },
    {
     "cell_type": "code",
     "collapsed": false,
     "input": [
      "user_pkl_path = 'G:\\\\Social_Networks_CSE592\\\\Project\\\\Dataset\\\\yelp_dataset_challenge_academic_dataset\\\\yelp_dataset_challenge_academic_dataset\\\\myUser_new.pkl'\n",
      "\n",
      "usr_pkl = returnPickle(user_pkl_path)\n",
      "print usr_pkl.head(5)"
     ],
     "language": "python",
     "metadata": {},
     "outputs": [
      {
       "output_type": "stream",
       "stream": "stdout",
       "text": [
        "   average_stars                                        compliments  \\\n",
        "0           4.14  {u'profile': 8, u'cute': 15, u'funny': 11, u'p...   \n",
        "1           3.64  {u'profile': 110, u'cute': 209, u'funny': 561,...   \n",
        "2           3.59  {u'profile': 9, u'cute': 23, u'funny': 122, u'...   \n",
        "3           4.64                                       {u'cute': 2}   \n",
        "4           3.80  {u'cute': 2, u'plain': 2, u'writer': 2, u'note...   \n",
        "\n",
        "                                               elite  fans  \\\n",
        "0                                       [2005, 2006]    69   \n",
        "1  [2005, 2006, 2007, 2008, 2009, 2010, 2011, 201...  1012   \n",
        "2  [2005, 2006, 2007, 2008, 2009, 2010, 2011, 201...    93   \n",
        "3                                                 []     2   \n",
        "4                                             [2005]     3   \n",
        "\n",
        "                                             friends       name  review_count  \\\n",
        "0  [33562, 176468, 136380, 157073, 261015, 188880...     Russel           108   \n",
        "1  [136381, 176468, 136380, 139128, 157073, 14223...     Jeremy          1233   \n",
        "2  [136381, 33562, 142231, 65500, 14493, 119716, ...    Michael           442   \n",
        "3                      [136381, 33562, 96821, 13988]        Ken            11   \n",
        "4                     [33562, 188880, 33135, 165651]  Katherine            66   \n",
        "\n",
        "   type  user_id                                              votes  \\\n",
        "0  user   136381      {u'funny': 166, u'useful': 278, u'cool': 245}   \n",
        "1  user    33562  {u'funny': 6849, u'useful': 12642, u'cool': 9837}   \n",
        "2  user   176468     {u'funny': 907, u'useful': 1445, u'cool': 727}   \n",
        "3  user   136380           {u'funny': 1, u'useful': 11, u'cool': 5}   \n",
        "4  user   139128         {u'funny': 10, u'useful': 34, u'cool': 11}   \n",
        "\n",
        "  yelping_since  \n",
        "0       2004-10  \n",
        "1       2004-10  \n",
        "2       2004-10  \n",
        "3       2004-10  \n",
        "4       2004-10  \n"
       ]
      }
     ],
     "prompt_number": 4
    },
    {
     "cell_type": "code",
     "collapsed": false,
     "input": [
      "print len(usr_pkl)"
     ],
     "language": "python",
     "metadata": {},
     "outputs": [
      {
       "output_type": "stream",
       "stream": "stdout",
       "text": [
        "366715\n"
       ]
      }
     ],
     "prompt_number": 3
    },
    {
     "cell_type": "code",
     "collapsed": false,
     "input": [
      "'''\n",
      "list_of_users = []\n",
      "for i in range(6, 50):\n",
      "    user = usr_pkl['user_id'][i]\n",
      "    if user not in list_of_users:\n",
      "        list_of_users.append(user)\n",
      "        \n",
      "        friends = usr_pkl['friends'][i]\n",
      "#         print \"Friends are: \", friends\n",
      "        for f in friends:\n",
      "            if f not in list_of_users:\n",
      "                list_of_users.append(int(f))\n",
      "            \n",
      "    if i == 49:\n",
      "        print \"List is : \", list_of_users\n",
      "        break\n",
      "\n",
      "print \"Length of users: \", len(list_of_users)\n",
      "if u'261015' or 261015 in list_of_users:\n",
      "    print \"yes\"\n",
      "else:\n",
      "    print \"No\"\n",
      "    \n",
      "'''\n",
      "listusers_path = 'G:\\\\Social_Networks_CSE592\\\\Project\\\\Dataset\\\\yelp_dataset_challenge_academic_dataset\\\\yelp_dataset_challenge_academic_dataset\\\\list_of_users.pkl'\n",
      "\n",
      "# createPickle(list_of_users, listusers_path)\n",
      "users_list = returnPickle(listusers_path)\n",
      "print \"Len\", len(users_list)\n"
     ],
     "language": "python",
     "metadata": {},
     "outputs": [
      {
       "output_type": "stream",
       "stream": "stdout",
       "text": [
        "Len 404\n"
       ]
      }
     ],
     "prompt_number": 6
    },
    {
     "cell_type": "code",
     "collapsed": false,
     "input": [
      "'''\n",
      "sample_df = usr_pkl\n",
      "print len(sample_df)\n",
      "# print len(list_of_users)\n",
      "for i in sample_df.index:\n",
      "    user = sample_df['user_id'][i]\n",
      "#     print \"User is: \", user\n",
      "    if int(user) not in list_of_users:\n",
      "#             sample_df.drop([i], inplace = True)\n",
      "        sample_df.drop(sample_df.index[[i,i+1]])\n",
      "\n",
      "print len(sample_df)\n",
      "\n",
      "if 142231 in list_of_users:\n",
      "    print \"Yes\"\n",
      "else:\n",
      "    print \"NO\"\n",
      "'''"
     ],
     "language": "python",
     "metadata": {},
     "outputs": []
    },
    {
     "cell_type": "code",
     "collapsed": false,
     "input": [
      "for i in sample_df.index:\n",
      "    print i\n",
      "    if i > 5:\n",
      "        break"
     ],
     "language": "python",
     "metadata": {},
     "outputs": []
    },
    {
     "cell_type": "code",
     "collapsed": false,
     "input": [
      "import re\n",
      "user_path = 'G:\\\\Social_Networks_CSE592\\\\Project\\\\Dataset\\\\yelp_dataset_challenge_academic_dataset\\\\yelp_dataset_challenge_academic_dataset\\\\yelp_academic_dataset_user_new.json'\n",
      "user_small_path = 'G:\\\\Social_Networks_CSE592\\\\Project\\\\Dataset\\\\yelp_dataset_challenge_academic_dataset\\\\yelp_dataset_challenge_academic_dataset\\\\yelp_academic_dataset_user_small_new.json'\n",
      "\n",
      "fr = open(user_path, \"r\")\n",
      "\n",
      "user_pattern = '\\\"user_id\\\": \\\"(.*?)\\\"\\, \\\"friends\\\"'\n",
      "# fw = open(user_small_path, \"w\")\n",
      "\n",
      "counter = 1\n",
      "number = 1\n",
      "# print \"List of users: \", list_of_users\n",
      "for line in fr:\n",
      "    items_u = re.findall(user_pattern, line)\n",
      "    if int(items_u[0]) in users_list:\n",
      "#         fw.write(line)\n",
      "        number += 1\n",
      "\n",
      "# fw.close()\n",
      "print \"After :\", number\n",
      "    \n",
      "print \"Done\"\n"
     ],
     "language": "python",
     "metadata": {},
     "outputs": [
      {
       "output_type": "stream",
       "stream": "stdout",
       "text": [
        "After : 389\n",
        "Done\n"
       ]
      }
     ],
     "prompt_number": 9
    },
    {
     "cell_type": "code",
     "collapsed": false,
     "input": [
      "import re\n",
      "review_pruned_path = 'G:\\\\Social_Networks_CSE592\\\\Project\\\\Dataset\\\\yelp_dataset_challenge_academic_dataset\\\\yelp_dataset_challenge_academic_dataset\\\\review_pruned.json'\n",
      "review_small_path = 'G:\\\\Social_Networks_CSE592\\\\Project\\\\Dataset\\\\yelp_dataset_challenge_academic_dataset\\\\yelp_dataset_challenge_academic_dataset\\\\review_pruned_small.json'\n",
      "\n",
      "fr = open(review_pruned_path, \"r\")\n",
      "user_pattern = '\\\"user_id\\\": \\\"(.*?)\\\"\\, \\\"review_id\\\"'\n",
      "# fw = open(review_small_path, \"w\")\n",
      "\n",
      "counter = 1\n",
      "number = 1\n",
      "for line in fr:\n",
      "    items_u = re.findall(user_pattern, line)\n",
      "    if int(items_u[0]) in users_list:\n",
      "#         fw.write(line)\n",
      "        number += 1\n",
      "# fw.close()\n",
      "print \"After :\", number\n",
      "    \n",
      "print \"Done\""
     ],
     "language": "python",
     "metadata": {},
     "outputs": [
      {
       "output_type": "stream",
       "stream": "stdout",
       "text": [
        "After : 6483\n",
        "Done\n"
       ]
      }
     ],
     "prompt_number": 8
    },
    {
     "cell_type": "code",
     "collapsed": false,
     "input": [],
     "language": "python",
     "metadata": {},
     "outputs": []
    }
   ],
   "metadata": {}
  }
 ]
}