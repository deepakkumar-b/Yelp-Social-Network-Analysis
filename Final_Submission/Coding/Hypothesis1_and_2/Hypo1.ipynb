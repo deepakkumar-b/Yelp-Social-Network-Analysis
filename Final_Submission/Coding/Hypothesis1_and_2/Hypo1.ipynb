{
 "metadata": {
  "name": "",
  "signature": "sha256:f7781cb1b24a1d64ef6467d975fb397d0317b36b2fba02c4c222c1a9e053f35c"
 },
 "nbformat": 3,
 "nbformat_minor": 0,
 "worksheets": [
  {
   "cells": [
    {
     "cell_type": "code",
     "collapsed": false,
     "input": [
      "import pandas as pd\n",
      "import pickle\n",
      "import dateutil.parser\n",
      "from datetime import *"
     ],
     "language": "python",
     "metadata": {},
     "outputs": [],
     "prompt_number": 1
    },
    {
     "cell_type": "code",
     "collapsed": false,
     "input": [],
     "language": "python",
     "metadata": {},
     "outputs": []
    },
    {
     "cell_type": "code",
     "collapsed": false,
     "input": [
      "user_file_path = 'E:\\\\SocialNetworks\\\\project\\\\social_nw\\\\myUser_new.pkl'\n",
      "review_file_path = 'E:\\\\SocialNetworks\\\\project\\\\social_nw\\\\myReview_pruned.pkl'\n",
      "user_review_dic_file_path = 'E:\\\\SocialNetworks\\\\project\\\\social_nw\\\\myUserReview.pkl'\n",
      "user_file = open(user_file_path,'r')\n",
      "review_file = open(review_file_path,'r')\n",
      "user_review_dic_file = open(user_review_dic_file_path,'r')\n",
      "user_data = pickle.load(user_file)\n",
      "review_data = pickle.load(review_file)\n",
      "user_review_dic = pickle.load(user_review_dic_file)\n"
     ],
     "language": "python",
     "metadata": {},
     "outputs": [],
     "prompt_number": 2
    },
    {
     "cell_type": "code",
     "collapsed": false,
     "input": [
      "review_data.head(100)"
     ],
     "language": "python",
     "metadata": {},
     "outputs": [
      {
       "html": [
        "<div style=\"max-height:1000px;max-width:1500px;overflow:auto;\">\n",
        "<table border=\"1\" class=\"dataframe\">\n",
        "  <thead>\n",
        "    <tr style=\"text-align: right;\">\n",
        "      <th></th>\n",
        "      <th>business_id</th>\n",
        "      <th>date</th>\n",
        "      <th>review_id</th>\n",
        "      <th>stars</th>\n",
        "      <th>user_id</th>\n",
        "      <th>votes</th>\n",
        "    </tr>\n",
        "  </thead>\n",
        "  <tbody>\n",
        "    <tr>\n",
        "      <th>0 </th>\n",
        "      <td>  1</td>\n",
        "      <td>2007-05-17</td>\n",
        "      <td>   1</td>\n",
        "      <td> 5</td>\n",
        "      <td>  1</td>\n",
        "      <td> {u'funny': 0, u'useful': 2, u'cool': 1}</td>\n",
        "    </tr>\n",
        "    <tr>\n",
        "      <th>1 </th>\n",
        "      <td>  1</td>\n",
        "      <td>2010-03-22</td>\n",
        "      <td>   2</td>\n",
        "      <td> 2</td>\n",
        "      <td>  2</td>\n",
        "      <td> {u'funny': 0, u'useful': 2, u'cool': 0}</td>\n",
        "    </tr>\n",
        "    <tr>\n",
        "      <th>2 </th>\n",
        "      <td>  1</td>\n",
        "      <td>2012-02-14</td>\n",
        "      <td>   3</td>\n",
        "      <td> 4</td>\n",
        "      <td>  3</td>\n",
        "      <td> {u'funny': 0, u'useful': 1, u'cool': 1}</td>\n",
        "    </tr>\n",
        "    <tr>\n",
        "      <th>3 </th>\n",
        "      <td>  1</td>\n",
        "      <td>2012-03-02</td>\n",
        "      <td>   4</td>\n",
        "      <td> 4</td>\n",
        "      <td>  4</td>\n",
        "      <td> {u'funny': 0, u'useful': 0, u'cool': 0}</td>\n",
        "    </tr>\n",
        "    <tr>\n",
        "      <th>4 </th>\n",
        "      <td>  1</td>\n",
        "      <td>2012-05-15</td>\n",
        "      <td>   5</td>\n",
        "      <td> 4</td>\n",
        "      <td>  3</td>\n",
        "      <td> {u'funny': 0, u'useful': 2, u'cool': 1}</td>\n",
        "    </tr>\n",
        "    <tr>\n",
        "      <th>5 </th>\n",
        "      <td>  1</td>\n",
        "      <td>2013-04-19</td>\n",
        "      <td>   6</td>\n",
        "      <td> 1</td>\n",
        "      <td>  5</td>\n",
        "      <td> {u'funny': 0, u'useful': 0, u'cool': 0}</td>\n",
        "    </tr>\n",
        "    <tr>\n",
        "      <th>6 </th>\n",
        "      <td>  1</td>\n",
        "      <td>2014-01-02</td>\n",
        "      <td>   7</td>\n",
        "      <td> 5</td>\n",
        "      <td>  6</td>\n",
        "      <td> {u'funny': 0, u'useful': 0, u'cool': 0}</td>\n",
        "    </tr>\n",
        "    <tr>\n",
        "      <th>7 </th>\n",
        "      <td>  1</td>\n",
        "      <td>2014-01-08</td>\n",
        "      <td>   8</td>\n",
        "      <td> 5</td>\n",
        "      <td>  7</td>\n",
        "      <td> {u'funny': 0, u'useful': 0, u'cool': 0}</td>\n",
        "    </tr>\n",
        "    <tr>\n",
        "      <th>8 </th>\n",
        "      <td>  1</td>\n",
        "      <td>2014-08-01</td>\n",
        "      <td>   9</td>\n",
        "      <td> 1</td>\n",
        "      <td>  8</td>\n",
        "      <td> {u'funny': 0, u'useful': 1, u'cool': 0}</td>\n",
        "    </tr>\n",
        "    <tr>\n",
        "      <th>9 </th>\n",
        "      <td>  1</td>\n",
        "      <td>2014-12-12</td>\n",
        "      <td>  10</td>\n",
        "      <td> 5</td>\n",
        "      <td>  9</td>\n",
        "      <td> {u'funny': 0, u'useful': 0, u'cool': 0}</td>\n",
        "    </tr>\n",
        "    <tr>\n",
        "      <th>10</th>\n",
        "      <td>  2</td>\n",
        "      <td>2013-11-08</td>\n",
        "      <td>  11</td>\n",
        "      <td> 5</td>\n",
        "      <td> 10</td>\n",
        "      <td> {u'funny': 0, u'useful': 0, u'cool': 0}</td>\n",
        "    </tr>\n",
        "    <tr>\n",
        "      <th>11</th>\n",
        "      <td>  2</td>\n",
        "      <td>2014-03-29</td>\n",
        "      <td>  12</td>\n",
        "      <td> 3</td>\n",
        "      <td> 11</td>\n",
        "      <td> {u'funny': 0, u'useful': 0, u'cool': 0}</td>\n",
        "    </tr>\n",
        "    <tr>\n",
        "      <th>12</th>\n",
        "      <td>  2</td>\n",
        "      <td>2014-10-29</td>\n",
        "      <td>  13</td>\n",
        "      <td> 2</td>\n",
        "      <td> 12</td>\n",
        "      <td> {u'funny': 0, u'useful': 0, u'cool': 0}</td>\n",
        "    </tr>\n",
        "    <tr>\n",
        "      <th>13</th>\n",
        "      <td>  2</td>\n",
        "      <td>2014-11-28</td>\n",
        "      <td>  14</td>\n",
        "      <td> 4</td>\n",
        "      <td> 13</td>\n",
        "      <td> {u'funny': 1, u'useful': 1, u'cool': 1}</td>\n",
        "    </tr>\n",
        "    <tr>\n",
        "      <th>14</th>\n",
        "      <td>  3</td>\n",
        "      <td>2012-08-19</td>\n",
        "      <td>  15</td>\n",
        "      <td> 3</td>\n",
        "      <td> 14</td>\n",
        "      <td> {u'funny': 0, u'useful': 1, u'cool': 0}</td>\n",
        "    </tr>\n",
        "    <tr>\n",
        "      <th>15</th>\n",
        "      <td>  3</td>\n",
        "      <td>2013-04-18</td>\n",
        "      <td>  16</td>\n",
        "      <td> 1</td>\n",
        "      <td> 15</td>\n",
        "      <td> {u'funny': 0, u'useful': 1, u'cool': 0}</td>\n",
        "    </tr>\n",
        "    <tr>\n",
        "      <th>16</th>\n",
        "      <td>  3</td>\n",
        "      <td>2013-07-14</td>\n",
        "      <td>  17</td>\n",
        "      <td> 1</td>\n",
        "      <td> 16</td>\n",
        "      <td> {u'funny': 0, u'useful': 0, u'cool': 0}</td>\n",
        "    </tr>\n",
        "    <tr>\n",
        "      <th>17</th>\n",
        "      <td>  3</td>\n",
        "      <td>2013-08-16</td>\n",
        "      <td>  18</td>\n",
        "      <td> 4</td>\n",
        "      <td> 17</td>\n",
        "      <td> {u'funny': 0, u'useful': 0, u'cool': 0}</td>\n",
        "    </tr>\n",
        "    <tr>\n",
        "      <th>18</th>\n",
        "      <td>  3</td>\n",
        "      <td>2014-07-11</td>\n",
        "      <td>  19</td>\n",
        "      <td> 4</td>\n",
        "      <td> 18</td>\n",
        "      <td> {u'funny': 0, u'useful': 0, u'cool': 0}</td>\n",
        "    </tr>\n",
        "    <tr>\n",
        "      <th>19</th>\n",
        "      <td>  4</td>\n",
        "      <td>2013-06-10</td>\n",
        "      <td>  20</td>\n",
        "      <td> 5</td>\n",
        "      <td> 19</td>\n",
        "      <td> {u'funny': 3, u'useful': 7, u'cool': 7}</td>\n",
        "    </tr>\n",
        "    <tr>\n",
        "      <th>20</th>\n",
        "      <td>  4</td>\n",
        "      <td>2013-12-23</td>\n",
        "      <td>  21</td>\n",
        "      <td> 2</td>\n",
        "      <td> 20</td>\n",
        "      <td> {u'funny': 1, u'useful': 1, u'cool': 1}</td>\n",
        "    </tr>\n",
        "    <tr>\n",
        "      <th>21</th>\n",
        "      <td>  4</td>\n",
        "      <td>2014-09-04</td>\n",
        "      <td>  22</td>\n",
        "      <td> 4</td>\n",
        "      <td> 21</td>\n",
        "      <td> {u'funny': 0, u'useful': 0, u'cool': 0}</td>\n",
        "    </tr>\n",
        "    <tr>\n",
        "      <th>22</th>\n",
        "      <td>  5</td>\n",
        "      <td>2012-12-01</td>\n",
        "      <td>  23</td>\n",
        "      <td> 5</td>\n",
        "      <td> 22</td>\n",
        "      <td> {u'funny': 0, u'useful': 5, u'cool': 0}</td>\n",
        "    </tr>\n",
        "    <tr>\n",
        "      <th>23</th>\n",
        "      <td>  5</td>\n",
        "      <td>2013-03-15</td>\n",
        "      <td>  24</td>\n",
        "      <td> 5</td>\n",
        "      <td> 23</td>\n",
        "      <td> {u'funny': 0, u'useful': 0, u'cool': 0}</td>\n",
        "    </tr>\n",
        "    <tr>\n",
        "      <th>24</th>\n",
        "      <td>  5</td>\n",
        "      <td>2013-03-30</td>\n",
        "      <td>  25</td>\n",
        "      <td> 5</td>\n",
        "      <td> 24</td>\n",
        "      <td> {u'funny': 0, u'useful': 2, u'cool': 1}</td>\n",
        "    </tr>\n",
        "    <tr>\n",
        "      <th>25</th>\n",
        "      <td>  5</td>\n",
        "      <td>2013-10-20</td>\n",
        "      <td>  26</td>\n",
        "      <td> 4</td>\n",
        "      <td> 10</td>\n",
        "      <td> {u'funny': 0, u'useful': 1, u'cool': 0}</td>\n",
        "    </tr>\n",
        "    <tr>\n",
        "      <th>26</th>\n",
        "      <td>  5</td>\n",
        "      <td>2013-11-07</td>\n",
        "      <td>  27</td>\n",
        "      <td> 5</td>\n",
        "      <td> 25</td>\n",
        "      <td> {u'funny': 0, u'useful': 0, u'cool': 0}</td>\n",
        "    </tr>\n",
        "    <tr>\n",
        "      <th>27</th>\n",
        "      <td>  5</td>\n",
        "      <td>2014-03-22</td>\n",
        "      <td>  28</td>\n",
        "      <td> 5</td>\n",
        "      <td> 26</td>\n",
        "      <td> {u'funny': 0, u'useful': 2, u'cool': 1}</td>\n",
        "    </tr>\n",
        "    <tr>\n",
        "      <th>28</th>\n",
        "      <td>  5</td>\n",
        "      <td>2014-09-29</td>\n",
        "      <td>  29</td>\n",
        "      <td> 4</td>\n",
        "      <td> 27</td>\n",
        "      <td> {u'funny': 0, u'useful': 0, u'cool': 0}</td>\n",
        "    </tr>\n",
        "    <tr>\n",
        "      <th>29</th>\n",
        "      <td>  5</td>\n",
        "      <td>2014-09-29</td>\n",
        "      <td>  30</td>\n",
        "      <td> 5</td>\n",
        "      <td> 28</td>\n",
        "      <td> {u'funny': 0, u'useful': 0, u'cool': 0}</td>\n",
        "    </tr>\n",
        "    <tr>\n",
        "      <th>...</th>\n",
        "      <td>...</td>\n",
        "      <td>...</td>\n",
        "      <td>...</td>\n",
        "      <td>...</td>\n",
        "      <td>...</td>\n",
        "      <td>...</td>\n",
        "    </tr>\n",
        "    <tr>\n",
        "      <th>70</th>\n",
        "      <td> 13</td>\n",
        "      <td>2007-03-31</td>\n",
        "      <td>  71</td>\n",
        "      <td> 3</td>\n",
        "      <td> 66</td>\n",
        "      <td> {u'funny': 0, u'useful': 2, u'cool': 1}</td>\n",
        "    </tr>\n",
        "    <tr>\n",
        "      <th>71</th>\n",
        "      <td> 13</td>\n",
        "      <td>2007-08-02</td>\n",
        "      <td>  72</td>\n",
        "      <td> 4</td>\n",
        "      <td> 67</td>\n",
        "      <td> {u'funny': 0, u'useful': 0, u'cool': 0}</td>\n",
        "    </tr>\n",
        "    <tr>\n",
        "      <th>72</th>\n",
        "      <td> 13</td>\n",
        "      <td>2008-04-12</td>\n",
        "      <td>  73</td>\n",
        "      <td> 5</td>\n",
        "      <td> 68</td>\n",
        "      <td> {u'funny': 0, u'useful': 0, u'cool': 0}</td>\n",
        "    </tr>\n",
        "    <tr>\n",
        "      <th>73</th>\n",
        "      <td> 13</td>\n",
        "      <td>2008-12-03</td>\n",
        "      <td>  74</td>\n",
        "      <td> 4</td>\n",
        "      <td> 69</td>\n",
        "      <td> {u'funny': 0, u'useful': 0, u'cool': 0}</td>\n",
        "    </tr>\n",
        "    <tr>\n",
        "      <th>74</th>\n",
        "      <td> 13</td>\n",
        "      <td>2009-03-10</td>\n",
        "      <td>  75</td>\n",
        "      <td> 5</td>\n",
        "      <td> 70</td>\n",
        "      <td> {u'funny': 0, u'useful': 0, u'cool': 0}</td>\n",
        "    </tr>\n",
        "    <tr>\n",
        "      <th>75</th>\n",
        "      <td> 13</td>\n",
        "      <td>2009-04-07</td>\n",
        "      <td>  76</td>\n",
        "      <td> 5</td>\n",
        "      <td> 71</td>\n",
        "      <td> {u'funny': 0, u'useful': 1, u'cool': 0}</td>\n",
        "    </tr>\n",
        "    <tr>\n",
        "      <th>76</th>\n",
        "      <td> 13</td>\n",
        "      <td>2009-08-20</td>\n",
        "      <td>  77</td>\n",
        "      <td> 4</td>\n",
        "      <td> 72</td>\n",
        "      <td> {u'funny': 0, u'useful': 0, u'cool': 0}</td>\n",
        "    </tr>\n",
        "    <tr>\n",
        "      <th>77</th>\n",
        "      <td> 13</td>\n",
        "      <td>2010-03-07</td>\n",
        "      <td>  78</td>\n",
        "      <td> 5</td>\n",
        "      <td> 73</td>\n",
        "      <td> {u'funny': 0, u'useful': 1, u'cool': 0}</td>\n",
        "    </tr>\n",
        "    <tr>\n",
        "      <th>78</th>\n",
        "      <td> 13</td>\n",
        "      <td>2010-06-28</td>\n",
        "      <td>  79</td>\n",
        "      <td> 5</td>\n",
        "      <td> 74</td>\n",
        "      <td> {u'funny': 0, u'useful': 0, u'cool': 0}</td>\n",
        "    </tr>\n",
        "    <tr>\n",
        "      <th>79</th>\n",
        "      <td> 13</td>\n",
        "      <td>2011-01-05</td>\n",
        "      <td>  80</td>\n",
        "      <td> 5</td>\n",
        "      <td> 75</td>\n",
        "      <td> {u'funny': 0, u'useful': 1, u'cool': 1}</td>\n",
        "    </tr>\n",
        "    <tr>\n",
        "      <th>80</th>\n",
        "      <td> 13</td>\n",
        "      <td>2011-02-06</td>\n",
        "      <td>  81</td>\n",
        "      <td> 4</td>\n",
        "      <td> 76</td>\n",
        "      <td> {u'funny': 0, u'useful': 0, u'cool': 0}</td>\n",
        "    </tr>\n",
        "    <tr>\n",
        "      <th>81</th>\n",
        "      <td> 13</td>\n",
        "      <td>2011-06-13</td>\n",
        "      <td>  82</td>\n",
        "      <td> 4</td>\n",
        "      <td> 77</td>\n",
        "      <td> {u'funny': 0, u'useful': 1, u'cool': 0}</td>\n",
        "    </tr>\n",
        "    <tr>\n",
        "      <th>82</th>\n",
        "      <td> 13</td>\n",
        "      <td>2011-07-05</td>\n",
        "      <td>  83</td>\n",
        "      <td> 4</td>\n",
        "      <td> 34</td>\n",
        "      <td> {u'funny': 0, u'useful': 0, u'cool': 0}</td>\n",
        "    </tr>\n",
        "    <tr>\n",
        "      <th>83</th>\n",
        "      <td> 13</td>\n",
        "      <td>2011-11-15</td>\n",
        "      <td>  84</td>\n",
        "      <td> 5</td>\n",
        "      <td> 78</td>\n",
        "      <td> {u'funny': 1, u'useful': 1, u'cool': 1}</td>\n",
        "    </tr>\n",
        "    <tr>\n",
        "      <th>84</th>\n",
        "      <td> 13</td>\n",
        "      <td>2011-12-05</td>\n",
        "      <td>  85</td>\n",
        "      <td> 3</td>\n",
        "      <td> 58</td>\n",
        "      <td> {u'funny': 0, u'useful': 1, u'cool': 0}</td>\n",
        "    </tr>\n",
        "    <tr>\n",
        "      <th>85</th>\n",
        "      <td> 13</td>\n",
        "      <td>2012-02-12</td>\n",
        "      <td>  86</td>\n",
        "      <td> 5</td>\n",
        "      <td> 79</td>\n",
        "      <td> {u'funny': 0, u'useful': 0, u'cool': 0}</td>\n",
        "    </tr>\n",
        "    <tr>\n",
        "      <th>86</th>\n",
        "      <td> 13</td>\n",
        "      <td>2012-02-19</td>\n",
        "      <td>  87</td>\n",
        "      <td> 5</td>\n",
        "      <td> 80</td>\n",
        "      <td> {u'funny': 0, u'useful': 0, u'cool': 0}</td>\n",
        "    </tr>\n",
        "    <tr>\n",
        "      <th>87</th>\n",
        "      <td> 13</td>\n",
        "      <td>2012-04-05</td>\n",
        "      <td>  88</td>\n",
        "      <td> 5</td>\n",
        "      <td> 81</td>\n",
        "      <td> {u'funny': 1, u'useful': 1, u'cool': 1}</td>\n",
        "    </tr>\n",
        "    <tr>\n",
        "      <th>88</th>\n",
        "      <td> 13</td>\n",
        "      <td>2012-04-07</td>\n",
        "      <td>  89</td>\n",
        "      <td> 5</td>\n",
        "      <td> 82</td>\n",
        "      <td> {u'funny': 1, u'useful': 3, u'cool': 2}</td>\n",
        "    </tr>\n",
        "    <tr>\n",
        "      <th>89</th>\n",
        "      <td> 13</td>\n",
        "      <td>2012-06-25</td>\n",
        "      <td>  90</td>\n",
        "      <td> 5</td>\n",
        "      <td> 83</td>\n",
        "      <td> {u'funny': 2, u'useful': 3, u'cool': 2}</td>\n",
        "    </tr>\n",
        "    <tr>\n",
        "      <th>90</th>\n",
        "      <td> 13</td>\n",
        "      <td>2012-07-15</td>\n",
        "      <td>  91</td>\n",
        "      <td> 4</td>\n",
        "      <td> 84</td>\n",
        "      <td> {u'funny': 8, u'useful': 5, u'cool': 4}</td>\n",
        "    </tr>\n",
        "    <tr>\n",
        "      <th>91</th>\n",
        "      <td> 13</td>\n",
        "      <td>2012-07-29</td>\n",
        "      <td>  92</td>\n",
        "      <td> 5</td>\n",
        "      <td> 85</td>\n",
        "      <td> {u'funny': 0, u'useful': 0, u'cool': 0}</td>\n",
        "    </tr>\n",
        "    <tr>\n",
        "      <th>92</th>\n",
        "      <td> 13</td>\n",
        "      <td>2013-02-21</td>\n",
        "      <td>  93</td>\n",
        "      <td> 4</td>\n",
        "      <td> 86</td>\n",
        "      <td> {u'funny': 0, u'useful': 1, u'cool': 0}</td>\n",
        "    </tr>\n",
        "    <tr>\n",
        "      <th>93</th>\n",
        "      <td> 13</td>\n",
        "      <td>2013-03-16</td>\n",
        "      <td>  94</td>\n",
        "      <td> 5</td>\n",
        "      <td> 87</td>\n",
        "      <td> {u'funny': 0, u'useful': 1, u'cool': 1}</td>\n",
        "    </tr>\n",
        "    <tr>\n",
        "      <th>94</th>\n",
        "      <td> 13</td>\n",
        "      <td>2013-04-08</td>\n",
        "      <td>  95</td>\n",
        "      <td> 5</td>\n",
        "      <td> 88</td>\n",
        "      <td> {u'funny': 2, u'useful': 2, u'cool': 2}</td>\n",
        "    </tr>\n",
        "    <tr>\n",
        "      <th>95</th>\n",
        "      <td> 13</td>\n",
        "      <td>2013-04-13</td>\n",
        "      <td>  96</td>\n",
        "      <td> 5</td>\n",
        "      <td> 89</td>\n",
        "      <td> {u'funny': 0, u'useful': 1, u'cool': 1}</td>\n",
        "    </tr>\n",
        "    <tr>\n",
        "      <th>96</th>\n",
        "      <td> 13</td>\n",
        "      <td>2013-09-25</td>\n",
        "      <td>  97</td>\n",
        "      <td> 4</td>\n",
        "      <td> 90</td>\n",
        "      <td> {u'funny': 0, u'useful': 1, u'cool': 0}</td>\n",
        "    </tr>\n",
        "    <tr>\n",
        "      <th>97</th>\n",
        "      <td> 13</td>\n",
        "      <td>2013-10-06</td>\n",
        "      <td>  98</td>\n",
        "      <td> 5</td>\n",
        "      <td> 91</td>\n",
        "      <td> {u'funny': 0, u'useful': 4, u'cool': 3}</td>\n",
        "    </tr>\n",
        "    <tr>\n",
        "      <th>98</th>\n",
        "      <td> 13</td>\n",
        "      <td>2013-10-12</td>\n",
        "      <td>  99</td>\n",
        "      <td> 5</td>\n",
        "      <td> 92</td>\n",
        "      <td> {u'funny': 0, u'useful': 0, u'cool': 0}</td>\n",
        "    </tr>\n",
        "    <tr>\n",
        "      <th>99</th>\n",
        "      <td> 13</td>\n",
        "      <td>2013-10-31</td>\n",
        "      <td> 100</td>\n",
        "      <td> 5</td>\n",
        "      <td> 93</td>\n",
        "      <td> {u'funny': 0, u'useful': 1, u'cool': 0}</td>\n",
        "    </tr>\n",
        "  </tbody>\n",
        "</table>\n",
        "<p>100 rows \u00d7 6 columns</p>\n",
        "</div>"
       ],
       "metadata": {},
       "output_type": "pyout",
       "prompt_number": 5,
       "text": [
        "    business_id       date  review_id  stars  user_id  \\\n",
        "0             1 2007-05-17          1      5        1   \n",
        "1             1 2010-03-22          2      2        2   \n",
        "2             1 2012-02-14          3      4        3   \n",
        "3             1 2012-03-02          4      4        4   \n",
        "4             1 2012-05-15          5      4        3   \n",
        "5             1 2013-04-19          6      1        5   \n",
        "6             1 2014-01-02          7      5        6   \n",
        "7             1 2014-01-08          8      5        7   \n",
        "8             1 2014-08-01          9      1        8   \n",
        "9             1 2014-12-12         10      5        9   \n",
        "10            2 2013-11-08         11      5       10   \n",
        "11            2 2014-03-29         12      3       11   \n",
        "12            2 2014-10-29         13      2       12   \n",
        "13            2 2014-11-28         14      4       13   \n",
        "14            3 2012-08-19         15      3       14   \n",
        "15            3 2013-04-18         16      1       15   \n",
        "16            3 2013-07-14         17      1       16   \n",
        "17            3 2013-08-16         18      4       17   \n",
        "18            3 2014-07-11         19      4       18   \n",
        "19            4 2013-06-10         20      5       19   \n",
        "20            4 2013-12-23         21      2       20   \n",
        "21            4 2014-09-04         22      4       21   \n",
        "22            5 2012-12-01         23      5       22   \n",
        "23            5 2013-03-15         24      5       23   \n",
        "24            5 2013-03-30         25      5       24   \n",
        "25            5 2013-10-20         26      4       10   \n",
        "26            5 2013-11-07         27      5       25   \n",
        "27            5 2014-03-22         28      5       26   \n",
        "28            5 2014-09-29         29      4       27   \n",
        "29            5 2014-09-29         30      5       28   \n",
        "..          ...        ...        ...    ...      ...   \n",
        "70           13 2007-03-31         71      3       66   \n",
        "71           13 2007-08-02         72      4       67   \n",
        "72           13 2008-04-12         73      5       68   \n",
        "73           13 2008-12-03         74      4       69   \n",
        "74           13 2009-03-10         75      5       70   \n",
        "75           13 2009-04-07         76      5       71   \n",
        "76           13 2009-08-20         77      4       72   \n",
        "77           13 2010-03-07         78      5       73   \n",
        "78           13 2010-06-28         79      5       74   \n",
        "79           13 2011-01-05         80      5       75   \n",
        "80           13 2011-02-06         81      4       76   \n",
        "81           13 2011-06-13         82      4       77   \n",
        "82           13 2011-07-05         83      4       34   \n",
        "83           13 2011-11-15         84      5       78   \n",
        "84           13 2011-12-05         85      3       58   \n",
        "85           13 2012-02-12         86      5       79   \n",
        "86           13 2012-02-19         87      5       80   \n",
        "87           13 2012-04-05         88      5       81   \n",
        "88           13 2012-04-07         89      5       82   \n",
        "89           13 2012-06-25         90      5       83   \n",
        "90           13 2012-07-15         91      4       84   \n",
        "91           13 2012-07-29         92      5       85   \n",
        "92           13 2013-02-21         93      4       86   \n",
        "93           13 2013-03-16         94      5       87   \n",
        "94           13 2013-04-08         95      5       88   \n",
        "95           13 2013-04-13         96      5       89   \n",
        "96           13 2013-09-25         97      4       90   \n",
        "97           13 2013-10-06         98      5       91   \n",
        "98           13 2013-10-12         99      5       92   \n",
        "99           13 2013-10-31        100      5       93   \n",
        "\n",
        "                                      votes  \n",
        "0   {u'funny': 0, u'useful': 2, u'cool': 1}  \n",
        "1   {u'funny': 0, u'useful': 2, u'cool': 0}  \n",
        "2   {u'funny': 0, u'useful': 1, u'cool': 1}  \n",
        "3   {u'funny': 0, u'useful': 0, u'cool': 0}  \n",
        "4   {u'funny': 0, u'useful': 2, u'cool': 1}  \n",
        "5   {u'funny': 0, u'useful': 0, u'cool': 0}  \n",
        "6   {u'funny': 0, u'useful': 0, u'cool': 0}  \n",
        "7   {u'funny': 0, u'useful': 0, u'cool': 0}  \n",
        "8   {u'funny': 0, u'useful': 1, u'cool': 0}  \n",
        "9   {u'funny': 0, u'useful': 0, u'cool': 0}  \n",
        "10  {u'funny': 0, u'useful': 0, u'cool': 0}  \n",
        "11  {u'funny': 0, u'useful': 0, u'cool': 0}  \n",
        "12  {u'funny': 0, u'useful': 0, u'cool': 0}  \n",
        "13  {u'funny': 1, u'useful': 1, u'cool': 1}  \n",
        "14  {u'funny': 0, u'useful': 1, u'cool': 0}  \n",
        "15  {u'funny': 0, u'useful': 1, u'cool': 0}  \n",
        "16  {u'funny': 0, u'useful': 0, u'cool': 0}  \n",
        "17  {u'funny': 0, u'useful': 0, u'cool': 0}  \n",
        "18  {u'funny': 0, u'useful': 0, u'cool': 0}  \n",
        "19  {u'funny': 3, u'useful': 7, u'cool': 7}  \n",
        "20  {u'funny': 1, u'useful': 1, u'cool': 1}  \n",
        "21  {u'funny': 0, u'useful': 0, u'cool': 0}  \n",
        "22  {u'funny': 0, u'useful': 5, u'cool': 0}  \n",
        "23  {u'funny': 0, u'useful': 0, u'cool': 0}  \n",
        "24  {u'funny': 0, u'useful': 2, u'cool': 1}  \n",
        "25  {u'funny': 0, u'useful': 1, u'cool': 0}  \n",
        "26  {u'funny': 0, u'useful': 0, u'cool': 0}  \n",
        "27  {u'funny': 0, u'useful': 2, u'cool': 1}  \n",
        "28  {u'funny': 0, u'useful': 0, u'cool': 0}  \n",
        "29  {u'funny': 0, u'useful': 0, u'cool': 0}  \n",
        "..                                      ...  \n",
        "70  {u'funny': 0, u'useful': 2, u'cool': 1}  \n",
        "71  {u'funny': 0, u'useful': 0, u'cool': 0}  \n",
        "72  {u'funny': 0, u'useful': 0, u'cool': 0}  \n",
        "73  {u'funny': 0, u'useful': 0, u'cool': 0}  \n",
        "74  {u'funny': 0, u'useful': 0, u'cool': 0}  \n",
        "75  {u'funny': 0, u'useful': 1, u'cool': 0}  \n",
        "76  {u'funny': 0, u'useful': 0, u'cool': 0}  \n",
        "77  {u'funny': 0, u'useful': 1, u'cool': 0}  \n",
        "78  {u'funny': 0, u'useful': 0, u'cool': 0}  \n",
        "79  {u'funny': 0, u'useful': 1, u'cool': 1}  \n",
        "80  {u'funny': 0, u'useful': 0, u'cool': 0}  \n",
        "81  {u'funny': 0, u'useful': 1, u'cool': 0}  \n",
        "82  {u'funny': 0, u'useful': 0, u'cool': 0}  \n",
        "83  {u'funny': 1, u'useful': 1, u'cool': 1}  \n",
        "84  {u'funny': 0, u'useful': 1, u'cool': 0}  \n",
        "85  {u'funny': 0, u'useful': 0, u'cool': 0}  \n",
        "86  {u'funny': 0, u'useful': 0, u'cool': 0}  \n",
        "87  {u'funny': 1, u'useful': 1, u'cool': 1}  \n",
        "88  {u'funny': 1, u'useful': 3, u'cool': 2}  \n",
        "89  {u'funny': 2, u'useful': 3, u'cool': 2}  \n",
        "90  {u'funny': 8, u'useful': 5, u'cool': 4}  \n",
        "91  {u'funny': 0, u'useful': 0, u'cool': 0}  \n",
        "92  {u'funny': 0, u'useful': 1, u'cool': 0}  \n",
        "93  {u'funny': 0, u'useful': 1, u'cool': 1}  \n",
        "94  {u'funny': 2, u'useful': 2, u'cool': 2}  \n",
        "95  {u'funny': 0, u'useful': 1, u'cool': 1}  \n",
        "96  {u'funny': 0, u'useful': 1, u'cool': 0}  \n",
        "97  {u'funny': 0, u'useful': 4, u'cool': 3}  \n",
        "98  {u'funny': 0, u'useful': 0, u'cool': 0}  \n",
        "99  {u'funny': 0, u'useful': 1, u'cool': 0}  \n",
        "\n",
        "[100 rows x 6 columns]"
       ]
      }
     ],
     "prompt_number": 5
    },
    {
     "cell_type": "code",
     "collapsed": false,
     "input": [
      "import dateutil.parser\n",
      "from datetime import *\n",
      "def date_compare(date1,date2):\n",
      "    #print date1,date2\n",
      "    dt1 = dateutil.parser.parse(date1)\n",
      "    dt2 = dateutil.parser.parse(date2)\n",
      "    if(dt1.date()<dt2.date()): return True\n",
      "    else : return False\n",
      "    "
     ],
     "language": "python",
     "metadata": {},
     "outputs": [],
     "prompt_number": 3
    },
    {
     "cell_type": "code",
     "collapsed": false,
     "input": [
      "date_compare('2011-05-17 00:00:00','2010-06-12 00:00:00')"
     ],
     "language": "python",
     "metadata": {},
     "outputs": [
      {
       "ename": "ValueError",
       "evalue": "time data '2011-05-17 00:00:00' does not match format '%Y-%m-%d %I:%M:%S'",
       "output_type": "pyerr",
       "traceback": [
        "\u001b[1;31m---------------------------------------------------------------------------\u001b[0m\n\u001b[1;31mValueError\u001b[0m                                Traceback (most recent call last)",
        "\u001b[1;32m<ipython-input-15-8371215546fd>\u001b[0m in \u001b[0;36m<module>\u001b[1;34m()\u001b[0m\n\u001b[1;32m----> 1\u001b[1;33m \u001b[0mdate_compare\u001b[0m\u001b[1;33m(\u001b[0m\u001b[1;34m'2011-05-17 00:00:00'\u001b[0m\u001b[1;33m,\u001b[0m\u001b[1;34m'2010-06-12 00:00:00'\u001b[0m\u001b[1;33m)\u001b[0m\u001b[1;33m\u001b[0m\u001b[0m\n\u001b[0m",
        "\u001b[1;32m<ipython-input-14-177c33094232>\u001b[0m in \u001b[0;36mdate_compare\u001b[1;34m(date1, date2)\u001b[0m\n\u001b[0;32m      7\u001b[0m     \u001b[1;31m#if(dt1.date()<dt2.date()): return True\u001b[0m\u001b[1;33m\u001b[0m\u001b[1;33m\u001b[0m\u001b[0m\n\u001b[0;32m      8\u001b[0m     \u001b[1;31m#else : return False\u001b[0m\u001b[1;33m\u001b[0m\u001b[1;33m\u001b[0m\u001b[0m\n\u001b[1;32m----> 9\u001b[1;33m     \u001b[0mdt1\u001b[0m \u001b[1;33m=\u001b[0m \u001b[0mdatetime\u001b[0m\u001b[1;33m.\u001b[0m\u001b[0mstrptime\u001b[0m\u001b[1;33m(\u001b[0m\u001b[0mdate1\u001b[0m\u001b[1;33m,\u001b[0m\u001b[1;34m\"%Y-%m-%d %I:%M:%S\"\u001b[0m\u001b[1;33m)\u001b[0m\u001b[1;33m\u001b[0m\u001b[0m\n\u001b[0m\u001b[0;32m     10\u001b[0m     \u001b[0mdt2\u001b[0m \u001b[1;33m=\u001b[0m \u001b[0mdatetime\u001b[0m\u001b[1;33m.\u001b[0m\u001b[0mstrptime\u001b[0m\u001b[1;33m(\u001b[0m\u001b[0mdate2\u001b[0m\u001b[1;33m,\u001b[0m\u001b[1;34m\"%Y-%m-%d %I:%M:%S\"\u001b[0m\u001b[1;33m)\u001b[0m\u001b[1;33m\u001b[0m\u001b[0m\n\u001b[0;32m     11\u001b[0m     \u001b[1;32mprint\u001b[0m \u001b[0mdatetime\u001b[0m\u001b[1;33m.\u001b[0m\u001b[0mmin\u001b[0m\u001b[1;33m(\u001b[0m\u001b[0mdt1\u001b[0m\u001b[1;33m,\u001b[0m\u001b[0mst2\u001b[0m\u001b[1;33m)\u001b[0m\u001b[1;33m\u001b[0m\u001b[0m\n",
        "\u001b[1;32mC:\\Users\\Harish\\AppData\\Local\\Enthought\\Canopy\\App\\appdata\\canopy-1.5.2.2785.win-x86_64\\lib\\_strptime.pyc\u001b[0m in \u001b[0;36m_strptime\u001b[1;34m(data_string, format)\u001b[0m\n\u001b[0;32m    323\u001b[0m     \u001b[1;32mif\u001b[0m \u001b[1;32mnot\u001b[0m \u001b[0mfound\u001b[0m\u001b[1;33m:\u001b[0m\u001b[1;33m\u001b[0m\u001b[0m\n\u001b[0;32m    324\u001b[0m         raise ValueError(\"time data %r does not match format %r\" %\n\u001b[1;32m--> 325\u001b[1;33m                          (data_string, format))\n\u001b[0m\u001b[0;32m    326\u001b[0m     \u001b[1;32mif\u001b[0m \u001b[0mlen\u001b[0m\u001b[1;33m(\u001b[0m\u001b[0mdata_string\u001b[0m\u001b[1;33m)\u001b[0m \u001b[1;33m!=\u001b[0m \u001b[0mfound\u001b[0m\u001b[1;33m.\u001b[0m\u001b[0mend\u001b[0m\u001b[1;33m(\u001b[0m\u001b[1;33m)\u001b[0m\u001b[1;33m:\u001b[0m\u001b[1;33m\u001b[0m\u001b[0m\n\u001b[0;32m    327\u001b[0m         raise ValueError(\"unconverted data remains: %s\" %\n",
        "\u001b[1;31mValueError\u001b[0m: time data '2011-05-17 00:00:00' does not match format '%Y-%m-%d %I:%M:%S'"
       ]
      }
     ],
     "prompt_number": 15
    },
    {
     "cell_type": "code",
     "collapsed": false,
     "input": [
      "class user_statistics:\n",
      "   \n",
      "    def __init__(self,user_id,inf_map):\n",
      "        self.user_id = user_id\n",
      "        self.inf_map = inf_map"
     ],
     "language": "python",
     "metadata": {},
     "outputs": [],
     "prompt_number": 13
    },
    {
     "cell_type": "code",
     "collapsed": false,
     "input": [
      "user_stat = []\n",
      "for i in range(len(user_data)):\n",
      "    inf_map = {}\n",
      "    curr_user_id = user_data['user_id'][i]\n",
      "    curr_friends = user_data['friends'][i]\n",
      "    curr_user_reviews = user_review_dic[curr_user_id] #list of reviews made by this user\n",
      "    #print curr_friends\n",
      "    for review in curr_user_reviews:\n",
      "        match_list = []\n",
      "        curr_bus = review_data['business_id'][review-1]\n",
      "        curr_date = review_data['date'][review-1]\n",
      "        for friend in range(len(curr_friends)):\n",
      "            #print \"Friend: \",friend\n",
      "            #x =  curr_friends[friend]\n",
      "            #x = str(x)\n",
      "            #x = x.replace(\"'\",\"\")\n",
      "            #print \"X value is: \", type(x)\n",
      "            #print \"Dictionary is : \", user_review_dic[int(x)]\n",
      "            curr_friend_reviews = user_review_dic[int(curr_friends[friend])] #list of reviews made by this friend\n",
      "            #print len(curr_friend_reviews)\n",
      "            for f_review in curr_friend_reviews:\n",
      "                curr_f_bus = review_data['business_id'][f_review-1]\n",
      "                curr_f_date = review_data['date'][f_review-1]\n",
      "                if(curr_f_bus==curr_bus):\n",
      "                    #print curr_f_bus,curr_bus\n",
      "                    x= str(curr_f_date).split(' ')\n",
      "                    y= str(curr_date).split(' ')\n",
      "                    #print x[0],y[0]\n",
      "                    if(date_compare(x[0],y[0])):\n",
      "                        match_list.append(f_review)\n",
      "        inf_map[review] = match_list\n",
      "    u = user_statistics(curr_user_id,inf_map)   \n",
      "    user_stat.append(u)\n",
      "    print i\n",
      "    if(i==1000): break"
     ],
     "language": "python",
     "metadata": {},
     "outputs": [
      {
       "output_type": "stream",
       "stream": "stdout",
       "text": [
        "0\n",
        "1"
       ]
      },
      {
       "output_type": "stream",
       "stream": "stdout",
       "text": [
        "\n",
        "2"
       ]
      },
      {
       "output_type": "stream",
       "stream": "stdout",
       "text": [
        "\n",
        "3\n",
        "4\n",
        "5"
       ]
      },
      {
       "output_type": "stream",
       "stream": "stdout",
       "text": [
        "\n",
        "6\n",
        "7\n",
        "8\n",
        "9"
       ]
      },
      {
       "output_type": "stream",
       "stream": "stdout",
       "text": [
        "\n",
        "10\n",
        "11"
       ]
      },
      {
       "output_type": "stream",
       "stream": "stdout",
       "text": [
        "\n",
        "12\n",
        "13\n",
        "14"
       ]
      },
      {
       "output_type": "stream",
       "stream": "stdout",
       "text": [
        "\n",
        "15"
       ]
      },
      {
       "output_type": "stream",
       "stream": "stdout",
       "text": [
        "\n",
        "16\n",
        "17\n",
        "18\n",
        "19"
       ]
      },
      {
       "output_type": "stream",
       "stream": "stdout",
       "text": [
        "\n",
        "20\n",
        "21\n",
        "22\n",
        "23\n",
        "24"
       ]
      },
      {
       "output_type": "stream",
       "stream": "stdout",
       "text": [
        "\n",
        "25\n",
        "26\n",
        "27\n",
        "28\n",
        "29\n",
        "30\n",
        "31\n",
        "32\n",
        "33\n",
        "34\n",
        "35\n",
        "36\n",
        "37\n",
        "38\n",
        "39\n",
        "40\n",
        "41\n",
        "42\n",
        "43\n",
        "44\n",
        "45\n",
        "46\n",
        "47\n",
        "48\n",
        "49\n",
        "50\n",
        "51"
       ]
      },
      {
       "output_type": "stream",
       "stream": "stdout",
       "text": [
        "\n",
        "52\n",
        "53\n",
        "54\n",
        "55\n",
        "56\n",
        "57\n",
        "58\n",
        "59\n",
        "60\n",
        "61\n",
        "62\n",
        "63\n",
        "64\n",
        "65\n",
        "66\n",
        "67\n",
        "68\n",
        "69\n",
        "70\n",
        "71\n",
        "72\n",
        "73\n",
        "74\n",
        "75\n",
        "76\n",
        "77\n",
        "78\n",
        "79\n",
        "80\n",
        "81\n",
        "82\n",
        "83\n",
        "84\n",
        "85\n",
        "86\n",
        "87\n",
        "88\n",
        "89\n",
        "90\n",
        "91\n",
        "92"
       ]
      },
      {
       "output_type": "stream",
       "stream": "stdout",
       "text": [
        "\n",
        "93\n",
        "94"
       ]
      },
      {
       "output_type": "stream",
       "stream": "stdout",
       "text": [
        "\n",
        "95\n",
        "96\n",
        "97"
       ]
      },
      {
       "output_type": "stream",
       "stream": "stdout",
       "text": [
        "\n",
        "98\n",
        "99\n",
        "100"
       ]
      },
      {
       "output_type": "stream",
       "stream": "stdout",
       "text": [
        "\n",
        "101\n",
        "102\n",
        "103\n",
        "104\n",
        "105\n",
        "106\n",
        "107\n",
        "108"
       ]
      },
      {
       "output_type": "stream",
       "stream": "stdout",
       "text": [
        "\n",
        "109\n",
        "110\n",
        "111\n",
        "112\n",
        "113"
       ]
      },
      {
       "output_type": "stream",
       "stream": "stdout",
       "text": [
        "\n",
        "114\n",
        "115\n",
        "116\n",
        "117\n",
        "118\n",
        "119\n",
        "120\n",
        "121\n",
        "122\n",
        "123"
       ]
      },
      {
       "output_type": "stream",
       "stream": "stdout",
       "text": [
        "\n",
        "124\n",
        "125\n",
        "126"
       ]
      },
      {
       "output_type": "stream",
       "stream": "stdout",
       "text": [
        "\n",
        "127"
       ]
      },
      {
       "output_type": "stream",
       "stream": "stdout",
       "text": [
        "\n",
        "128\n",
        "129\n",
        "130\n",
        "131\n",
        "132\n",
        "133\n",
        "134\n",
        "135\n",
        "136\n",
        "137\n",
        "138"
       ]
      },
      {
       "output_type": "stream",
       "stream": "stdout",
       "text": [
        "\n",
        "139\n",
        "140\n",
        "141\n",
        "142\n",
        "143\n",
        "144\n",
        "145\n",
        "146\n",
        "147\n",
        "148\n",
        "149\n",
        "150\n",
        "151\n",
        "152"
       ]
      },
      {
       "output_type": "stream",
       "stream": "stdout",
       "text": [
        "\n",
        "153\n",
        "154\n",
        "155\n",
        "156\n",
        "157\n",
        "158\n",
        "159\n",
        "160\n",
        "161\n",
        "162\n",
        "163\n",
        "164\n",
        "165\n",
        "166"
       ]
      },
      {
       "output_type": "stream",
       "stream": "stdout",
       "text": [
        "\n",
        "167\n",
        "168\n",
        "169\n",
        "170\n",
        "171\n",
        "172\n",
        "173\n",
        "174\n",
        "175\n",
        "176\n",
        "177\n",
        "178"
       ]
      },
      {
       "output_type": "stream",
       "stream": "stdout",
       "text": [
        "\n",
        "179\n",
        "180\n",
        "181"
       ]
      },
      {
       "output_type": "stream",
       "stream": "stdout",
       "text": [
        "\n",
        "182"
       ]
      },
      {
       "output_type": "stream",
       "stream": "stdout",
       "text": [
        "\n",
        "183\n",
        "184\n",
        "185"
       ]
      },
      {
       "output_type": "stream",
       "stream": "stdout",
       "text": [
        "\n",
        "186\n",
        "187\n",
        "188\n",
        "189\n",
        "190"
       ]
      },
      {
       "output_type": "stream",
       "stream": "stdout",
       "text": [
        "\n",
        "191\n",
        "192"
       ]
      },
      {
       "output_type": "stream",
       "stream": "stdout",
       "text": [
        "\n",
        "193\n",
        "194"
       ]
      },
      {
       "output_type": "stream",
       "stream": "stdout",
       "text": [
        "\n",
        "195\n",
        "196\n",
        "197\n",
        "198\n",
        "199\n",
        "200\n",
        "201\n",
        "202\n",
        "203\n",
        "204\n",
        "205\n",
        "206"
       ]
      },
      {
       "output_type": "stream",
       "stream": "stdout",
       "text": [
        "\n",
        "207\n",
        "208\n",
        "209\n",
        "210\n",
        "211\n",
        "212\n",
        "213\n",
        "214\n",
        "215"
       ]
      },
      {
       "output_type": "stream",
       "stream": "stdout",
       "text": [
        "\n",
        "216\n",
        "217\n",
        "218\n",
        "219\n",
        "220"
       ]
      },
      {
       "output_type": "stream",
       "stream": "stdout",
       "text": [
        "\n",
        "221\n",
        "222\n",
        "223\n",
        "224\n",
        "225\n",
        "226"
       ]
      },
      {
       "output_type": "stream",
       "stream": "stdout",
       "text": [
        "\n",
        "227\n",
        "228\n",
        "229\n",
        "230\n",
        "231\n",
        "232\n",
        "233\n",
        "234\n",
        "235\n",
        "236\n",
        "237\n",
        "238\n",
        "239\n",
        "240\n",
        "241\n",
        "242\n",
        "243\n",
        "244\n",
        "245\n",
        "246\n",
        "247\n",
        "248\n",
        "249\n",
        "250\n",
        "251\n",
        "252\n",
        "253\n",
        "254\n",
        "255\n",
        "256\n",
        "257\n",
        "258\n",
        "259\n",
        "260\n",
        "261\n",
        "262\n",
        "263\n",
        "264\n",
        "265\n",
        "266\n",
        "267\n",
        "268\n",
        "269\n",
        "270\n",
        "271\n",
        "272"
       ]
      },
      {
       "output_type": "stream",
       "stream": "stdout",
       "text": [
        "\n",
        "273"
       ]
      },
      {
       "output_type": "stream",
       "stream": "stdout",
       "text": [
        "\n",
        "274"
       ]
      },
      {
       "output_type": "stream",
       "stream": "stdout",
       "text": [
        "\n",
        "275\n",
        "276\n",
        "277"
       ]
      },
      {
       "output_type": "stream",
       "stream": "stdout",
       "text": [
        "\n",
        "278\n",
        "279\n",
        "280\n",
        "281\n",
        "282\n",
        "283\n",
        "284\n",
        "285\n",
        "286\n",
        "287\n",
        "288"
       ]
      },
      {
       "output_type": "stream",
       "stream": "stdout",
       "text": [
        "\n",
        "289\n",
        "290\n",
        "291\n",
        "292\n",
        "293\n",
        "294\n",
        "295\n",
        "296\n",
        "297\n",
        "298\n",
        "299\n",
        "300\n",
        "301\n",
        "302\n",
        "303\n",
        "304\n",
        "305\n",
        "306"
       ]
      },
      {
       "output_type": "stream",
       "stream": "stdout",
       "text": [
        "\n",
        "307\n",
        "308\n",
        "309\n",
        "310\n",
        "311\n",
        "312"
       ]
      },
      {
       "output_type": "stream",
       "stream": "stdout",
       "text": [
        "\n",
        "313\n",
        "314"
       ]
      },
      {
       "output_type": "stream",
       "stream": "stdout",
       "text": [
        "\n",
        "315\n",
        "316\n",
        "317\n",
        "318\n",
        "319"
       ]
      },
      {
       "output_type": "stream",
       "stream": "stdout",
       "text": [
        "\n",
        "320\n",
        "321\n",
        "322\n",
        "323\n",
        "324\n",
        "325"
       ]
      },
      {
       "output_type": "stream",
       "stream": "stdout",
       "text": [
        "\n",
        "326\n",
        "327\n",
        "328\n",
        "329\n",
        "330\n",
        "331"
       ]
      },
      {
       "output_type": "stream",
       "stream": "stdout",
       "text": [
        "\n",
        "332\n",
        "333\n",
        "334\n",
        "335\n",
        "336\n",
        "337\n",
        "338\n",
        "339\n",
        "340\n",
        "341"
       ]
      },
      {
       "output_type": "stream",
       "stream": "stdout",
       "text": [
        "\n",
        "342\n",
        "343\n",
        "344\n",
        "345\n",
        "346\n",
        "347\n",
        "348\n",
        "349\n",
        "350\n",
        "351\n",
        "352\n",
        "353\n",
        "354\n",
        "355\n",
        "356\n",
        "357\n",
        "358\n",
        "359\n",
        "360\n",
        "361\n",
        "362\n",
        "363\n",
        "364"
       ]
      },
      {
       "output_type": "stream",
       "stream": "stdout",
       "text": [
        "\n",
        "365"
       ]
      },
      {
       "output_type": "stream",
       "stream": "stdout",
       "text": [
        "\n",
        "366\n",
        "367\n",
        "368\n",
        "369\n",
        "370\n",
        "371\n",
        "372"
       ]
      },
      {
       "output_type": "stream",
       "stream": "stdout",
       "text": [
        "\n",
        "373"
       ]
      },
      {
       "output_type": "stream",
       "stream": "stdout",
       "text": [
        "\n",
        "374"
       ]
      },
      {
       "output_type": "stream",
       "stream": "stdout",
       "text": [
        "\n",
        "375\n",
        "376\n",
        "377\n",
        "378\n",
        "379\n",
        "380\n",
        "381\n",
        "382\n",
        "383"
       ]
      },
      {
       "output_type": "stream",
       "stream": "stdout",
       "text": [
        "\n",
        "384"
       ]
      },
      {
       "output_type": "stream",
       "stream": "stdout",
       "text": [
        "\n",
        "385\n",
        "386\n",
        "387\n",
        "388\n",
        "389"
       ]
      },
      {
       "output_type": "stream",
       "stream": "stdout",
       "text": [
        "\n",
        "390\n",
        "391\n",
        "392\n",
        "393"
       ]
      },
      {
       "output_type": "stream",
       "stream": "stdout",
       "text": [
        "\n",
        "394\n",
        "395\n",
        "396\n",
        "397\n",
        "398\n",
        "399\n",
        "400\n",
        "401\n",
        "402\n",
        "403\n",
        "404"
       ]
      },
      {
       "output_type": "stream",
       "stream": "stdout",
       "text": [
        "\n",
        "405\n",
        "406"
       ]
      },
      {
       "output_type": "stream",
       "stream": "stdout",
       "text": [
        "\n",
        "407\n",
        "408\n",
        "409\n",
        "410\n",
        "411\n",
        "412\n",
        "413\n",
        "414\n",
        "415"
       ]
      },
      {
       "output_type": "stream",
       "stream": "stdout",
       "text": [
        "\n",
        "416\n",
        "417\n",
        "418"
       ]
      },
      {
       "output_type": "stream",
       "stream": "stdout",
       "text": [
        "\n",
        "419\n",
        "420\n",
        "421\n",
        "422\n",
        "423\n",
        "424"
       ]
      },
      {
       "output_type": "stream",
       "stream": "stdout",
       "text": [
        "\n",
        "425\n",
        "426\n",
        "427\n",
        "428\n",
        "429\n",
        "430\n",
        "431\n",
        "432\n",
        "433\n",
        "434\n",
        "435\n",
        "436\n",
        "437\n",
        "438\n",
        "439\n",
        "440\n",
        "441\n",
        "442\n",
        "443\n",
        "444\n",
        "445\n",
        "446"
       ]
      },
      {
       "output_type": "stream",
       "stream": "stdout",
       "text": [
        "\n",
        "447\n",
        "448\n",
        "449\n",
        "450\n",
        "451\n",
        "452\n",
        "453\n",
        "454\n",
        "455"
       ]
      },
      {
       "output_type": "stream",
       "stream": "stdout",
       "text": [
        "\n",
        "456\n",
        "457\n",
        "458"
       ]
      },
      {
       "output_type": "stream",
       "stream": "stdout",
       "text": [
        "\n",
        "459\n",
        "460\n",
        "461\n",
        "462\n",
        "463\n",
        "464\n",
        "465\n",
        "466\n",
        "467\n",
        "468"
       ]
      },
      {
       "output_type": "stream",
       "stream": "stdout",
       "text": [
        "\n",
        "469\n",
        "470\n",
        "471\n",
        "472\n",
        "473"
       ]
      },
      {
       "output_type": "stream",
       "stream": "stdout",
       "text": [
        "\n",
        "474\n",
        "475\n",
        "476\n",
        "477\n",
        "478"
       ]
      },
      {
       "output_type": "stream",
       "stream": "stdout",
       "text": [
        "\n",
        "479"
       ]
      },
      {
       "output_type": "stream",
       "stream": "stdout",
       "text": [
        "\n",
        "480\n",
        "481\n",
        "482\n",
        "483\n",
        "484\n",
        "485\n",
        "486\n",
        "487"
       ]
      },
      {
       "output_type": "stream",
       "stream": "stdout",
       "text": [
        "\n",
        "488\n",
        "489\n",
        "490\n",
        "491"
       ]
      },
      {
       "output_type": "stream",
       "stream": "stdout",
       "text": [
        "\n",
        "492\n",
        "493\n",
        "494\n",
        "495\n",
        "496\n",
        "497\n",
        "498\n",
        "499\n",
        "500\n",
        "501"
       ]
      },
      {
       "output_type": "stream",
       "stream": "stdout",
       "text": [
        "\n",
        "502\n",
        "503"
       ]
      },
      {
       "output_type": "stream",
       "stream": "stdout",
       "text": [
        "\n",
        "504\n",
        "505\n",
        "506\n",
        "507\n",
        "508\n",
        "509\n",
        "510\n",
        "511\n",
        "512\n",
        "513\n",
        "514\n",
        "515\n",
        "516\n",
        "517\n",
        "518\n",
        "519\n",
        "520\n",
        "521\n",
        "522"
       ]
      },
      {
       "output_type": "stream",
       "stream": "stdout",
       "text": [
        "\n",
        "523\n",
        "524\n",
        "525\n",
        "526\n",
        "527\n",
        "528\n",
        "529\n",
        "530\n",
        "531\n",
        "532\n",
        "533\n",
        "534\n",
        "535\n",
        "536\n",
        "537\n",
        "538\n",
        "539\n",
        "540\n",
        "541\n",
        "542\n",
        "543"
       ]
      },
      {
       "output_type": "stream",
       "stream": "stdout",
       "text": [
        "\n",
        "544\n",
        "545"
       ]
      },
      {
       "output_type": "stream",
       "stream": "stdout",
       "text": [
        "\n",
        "546\n",
        "547\n",
        "548\n",
        "549\n",
        "550"
       ]
      },
      {
       "output_type": "stream",
       "stream": "stdout",
       "text": [
        "\n",
        "551\n",
        "552\n",
        "553"
       ]
      },
      {
       "output_type": "stream",
       "stream": "stdout",
       "text": [
        "\n",
        "554\n",
        "555\n",
        "556\n",
        "557\n",
        "558"
       ]
      },
      {
       "output_type": "stream",
       "stream": "stdout",
       "text": [
        "\n",
        "559"
       ]
      },
      {
       "output_type": "stream",
       "stream": "stdout",
       "text": [
        "\n",
        "560\n",
        "561\n",
        "562\n",
        "563\n",
        "564\n",
        "565\n",
        "566\n",
        "567\n",
        "568\n",
        "569\n",
        "570\n",
        "571\n",
        "572"
       ]
      },
      {
       "output_type": "stream",
       "stream": "stdout",
       "text": [
        "\n",
        "573\n",
        "574\n",
        "575\n",
        "576\n",
        "577\n",
        "578\n",
        "579\n",
        "580"
       ]
      },
      {
       "output_type": "stream",
       "stream": "stdout",
       "text": [
        "\n",
        "581\n",
        "582\n",
        "583\n",
        "584\n",
        "585\n",
        "586\n",
        "587\n",
        "588\n",
        "589"
       ]
      },
      {
       "output_type": "stream",
       "stream": "stdout",
       "text": [
        "\n",
        "590\n",
        "591\n",
        "592\n",
        "593\n",
        "594\n",
        "595\n",
        "596\n",
        "597"
       ]
      },
      {
       "output_type": "stream",
       "stream": "stdout",
       "text": [
        "\n",
        "598\n",
        "599\n",
        "600\n",
        "601\n",
        "602\n",
        "603\n",
        "604\n",
        "605\n",
        "606\n",
        "607\n",
        "608\n",
        "609\n",
        "610\n",
        "611"
       ]
      },
      {
       "output_type": "stream",
       "stream": "stdout",
       "text": [
        "\n",
        "612\n",
        "613\n",
        "614\n",
        "615\n",
        "616\n",
        "617\n",
        "618\n",
        "619\n",
        "620\n",
        "621\n",
        "622\n",
        "623\n",
        "624\n",
        "625\n",
        "626\n",
        "627"
       ]
      },
      {
       "output_type": "stream",
       "stream": "stdout",
       "text": [
        "\n",
        "628\n",
        "629\n",
        "630\n",
        "631\n",
        "632\n",
        "633\n",
        "634\n",
        "635\n",
        "636"
       ]
      },
      {
       "output_type": "stream",
       "stream": "stdout",
       "text": [
        "\n",
        "637\n",
        "638\n",
        "639"
       ]
      },
      {
       "output_type": "stream",
       "stream": "stdout",
       "text": [
        "\n",
        "640\n",
        "641\n",
        "642\n",
        "643\n",
        "644\n",
        "645"
       ]
      },
      {
       "output_type": "stream",
       "stream": "stdout",
       "text": [
        "\n",
        "646\n",
        "647\n",
        "648\n",
        "649\n",
        "650\n",
        "651\n",
        "652\n",
        "653\n",
        "654\n",
        "655\n",
        "656\n",
        "657\n",
        "658\n",
        "659"
       ]
      },
      {
       "output_type": "stream",
       "stream": "stdout",
       "text": [
        "\n",
        "660\n",
        "661\n",
        "662\n",
        "663\n",
        "664\n",
        "665\n",
        "666\n",
        "667"
       ]
      },
      {
       "output_type": "stream",
       "stream": "stdout",
       "text": [
        "\n",
        "668\n",
        "669\n",
        "670"
       ]
      },
      {
       "output_type": "stream",
       "stream": "stdout",
       "text": [
        "\n",
        "671\n",
        "672\n",
        "673\n",
        "674\n",
        "675\n",
        "676"
       ]
      },
      {
       "output_type": "stream",
       "stream": "stdout",
       "text": [
        "\n",
        "677\n",
        "678\n",
        "679\n",
        "680\n",
        "681\n",
        "682\n",
        "683\n",
        "684\n",
        "685\n",
        "686"
       ]
      },
      {
       "output_type": "stream",
       "stream": "stdout",
       "text": [
        "\n",
        "687\n",
        "688\n",
        "689\n",
        "690\n",
        "691\n",
        "692"
       ]
      },
      {
       "output_type": "stream",
       "stream": "stdout",
       "text": [
        "\n",
        "693\n",
        "694"
       ]
      },
      {
       "output_type": "stream",
       "stream": "stdout",
       "text": [
        "\n",
        "695\n",
        "696\n",
        "697\n",
        "698\n",
        "699\n",
        "700\n",
        "701\n",
        "702\n",
        "703\n",
        "704\n",
        "705\n",
        "706\n",
        "707\n",
        "708\n",
        "709"
       ]
      },
      {
       "output_type": "stream",
       "stream": "stdout",
       "text": [
        "\n",
        "710\n",
        "711\n",
        "712\n",
        "713\n",
        "714\n",
        "715\n",
        "716\n",
        "717\n",
        "718\n",
        "719\n",
        "720\n",
        "721\n",
        "722"
       ]
      },
      {
       "output_type": "stream",
       "stream": "stdout",
       "text": [
        "\n",
        "723\n",
        "724\n",
        "725\n",
        "726\n",
        "727\n",
        "728\n",
        "729\n",
        "730"
       ]
      },
      {
       "output_type": "stream",
       "stream": "stdout",
       "text": [
        "\n",
        "731\n",
        "732"
       ]
      },
      {
       "output_type": "stream",
       "stream": "stdout",
       "text": [
        "\n",
        "733"
       ]
      },
      {
       "output_type": "stream",
       "stream": "stdout",
       "text": [
        "\n",
        "734\n",
        "735\n",
        "736"
       ]
      },
      {
       "output_type": "stream",
       "stream": "stdout",
       "text": [
        "\n",
        "737\n",
        "738\n",
        "739\n",
        "740\n",
        "741"
       ]
      },
      {
       "output_type": "stream",
       "stream": "stdout",
       "text": [
        "\n",
        "742\n",
        "743\n",
        "744\n",
        "745\n",
        "746\n",
        "747\n",
        "748\n",
        "749"
       ]
      },
      {
       "output_type": "stream",
       "stream": "stdout",
       "text": [
        "\n",
        "750\n",
        "751\n",
        "752\n",
        "753"
       ]
      },
      {
       "output_type": "stream",
       "stream": "stdout",
       "text": [
        "\n",
        "754\n",
        "755\n",
        "756\n",
        "757\n",
        "758\n",
        "759\n",
        "760\n",
        "761\n",
        "762\n",
        "763"
       ]
      },
      {
       "output_type": "stream",
       "stream": "stdout",
       "text": [
        "\n",
        "764"
       ]
      },
      {
       "output_type": "stream",
       "stream": "stdout",
       "text": [
        "\n",
        "765\n",
        "766\n",
        "767\n",
        "768\n",
        "769\n",
        "770\n",
        "771\n",
        "772\n",
        "773\n",
        "774"
       ]
      },
      {
       "output_type": "stream",
       "stream": "stdout",
       "text": [
        "\n",
        "775\n",
        "776\n",
        "777"
       ]
      },
      {
       "output_type": "stream",
       "stream": "stdout",
       "text": [
        "\n",
        "778\n",
        "779\n",
        "780\n",
        "781\n",
        "782"
       ]
      },
      {
       "output_type": "stream",
       "stream": "stdout",
       "text": [
        "\n",
        "783\n",
        "784\n",
        "785\n",
        "786\n",
        "787\n",
        "788\n",
        "789\n",
        "790"
       ]
      },
      {
       "output_type": "stream",
       "stream": "stdout",
       "text": [
        "\n",
        "791\n",
        "792\n",
        "793"
       ]
      },
      {
       "output_type": "stream",
       "stream": "stdout",
       "text": [
        "\n",
        "794"
       ]
      },
      {
       "output_type": "stream",
       "stream": "stdout",
       "text": [
        "\n",
        "795\n",
        "796\n",
        "797\n",
        "798\n",
        "799"
       ]
      },
      {
       "output_type": "stream",
       "stream": "stdout",
       "text": [
        "\n",
        "800\n",
        "801\n",
        "802\n",
        "803\n",
        "804\n",
        "805\n",
        "806\n",
        "807\n",
        "808\n",
        "809\n",
        "810\n",
        "811\n",
        "812\n",
        "813\n",
        "814\n",
        "815\n",
        "816\n",
        "817\n",
        "818"
       ]
      },
      {
       "output_type": "stream",
       "stream": "stdout",
       "text": [
        "\n",
        "819\n",
        "820\n",
        "821"
       ]
      },
      {
       "output_type": "stream",
       "stream": "stdout",
       "text": [
        "\n",
        "822"
       ]
      },
      {
       "output_type": "stream",
       "stream": "stdout",
       "text": [
        "\n",
        "823"
       ]
      },
      {
       "output_type": "stream",
       "stream": "stdout",
       "text": [
        "\n",
        "824"
       ]
      },
      {
       "output_type": "stream",
       "stream": "stdout",
       "text": [
        "\n",
        "825\n",
        "826\n",
        "827\n",
        "828"
       ]
      },
      {
       "output_type": "stream",
       "stream": "stdout",
       "text": [
        "\n",
        "829\n",
        "830\n",
        "831\n",
        "832\n",
        "833\n",
        "834\n",
        "835\n",
        "836\n",
        "837\n",
        "838"
       ]
      },
      {
       "output_type": "stream",
       "stream": "stdout",
       "text": [
        "\n",
        "839\n",
        "840\n",
        "841\n",
        "842\n",
        "843"
       ]
      },
      {
       "output_type": "stream",
       "stream": "stdout",
       "text": [
        "\n",
        "844\n",
        "845\n",
        "846\n",
        "847\n",
        "848\n",
        "849\n",
        "850\n",
        "851\n",
        "852\n",
        "853\n",
        "854\n",
        "855\n",
        "856"
       ]
      },
      {
       "output_type": "stream",
       "stream": "stdout",
       "text": [
        "\n",
        "857\n",
        "858"
       ]
      },
      {
       "output_type": "stream",
       "stream": "stdout",
       "text": [
        "\n",
        "859\n",
        "860\n",
        "861\n",
        "862\n",
        "863\n",
        "864\n",
        "865\n",
        "866\n",
        "867\n",
        "868\n",
        "869\n",
        "870\n",
        "871\n",
        "872\n",
        "873\n",
        "874\n",
        "875\n",
        "876\n",
        "877\n",
        "878\n",
        "879"
       ]
      },
      {
       "output_type": "stream",
       "stream": "stdout",
       "text": [
        "\n",
        "880\n",
        "881\n",
        "882\n",
        "883\n",
        "884\n",
        "885\n",
        "886\n",
        "887\n",
        "888\n",
        "889\n",
        "890\n",
        "891\n",
        "892\n",
        "893\n",
        "894\n",
        "895\n",
        "896\n",
        "897"
       ]
      },
      {
       "output_type": "stream",
       "stream": "stdout",
       "text": [
        "\n",
        "898\n",
        "899\n",
        "900\n",
        "901\n",
        "902\n",
        "903\n",
        "904\n",
        "905\n",
        "906\n",
        "907\n",
        "908"
       ]
      },
      {
       "output_type": "stream",
       "stream": "stdout",
       "text": [
        "\n",
        "909\n",
        "910\n",
        "911\n",
        "912"
       ]
      },
      {
       "output_type": "stream",
       "stream": "stdout",
       "text": [
        "\n",
        "913\n",
        "914\n",
        "915\n",
        "916\n",
        "917\n",
        "918\n",
        "919\n",
        "920"
       ]
      },
      {
       "output_type": "stream",
       "stream": "stdout",
       "text": [
        "\n",
        "921\n",
        "922\n",
        "923\n",
        "924\n",
        "925\n",
        "926"
       ]
      },
      {
       "output_type": "stream",
       "stream": "stdout",
       "text": [
        "\n",
        "927\n",
        "928\n",
        "929\n",
        "930\n",
        "931\n",
        "932"
       ]
      },
      {
       "output_type": "stream",
       "stream": "stdout",
       "text": [
        "\n",
        "933\n",
        "934\n",
        "935\n",
        "936\n",
        "937\n",
        "938\n",
        "939\n",
        "940\n",
        "941\n",
        "942\n",
        "943\n",
        "944\n",
        "945\n",
        "946"
       ]
      },
      {
       "output_type": "stream",
       "stream": "stdout",
       "text": [
        "\n",
        "947\n",
        "948\n",
        "949\n",
        "950\n",
        "951\n",
        "952\n",
        "953\n",
        "954\n",
        "955"
       ]
      },
      {
       "output_type": "stream",
       "stream": "stdout",
       "text": [
        "\n",
        "956\n",
        "957\n",
        "958\n",
        "959\n",
        "960\n",
        "961\n",
        "962\n",
        "963\n",
        "964"
       ]
      },
      {
       "output_type": "stream",
       "stream": "stdout",
       "text": [
        "\n",
        "965\n",
        "966\n",
        "967\n",
        "968"
       ]
      },
      {
       "output_type": "stream",
       "stream": "stdout",
       "text": [
        "\n",
        "969\n",
        "970\n",
        "971\n",
        "972\n",
        "973\n",
        "974\n",
        "975\n",
        "976\n",
        "977\n",
        "978\n",
        "979"
       ]
      },
      {
       "output_type": "stream",
       "stream": "stdout",
       "text": [
        "\n",
        "980\n",
        "981\n",
        "982\n",
        "983\n",
        "984\n",
        "985\n",
        "986\n",
        "987\n",
        "988"
       ]
      },
      {
       "output_type": "stream",
       "stream": "stdout",
       "text": [
        "\n",
        "989\n",
        "990\n",
        "991\n",
        "992\n",
        "993\n",
        "994\n",
        "995\n",
        "996"
       ]
      },
      {
       "output_type": "stream",
       "stream": "stdout",
       "text": [
        "\n",
        "997\n",
        "998"
       ]
      },
      {
       "output_type": "stream",
       "stream": "stdout",
       "text": [
        "\n",
        "999\n",
        "1000\n"
       ]
      }
     ],
     "prompt_number": 100
    },
    {
     "cell_type": "code",
     "collapsed": false,
     "input": [],
     "language": "python",
     "metadata": {},
     "outputs": []
    },
    {
     "cell_type": "code",
     "collapsed": false,
     "input": [
      "#Compare two star ratings for similarity\n",
      "\n",
      "def compare_stars(star1,star2):\n",
      "    if(abs(star1-star2)==0 or abs(star1-star2)==1): return True\n",
      "    else: return False\n"
     ],
     "language": "python",
     "metadata": {},
     "outputs": [],
     "prompt_number": 101
    },
    {
     "cell_type": "code",
     "collapsed": false,
     "input": [
      "compare_stars(3,3)"
     ],
     "language": "python",
     "metadata": {},
     "outputs": [
      {
       "metadata": {},
       "output_type": "pyout",
       "prompt_number": 12,
       "text": [
        "True"
       ]
      }
     ],
     "prompt_number": 12
    },
    {
     "cell_type": "code",
     "collapsed": false,
     "input": [
      "#Code to compute some statistics\n",
      "total_reviews = 0  #Total no of reviews taken into consideration\n",
      "total_inf_reviews = 0 #Total no of reviews influenced by friends(i.e: similar stars +/- 1)\n",
      "per_user_stat = {}\n",
      "for i in range(len(user_stat)):\n",
      "    per_inf_rev = 0 #Total no of reviews inf per user\n",
      "    \n",
      "    curr_inf_map = user_stat[i].inf_map\n",
      "    curr_uid = user_stat[i].user_id\n",
      "    curr_user_frnds = user_data['friends'][curr_uid-1]\n",
      "    total_reviews = total_reviews + len(curr_inf_map)\n",
      "    for curr_review in curr_inf_map.keys():\n",
      "        #print \"no of friends constributing-,\",len(friends_reviews)\n",
      "        curr_stars = review_data['stars'][curr_review-1] #curr user's rating\n",
      "        friends_reviews = curr_inf_map[curr_review] #list of reviews made by his friends in T-1\n",
      "                \n",
      "        for f_review in friends_reviews:\n",
      "            f_stars = review_data['stars'][f_review-1] #friends's rating\n",
      "            if(compare_stars(int(curr_stars),int(f_stars))): \n",
      "                per_inf_rev = per_inf_rev + 1\n",
      "                total_inf_reviews = total_inf_reviews + 1\n",
      "                break\n",
      "    per_user_stat[user_stat[i]] = (len(curr_inf_map),per_inf_rev,len(curr_user_frnds))\n",
      "\n",
      "print \"Total no of reviews by 1000 users:\",total_reviews\n",
      "print \"Total no of reviews influenced:\",total_inf_reviews\n",
      "print \"Total no of reviews influenced by each user:\"\n",
      "for u in user_stat:\n",
      "    print \"user-\",u.user_id\n",
      "    print per_user_stat[u][0],per_user_stat[u][1],per_user_stat[u][2]"
     ],
     "language": "python",
     "metadata": {},
     "outputs": [
      {
       "output_type": "stream",
       "stream": "stdout",
       "text": [
        "Total no of reviews by 1000 users: 4502\n",
        "Total no of reviews influenced: 738\n",
        "Total no of reviews influenced by each user:\n",
        "user- 136381\n",
        "1 1 0\n",
        "user- 33562\n",
        "28 20 0\n",
        "user- 176468\n",
        "5 1 0\n",
        "user- 136380\n",
        "2 0 0\n",
        "user- 139128\n",
        "1 0 0\n",
        "user- 157073\n",
        "1 0 0\n",
        "user- 261015\n",
        "1 0 0\n",
        "user- 142231\n",
        "2 1 0\n",
        "user- 143313\n",
        "1 0 1\n",
        "user- 65500\n",
        "43 2 0\n",
        "user- 14493\n",
        "2 0 1\n",
        "user- 123483\n",
        "25 10 3\n",
        "user- 188880\n",
        "1 0 0\n",
        "user- 172699\n",
        "3 0 5\n",
        "user- 105742\n",
        "2 0 1\n",
        "user- 154547\n",
        "5 0 0\n",
        "user- 303472\n",
        "3 0 1\n",
        "user- 15147\n",
        "1 1 0\n",
        "user- 82897\n",
        "2 0 0\n",
        "user- 114350\n",
        "6 1 1\n",
        "user- 229998\n",
        "1 0 0\n",
        "user- 164921\n",
        "4 0 0\n",
        "user- 18605\n",
        "6 0 0\n",
        "user- 211463\n",
        "2 1 0\n",
        "user- 39971\n",
        "3 1 2\n",
        "user- 86201\n",
        "4 0 3\n",
        "user- 120437\n",
        "1 0 0\n",
        "user- 191014\n",
        "1 0 14\n",
        "user- 211912\n",
        "7 0 0\n",
        "user- 219568\n",
        "1 0 2\n",
        "user- 203477\n",
        "5 0 2\n",
        "user- 334096\n",
        "1 0 11\n",
        "user- 278857\n",
        "3 0 5\n",
        "user- 330541\n",
        "1 0 0\n",
        "user- 214932\n",
        "1 0 0\n",
        "user- 140776\n",
        "1 0 1\n",
        "user- 151629\n",
        "4 0 0\n",
        "user- 109769\n",
        "1 0 1\n",
        "user- 254734\n",
        "1 0 1\n",
        "user- 4640\n",
        "6 0 0\n",
        "user- 187765\n",
        "2 0 25\n",
        "user- 158683\n",
        "1 1 0\n",
        "user- 316644\n",
        "1 0 2\n",
        "user- 166123\n",
        "1 0 0\n",
        "user- 219477\n",
        "1 0 8\n",
        "user- 31302\n",
        "4 0 18\n",
        "user- 239127\n",
        "1 0 0\n",
        "user- 337878\n",
        "1 0 6\n",
        "user- 153661\n",
        "6 0 0\n",
        "user- 190254\n",
        "1 0 0\n",
        "user- 352311\n",
        "1 0 16\n",
        "user- 114586\n",
        "16 0 1\n",
        "user- 103115\n",
        "1 1 0\n",
        "user- 216797\n",
        "2 0 1\n",
        "user- 76808\n",
        "4 0 0\n",
        "user- 358810\n",
        "1 0 11\n",
        "user- 133905\n",
        "2 0 0\n",
        "user- 161536\n",
        "1 0 0\n",
        "user- 71052\n",
        "2 0 1\n",
        "user- 266410\n",
        "2 0 3\n",
        "user- 250105\n",
        "1 0 1\n",
        "user- 321744\n",
        "1 0 0\n",
        "user- 298571\n",
        "4 0 1\n",
        "user- 318606\n",
        "1 1 0\n",
        "user- 297386\n",
        "1 1 0\n",
        "user- 21056\n",
        "2 0 0\n",
        "user- 96875\n",
        "2 0 0\n",
        "user- 40324\n",
        "1 0 1\n",
        "user- 333686\n",
        "1 0 0\n",
        "user- 119254\n",
        "2 0 1\n",
        "user- 88564\n",
        "6 0 0\n",
        "user- 85437\n",
        "1 0 0\n",
        "user- 42237\n",
        "1 0 4\n",
        "user- 282540\n",
        "1 0 76\n",
        "user- 305446\n",
        "1 0 0\n",
        "user- 241071\n",
        "11 0 0\n",
        "user- 333042\n",
        "1 0 2\n",
        "user- 174353\n",
        "3 0 0\n",
        "user- 345665\n",
        "1 0 0\n",
        "user- 178528\n",
        "3 0 20\n",
        "user- 243532\n",
        "1 0 12\n",
        "user- 335238\n",
        "1 0 3\n",
        "user- 191900\n",
        "4 0 0\n",
        "user- 119078\n",
        "1 0 0\n",
        "user- 100646\n",
        "1 0 4\n",
        "user- 22893\n",
        "3 0 0\n",
        "user- 353254\n",
        "1 0 3\n",
        "user- 266027\n",
        "1 0 1\n",
        "user- 244446\n",
        "1 0 0\n",
        "user- 313271\n",
        "1 0 0\n",
        "user- 214917\n",
        "1 0 0\n",
        "user- 137766\n",
        "1 0 4\n",
        "user- 203892\n",
        "1 0 1\n",
        "user- 119716\n",
        "1 0 0\n",
        "user- 24926\n",
        "15 5 1\n",
        "user- 316601\n",
        "1 0 1\n",
        "user- 310420\n",
        "1 0 0\n",
        "user- 879\n",
        "49 13 0\n",
        "user- 212087\n",
        "1 0 26\n",
        "user- 150040\n",
        "3 1 284\n",
        "user- 165228\n",
        "12 6 0\n",
        "user- 334968\n",
        "1 0 1\n",
        "user- 220537\n",
        "1 0 0\n",
        "user- 186317\n",
        "1 0 0\n",
        "user- 239195\n",
        "1 0 0\n",
        "user- 189403\n",
        "1 0 0\n",
        "user- 107205\n",
        "1 0 0\n",
        "user- 159742\n",
        "1 0 8\n",
        "user- 116591\n",
        "39 26 5\n",
        "user- 298745\n",
        "2 0 1\n",
        "user- 211124\n",
        "1 0 3\n",
        "user- 317961\n",
        "2 0 2\n",
        "user- 39964\n",
        "1 0 0\n",
        "user- 346574\n",
        "1 1 0\n",
        "user- 305259\n",
        "1 0 1\n",
        "user- 81404\n",
        "1 0 22\n",
        "user- 171701\n",
        "2 0 1\n",
        "user- 325094\n",
        "1 0 0\n",
        "user- 228491\n",
        "3 0 0\n",
        "user- 32261\n",
        "5 0 1\n",
        "user- 268229\n",
        "1 0 0\n",
        "user- 192988\n",
        "1 0 0\n",
        "user- 225422\n",
        "1 0 0\n",
        "user- 127058\n",
        "17 2 0\n",
        "user- 114553\n",
        "3 0 0\n",
        "user- 139640\n",
        "5 0 4\n",
        "user- 78480\n",
        "4 1 0\n",
        "user- 186071\n",
        "5 1 0\n",
        "user- 315212\n",
        "2 0 0\n",
        "user- 97105\n",
        "5 0 0\n",
        "user- 204311\n",
        "3 0 0\n",
        "user- 363946\n",
        "1 0 1\n",
        "user- 350860\n",
        "1 0 0\n",
        "user- 186716\n",
        "2 0 0\n",
        "user- 49750\n",
        "6 0 0\n",
        "user- 22468\n",
        "11 0 8\n",
        "user- 339365\n",
        "1 0 0\n",
        "user- 218667\n",
        "1 0 3\n",
        "user- 106895\n",
        "5 0 3\n",
        "user- 270146\n",
        "1 0 7\n",
        "user- 76472\n",
        "1 0 0\n",
        "user- 234795\n",
        "1 0 4\n",
        "user- 317584\n",
        "1 0 0\n",
        "user- 339794\n",
        "1 0 15\n",
        "user- 151356\n",
        "1 0 1\n",
        "user- 199171\n",
        "1 0 13\n",
        "user- 87167\n",
        "2 0 0\n",
        "user- 25972\n",
        "2 0 7\n",
        "user- 215555\n",
        "1 0 0\n",
        "user- 326347\n",
        "1 0 0\n",
        "user- 254519\n",
        "1 1 0\n",
        "user- 263889\n",
        "2 0 0\n",
        "user- 7622\n",
        "10 9 2\n",
        "user- 268258\n",
        "1 0 12\n",
        "user- 362103\n",
        "1 0 0\n",
        "user- 292152\n",
        "2 0 1\n",
        "user- 193008\n",
        "1 0 0\n",
        "user- 271137\n",
        "1 0 0\n",
        "user- 143219\n",
        "2 0 62\n",
        "user- 306812\n",
        "1 0 6\n",
        "user- 263151\n",
        "1 0 0\n",
        "user- 60537\n",
        "2 0 0\n",
        "user- 29402\n",
        "1 0 2\n",
        "user- 54735\n",
        "3 0 1\n",
        "user- 61442\n",
        "4 0 1\n",
        "user- 230136\n",
        "1 0 13\n",
        "user- 243289\n",
        "6 0 5\n",
        "user- 314621\n",
        "2 0 0\n",
        "user- 355430\n",
        "1 0 0\n",
        "user- 79093\n",
        "2 0 0\n",
        "user- 134079\n",
        "2 0 1\n",
        "user- 263512\n",
        "1 0 0\n",
        "user- 239672\n",
        "1 0 30\n",
        "user- 271696\n",
        "2 0 0\n",
        "user- 169385\n",
        "1 0 0\n",
        "user- 352156\n",
        "1 0 2\n",
        "user- 157703\n",
        "1 0 1\n",
        "user- 195513\n",
        "1 0 0\n",
        "user- 103291\n",
        "4 0 1\n",
        "user- 139741\n",
        "11 2 10\n",
        "user- 116154\n",
        "4 0 2\n",
        "user- 132261\n",
        "13 7 11\n",
        "user- 57945\n",
        "60 3 3\n",
        "user- 8495\n",
        "17 0 1\n",
        "user- 168598\n",
        "2 0 22\n",
        "user- 250645\n",
        "1 1 0\n",
        "user- 28280\n",
        "4 0 15\n",
        "user- 357593\n",
        "1 0 6\n",
        "user- 164868\n",
        "2 0 2\n",
        "user- 104244\n",
        "1 0 0\n",
        "user- 35958\n",
        "4 1 0\n",
        "user- 160870\n",
        "1 0 0\n",
        "user- 123185\n",
        "9 0 0\n",
        "user- 68809\n",
        "11 0 34\n",
        "user- 39233\n",
        "152 85 36\n",
        "user- 167776\n",
        "4 0 1\n",
        "user- 11087\n",
        "2 0 0\n",
        "user- 167441\n",
        "2 0 1361\n",
        "user- 12856\n",
        "2 2 4\n",
        "user- 195873\n",
        "1 0 0\n",
        "user- 340275\n",
        "2 0 0\n",
        "user- 121630\n",
        "1 0 5\n",
        "user- 218606\n",
        "1 0 0\n",
        "user- 47489\n",
        "1 0 0\n",
        "user- 50884\n",
        "2 0 0\n",
        "user- 340079\n",
        "2 0 0\n",
        "user- 3436\n",
        "36 20 0\n",
        "user- 4862\n",
        "1 0 0\n",
        "user- 32237\n",
        "5 0 2\n",
        "user- 351469\n",
        "1 0 0\n",
        "user- 21777\n",
        "46 0 76\n",
        "user- 140202\n",
        "3 0 2\n",
        "user- 2513\n",
        "1 0 0\n",
        "user- 298910\n",
        "1 0 1\n",
        "user- 48825\n",
        "11 0 0\n",
        "user- 208617\n",
        "4 0 1\n",
        "user- 319324\n",
        "4 0 0\n",
        "user- 38735\n",
        "2 0 4\n",
        "user- 18682\n",
        "3 0 19\n",
        "user- 36227\n",
        "1 0 0\n",
        "user- 72888\n",
        "28 0 0\n",
        "user- 102730\n",
        "2 0 4\n",
        "user- 186636\n",
        "5 0 0\n",
        "user- 103197\n",
        "3 0 1\n",
        "user- 304719\n",
        "1 0 0\n",
        "user- 114000\n",
        "1 0 4\n",
        "user- 4784\n",
        "4 1 0\n",
        "user- 355011\n",
        "1 0 0\n",
        "user- 187863\n",
        "1 0 26\n",
        "user- 61498\n",
        "10 0 0\n",
        "user- 349012\n",
        "1 0 1\n",
        "user- 294685\n",
        "1 0 0\n",
        "user- 114231\n",
        "7 0 1\n",
        "user- 176810\n",
        "5 0 0\n",
        "user- 234780\n",
        "1 0 0\n",
        "user- 190415\n",
        "4 0 0\n",
        "user- 38261\n",
        "9 0 0\n",
        "user- 145750\n",
        "1 0 24\n",
        "user- 365246\n",
        "1 0 7\n",
        "user- 113869\n",
        "1 0 0\n",
        "user- 318198\n",
        "1 0 0\n",
        "user- 18742\n",
        "1 0 198\n",
        "user- 23993\n",
        "4 0 2\n",
        "user- 132613\n",
        "1 0 96\n",
        "user- 314788\n",
        "1 0 0\n",
        "user- 126985\n",
        "1 0 0\n",
        "user- 202038\n",
        "1 0 2\n",
        "user- 335027\n",
        "2 0 6\n",
        "user- 150800\n",
        "2 0 1\n",
        "user- 330004\n",
        "1 0 0\n",
        "user- 292830\n",
        "1 0 0\n",
        "user- 103895\n",
        "1 0 10\n",
        "user- 193498\n",
        "2 0 0\n",
        "user- 195720\n",
        "1 0 0\n",
        "user- 363012\n",
        "1 0 1\n",
        "user- 162925\n",
        "3 0 3\n",
        "user- 66920\n",
        "12 0 19\n",
        "user- 275061\n",
        "3 0 0\n",
        "user- 364894\n",
        "1 0 0\n",
        "user- 312896\n",
        "1 0 4\n",
        "user- 359920\n",
        "1 0 0\n",
        "user- 307314\n",
        "1 0 120\n",
        "user- 357308\n",
        "1 0 0\n",
        "user- 125796\n",
        "5 0 0\n",
        "user- 268343\n",
        "1 0 0\n",
        "user- 83529\n",
        "2 0 0\n",
        "user- 53037\n",
        "3 0 0\n",
        "user- 194109\n",
        "1 0 0\n",
        "user- 165342\n",
        "1 0 0\n",
        "user- 142566\n",
        "2 0 0\n",
        "user- 257764\n",
        "1 0 0\n",
        "user- 365837\n",
        "1 0 0\n",
        "user- 310515\n",
        "1 0 0\n",
        "user- 22280\n",
        "5 0 5\n",
        "user- 22252\n",
        "3 1 28\n",
        "user- 199289\n",
        "1 0 1\n",
        "user- 120887\n",
        "4 2 5\n",
        "user- 158205\n",
        "2 2 0\n",
        "user- 273743\n",
        "1 0 3\n",
        "user- 84945\n",
        "2 0 0\n",
        "user- 56519\n",
        "1 0 0\n",
        "user- 219600\n",
        "1 0 24\n",
        "user- 256372\n",
        "2 0 1\n",
        "user- 308744\n",
        "2 0 0\n",
        "user- 220152\n",
        "4 0 0\n",
        "user- 269003\n",
        "1 0 10\n",
        "user- 15189\n",
        "1 0 0\n",
        "user- 17575\n",
        "1 0 0\n",
        "user- 80395\n",
        "2 0 2\n",
        "user- 145358\n",
        "2 0 3\n",
        "user- 170966\n",
        "2 0 235\n",
        "user- 264077\n",
        "1 0 1\n",
        "user- 73422\n",
        "2 0 3\n",
        "user- 78865\n",
        "1 0 3\n",
        "user- 107129\n",
        "3 0 0\n",
        "user- 249957\n",
        "1 0 14\n",
        "user- 308379\n",
        "1 0 16\n",
        "user- 345256\n",
        "1 0 2\n",
        "user- 173019\n",
        "2 0 11\n",
        "user- 195542\n",
        "1 0 0\n",
        "user- 106932\n",
        "3 0 0\n",
        "user- 59422\n",
        "6 0 36\n",
        "user- 323298\n",
        "1 0 1\n",
        "user- 151331\n",
        "2 0 0\n",
        "user- 365264\n",
        "1 0 8\n",
        "user- 135666\n",
        "2 0 0\n",
        "user- 114782\n",
        "6 0 12\n",
        "user- 41065\n",
        "19 0 1\n",
        "user- 54787\n",
        "3 0 2\n",
        "user- 133550\n",
        "1 0 0\n",
        "user- 311345\n",
        "1 0 0\n",
        "user- 97118\n",
        "1 0 5\n",
        "user- 87020\n",
        "7 1 1\n",
        "user- 266048\n",
        "1 0 0\n",
        "user- 134948\n",
        "17 0 1\n",
        "user- 217145\n",
        "2 0 0\n",
        "user- 165041\n",
        "3 0 4\n",
        "user- 227055\n",
        "2 0 0\n",
        "user- 43683\n",
        "14 0 0\n",
        "user- 33758\n",
        "72 10 1\n",
        "user- 355771\n",
        "1 0 2\n",
        "user- 69440\n",
        "11 0 4\n",
        "user- 276109\n",
        "3 0 0\n",
        "user- 25333\n",
        "3 0 7\n",
        "user- 306356\n",
        "1 0 0\n",
        "user- 113738\n",
        "7 0 1\n",
        "user- 324765\n",
        "1 0 3\n",
        "user- 272435\n",
        "3 0 1\n",
        "user- 255163\n",
        "2 0 0\n",
        "user- 181669\n",
        "3 0 10\n",
        "user- 44650\n",
        "1 0 8\n",
        "user- 119597\n",
        "9 0 1\n",
        "user- 358519\n",
        "1 0 2\n",
        "user- 333380\n",
        "1 0 97\n",
        "user- 232550\n",
        "5 0 0\n",
        "user- 184324\n",
        "1 0 4\n",
        "user- 325930\n",
        "1 0 0\n",
        "user- 333766\n",
        "1 0 10\n",
        "user- 339962\n",
        "1 0 11\n",
        "user- 105451\n",
        "2 0 0\n",
        "user- 55935\n",
        "5 0 1\n",
        "user- 115007\n",
        "7 2 1\n",
        "user- 185438\n",
        "10 0 1\n",
        "user- 350126\n",
        "1 0 1\n",
        "user- 342231\n",
        "1 0 0\n",
        "user- 25731\n",
        "2 0 0\n",
        "user- 204962\n",
        "1 0 2\n",
        "user- 262033\n",
        "2 0 0\n",
        "user- 278124\n",
        "1 0 1\n",
        "user- 31846\n",
        "2 0 62\n",
        "user- 363202\n",
        "1 0 0\n",
        "user- 187067\n",
        "1 0 2\n",
        "user- 299841\n",
        "1 0 1\n",
        "user- 253106\n",
        "3 0 2\n",
        "user- 195823\n",
        "2 0 7\n",
        "user- 164734\n",
        "1 0 1\n",
        "user- 350092\n",
        "2 0 0\n",
        "user- 283776\n",
        "1 0 1\n",
        "user- 324994\n",
        "1 0 0\n",
        "user- 314650\n",
        "1 0 0\n",
        "user- 155867\n",
        "5 0 36\n",
        "user- 183963\n",
        "1 0 7\n",
        "user- 358950\n",
        "1 0 0\n",
        "user- 113811\n",
        "1 0 12\n",
        "user- 117385\n",
        "8 0 0\n",
        "user- 138339\n",
        "9 0 0\n",
        "user- 168399\n",
        "1 0 0\n",
        "user- 251732\n",
        "1 0 0\n",
        "user- 287375\n",
        "1 0 2\n",
        "user- 273849\n",
        "2 0 0\n",
        "user- 35373\n",
        "10 0 2\n",
        "user- 160274\n",
        "2 0 0\n",
        "user- 75445\n",
        "11 4 1\n",
        "user- 156599\n",
        "6 1 0\n",
        "user- 95748\n",
        "5 2 27\n",
        "user- 153935\n",
        "1 0 2\n",
        "user- 270842\n",
        "2 0 2\n",
        "user- 211082\n",
        "1 1 0\n",
        "user- 192270\n",
        "1 0 0\n",
        "user- 242412\n",
        "1 0 0\n",
        "user- 196696\n",
        "1 1 0\n",
        "user- 7016\n",
        "1 0 0\n",
        "user- 103120\n",
        "1 0 1\n",
        "user- 185453\n",
        "3 0 12\n",
        "user- 114690\n",
        "14 2 7\n",
        "user- 12010\n",
        "1 0 0\n",
        "user- 193142\n",
        "1 0 4\n",
        "user- 284795\n",
        "1 0 0\n",
        "user- 353207\n",
        "1 0 0\n",
        "user- 56778\n",
        "14 1 81\n",
        "user- 185423\n",
        "1 0 0\n",
        "user- 91415\n",
        "1 0 0\n",
        "user- 186521\n",
        "1 0 1\n",
        "user- 88522\n",
        "11 0 0\n",
        "user- 297462\n",
        "1 0 1\n",
        "user- 200050\n",
        "2 0 0\n",
        "user- 122850\n",
        "3 0 2\n",
        "user- 142278\n",
        "4 0 0\n",
        "user- 303214\n",
        "1 0 16\n",
        "user- 285700\n",
        "1 0 7\n",
        "user- 140035\n",
        "2 0 0\n",
        "user- 37967\n",
        "2 0 3\n",
        "user- 190839\n",
        "2 0 1\n",
        "user- 128505\n",
        "5 0 13\n",
        "user- 176766\n",
        "10 2 10\n",
        "user- 192381\n",
        "9 0 0\n",
        "user- 119302\n",
        "12 2 1\n",
        "user- 309205\n",
        "1 0 1\n",
        "user- 102567\n",
        "1 0 0\n",
        "user- 221692\n",
        "3 0 1\n",
        "user- 36175\n",
        "1 0 0\n",
        "user- 335610\n",
        "1 0 0\n",
        "user- 157663\n",
        "1 0 4\n",
        "user- 140191\n",
        "3 0 2\n",
        "user- 83697\n",
        "3 0 4\n",
        "user- 26418\n",
        "90 1 0\n",
        "user- 124317\n",
        "3 0 0\n",
        "user- 3028\n",
        "5 0 0\n",
        "user- 64609\n",
        "10 2 0\n",
        "user- 188756\n",
        "2 0 0\n",
        "user- 118837\n",
        "6 0 0\n",
        "user- 79531\n",
        "5 0 2\n",
        "user- 138524\n",
        "1 0 1\n",
        "user- 338666\n",
        "1 0 0\n",
        "user- 39941\n",
        "6 2 3\n",
        "user- 307281\n",
        "1 0 2\n",
        "user- 214910\n",
        "2 0 0\n",
        "user- 226971\n",
        "1 0 0\n",
        "user- 340566\n",
        "1 0 1\n",
        "user- 29734\n",
        "1 0 6\n",
        "user- 206342\n",
        "2 0 0\n",
        "user- 258418\n",
        "1 0 0\n",
        "user- 123369\n",
        "2 0 7\n",
        "user- 49919\n",
        "1 0 2\n",
        "user- 342976\n",
        "1 0 1\n",
        "user- 226349\n",
        "1 0 1\n",
        "user- 325403\n",
        "1 0 10\n",
        "user- 8992\n",
        "6 0 0\n",
        "user- 311518\n",
        "3 0 1\n",
        "user- 276496\n",
        "2 0 3\n",
        "user- 329643\n",
        "1 0 0\n",
        "user- 110443\n",
        "1 0 0\n",
        "user- 91179\n",
        "1 0 0\n",
        "user- 365203\n",
        "1 0 3\n",
        "user- 219443\n",
        "3 0 0\n",
        "user- 99418\n",
        "3 0 50\n",
        "user- 34300\n",
        "22 7 0\n",
        "user- 69185\n",
        "8 0 0\n",
        "user- 172345\n",
        "1 0 1\n",
        "user- 304957\n",
        "1 0 0\n",
        "user- 43555\n",
        "2 0 1\n",
        "user- 73607\n",
        "3 0 1\n",
        "user- 42507\n",
        "1 0 1\n",
        "user- 114872\n",
        "1 0 0\n",
        "user- 45634\n",
        "3 0 85\n",
        "user- 79913\n",
        "5 3 0\n",
        "user- 137740\n",
        "1 0 1\n",
        "user- 871\n",
        "1 0 3\n",
        "user- 70094\n",
        "8 1 0\n",
        "user- 252554\n",
        "1 0 1\n",
        "user- 49328\n",
        "2 0 0\n",
        "user- 12027\n",
        "7 0 5\n",
        "user- 3677\n",
        "3 0 0\n",
        "user- 68147\n",
        "2 0 0\n",
        "user- 210585\n",
        "1 0 23\n",
        "user- 250077\n",
        "1 0 0\n",
        "user- 45426\n",
        "2 0 5\n",
        "user- 60951\n",
        "3 0 49\n",
        "user- 223403\n",
        "3 0 0\n",
        "user- 214004\n",
        "1 0 2\n",
        "user- 92702\n",
        "1 0 9\n",
        "user- 191891\n",
        "1 0 0\n",
        "user- 277771\n",
        "1 1 8\n",
        "user- 54396\n",
        "6 0 0\n",
        "user- 230730\n",
        "6 1 16\n",
        "user- 279306\n",
        "2 0 0\n",
        "user- 192815\n",
        "1 0 1\n",
        "user- 346337\n",
        "1 0 0\n",
        "user- 55418\n",
        "28 5 0\n",
        "user- 238775\n",
        "2 0 1\n",
        "user- 253251\n",
        "1 1 18\n",
        "user- 342506\n",
        "2 0 16\n",
        "user- 100883\n",
        "2 0 0\n",
        "user- 178305\n",
        "2 0 116\n",
        "user- 176639\n",
        "2 0 1\n",
        "user- 102496\n",
        "1 0 0\n",
        "user- 987\n",
        "4 0 3\n",
        "user- 159618\n",
        "1 0 1\n",
        "user- 140427\n",
        "3 0 1\n",
        "user- 264022\n",
        "1 0 3\n",
        "user- 77024\n",
        "7 0 31\n",
        "user- 112566\n",
        "9 0 4\n",
        "user- 215326\n",
        "1 0 8\n",
        "user- 193713\n",
        "1 0 0\n",
        "user- 263047\n",
        "1 0 0\n",
        "user- 78790\n",
        "3 0 0\n",
        "user- 89953\n",
        "1 0 0\n",
        "user- 123942\n",
        "1 0 0\n",
        "user- 272669\n",
        "1 0 1\n",
        "user- 317232\n",
        "1 0 0\n",
        "user- 129436\n",
        "2 0 1\n",
        "user- 26820\n",
        "21 6 1\n",
        "user- 335018\n",
        "1 0 0\n",
        "user- 5941\n",
        "170 82 0\n",
        "user- 285348\n",
        "1 0 5\n",
        "user- 34374\n",
        "1 0 0\n",
        "user- 352547\n",
        "1 0 1\n",
        "user- 256054\n",
        "3 0 0\n",
        "user- 82408\n",
        "3 0 3\n",
        "user- 217148\n",
        "1 0 0\n",
        "user- 47412\n",
        "2 0 3\n",
        "user- 199353\n",
        "1 0 5\n",
        "user- 44872\n",
        "4 0 0\n",
        "user- 359755\n",
        "1 0 11\n",
        "user- 116187\n",
        "7 0 0\n",
        "user- 212932\n",
        "3 0 0\n",
        "user- 32717\n",
        "13 0 0\n",
        "user- 255283\n",
        "1 0 14\n",
        "user- 35984\n",
        "1 0 0\n",
        "user- 128851\n",
        "4 0 1\n",
        "user- 96322\n",
        "3 0 1\n",
        "user- 303523\n",
        "1 0 2\n",
        "user- 58575\n",
        "4 0 1\n",
        "user- 187833\n",
        "4 0 57\n",
        "user- 112988\n",
        "1 0 2\n",
        "user- 190913\n",
        "4 0 0\n",
        "user- 356257\n",
        "1 0 0\n",
        "user- 93768\n",
        "3 0 19\n",
        "user- 288052\n",
        "1 0 0\n",
        "user- 324107\n",
        "1 0 8\n",
        "user- 16332\n",
        "5 0 1\n",
        "user- 172333\n",
        "1 0 8\n",
        "user- 165329\n",
        "3 0 2\n",
        "user- 363041\n",
        "1 0 0\n",
        "user- 170580\n",
        "2 0 0\n",
        "user- 350962\n",
        "1 0 0\n",
        "user- 267966\n",
        "3 0 2\n",
        "user- 11562\n",
        "1 0 1\n",
        "user- 206892\n",
        "3 0 5\n",
        "user- 311919\n",
        "1 0 0\n",
        "user- 176681\n",
        "3 0 0\n",
        "user- 164164\n",
        "3 0 0\n",
        "user- 84943\n",
        "1 0 0\n",
        "user- 56224\n",
        "16 4 0\n",
        "user- 75918\n",
        "3 0 8\n",
        "user- 181558\n",
        "2 0 2\n",
        "user- 217175\n",
        "1 0 1\n",
        "user- 48868\n",
        "1 0 0\n",
        "user- 137576\n",
        "3 0 0\n",
        "user- 150563\n",
        "6 1 0\n",
        "user- 174769\n",
        "1 0 2\n",
        "user- 98074\n",
        "5 0 0\n",
        "user- 299613\n",
        "1 0 0\n",
        "user- 16283\n",
        "76 33 63\n",
        "user- 143640\n",
        "1 0 0\n",
        "user- 183080\n",
        "3 0 0\n",
        "user- 333445\n",
        "1 0 0\n",
        "user- 203019\n",
        "1 0 0\n",
        "user- 147033\n",
        "21 18 0\n",
        "user- 23985\n",
        "6 0 0\n",
        "user- 207507\n",
        "2 0 0\n",
        "user- 237438\n",
        "2 0 0\n",
        "user- 157346\n",
        "1 0 0\n",
        "user- 3268\n",
        "4 0 0\n",
        "user- 261009\n",
        "1 0 1\n",
        "user- 182633\n",
        "4 0 0\n",
        "user- 253228\n",
        "1 0 3\n",
        "user- 211143\n",
        "7 0 6\n",
        "user- 285270\n",
        "3 0 2\n",
        "user- 27152\n",
        "7 0 2\n",
        "user- 289571\n",
        "3 0 0\n",
        "user- 114771\n",
        "4 0 0\n",
        "user- 11670\n",
        "37 6 1\n",
        "user- 275352\n",
        "3 0 0\n",
        "user- 233103\n",
        "1 0 6\n",
        "user- 124703\n",
        "1 0 3\n",
        "user- 339408\n",
        "1 0 0\n",
        "user- 38520\n",
        "17 0 13\n",
        "user- 278138\n",
        "2 0 0\n",
        "user- 70217\n",
        "1 0 0\n",
        "user- 326\n",
        "4 2 6\n",
        "user- 355250\n",
        "1 0 0\n",
        "user- 60576\n",
        "5 1 3\n",
        "user- 13163\n",
        "3 0 10\n",
        "user- 103811\n",
        "3 0 0\n",
        "user- 8884\n",
        "23 0 0\n",
        "user- 32837\n",
        "3 0 0\n",
        "user- 257293\n",
        "1 0 1\n",
        "user- 292866\n",
        "1 0 1\n",
        "user- 20839\n",
        "10 0 0\n",
        "user- 261538\n",
        "1 0 0\n",
        "user- 293931\n",
        "5 0 0\n",
        "user- 359977\n",
        "1 0 0\n",
        "user- 52283\n",
        "1 0 0\n",
        "user- 100887\n",
        "2 0 0\n",
        "user- 359857\n",
        "1 0 43\n",
        "user- 101252\n",
        "1 0 0\n",
        "user- 56869\n",
        "8 0 9\n",
        "user- 114597\n",
        "1 0 3\n",
        "user- 351167\n",
        "1 0 0\n",
        "user- 99744\n",
        "3 0 1\n",
        "user- 349142\n",
        "1 0 0\n",
        "user- 86999\n",
        "1 0 0\n",
        "user- 311010\n",
        "1 0 2\n",
        "user- 323573\n",
        "1 0 3\n",
        "user- 119602\n",
        "3 0 1\n",
        "user- 200260"
       ]
      },
      {
       "output_type": "stream",
       "stream": "stdout",
       "text": [
        "\n",
        "2 0 4\n",
        "user- 158761\n",
        "2 0 1\n",
        "user- 246461\n",
        "4 0 0\n",
        "user- 330343\n",
        "1 0 0\n",
        "user- 322829\n",
        "2 0 2\n",
        "user- 359156\n",
        "1 0 65\n",
        "user- 350184\n",
        "1 0 0\n",
        "user- 316530\n",
        "5 0 10\n",
        "user- 13285\n",
        "5 0 1\n",
        "user- 246919\n",
        "1 0 0\n",
        "user- 274892\n",
        "1 0 0\n",
        "user- 130658\n",
        "2 0 0\n",
        "user- 262388\n",
        "1 0 1\n",
        "user- 329794\n",
        "1 0 5\n",
        "user- 355439\n",
        "2 0 0\n",
        "user- 345017\n",
        "1 0 0\n",
        "user- 273222\n",
        "1 0 1\n",
        "user- 323927\n",
        "1 0 0\n",
        "user- 360116\n",
        "1 0 44\n",
        "user- 354359\n",
        "1 0 0\n",
        "user- 241044\n",
        "3 0 2\n",
        "user- 333932\n",
        "2 2 0\n",
        "user- 217997\n",
        "1 0 0\n",
        "user- 313152\n",
        "2 0 0\n",
        "user- 176031\n",
        "1 0 0\n",
        "user- 182096\n",
        "2 0 0\n",
        "user- 4080\n",
        "1 0 1\n",
        "user- 45132\n",
        "2 0 0\n",
        "user- 127163\n",
        "1 0 9\n",
        "user- 114049\n",
        "3 0 8\n",
        "user- 122928\n",
        "8 6 1\n",
        "user- 280855\n",
        "1 0 3\n",
        "user- 244208\n",
        "1 0 0\n",
        "user- 38007\n",
        "21 0 0\n",
        "user- 24712\n",
        "4 0 1\n",
        "user- 101768\n",
        "1 0 0\n",
        "user- 183594\n",
        "1 0 9\n",
        "user- 253472\n",
        "2 0 0\n",
        "user- 261036\n",
        "1 0 0\n",
        "user- 346677\n",
        "1 1 1\n",
        "user- 30132\n",
        "1 0 0\n",
        "user- 29494\n",
        "1 0 0\n",
        "user- 296965\n",
        "1 0 0\n",
        "user- 147435\n",
        "3 0 0\n",
        "user- 184145\n",
        "1 0 67\n",
        "user- 285482\n",
        "1 0 0\n",
        "user- 295140\n",
        "1 0 2\n",
        "user- 81725\n",
        "3 0 0\n",
        "user- 141348\n",
        "1 0 4\n",
        "user- 33124\n",
        "3 0 0\n",
        "user- 118848\n",
        "4 0 0\n",
        "user- 36209\n",
        "6 0 3\n",
        "user- 196140\n",
        "2 0 1\n",
        "user- 44296\n",
        "8 1 1\n",
        "user- 223598\n",
        "1 0 0\n",
        "user- 69142\n",
        "3 0 0\n",
        "user- 3474\n",
        "2 0 1\n",
        "user- 157037\n",
        "1 0 0\n",
        "user- 254189\n",
        "2 0 0\n",
        "user- 37817\n",
        "4 0 0\n",
        "user- 180996\n",
        "2 0 0\n",
        "user- 338306\n",
        "1 0 0\n",
        "user- 8519\n",
        "4 0 0\n",
        "user- 192346\n",
        "2 0 0\n",
        "user- 91452\n",
        "3 0 0\n",
        "user- 322220\n",
        "1 0 0\n",
        "user- 238804\n",
        "2 0 0\n",
        "user- 148130\n",
        "2 0 0\n",
        "user- 104396\n",
        "2 0 0\n",
        "user- 355815\n",
        "1 0 0\n",
        "user- 50493\n",
        "28 2 0\n",
        "user- 252823\n",
        "1 0 0\n",
        "user- 101349\n",
        "1 0 0\n",
        "user- 250526\n",
        "1 0 0\n",
        "user- 240971\n",
        "1 0 30\n",
        "user- 317201\n",
        "2 0 0\n",
        "user- 7929\n",
        "3 0 0\n",
        "user- 76628\n",
        "4 0 1\n",
        "user- 354155\n",
        "1 0 0\n",
        "user- 73214\n",
        "2 0 3\n",
        "user- 38449\n",
        "10 0 0\n",
        "user- 159398\n",
        "2 0 1\n",
        "user- 321433\n",
        "3 0 1\n",
        "user- 162298\n",
        "2 0 2\n",
        "user- 143804\n",
        "3 0 0\n",
        "user- 223761\n",
        "1 0 0\n",
        "user- 256636\n",
        "2 1 0\n",
        "user- 152037\n",
        "8 0 0\n",
        "user- 10664\n",
        "10 4 0\n",
        "user- 184697\n",
        "4 0 0\n",
        "user- 83251\n",
        "1 0 5\n",
        "user- 260707\n",
        "1 0 0\n",
        "user- 4939\n",
        "6 0 0\n",
        "user- 251011\n",
        "1 0 0\n",
        "user- 318534\n",
        "1 0 0\n",
        "user- 347461\n",
        "1 0 1\n",
        "user- 68237\n",
        "1 0 0\n",
        "user- 8960\n",
        "1 0 1\n",
        "user- 141384\n",
        "7 0 5\n",
        "user- 52178\n",
        "2 0 1\n",
        "user- 184622\n",
        "1 0 6\n",
        "user- 85642\n",
        "1 0 0\n",
        "user- 182414\n",
        "1 0 1\n",
        "user- 34722\n",
        "18 1 5\n",
        "user- 137532\n",
        "3 0 0\n",
        "user- 202836\n",
        "6 0 104\n",
        "user- 196761\n",
        "2 0 0\n",
        "user- 238141\n",
        "3 0 12\n",
        "user- 245546\n",
        "1 0 0\n",
        "user- 318371\n",
        "1 0 0\n",
        "user- 7049\n",
        "16 0 58\n",
        "user- 271080\n",
        "2 0 0\n",
        "user- 200834\n",
        "1 0 2\n",
        "user- 279464\n",
        "1 0 0\n",
        "user- 168299\n",
        "2 0 9\n",
        "user- 268963\n",
        "1 0 0\n",
        "user- 162417\n",
        "19 6 0\n",
        "user- 353938\n",
        "1 0 0\n",
        "user- 94382\n",
        "21 0 1\n",
        "user- 290319\n",
        "1 0 0\n",
        "user- 134287\n",
        "4 0 64\n",
        "user- 364619\n",
        "1 0 1\n",
        "user- 363594\n",
        "1 0 1\n",
        "user- 255699\n",
        "1 0 0\n",
        "user- 83381\n",
        "5 0 0\n",
        "user- 46317\n",
        "1 0 0\n",
        "user- 66379\n",
        "17 11 7\n",
        "user- 12332\n",
        "11 1 0\n",
        "user- 160284\n",
        "3 0 0\n",
        "user- 147344\n",
        "1 0 0\n",
        "user- 87058\n",
        "7 1 0\n",
        "user- 308203\n",
        "1 0 3\n",
        "user- 127929\n",
        "2 0 0\n",
        "user- 62824\n",
        "4 0 0\n",
        "user- 127606\n",
        "2 0 112\n",
        "user- 53927\n",
        "19 1 1\n",
        "user- 188\n",
        "2 0 1\n",
        "user- 38100\n",
        "6 0 0\n",
        "user- 21871\n",
        "43 0 5\n",
        "user- 287939\n",
        "1 0 0\n",
        "user- 136971\n",
        "1 0 1\n",
        "user- 115322\n",
        "1 0 1\n",
        "user- 346227\n",
        "1 0 0\n",
        "user- 108010\n",
        "11 1 0\n",
        "user- 256856\n",
        "1 0 0\n",
        "user- 111482\n",
        "3 0 0\n",
        "user- 182591\n",
        "2 0 113\n",
        "user- 59253\n",
        "107 55 3\n",
        "user- 8205\n",
        "1 0 0\n",
        "user- 238048\n",
        "1 0 2\n",
        "user- 336177\n",
        "1 0 0\n",
        "user- 256347\n",
        "1 0 0\n",
        "user- 307508\n",
        "1 0 2\n",
        "user- 55359\n",
        "5 0 2\n",
        "user- 358988\n",
        "1 0 0\n",
        "user- 315443\n",
        "1 0 3\n",
        "user- 359836\n",
        "1 0 0\n",
        "user- 9623\n",
        "62 30 22\n",
        "user- 44721\n",
        "9 2 13\n",
        "user- 90710\n",
        "1 0 0\n",
        "user- 113658\n",
        "15 0 0\n",
        "user- 359690\n",
        "1 0 0\n",
        "user- 38286\n",
        "2 0 1\n",
        "user- 96\n",
        "1 0 1\n",
        "user- 216325\n",
        "1 0 7\n",
        "user- 107239\n",
        "3 0 5\n",
        "user- 152430\n",
        "4 0 3\n",
        "user- 21575\n",
        "2 0 0\n",
        "user- 33854\n",
        "15 5 37\n",
        "user- 151894\n",
        "2 0 2\n",
        "user- 310685\n",
        "1 0 0\n",
        "user- 18773\n",
        "5 0 0\n",
        "user- 143844\n",
        "2 0 3\n",
        "user- 281817\n",
        "1 0 8\n",
        "user- 115486\n",
        "5 0 0\n",
        "user- 244630\n",
        "1 0 0\n",
        "user- 107867\n",
        "18 8 7\n",
        "user- 84905\n",
        "1 0 4\n",
        "user- 72157\n",
        "9 0 0\n",
        "user- 202420\n",
        "2 0 1\n",
        "user- 45601\n",
        "11 0 1\n",
        "user- 208774\n",
        "1 0 0\n",
        "user- 215311\n",
        "1 0 0\n",
        "user- 182250\n",
        "1 0 11\n",
        "user- 15750\n",
        "13 3 4\n",
        "user- 102867\n",
        "1 0 0\n",
        "user- 251098\n",
        "3 0 0\n",
        "user- 39215\n",
        "12 0 1\n",
        "user- 112613\n",
        "21 2 0\n",
        "user- 96405\n",
        "2 0 0\n",
        "user- 220160\n",
        "1 0 0\n",
        "user- 158779\n",
        "3 0 8\n",
        "user- 153190\n",
        "1 0 5\n",
        "user- 8371\n",
        "5 0 0\n",
        "user- 329629\n",
        "1 0 0\n",
        "user- 24076\n",
        "3 0 23\n",
        "user- 354207\n",
        "1 0 4\n",
        "user- 192137\n",
        "4 0 4\n",
        "user- 286505\n",
        "1 0 0\n",
        "user- 103268\n",
        "3 0 19\n",
        "user- 277126\n",
        "1 0 2\n",
        "user- 268253\n",
        "2 0 0\n",
        "user- 304612\n",
        "1 0 7\n",
        "user- 209976\n",
        "1 0 1\n",
        "user- 285359\n",
        "2 0 12\n",
        "user- 270823\n",
        "1 0 0\n",
        "user- 335369\n",
        "1 0 4\n",
        "user- 225568\n",
        "1 0 0\n",
        "user- 355053\n",
        "1 0 0\n",
        "user- 109931\n",
        "3 0 0\n",
        "user- 144634\n",
        "1 0 0\n",
        "user- 245807\n",
        "1 0 6\n",
        "user- 121551\n",
        "9 0 0\n",
        "user- 3442\n",
        "5 0 15\n",
        "user- 255815\n",
        "1 0 0\n",
        "user- 18997\n",
        "41 18 0\n",
        "user- 17849\n",
        "109 33 0\n",
        "user- 22366\n",
        "12 0 21\n",
        "user- 115339\n",
        "30 8 0\n",
        "user- 217983\n",
        "1 0 1\n",
        "user- 72461\n",
        "1 0 0\n",
        "user- 165750\n",
        "1 0 0\n",
        "user- 15509\n",
        "12 5 0\n",
        "user- 41224\n",
        "4 0 0\n",
        "user- 117869\n",
        "3 0 0\n",
        "user- 279272\n",
        "1 0 2\n",
        "user- 145484\n",
        "1 0 0\n",
        "user- 49041\n",
        "20 0 0\n",
        "user- 132089\n",
        "2 0 0\n",
        "user- 102664\n",
        "1 0 0\n",
        "user- 23604\n",
        "14 0 2\n",
        "user- 184392\n",
        "3 0 0\n",
        "user- 139101\n",
        "7 2 4\n",
        "user- 115703\n",
        "1 0 0\n",
        "user- 115800\n",
        "14 0 0\n",
        "user- 274867\n",
        "1 0 2\n",
        "user- 344603\n",
        "1 0 7\n",
        "user- 158966\n",
        "7 1 0\n",
        "user- 78578\n",
        "3 0 1\n",
        "user- 15583\n",
        "13 0 0\n",
        "user- 317794\n",
        "4 0 0\n",
        "user- 312621\n",
        "3 0 2\n",
        "user- 140839\n",
        "8 0 0\n",
        "user- 98725\n",
        "3 0 0\n",
        "user- 131889\n",
        "3 0 0\n",
        "user- 119965\n",
        "1 0 1\n",
        "user- 270993\n",
        "1 0 0\n",
        "user- 166534\n",
        "2 0 1\n",
        "user- 188569\n",
        "1 0 0\n",
        "user- 254255\n",
        "3 0 15\n",
        "user- 224457\n",
        "2 0 3\n",
        "user- 175601\n",
        "2 0 40\n",
        "user- 215894\n",
        "4 2 4\n",
        "user- 257912\n",
        "1 0 0\n",
        "user- 198907\n",
        "1 0 0\n",
        "user- 343393\n",
        "1 0 0\n",
        "user- 25222\n",
        "5 0 17\n",
        "user- 302607\n",
        "1 0 2\n",
        "user- 22576\n",
        "8 0 0\n",
        "user- 288176\n",
        "3 0 0\n",
        "user- 288449\n",
        "1 0 0\n",
        "user- 158596\n",
        "1 0 1\n",
        "user- 196780\n",
        "1 0 74\n",
        "user- 38238\n",
        "7 0 0\n",
        "user- 55539\n",
        "12 0 0\n",
        "user- 137596\n",
        "7 0 0\n",
        "user- 195753\n",
        "4 0 0\n",
        "user- 324920\n",
        "1 0 0\n",
        "user- 341898\n",
        "1 0 0\n",
        "user- 323716\n",
        "1 0 1\n",
        "user- 139612\n",
        "5 0 1\n",
        "user- 65232\n",
        "8 0 0\n",
        "user- 80391\n",
        "9 0 0\n",
        "user- 71716\n",
        "10 1 0\n",
        "user- 262460\n",
        "1 0 2\n",
        "user- 361556\n",
        "1 0 0\n",
        "user- 364909\n",
        "1 0 5\n",
        "user- 337799\n",
        "1 0 0\n",
        "user- 320594\n",
        "1 0 0\n",
        "user- 192799\n",
        "3 0 0\n",
        "user- 293076\n",
        "1 0 0\n",
        "user- 288896\n",
        "2 0 0\n",
        "user- 106933\n",
        "7 0 25\n",
        "user- 345972\n",
        "1 0 7\n",
        "user- 298379\n",
        "1 0 0\n",
        "user- 33998\n",
        "1 0 2\n",
        "user- 42408\n",
        "1 0 0\n",
        "user- 69788\n",
        "1 0 0\n",
        "user- 958\n",
        "11 0 0\n",
        "user- 350609\n",
        "1 0 1\n",
        "user- 207769\n",
        "1 0 0\n",
        "user- 228659\n",
        "32 7 0\n",
        "user- 171489\n",
        "1 0 0\n",
        "user- 69751\n",
        "15 0 0\n",
        "user- 28435\n",
        "16 0 0\n",
        "user- 284698\n",
        "2 0 2\n",
        "user- 337174\n",
        "1 0 0\n",
        "user- 632\n",
        "8 0 0\n",
        "user- 357294\n",
        "1 0 7\n",
        "user- 27756\n",
        "1 0 0\n",
        "user- 188466\n",
        "2 0 0\n",
        "user- 66325\n",
        "2 0 6\n",
        "user- 120764\n",
        "5 1 0\n",
        "user- 15045\n",
        "4 0 5\n",
        "user- 47933\n",
        "8 0 1\n",
        "user- 335322\n",
        "1 0 96\n",
        "user- 165002\n",
        "3 3 0\n",
        "user- 148862\n",
        "1 0 0\n",
        "user- 122772\n",
        "5 0 0\n",
        "user- 116417\n",
        "1 0 0\n",
        "user- 261333\n",
        "1 0 9\n",
        "user- 250054\n",
        "1 0 0\n",
        "user- 216702\n",
        "2 0 1\n",
        "user- 326534\n",
        "1 0 0\n",
        "user- 33752\n",
        "13 4 0\n",
        "user- 344810\n",
        "1 0 4\n",
        "user- 131845\n",
        "1 1 0\n",
        "user- 267789\n",
        "1 0 0\n",
        "user- 272164\n",
        "1 0 0\n",
        "user- 163759\n",
        "1 0 1\n",
        "user- 164860\n",
        "8 0 17\n",
        "user- 161676\n",
        "1 0 4\n",
        "user- 84735\n",
        "5 0 2\n",
        "user- 277768\n",
        "1 0 18\n",
        "user- 110529\n",
        "6 0 0\n",
        "user- 195071\n",
        "6 0 52\n",
        "user- 211139\n",
        "1 1 1\n",
        "user- 88218\n",
        "3 0 3\n",
        "user- 86325\n",
        "8 0 2\n",
        "user- 343810\n",
        "1 0 1\n",
        "user- 215271\n",
        "2 0 0\n",
        "user- 15887\n",
        "3 0 5\n",
        "user- 151513\n",
        "1 0 4\n",
        "user- 195885\n",
        "1 0 0\n",
        "user- 211746\n",
        "1 0 1\n",
        "user- 346506\n",
        "1 0 5\n",
        "user- 148230\n",
        "1 0 11\n",
        "user- 100631\n",
        "1 0 0\n",
        "user- 250067\n",
        "1 0 10\n",
        "user- 77632\n",
        "3 0 0\n",
        "user- 84130\n",
        "2 1 0\n",
        "user- 209220\n",
        "5 1 0\n",
        "user- 142049\n",
        "1 0 0\n",
        "user- 318816\n",
        "1 0 0\n",
        "user- 311844\n",
        "2 0 1\n",
        "user- 133042\n",
        "3 0 0\n",
        "user- 67811\n",
        "3 0 3\n",
        "user- 129837\n",
        "1 0 4\n",
        "user- 244441\n",
        "2 0 1\n",
        "user- 113491\n",
        "3 0 0\n",
        "user- 320292\n",
        "1 0 0\n",
        "user- 94099\n",
        "1 0 10\n",
        "user- 281262\n",
        "1 0 0\n",
        "user- 20120\n",
        "1 0 0\n",
        "user- 187816\n",
        "2 0 0\n",
        "user- 78780\n",
        "10 0 0\n",
        "user- 49125\n",
        "1 0 1\n",
        "user- 333913\n",
        "1 0 0\n",
        "user- 172651\n",
        "4 1 3\n",
        "user- 54916\n",
        "1 0 2\n",
        "user- 18883\n",
        "4 0 2\n",
        "user- 309214\n",
        "1 0 0\n",
        "user- 73183\n",
        "9 0 0\n",
        "user- 51669\n",
        "1 0 3\n",
        "user- 73569\n",
        "4 0 0\n",
        "user- 247740\n",
        "1 0 0\n",
        "user- 201044\n",
        "3 0 0\n",
        "user- 61646\n",
        "6 1 0\n",
        "user- 353234\n",
        "1 0 0\n",
        "user- 333574\n",
        "1 0 3\n",
        "user- 117526\n",
        "5 0 50\n",
        "user- 314405\n",
        "3 0 0\n",
        "user- 130839\n",
        "1 0 6\n",
        "user- 42091\n",
        "6 0 17\n",
        "user- 353931\n",
        "1 0 26\n",
        "user- 316716\n",
        "1 0 0\n",
        "user- 172092\n",
        "1 0 17\n",
        "user- 337553\n",
        "1 0 0\n",
        "user- 174737\n",
        "1 0 0\n",
        "user- 153415\n",
        "1 0 3\n",
        "user- 202112\n",
        "4 0 0\n",
        "user- 319595\n",
        "1 0 0\n",
        "user- 72492\n",
        "20 4 0\n",
        "user- 220908\n",
        "1 0 0\n",
        "user- 89026\n",
        "1 0 0\n",
        "user- 186762\n",
        "3 0 0\n",
        "user- 30110\n",
        "1 0 0\n",
        "user- 360304\n",
        "1 0 0\n",
        "user- 89109\n",
        "1 0 0\n",
        "user- 257295\n",
        "2 0 0\n",
        "user- 139157\n",
        "20 3 65\n",
        "user- 268302\n",
        "1 0 0\n",
        "user- 212\n",
        "101 54 0\n",
        "user- 207689\n",
        "1 0 0\n",
        "user- 140308\n",
        "5 0 0\n"
       ]
      }
     ],
     "prompt_number": 102
    },
    {
     "cell_type": "code",
     "collapsed": false,
     "input": [
      "#Code to sort the reviews based on date\n",
      "user_review_sorted = {}\n",
      "for v in range(len(user_review_dic)):\n",
      "    review_list = user_review_dic[v+1]\n",
      "    #print review_list\n",
      "    \n",
      "    n = len(review_list)\n",
      "    if(n>1):\n",
      "        for i in range(n-1):\n",
      "            for j in range(n-i-1):\n",
      "                curr_d =  str(review_data['date'][review_list[j]-1]).split(' ')\n",
      "                next_d = str(review_data['date'][review_list[j+1]-1]).split(' ')\n",
      "                if(date_compare(next_d[0],curr_d[0])):\n",
      "                    t = review_list[j]\n",
      "                    review_list[j]=review_list[j+1]\n",
      "                    review_list[j+1] = t\n",
      "    #print review_list\n",
      "    #for i in range(len(review_list)):\n",
      "        #print review_data['date'][review_list[i]-1]\n",
      "    user_review_dic[v+1] = review_list\n",
      "    print v\n",
      "    if(v==1000):break\n",
      "    \n"
     ],
     "language": "python",
     "metadata": {},
     "outputs": [
      {
       "output_type": "stream",
       "stream": "stdout",
       "text": [
        "0\n",
        "1\n",
        "2"
       ]
      },
      {
       "output_type": "stream",
       "stream": "stdout",
       "text": [
        "\n",
        "3\n",
        "4\n",
        "5"
       ]
      },
      {
       "output_type": "stream",
       "stream": "stdout",
       "text": [
        "\n",
        "6\n",
        "7\n",
        "8"
       ]
      },
      {
       "output_type": "stream",
       "stream": "stdout",
       "text": [
        "\n",
        "9\n",
        "10\n",
        "11\n",
        "12"
       ]
      },
      {
       "output_type": "stream",
       "stream": "stdout",
       "text": [
        "\n",
        "13"
       ]
      },
      {
       "output_type": "stream",
       "stream": "stdout",
       "text": [
        "\n",
        "14\n",
        "15\n",
        "16\n",
        "17\n",
        "18\n",
        "19\n",
        "20\n",
        "21\n",
        "22\n",
        "23"
       ]
      },
      {
       "output_type": "stream",
       "stream": "stdout",
       "text": [
        "\n",
        "24\n",
        "25\n",
        "26\n",
        "27\n",
        "28"
       ]
      },
      {
       "output_type": "stream",
       "stream": "stdout",
       "text": [
        "\n",
        "29\n",
        "30\n",
        "31"
       ]
      },
      {
       "output_type": "stream",
       "stream": "stdout",
       "text": [
        "\n",
        "32"
       ]
      },
      {
       "output_type": "stream",
       "stream": "stdout",
       "text": [
        "\n",
        "33\n",
        "34"
       ]
      },
      {
       "output_type": "stream",
       "stream": "stdout",
       "text": [
        "\n",
        "35\n",
        "36\n",
        "37\n",
        "38\n",
        "39\n",
        "40\n",
        "41\n",
        "42"
       ]
      },
      {
       "output_type": "stream",
       "stream": "stdout",
       "text": [
        "\n",
        "43"
       ]
      },
      {
       "output_type": "stream",
       "stream": "stdout",
       "text": [
        "\n",
        "44\n",
        "45"
       ]
      },
      {
       "output_type": "stream",
       "stream": "stdout",
       "text": [
        "\n",
        "46\n",
        "47"
       ]
      },
      {
       "output_type": "stream",
       "stream": "stdout",
       "text": [
        "\n",
        "48\n",
        "49"
       ]
      },
      {
       "output_type": "stream",
       "stream": "stdout",
       "text": [
        "\n",
        "50\n",
        "51"
       ]
      },
      {
       "output_type": "stream",
       "stream": "stdout",
       "text": [
        "\n",
        "52\n",
        "53"
       ]
      },
      {
       "output_type": "stream",
       "stream": "stdout",
       "text": [
        "\n",
        "54\n",
        "55\n",
        "56\n",
        "57"
       ]
      },
      {
       "output_type": "stream",
       "stream": "stdout",
       "text": [
        "\n",
        "58\n",
        "59\n",
        "60"
       ]
      },
      {
       "output_type": "stream",
       "stream": "stdout",
       "text": [
        "\n",
        "61\n",
        "62\n",
        "63\n",
        "64\n",
        "65\n",
        "66"
       ]
      },
      {
       "output_type": "stream",
       "stream": "stdout",
       "text": [
        "\n",
        "67\n",
        "68\n",
        "69\n",
        "70\n",
        "71\n",
        "72\n",
        "73\n",
        "74"
       ]
      },
      {
       "output_type": "stream",
       "stream": "stdout",
       "text": [
        "\n",
        "75\n",
        "76\n",
        "77\n",
        "78\n",
        "79\n",
        "80"
       ]
      },
      {
       "output_type": "stream",
       "stream": "stdout",
       "text": [
        "\n",
        "81"
       ]
      },
      {
       "output_type": "stream",
       "stream": "stdout",
       "text": [
        "\n",
        "82\n",
        "83"
       ]
      },
      {
       "output_type": "stream",
       "stream": "stdout",
       "text": [
        "\n",
        "84\n",
        "85\n",
        "86"
       ]
      },
      {
       "output_type": "stream",
       "stream": "stdout",
       "text": [
        "\n",
        "87\n",
        "88\n",
        "89\n",
        "90\n",
        "91\n",
        "92\n",
        "93\n",
        "94"
       ]
      },
      {
       "output_type": "stream",
       "stream": "stdout",
       "text": [
        "\n",
        "95\n",
        "96\n",
        "97\n",
        "98\n",
        "99\n",
        "100\n",
        "101\n",
        "102"
       ]
      },
      {
       "output_type": "stream",
       "stream": "stdout",
       "text": [
        "\n",
        "103\n",
        "104\n",
        "105\n",
        "106\n",
        "107\n",
        "108"
       ]
      },
      {
       "output_type": "stream",
       "stream": "stdout",
       "text": [
        "\n",
        "109\n",
        "110\n",
        "111"
       ]
      },
      {
       "output_type": "stream",
       "stream": "stdout",
       "text": [
        "\n",
        "112\n",
        "113\n",
        "114"
       ]
      },
      {
       "output_type": "stream",
       "stream": "stdout",
       "text": [
        "\n",
        "115\n",
        "116"
       ]
      },
      {
       "output_type": "stream",
       "stream": "stdout",
       "text": [
        "\n",
        "117\n",
        "118\n",
        "119"
       ]
      },
      {
       "output_type": "stream",
       "stream": "stdout",
       "text": [
        "\n",
        "120\n",
        "121\n",
        "122"
       ]
      },
      {
       "output_type": "stream",
       "stream": "stdout",
       "text": [
        "\n",
        "123"
       ]
      },
      {
       "output_type": "stream",
       "stream": "stdout",
       "text": [
        "\n",
        "124\n",
        "125"
       ]
      },
      {
       "output_type": "stream",
       "stream": "stdout",
       "text": [
        "\n",
        "126\n",
        "127\n",
        "128\n",
        "129"
       ]
      },
      {
       "output_type": "stream",
       "stream": "stdout",
       "text": [
        "\n",
        "130\n",
        "131\n",
        "132"
       ]
      },
      {
       "output_type": "stream",
       "stream": "stdout",
       "text": [
        "\n",
        "133\n",
        "134\n",
        "135\n",
        "136\n",
        "137\n",
        "138"
       ]
      },
      {
       "output_type": "stream",
       "stream": "stdout",
       "text": [
        "\n",
        "139\n",
        "140\n",
        "141\n",
        "142\n",
        "143\n",
        "144\n",
        "145\n",
        "146\n",
        "147"
       ]
      },
      {
       "output_type": "stream",
       "stream": "stdout",
       "text": [
        "\n",
        "148\n",
        "149\n",
        "150\n",
        "151\n",
        "152\n",
        "153\n",
        "154\n",
        "155\n",
        "156\n",
        "157\n",
        "158\n",
        "159"
       ]
      },
      {
       "output_type": "stream",
       "stream": "stdout",
       "text": [
        "\n",
        "160\n",
        "161"
       ]
      },
      {
       "output_type": "stream",
       "stream": "stdout",
       "text": [
        "\n",
        "162\n",
        "163"
       ]
      },
      {
       "output_type": "stream",
       "stream": "stdout",
       "text": [
        "\n",
        "164\n",
        "165\n",
        "166\n",
        "167\n",
        "168\n",
        "169"
       ]
      },
      {
       "output_type": "stream",
       "stream": "stdout",
       "text": [
        "\n",
        "170\n",
        "171\n",
        "172\n",
        "173\n",
        "174\n",
        "175\n",
        "176\n",
        "177\n",
        "178\n",
        "179"
       ]
      },
      {
       "output_type": "stream",
       "stream": "stdout",
       "text": [
        "\n",
        "180\n",
        "181\n",
        "182\n",
        "183\n",
        "184\n",
        "185"
       ]
      },
      {
       "output_type": "stream",
       "stream": "stdout",
       "text": [
        "\n",
        "186"
       ]
      },
      {
       "output_type": "stream",
       "stream": "stdout",
       "text": [
        "\n",
        "187\n",
        "188"
       ]
      },
      {
       "output_type": "stream",
       "stream": "stdout",
       "text": [
        "\n",
        "189"
       ]
      },
      {
       "output_type": "stream",
       "stream": "stdout",
       "text": [
        "\n",
        "190"
       ]
      },
      {
       "output_type": "stream",
       "stream": "stdout",
       "text": [
        "\n",
        "191"
       ]
      },
      {
       "output_type": "stream",
       "stream": "stdout",
       "text": [
        "\n",
        "192\n",
        "193\n",
        "194"
       ]
      },
      {
       "output_type": "stream",
       "stream": "stdout",
       "text": [
        "\n",
        "195"
       ]
      },
      {
       "output_type": "stream",
       "stream": "stdout",
       "text": [
        "\n",
        "196"
       ]
      },
      {
       "output_type": "stream",
       "stream": "stdout",
       "text": [
        "\n",
        "197"
       ]
      },
      {
       "output_type": "stream",
       "stream": "stdout",
       "text": [
        "\n",
        "198"
       ]
      },
      {
       "output_type": "stream",
       "stream": "stdout",
       "text": [
        "\n",
        "199"
       ]
      },
      {
       "output_type": "stream",
       "stream": "stdout",
       "text": [
        "\n",
        "200\n",
        "201"
       ]
      },
      {
       "output_type": "stream",
       "stream": "stdout",
       "text": [
        "\n",
        "202\n",
        "203\n",
        "204\n",
        "205"
       ]
      },
      {
       "output_type": "stream",
       "stream": "stdout",
       "text": [
        "\n",
        "206"
       ]
      },
      {
       "output_type": "stream",
       "stream": "stdout",
       "text": [
        "\n",
        "207"
       ]
      },
      {
       "output_type": "stream",
       "stream": "stdout",
       "text": [
        "\n",
        "208\n",
        "209"
       ]
      },
      {
       "output_type": "stream",
       "stream": "stdout",
       "text": [
        "\n",
        "210\n",
        "211"
       ]
      },
      {
       "output_type": "stream",
       "stream": "stdout",
       "text": [
        "\n",
        "212\n",
        "213\n",
        "214"
       ]
      },
      {
       "output_type": "stream",
       "stream": "stdout",
       "text": [
        "\n",
        "215\n",
        "216\n",
        "217"
       ]
      },
      {
       "output_type": "stream",
       "stream": "stdout",
       "text": [
        "\n",
        "218\n",
        "219\n",
        "220\n",
        "221\n",
        "222\n",
        "223\n",
        "224\n",
        "225\n",
        "226\n",
        "227\n",
        "228"
       ]
      },
      {
       "output_type": "stream",
       "stream": "stdout",
       "text": [
        "\n",
        "229\n",
        "230\n",
        "231\n",
        "232"
       ]
      },
      {
       "output_type": "stream",
       "stream": "stdout",
       "text": [
        "\n",
        "233\n",
        "234"
       ]
      },
      {
       "output_type": "stream",
       "stream": "stdout",
       "text": [
        "\n",
        "235"
       ]
      },
      {
       "output_type": "stream",
       "stream": "stdout",
       "text": [
        "\n",
        "236"
       ]
      },
      {
       "output_type": "stream",
       "stream": "stdout",
       "text": [
        "\n",
        "237\n",
        "238\n",
        "239\n",
        "240"
       ]
      },
      {
       "output_type": "stream",
       "stream": "stdout",
       "text": [
        "\n",
        "241\n",
        "242"
       ]
      },
      {
       "output_type": "stream",
       "stream": "stdout",
       "text": [
        "\n",
        "243\n",
        "244\n",
        "245"
       ]
      },
      {
       "output_type": "stream",
       "stream": "stdout",
       "text": [
        "\n",
        "246\n",
        "247\n",
        "248"
       ]
      },
      {
       "output_type": "stream",
       "stream": "stdout",
       "text": [
        "\n",
        "249\n",
        "250\n",
        "251\n",
        "252\n",
        "253\n",
        "254\n",
        "255"
       ]
      },
      {
       "output_type": "stream",
       "stream": "stdout",
       "text": [
        "\n",
        "256\n",
        "257\n",
        "258\n",
        "259\n",
        "260\n",
        "261\n",
        "262\n",
        "263\n",
        "264\n",
        "265"
       ]
      },
      {
       "output_type": "stream",
       "stream": "stdout",
       "text": [
        "\n",
        "266\n",
        "267\n",
        "268"
       ]
      },
      {
       "output_type": "stream",
       "stream": "stdout",
       "text": [
        "\n",
        "269\n",
        "270"
       ]
      },
      {
       "output_type": "stream",
       "stream": "stdout",
       "text": [
        "\n",
        "271"
       ]
      },
      {
       "output_type": "stream",
       "stream": "stdout",
       "text": [
        "\n",
        "272"
       ]
      },
      {
       "output_type": "stream",
       "stream": "stdout",
       "text": [
        "\n",
        "273\n",
        "274\n",
        "275\n",
        "276"
       ]
      },
      {
       "output_type": "stream",
       "stream": "stdout",
       "text": [
        "\n",
        "277\n",
        "278\n",
        "279"
       ]
      },
      {
       "output_type": "stream",
       "stream": "stdout",
       "text": [
        "\n",
        "280"
       ]
      },
      {
       "output_type": "stream",
       "stream": "stdout",
       "text": [
        "\n",
        "281\n",
        "282"
       ]
      },
      {
       "output_type": "stream",
       "stream": "stdout",
       "text": [
        "\n",
        "283\n",
        "284\n",
        "285\n",
        "286"
       ]
      },
      {
       "output_type": "stream",
       "stream": "stdout",
       "text": [
        "\n",
        "287\n",
        "288\n",
        "289"
       ]
      },
      {
       "output_type": "stream",
       "stream": "stdout",
       "text": [
        "\n",
        "290"
       ]
      },
      {
       "output_type": "stream",
       "stream": "stdout",
       "text": [
        "\n",
        "291\n",
        "292\n",
        "293\n",
        "294\n",
        "295\n",
        "296\n",
        "297"
       ]
      },
      {
       "output_type": "stream",
       "stream": "stdout",
       "text": [
        "\n",
        "298"
       ]
      },
      {
       "output_type": "stream",
       "stream": "stdout",
       "text": [
        "\n",
        "299"
       ]
      },
      {
       "output_type": "stream",
       "stream": "stdout",
       "text": [
        "\n",
        "300\n",
        "301\n",
        "302\n",
        "303"
       ]
      },
      {
       "output_type": "stream",
       "stream": "stdout",
       "text": [
        "\n",
        "304\n",
        "305\n",
        "306\n",
        "307\n",
        "308\n",
        "309\n",
        "310\n",
        "311\n",
        "312\n",
        "313\n",
        "314"
       ]
      },
      {
       "output_type": "stream",
       "stream": "stdout",
       "text": [
        "\n",
        "315"
       ]
      },
      {
       "output_type": "stream",
       "stream": "stdout",
       "text": [
        "\n",
        "316\n",
        "317\n",
        "318\n",
        "319\n",
        "320"
       ]
      },
      {
       "output_type": "stream",
       "stream": "stdout",
       "text": [
        "\n",
        "321\n",
        "322\n",
        "323\n",
        "324\n",
        "325\n",
        "326\n",
        "327"
       ]
      },
      {
       "output_type": "stream",
       "stream": "stdout",
       "text": [
        "\n",
        "328\n",
        "329"
       ]
      },
      {
       "output_type": "stream",
       "stream": "stdout",
       "text": [
        "\n",
        "330\n",
        "331\n",
        "332"
       ]
      },
      {
       "output_type": "stream",
       "stream": "stdout",
       "text": [
        "\n",
        "333\n",
        "334\n",
        "335\n",
        "336"
       ]
      },
      {
       "output_type": "stream",
       "stream": "stdout",
       "text": [
        "\n",
        "337"
       ]
      },
      {
       "output_type": "stream",
       "stream": "stdout",
       "text": [
        "\n",
        "338\n",
        "339\n",
        "340"
       ]
      },
      {
       "output_type": "stream",
       "stream": "stdout",
       "text": [
        "\n",
        "341"
       ]
      },
      {
       "output_type": "stream",
       "stream": "stdout",
       "text": [
        "\n",
        "342"
       ]
      },
      {
       "output_type": "stream",
       "stream": "stdout",
       "text": [
        "\n",
        "343"
       ]
      },
      {
       "output_type": "stream",
       "stream": "stdout",
       "text": [
        "\n",
        "344\n",
        "345\n",
        "346\n",
        "347\n",
        "348\n",
        "349\n",
        "350\n",
        "351\n",
        "352"
       ]
      },
      {
       "output_type": "stream",
       "stream": "stdout",
       "text": [
        "\n",
        "353\n",
        "354"
       ]
      },
      {
       "output_type": "stream",
       "stream": "stdout",
       "text": [
        "\n",
        "355\n",
        "356"
       ]
      },
      {
       "output_type": "stream",
       "stream": "stdout",
       "text": [
        "\n",
        "357\n",
        "358\n",
        "359\n",
        "360\n",
        "361\n",
        "362\n",
        "363\n",
        "364\n",
        "365"
       ]
      },
      {
       "output_type": "stream",
       "stream": "stdout",
       "text": [
        "\n",
        "366\n",
        "367"
       ]
      },
      {
       "output_type": "stream",
       "stream": "stdout",
       "text": [
        "\n",
        "368"
       ]
      },
      {
       "output_type": "stream",
       "stream": "stdout",
       "text": [
        "\n",
        "369\n",
        "370\n",
        "371\n",
        "372\n",
        "373"
       ]
      },
      {
       "output_type": "stream",
       "stream": "stdout",
       "text": [
        "\n",
        "374\n",
        "375"
       ]
      },
      {
       "output_type": "stream",
       "stream": "stdout",
       "text": [
        "\n",
        "376\n",
        "377\n",
        "378"
       ]
      },
      {
       "output_type": "stream",
       "stream": "stdout",
       "text": [
        "\n",
        "379"
       ]
      },
      {
       "output_type": "stream",
       "stream": "stdout",
       "text": [
        "\n",
        "380\n",
        "381\n",
        "382"
       ]
      },
      {
       "output_type": "stream",
       "stream": "stdout",
       "text": [
        "\n",
        "383\n",
        "384\n",
        "385"
       ]
      },
      {
       "output_type": "stream",
       "stream": "stdout",
       "text": [
        "\n",
        "386"
       ]
      },
      {
       "output_type": "stream",
       "stream": "stdout",
       "text": [
        "\n",
        "387\n",
        "388\n",
        "389\n",
        "390\n",
        "391\n",
        "392\n",
        "393"
       ]
      },
      {
       "output_type": "stream",
       "stream": "stdout",
       "text": [
        "\n",
        "394"
       ]
      },
      {
       "output_type": "stream",
       "stream": "stdout",
       "text": [
        "\n",
        "395\n",
        "396"
       ]
      },
      {
       "output_type": "stream",
       "stream": "stdout",
       "text": [
        "\n",
        "397\n",
        "398"
       ]
      },
      {
       "output_type": "stream",
       "stream": "stdout",
       "text": [
        "\n",
        "399"
       ]
      },
      {
       "output_type": "stream",
       "stream": "stdout",
       "text": [
        "\n",
        "400"
       ]
      },
      {
       "output_type": "stream",
       "stream": "stdout",
       "text": [
        "\n",
        "401"
       ]
      },
      {
       "output_type": "stream",
       "stream": "stdout",
       "text": [
        "\n",
        "402\n",
        "403"
       ]
      },
      {
       "output_type": "stream",
       "stream": "stdout",
       "text": [
        "\n",
        "404\n",
        "405"
       ]
      },
      {
       "output_type": "stream",
       "stream": "stdout",
       "text": [
        "\n",
        "406\n",
        "407"
       ]
      },
      {
       "output_type": "stream",
       "stream": "stdout",
       "text": [
        "\n",
        "408\n",
        "409"
       ]
      },
      {
       "output_type": "stream",
       "stream": "stdout",
       "text": [
        "\n",
        "410"
       ]
      },
      {
       "output_type": "stream",
       "stream": "stdout",
       "text": [
        "\n",
        "411"
       ]
      },
      {
       "output_type": "stream",
       "stream": "stdout",
       "text": [
        "\n",
        "412\n",
        "413\n",
        "414"
       ]
      },
      {
       "output_type": "stream",
       "stream": "stdout",
       "text": [
        "\n",
        "415"
       ]
      },
      {
       "output_type": "stream",
       "stream": "stdout",
       "text": [
        "\n",
        "416\n",
        "417\n",
        "418\n",
        "419"
       ]
      },
      {
       "output_type": "stream",
       "stream": "stdout",
       "text": [
        "\n",
        "420\n",
        "421\n",
        "422"
       ]
      },
      {
       "output_type": "stream",
       "stream": "stdout",
       "text": [
        "\n",
        "423"
       ]
      },
      {
       "output_type": "stream",
       "stream": "stdout",
       "text": [
        "\n",
        "424\n",
        "425\n",
        "426\n",
        "427\n",
        "428\n",
        "429\n",
        "430\n",
        "431"
       ]
      },
      {
       "output_type": "stream",
       "stream": "stdout",
       "text": [
        "\n",
        "432"
       ]
      },
      {
       "output_type": "stream",
       "stream": "stdout",
       "text": [
        "\n",
        "433"
       ]
      },
      {
       "output_type": "stream",
       "stream": "stdout",
       "text": [
        "\n",
        "434\n",
        "435\n",
        "436"
       ]
      },
      {
       "output_type": "stream",
       "stream": "stdout",
       "text": [
        "\n",
        "437"
       ]
      },
      {
       "output_type": "stream",
       "stream": "stdout",
       "text": [
        "\n",
        "438\n",
        "439"
       ]
      },
      {
       "output_type": "stream",
       "stream": "stdout",
       "text": [
        "\n",
        "440\n",
        "441\n",
        "442"
       ]
      },
      {
       "output_type": "stream",
       "stream": "stdout",
       "text": [
        "\n",
        "443\n",
        "444\n",
        "445\n",
        "446"
       ]
      },
      {
       "output_type": "stream",
       "stream": "stdout",
       "text": [
        "\n",
        "447\n",
        "448\n",
        "449\n",
        "450\n",
        "451\n",
        "452\n",
        "453"
       ]
      },
      {
       "output_type": "stream",
       "stream": "stdout",
       "text": [
        "\n",
        "454\n",
        "455\n",
        "456\n",
        "457\n",
        "458\n",
        "459"
       ]
      },
      {
       "output_type": "stream",
       "stream": "stdout",
       "text": [
        "\n",
        "460\n",
        "461\n",
        "462\n",
        "463"
       ]
      },
      {
       "output_type": "stream",
       "stream": "stdout",
       "text": [
        "\n",
        "464"
       ]
      },
      {
       "output_type": "stream",
       "stream": "stdout",
       "text": [
        "\n",
        "465\n",
        "466\n",
        "467"
       ]
      },
      {
       "output_type": "stream",
       "stream": "stdout",
       "text": [
        "\n",
        "468"
       ]
      },
      {
       "output_type": "stream",
       "stream": "stdout",
       "text": [
        "\n",
        "469"
       ]
      },
      {
       "output_type": "stream",
       "stream": "stdout",
       "text": [
        "\n",
        "470\n",
        "471\n",
        "472\n",
        "473\n",
        "474\n",
        "475\n",
        "476\n",
        "477\n",
        "478\n",
        "479"
       ]
      },
      {
       "output_type": "stream",
       "stream": "stdout",
       "text": [
        "\n",
        "480\n",
        "481"
       ]
      },
      {
       "output_type": "stream",
       "stream": "stdout",
       "text": [
        "\n",
        "482\n",
        "483\n",
        "484\n",
        "485"
       ]
      },
      {
       "output_type": "stream",
       "stream": "stdout",
       "text": [
        "\n",
        "486\n",
        "487\n",
        "488\n",
        "489"
       ]
      },
      {
       "output_type": "stream",
       "stream": "stdout",
       "text": [
        "\n",
        "490\n",
        "491"
       ]
      },
      {
       "output_type": "stream",
       "stream": "stdout",
       "text": [
        "\n",
        "492\n",
        "493\n",
        "494\n",
        "495"
       ]
      },
      {
       "output_type": "stream",
       "stream": "stdout",
       "text": [
        "\n",
        "496\n",
        "497\n",
        "498\n",
        "499\n",
        "500\n",
        "501\n",
        "502\n",
        "503\n",
        "504\n",
        "505"
       ]
      },
      {
       "output_type": "stream",
       "stream": "stdout",
       "text": [
        "\n",
        "506\n",
        "507\n",
        "508\n",
        "509\n",
        "510\n",
        "511\n",
        "512"
       ]
      },
      {
       "output_type": "stream",
       "stream": "stdout",
       "text": [
        "\n",
        "513\n",
        "514\n",
        "515\n",
        "516"
       ]
      },
      {
       "output_type": "stream",
       "stream": "stdout",
       "text": [
        "\n",
        "517"
       ]
      },
      {
       "output_type": "stream",
       "stream": "stdout",
       "text": [
        "\n",
        "518"
       ]
      },
      {
       "output_type": "stream",
       "stream": "stdout",
       "text": [
        "\n",
        "519"
       ]
      },
      {
       "output_type": "stream",
       "stream": "stdout",
       "text": [
        "\n",
        "520\n",
        "521\n",
        "522\n",
        "523"
       ]
      },
      {
       "output_type": "stream",
       "stream": "stdout",
       "text": [
        "\n",
        "524\n",
        "525"
       ]
      },
      {
       "output_type": "stream",
       "stream": "stdout",
       "text": [
        "\n",
        "526\n",
        "527\n",
        "528\n",
        "529\n",
        "530\n",
        "531\n",
        "532\n",
        "533"
       ]
      },
      {
       "output_type": "stream",
       "stream": "stdout",
       "text": [
        "\n",
        "534\n",
        "535\n",
        "536\n",
        "537\n",
        "538\n",
        "539\n",
        "540\n",
        "541\n",
        "542\n",
        "543\n",
        "544\n",
        "545\n",
        "546"
       ]
      },
      {
       "output_type": "stream",
       "stream": "stdout",
       "text": [
        "\n",
        "547\n",
        "548\n",
        "549\n",
        "550\n",
        "551\n",
        "552\n",
        "553\n",
        "554\n",
        "555\n",
        "556\n",
        "557"
       ]
      },
      {
       "output_type": "stream",
       "stream": "stdout",
       "text": [
        "\n",
        "558\n",
        "559\n",
        "560\n",
        "561\n",
        "562"
       ]
      },
      {
       "output_type": "stream",
       "stream": "stdout",
       "text": [
        "\n",
        "563\n",
        "564\n",
        "565\n",
        "566\n",
        "567"
       ]
      },
      {
       "output_type": "stream",
       "stream": "stdout",
       "text": [
        "\n",
        "568\n",
        "569\n",
        "570"
       ]
      },
      {
       "output_type": "stream",
       "stream": "stdout",
       "text": [
        "\n",
        "571\n",
        "572\n",
        "573\n",
        "574\n",
        "575"
       ]
      },
      {
       "output_type": "stream",
       "stream": "stdout",
       "text": [
        "\n",
        "576\n",
        "577\n",
        "578"
       ]
      },
      {
       "output_type": "stream",
       "stream": "stdout",
       "text": [
        "\n",
        "579\n",
        "580\n",
        "581"
       ]
      },
      {
       "output_type": "stream",
       "stream": "stdout",
       "text": [
        "\n",
        "582\n",
        "583"
       ]
      },
      {
       "output_type": "stream",
       "stream": "stdout",
       "text": [
        "\n",
        "584\n",
        "585\n",
        "586\n",
        "587\n",
        "588\n",
        "589\n",
        "590"
       ]
      },
      {
       "output_type": "stream",
       "stream": "stdout",
       "text": [
        "\n",
        "591"
       ]
      },
      {
       "output_type": "stream",
       "stream": "stdout",
       "text": [
        "\n",
        "592\n",
        "593\n",
        "594\n",
        "595\n",
        "596\n",
        "597\n",
        "598\n",
        "599"
       ]
      },
      {
       "output_type": "stream",
       "stream": "stdout",
       "text": [
        "\n",
        "600\n",
        "601\n",
        "602\n",
        "603\n",
        "604\n",
        "605"
       ]
      },
      {
       "output_type": "stream",
       "stream": "stdout",
       "text": [
        "\n",
        "606\n",
        "607\n",
        "608"
       ]
      },
      {
       "output_type": "stream",
       "stream": "stdout",
       "text": [
        "\n",
        "609\n",
        "610\n",
        "611\n",
        "612\n",
        "613\n",
        "614"
       ]
      },
      {
       "output_type": "stream",
       "stream": "stdout",
       "text": [
        "\n",
        "615\n",
        "616\n",
        "617\n",
        "618\n",
        "619"
       ]
      },
      {
       "output_type": "stream",
       "stream": "stdout",
       "text": [
        "\n",
        "620"
       ]
      },
      {
       "output_type": "stream",
       "stream": "stdout",
       "text": [
        "\n",
        "621\n",
        "622\n",
        "623\n",
        "624\n",
        "625\n",
        "626"
       ]
      },
      {
       "output_type": "stream",
       "stream": "stdout",
       "text": [
        "\n",
        "627\n",
        "628\n",
        "629\n",
        "630\n",
        "631"
       ]
      },
      {
       "output_type": "stream",
       "stream": "stdout",
       "text": [
        "\n",
        "632\n",
        "633\n",
        "634\n",
        "635"
       ]
      },
      {
       "output_type": "stream",
       "stream": "stdout",
       "text": [
        "\n",
        "636\n",
        "637\n",
        "638\n",
        "639\n",
        "640\n",
        "641\n",
        "642\n",
        "643\n",
        "644\n",
        "645\n",
        "646"
       ]
      },
      {
       "output_type": "stream",
       "stream": "stdout",
       "text": [
        "\n",
        "647"
       ]
      },
      {
       "output_type": "stream",
       "stream": "stdout",
       "text": [
        "\n",
        "648\n",
        "649\n",
        "650\n",
        "651"
       ]
      },
      {
       "output_type": "stream",
       "stream": "stdout",
       "text": [
        "\n",
        "652\n",
        "653"
       ]
      },
      {
       "output_type": "stream",
       "stream": "stdout",
       "text": [
        "\n",
        "654\n",
        "655\n",
        "656\n",
        "657\n",
        "658\n",
        "659\n",
        "660\n",
        "661\n",
        "662"
       ]
      },
      {
       "output_type": "stream",
       "stream": "stdout",
       "text": [
        "\n",
        "663\n",
        "664\n",
        "665\n",
        "666\n",
        "667"
       ]
      },
      {
       "output_type": "stream",
       "stream": "stdout",
       "text": [
        "\n",
        "668\n",
        "669\n",
        "670\n",
        "671\n",
        "672\n",
        "673\n",
        "674\n",
        "675\n",
        "676\n",
        "677\n",
        "678\n",
        "679\n",
        "680"
       ]
      },
      {
       "output_type": "stream",
       "stream": "stdout",
       "text": [
        "\n",
        "681\n",
        "682\n",
        "683\n",
        "684\n",
        "685\n",
        "686\n",
        "687"
       ]
      },
      {
       "output_type": "stream",
       "stream": "stdout",
       "text": [
        "\n",
        "688"
       ]
      },
      {
       "output_type": "stream",
       "stream": "stdout",
       "text": [
        "\n",
        "689\n",
        "690\n",
        "691"
       ]
      },
      {
       "output_type": "stream",
       "stream": "stdout",
       "text": [
        "\n",
        "692\n",
        "693\n",
        "694"
       ]
      },
      {
       "output_type": "stream",
       "stream": "stdout",
       "text": [
        "\n",
        "695"
       ]
      },
      {
       "output_type": "stream",
       "stream": "stdout",
       "text": [
        "\n",
        "696\n",
        "697"
       ]
      },
      {
       "output_type": "stream",
       "stream": "stdout",
       "text": [
        "\n",
        "698\n",
        "699\n",
        "700"
       ]
      },
      {
       "output_type": "stream",
       "stream": "stdout",
       "text": [
        "\n",
        "701\n",
        "702"
       ]
      },
      {
       "output_type": "stream",
       "stream": "stdout",
       "text": [
        "\n",
        "703\n",
        "704\n",
        "705\n",
        "706\n",
        "707\n",
        "708\n",
        "709\n",
        "710\n",
        "711\n",
        "712\n",
        "713"
       ]
      },
      {
       "output_type": "stream",
       "stream": "stdout",
       "text": [
        "\n",
        "714\n",
        "715\n",
        "716\n",
        "717\n",
        "718\n",
        "719\n",
        "720\n",
        "721\n",
        "722"
       ]
      },
      {
       "output_type": "stream",
       "stream": "stdout",
       "text": [
        "\n",
        "723"
       ]
      },
      {
       "output_type": "stream",
       "stream": "stdout",
       "text": [
        "\n",
        "724\n",
        "725"
       ]
      },
      {
       "output_type": "stream",
       "stream": "stdout",
       "text": [
        "\n",
        "726\n",
        "727\n",
        "728"
       ]
      },
      {
       "output_type": "stream",
       "stream": "stdout",
       "text": [
        "\n",
        "729\n",
        "730\n",
        "731\n",
        "732\n",
        "733\n",
        "734\n",
        "735\n",
        "736\n",
        "737"
       ]
      },
      {
       "output_type": "stream",
       "stream": "stdout",
       "text": [
        "\n",
        "738\n",
        "739"
       ]
      },
      {
       "output_type": "stream",
       "stream": "stdout",
       "text": [
        "\n",
        "740"
       ]
      },
      {
       "output_type": "stream",
       "stream": "stdout",
       "text": [
        "\n",
        "741\n",
        "742"
       ]
      },
      {
       "output_type": "stream",
       "stream": "stdout",
       "text": [
        "\n",
        "743"
       ]
      },
      {
       "output_type": "stream",
       "stream": "stdout",
       "text": [
        "\n",
        "744\n",
        "745\n",
        "746\n",
        "747"
       ]
      },
      {
       "output_type": "stream",
       "stream": "stdout",
       "text": [
        "\n",
        "748\n",
        "749\n",
        "750\n",
        "751\n",
        "752\n",
        "753\n",
        "754"
       ]
      },
      {
       "output_type": "stream",
       "stream": "stdout",
       "text": [
        "\n",
        "755"
       ]
      },
      {
       "output_type": "stream",
       "stream": "stdout",
       "text": [
        "\n",
        "756\n",
        "757\n",
        "758\n",
        "759\n",
        "760"
       ]
      },
      {
       "output_type": "stream",
       "stream": "stdout",
       "text": [
        "\n",
        "761\n",
        "762\n",
        "763\n",
        "764\n",
        "765\n",
        "766"
       ]
      },
      {
       "output_type": "stream",
       "stream": "stdout",
       "text": [
        "\n",
        "767\n",
        "768\n",
        "769"
       ]
      },
      {
       "output_type": "stream",
       "stream": "stdout",
       "text": [
        "\n",
        "770\n",
        "771\n",
        "772\n",
        "773\n",
        "774\n",
        "775\n",
        "776\n",
        "777\n",
        "778"
       ]
      },
      {
       "output_type": "stream",
       "stream": "stdout",
       "text": [
        "\n",
        "779\n",
        "780"
       ]
      },
      {
       "output_type": "stream",
       "stream": "stdout",
       "text": [
        "\n",
        "781\n",
        "782\n",
        "783"
       ]
      },
      {
       "output_type": "stream",
       "stream": "stdout",
       "text": [
        "\n",
        "784\n",
        "785\n",
        "786"
       ]
      },
      {
       "output_type": "stream",
       "stream": "stdout",
       "text": [
        "\n",
        "787\n",
        "788"
       ]
      },
      {
       "output_type": "stream",
       "stream": "stdout",
       "text": [
        "\n",
        "789\n",
        "790\n",
        "791\n",
        "792\n",
        "793\n",
        "794\n",
        "795\n",
        "796\n",
        "797"
       ]
      },
      {
       "output_type": "stream",
       "stream": "stdout",
       "text": [
        "\n",
        "798\n",
        "799\n",
        "800"
       ]
      },
      {
       "output_type": "stream",
       "stream": "stdout",
       "text": [
        "\n",
        "801"
       ]
      },
      {
       "output_type": "stream",
       "stream": "stdout",
       "text": [
        "\n",
        "802\n",
        "803"
       ]
      },
      {
       "output_type": "stream",
       "stream": "stdout",
       "text": [
        "\n",
        "804\n",
        "805\n",
        "806\n",
        "807"
       ]
      },
      {
       "output_type": "stream",
       "stream": "stdout",
       "text": [
        "\n",
        "808\n",
        "809\n",
        "810"
       ]
      },
      {
       "output_type": "stream",
       "stream": "stdout",
       "text": [
        "\n",
        "811\n",
        "812\n",
        "813\n",
        "814\n",
        "815\n",
        "816\n",
        "817\n",
        "818\n",
        "819"
       ]
      },
      {
       "output_type": "stream",
       "stream": "stdout",
       "text": [
        "\n",
        "820"
       ]
      },
      {
       "output_type": "stream",
       "stream": "stdout",
       "text": [
        "\n",
        "821\n",
        "822\n",
        "823\n",
        "824\n",
        "825\n",
        "826\n",
        "827\n",
        "828\n",
        "829\n",
        "830"
       ]
      },
      {
       "output_type": "stream",
       "stream": "stdout",
       "text": [
        "\n",
        "831"
       ]
      },
      {
       "output_type": "stream",
       "stream": "stdout",
       "text": [
        "\n",
        "832\n",
        "833\n",
        "834\n",
        "835"
       ]
      },
      {
       "output_type": "stream",
       "stream": "stdout",
       "text": [
        "\n",
        "836\n",
        "837"
       ]
      },
      {
       "output_type": "stream",
       "stream": "stdout",
       "text": [
        "\n",
        "838\n",
        "839\n",
        "840\n",
        "841\n",
        "842\n",
        "843\n",
        "844\n",
        "845\n",
        "846\n",
        "847"
       ]
      },
      {
       "output_type": "stream",
       "stream": "stdout",
       "text": [
        "\n",
        "848"
       ]
      },
      {
       "output_type": "stream",
       "stream": "stdout",
       "text": [
        "\n",
        "849\n",
        "850"
       ]
      },
      {
       "output_type": "stream",
       "stream": "stdout",
       "text": [
        "\n",
        "851\n",
        "852\n",
        "853\n",
        "854\n",
        "855\n",
        "856\n",
        "857\n",
        "858\n",
        "859\n",
        "860\n",
        "861"
       ]
      },
      {
       "output_type": "stream",
       "stream": "stdout",
       "text": [
        "\n",
        "862"
       ]
      },
      {
       "output_type": "stream",
       "stream": "stdout",
       "text": [
        "\n",
        "863\n",
        "864\n",
        "865\n",
        "866"
       ]
      },
      {
       "output_type": "stream",
       "stream": "stdout",
       "text": [
        "\n",
        "867\n",
        "868\n",
        "869\n",
        "870\n",
        "871\n",
        "872\n",
        "873"
       ]
      },
      {
       "output_type": "stream",
       "stream": "stdout",
       "text": [
        "\n",
        "874\n",
        "875\n",
        "876\n",
        "877"
       ]
      },
      {
       "output_type": "stream",
       "stream": "stdout",
       "text": [
        "\n",
        "878"
       ]
      },
      {
       "output_type": "stream",
       "stream": "stdout",
       "text": [
        "\n",
        "879\n",
        "880"
       ]
      },
      {
       "output_type": "stream",
       "stream": "stdout",
       "text": [
        "\n",
        "881\n",
        "882\n",
        "883\n",
        "884\n",
        "885"
       ]
      },
      {
       "output_type": "stream",
       "stream": "stdout",
       "text": [
        "\n",
        "886\n",
        "887\n",
        "888\n",
        "889\n",
        "890"
       ]
      },
      {
       "output_type": "stream",
       "stream": "stdout",
       "text": [
        "\n",
        "891"
       ]
      },
      {
       "output_type": "stream",
       "stream": "stdout",
       "text": [
        "\n",
        "892\n",
        "893"
       ]
      },
      {
       "output_type": "stream",
       "stream": "stdout",
       "text": [
        "\n",
        "894\n",
        "895"
       ]
      },
      {
       "output_type": "stream",
       "stream": "stdout",
       "text": [
        "\n",
        "896"
       ]
      },
      {
       "output_type": "stream",
       "stream": "stdout",
       "text": [
        "\n",
        "897\n",
        "898\n",
        "899"
       ]
      },
      {
       "output_type": "stream",
       "stream": "stdout",
       "text": [
        "\n",
        "900\n",
        "901\n",
        "902\n",
        "903"
       ]
      },
      {
       "output_type": "stream",
       "stream": "stdout",
       "text": [
        "\n",
        "904\n",
        "905"
       ]
      },
      {
       "output_type": "stream",
       "stream": "stdout",
       "text": [
        "\n",
        "906\n",
        "907\n",
        "908\n",
        "909"
       ]
      },
      {
       "output_type": "stream",
       "stream": "stdout",
       "text": [
        "\n",
        "910\n",
        "911\n",
        "912\n",
        "913\n",
        "914"
       ]
      },
      {
       "output_type": "stream",
       "stream": "stdout",
       "text": [
        "\n",
        "915"
       ]
      },
      {
       "output_type": "stream",
       "stream": "stdout",
       "text": [
        "\n",
        "916\n",
        "917\n",
        "918\n",
        "919\n",
        "920\n",
        "921"
       ]
      },
      {
       "output_type": "stream",
       "stream": "stdout",
       "text": [
        "\n",
        "922"
       ]
      },
      {
       "output_type": "stream",
       "stream": "stdout",
       "text": [
        "\n",
        "923"
       ]
      },
      {
       "output_type": "stream",
       "stream": "stdout",
       "text": [
        "\n",
        "924"
       ]
      },
      {
       "output_type": "stream",
       "stream": "stdout",
       "text": [
        "\n",
        "925\n",
        "926"
       ]
      },
      {
       "output_type": "stream",
       "stream": "stdout",
       "text": [
        "\n",
        "927\n",
        "928\n",
        "929\n",
        "930"
       ]
      },
      {
       "output_type": "stream",
       "stream": "stdout",
       "text": [
        "\n",
        "931"
       ]
      },
      {
       "output_type": "stream",
       "stream": "stdout",
       "text": [
        "\n",
        "932\n",
        "933\n",
        "934\n",
        "935"
       ]
      },
      {
       "output_type": "stream",
       "stream": "stdout",
       "text": [
        "\n",
        "936\n",
        "937\n",
        "938\n",
        "939"
       ]
      },
      {
       "output_type": "stream",
       "stream": "stdout",
       "text": [
        "\n",
        "940\n",
        "941\n",
        "942\n",
        "943\n",
        "944\n",
        "945\n",
        "946\n",
        "947\n",
        "948\n",
        "949\n",
        "950"
       ]
      },
      {
       "output_type": "stream",
       "stream": "stdout",
       "text": [
        "\n",
        "951\n",
        "952\n",
        "953\n",
        "954\n",
        "955\n",
        "956\n",
        "957\n",
        "958\n",
        "959\n",
        "960\n",
        "961\n",
        "962"
       ]
      },
      {
       "output_type": "stream",
       "stream": "stdout",
       "text": [
        "\n",
        "963\n",
        "964\n",
        "965\n",
        "966\n",
        "967\n",
        "968\n",
        "969\n",
        "970"
       ]
      },
      {
       "output_type": "stream",
       "stream": "stdout",
       "text": [
        "\n",
        "971\n",
        "972\n",
        "973\n",
        "974\n",
        "975"
       ]
      },
      {
       "output_type": "stream",
       "stream": "stdout",
       "text": [
        "\n",
        "976\n",
        "977"
       ]
      },
      {
       "output_type": "stream",
       "stream": "stdout",
       "text": [
        "\n",
        "978\n",
        "979"
       ]
      },
      {
       "output_type": "stream",
       "stream": "stdout",
       "text": [
        "\n",
        "980\n",
        "981\n",
        "982\n",
        "983\n",
        "984\n",
        "985\n",
        "986\n",
        "987\n",
        "988\n",
        "989\n",
        "990"
       ]
      },
      {
       "output_type": "stream",
       "stream": "stdout",
       "text": [
        "\n",
        "991"
       ]
      },
      {
       "output_type": "stream",
       "stream": "stdout",
       "text": [
        "\n",
        "992\n",
        "993\n",
        "994\n",
        "995\n",
        "996\n",
        "997\n",
        "998"
       ]
      },
      {
       "output_type": "stream",
       "stream": "stdout",
       "text": [
        "\n",
        "999\n",
        "1000\n"
       ]
      }
     ],
     "prompt_number": 58
    },
    {
     "cell_type": "code",
     "collapsed": false,
     "input": [
      "final_map = {}  #user_id and corresponding tuple(no_of_reviews in T,no_of_reviews by friends in T-1)\n",
      "\n",
      "for i in range(len(user_review_dic)):\n",
      "    curr_uid = i+1\n",
      "    review_list = user_review_dic[curr_uid]\n",
      "    if(len(review_list)<=1):\n",
      "        T_date = review_list[0]\n",
      "        no_of_rev_T = len(review_list)\n",
      "    else:\n",
      "        T_date = review_list[len(review_list)/2]\n",
      "        no_of_rev_T = len(review_list)/2\n",
      "    curr_frnds = user_data['friends'][curr_uid-1]\n",
      "    no_of_rev_T1 = 0\n",
      "    no_of_cont_frnds = 0\n",
      "    for friend in range(len(curr_frnds)):\n",
      "            cont_flag = 0\n",
      "            curr_friend_reviews = user_review_dic[int(curr_frnds[friend])] #list of reviews made by this friend\n",
      "            for f_review in curr_friend_reviews:\n",
      "                \n",
      "                curr_f_date = review_data['date'][f_review-1]\n",
      "                curr_T_date = review_data['date'][T_date-1]\n",
      "                x= str(curr_f_date).split(' ')\n",
      "                y= str(curr_T_date).split(' ')\n",
      "                #print x[0],y[0]\n",
      "                if(date_compare(x[0],y[0])):\n",
      "                        no_of_rev_T1 += 1\n",
      "                        cont_flag = 1\n",
      "                        \n",
      "            if(cont_flag==1): no_of_cont_frnds += 1     \n",
      "    final_map[curr_uid] = (no_of_rev_T,no_of_rev_T1,len(curr_frnds),no_of_cont_frnds)\n",
      "    if(i==1000): break\n",
      "    print i\n",
      "w = []\n",
      "x = []\n",
      "y = []\n",
      "z = []\n",
      "for i in range(len(final_map)):\n",
      "    uid = i+1\n",
      "    tup = final_map[uid]\n",
      "    if(tup[2]!=0):\n",
      "        print \"user --- no_of_reviews in  T ---- no_of_reviews in T-1 by frnds----- no_of_cont_frnds\",uid,tup[0],tup[1],tup[3]\n",
      "        w.append(tup[0])\n",
      "        x.append(tup[1])\n",
      "        y.append(tup[2])\n",
      "        z.append(tup[3])\n",
      "        \n",
      "    "
     ],
     "language": "python",
     "metadata": {},
     "outputs": [
      {
       "output_type": "stream",
       "stream": "stdout",
       "text": [
        "0\n",
        "1"
       ]
      },
      {
       "output_type": "stream",
       "stream": "stdout",
       "text": [
        "\n",
        "2"
       ]
      },
      {
       "output_type": "stream",
       "stream": "stdout",
       "text": [
        "\n",
        "3\n",
        "4\n",
        "5"
       ]
      },
      {
       "output_type": "stream",
       "stream": "stdout",
       "text": [
        "\n",
        "6\n",
        "7"
       ]
      },
      {
       "output_type": "stream",
       "stream": "stdout",
       "text": [
        "\n",
        "8\n",
        "9"
       ]
      },
      {
       "output_type": "stream",
       "stream": "stdout",
       "text": [
        "\n",
        "10\n",
        "11"
       ]
      },
      {
       "output_type": "stream",
       "stream": "stdout",
       "text": [
        "\n",
        "12\n",
        "13\n",
        "14"
       ]
      },
      {
       "output_type": "stream",
       "stream": "stdout",
       "text": [
        "\n",
        "15"
       ]
      },
      {
       "output_type": "stream",
       "stream": "stdout",
       "text": [
        "\n",
        "16\n",
        "17\n",
        "18\n",
        "19"
       ]
      },
      {
       "output_type": "stream",
       "stream": "stdout",
       "text": [
        "\n",
        "20\n",
        "21\n",
        "22\n",
        "23\n",
        "24"
       ]
      },
      {
       "output_type": "stream",
       "stream": "stdout",
       "text": [
        "\n",
        "25\n",
        "26\n",
        "27\n",
        "28\n",
        "29\n",
        "30\n",
        "31\n",
        "32\n",
        "33\n",
        "34\n",
        "35\n",
        "36\n",
        "37\n",
        "38\n",
        "39\n",
        "40\n",
        "41"
       ]
      },
      {
       "output_type": "stream",
       "stream": "stdout",
       "text": [
        "\n",
        "42\n",
        "43\n",
        "44\n",
        "45\n",
        "46\n",
        "47\n",
        "48\n",
        "49\n",
        "50\n",
        "51"
       ]
      },
      {
       "output_type": "stream",
       "stream": "stdout",
       "text": [
        "\n",
        "52\n",
        "53\n",
        "54\n",
        "55\n",
        "56\n",
        "57\n",
        "58\n",
        "59\n",
        "60\n",
        "61\n",
        "62\n",
        "63"
       ]
      },
      {
       "output_type": "stream",
       "stream": "stdout",
       "text": [
        "\n",
        "64\n",
        "65\n",
        "66\n",
        "67\n",
        "68\n",
        "69\n",
        "70\n",
        "71\n",
        "72\n",
        "73\n",
        "74\n",
        "75\n",
        "76\n",
        "77\n",
        "78\n",
        "79\n",
        "80\n",
        "81\n",
        "82\n",
        "83\n",
        "84\n",
        "85\n",
        "86\n",
        "87\n",
        "88\n",
        "89\n",
        "90\n",
        "91\n",
        "92"
       ]
      },
      {
       "output_type": "stream",
       "stream": "stdout",
       "text": [
        "\n",
        "93"
       ]
      },
      {
       "output_type": "stream",
       "stream": "stdout",
       "text": [
        "\n",
        "94"
       ]
      },
      {
       "output_type": "stream",
       "stream": "stdout",
       "text": [
        "\n",
        "95\n",
        "96\n",
        "97"
       ]
      },
      {
       "output_type": "stream",
       "stream": "stdout",
       "text": [
        "\n",
        "98\n",
        "99\n",
        "100"
       ]
      },
      {
       "output_type": "stream",
       "stream": "stdout",
       "text": [
        "\n",
        "101\n",
        "102\n",
        "103\n",
        "104\n",
        "105\n",
        "106\n",
        "107\n",
        "108"
       ]
      },
      {
       "output_type": "stream",
       "stream": "stdout",
       "text": [
        "\n",
        "109\n",
        "110\n",
        "111\n",
        "112\n",
        "113"
       ]
      },
      {
       "output_type": "stream",
       "stream": "stdout",
       "text": [
        "\n",
        "114\n",
        "115\n",
        "116\n",
        "117\n",
        "118\n",
        "119\n",
        "120\n",
        "121\n",
        "122\n",
        "123"
       ]
      },
      {
       "output_type": "stream",
       "stream": "stdout",
       "text": [
        "\n",
        "124\n",
        "125\n",
        "126"
       ]
      },
      {
       "output_type": "stream",
       "stream": "stdout",
       "text": [
        "\n",
        "127"
       ]
      },
      {
       "output_type": "stream",
       "stream": "stdout",
       "text": [
        "\n",
        "128\n",
        "129\n",
        "130\n",
        "131\n",
        "132\n",
        "133\n",
        "134\n",
        "135\n",
        "136\n",
        "137\n",
        "138"
       ]
      },
      {
       "output_type": "stream",
       "stream": "stdout",
       "text": [
        "\n",
        "139\n",
        "140\n",
        "141\n",
        "142\n",
        "143\n",
        "144\n",
        "145\n",
        "146\n",
        "147\n",
        "148\n",
        "149\n",
        "150"
       ]
      },
      {
       "output_type": "stream",
       "stream": "stdout",
       "text": [
        "\n",
        "151\n",
        "152"
       ]
      },
      {
       "output_type": "stream",
       "stream": "stdout",
       "text": [
        "\n",
        "153\n",
        "154\n",
        "155\n",
        "156\n",
        "157\n",
        "158\n",
        "159\n",
        "160\n",
        "161\n",
        "162\n",
        "163\n",
        "164\n",
        "165\n",
        "166"
       ]
      },
      {
       "output_type": "stream",
       "stream": "stdout",
       "text": [
        "\n",
        "167\n",
        "168\n",
        "169\n",
        "170\n",
        "171\n",
        "172\n",
        "173\n",
        "174\n",
        "175\n",
        "176\n",
        "177\n",
        "178"
       ]
      },
      {
       "output_type": "stream",
       "stream": "stdout",
       "text": [
        "\n",
        "179\n",
        "180\n",
        "181"
       ]
      },
      {
       "output_type": "stream",
       "stream": "stdout",
       "text": [
        "\n",
        "182"
       ]
      },
      {
       "output_type": "stream",
       "stream": "stdout",
       "text": [
        "\n",
        "183\n",
        "184\n",
        "185"
       ]
      },
      {
       "output_type": "stream",
       "stream": "stdout",
       "text": [
        "\n",
        "186\n",
        "187\n",
        "188\n",
        "189\n",
        "190"
       ]
      },
      {
       "output_type": "stream",
       "stream": "stdout",
       "text": [
        "\n",
        "191\n",
        "192"
       ]
      },
      {
       "output_type": "stream",
       "stream": "stdout",
       "text": [
        "\n",
        "193\n",
        "194"
       ]
      },
      {
       "output_type": "stream",
       "stream": "stdout",
       "text": [
        "\n",
        "195\n",
        "196\n",
        "197\n",
        "198\n",
        "199\n",
        "200\n",
        "201\n",
        "202\n",
        "203\n",
        "204"
       ]
      },
      {
       "output_type": "stream",
       "stream": "stdout",
       "text": [
        "\n",
        "205\n",
        "206"
       ]
      },
      {
       "output_type": "stream",
       "stream": "stdout",
       "text": [
        "\n",
        "207\n",
        "208\n",
        "209\n",
        "210\n",
        "211\n",
        "212\n",
        "213\n",
        "214\n",
        "215"
       ]
      },
      {
       "output_type": "stream",
       "stream": "stdout",
       "text": [
        "\n",
        "216\n",
        "217\n",
        "218\n",
        "219\n",
        "220"
       ]
      },
      {
       "output_type": "stream",
       "stream": "stdout",
       "text": [
        "\n",
        "221\n",
        "222\n",
        "223\n",
        "224\n",
        "225\n",
        "226"
       ]
      },
      {
       "output_type": "stream",
       "stream": "stdout",
       "text": [
        "\n",
        "227\n",
        "228\n",
        "229\n",
        "230\n",
        "231\n",
        "232\n",
        "233\n",
        "234\n",
        "235\n",
        "236\n",
        "237\n",
        "238\n",
        "239\n",
        "240\n",
        "241\n",
        "242\n",
        "243\n",
        "244\n",
        "245\n",
        "246\n",
        "247\n",
        "248\n",
        "249\n",
        "250\n",
        "251\n",
        "252\n",
        "253\n",
        "254\n",
        "255\n",
        "256\n",
        "257\n",
        "258\n",
        "259\n",
        "260\n",
        "261\n",
        "262\n",
        "263\n",
        "264"
       ]
      },
      {
       "output_type": "stream",
       "stream": "stdout",
       "text": [
        "\n",
        "265\n",
        "266\n",
        "267\n",
        "268\n",
        "269\n",
        "270\n",
        "271\n",
        "272\n",
        "273"
       ]
      },
      {
       "output_type": "stream",
       "stream": "stdout",
       "text": [
        "\n",
        "274"
       ]
      },
      {
       "output_type": "stream",
       "stream": "stdout",
       "text": [
        "\n",
        "275\n",
        "276"
       ]
      },
      {
       "output_type": "stream",
       "stream": "stdout",
       "text": [
        "\n",
        "277"
       ]
      },
      {
       "output_type": "stream",
       "stream": "stdout",
       "text": [
        "\n",
        "278\n",
        "279\n",
        "280\n",
        "281\n",
        "282\n",
        "283\n",
        "284"
       ]
      },
      {
       "output_type": "stream",
       "stream": "stdout",
       "text": [
        "\n",
        "285\n",
        "286\n",
        "287\n",
        "288\n",
        "289\n",
        "290\n",
        "291\n",
        "292\n",
        "293\n",
        "294\n",
        "295\n",
        "296\n",
        "297\n",
        "298"
       ]
      },
      {
       "output_type": "stream",
       "stream": "stdout",
       "text": [
        "\n",
        "299\n",
        "300\n",
        "301\n",
        "302\n",
        "303\n",
        "304\n",
        "305\n",
        "306"
       ]
      },
      {
       "output_type": "stream",
       "stream": "stdout",
       "text": [
        "\n",
        "307\n",
        "308\n",
        "309\n",
        "310\n",
        "311\n",
        "312"
       ]
      },
      {
       "output_type": "stream",
       "stream": "stdout",
       "text": [
        "\n",
        "313\n",
        "314\n",
        "315\n",
        "316\n",
        "317\n",
        "318\n",
        "319"
       ]
      },
      {
       "output_type": "stream",
       "stream": "stdout",
       "text": [
        "\n",
        "320\n",
        "321\n",
        "322\n",
        "323\n",
        "324\n",
        "325\n",
        "326"
       ]
      },
      {
       "output_type": "stream",
       "stream": "stdout",
       "text": [
        "\n",
        "327\n",
        "328\n",
        "329\n",
        "330\n",
        "331\n",
        "332\n",
        "333\n",
        "334\n",
        "335\n",
        "336\n",
        "337\n",
        "338\n",
        "339\n",
        "340\n",
        "341"
       ]
      },
      {
       "output_type": "stream",
       "stream": "stdout",
       "text": [
        "\n",
        "342\n",
        "343\n",
        "344\n",
        "345\n",
        "346\n",
        "347\n",
        "348\n",
        "349\n",
        "350\n",
        "351\n",
        "352\n",
        "353\n",
        "354\n",
        "355\n",
        "356\n",
        "357\n",
        "358\n",
        "359\n",
        "360\n",
        "361\n",
        "362\n",
        "363\n",
        "364"
       ]
      },
      {
       "output_type": "stream",
       "stream": "stdout",
       "text": [
        "\n",
        "365\n",
        "366"
       ]
      },
      {
       "output_type": "stream",
       "stream": "stdout",
       "text": [
        "\n",
        "367\n",
        "368\n",
        "369\n",
        "370\n",
        "371\n",
        "372"
       ]
      },
      {
       "output_type": "stream",
       "stream": "stdout",
       "text": [
        "\n",
        "373"
       ]
      },
      {
       "output_type": "stream",
       "stream": "stdout",
       "text": [
        "\n",
        "374"
       ]
      },
      {
       "output_type": "stream",
       "stream": "stdout",
       "text": [
        "\n",
        "375\n",
        "376\n",
        "377\n",
        "378\n",
        "379\n",
        "380"
       ]
      },
      {
       "output_type": "stream",
       "stream": "stdout",
       "text": [
        "\n",
        "381\n",
        "382\n",
        "383\n",
        "384"
       ]
      },
      {
       "output_type": "stream",
       "stream": "stdout",
       "text": [
        "\n",
        "385\n",
        "386"
       ]
      },
      {
       "output_type": "stream",
       "stream": "stdout",
       "text": [
        "\n",
        "387\n",
        "388\n",
        "389"
       ]
      },
      {
       "output_type": "stream",
       "stream": "stdout",
       "text": [
        "\n",
        "390"
       ]
      },
      {
       "output_type": "stream",
       "stream": "stdout",
       "text": [
        "\n",
        "391\n",
        "392\n",
        "393\n",
        "394\n",
        "395\n",
        "396\n",
        "397\n",
        "398\n",
        "399\n",
        "400\n",
        "401\n",
        "402\n",
        "403\n",
        "404"
       ]
      },
      {
       "output_type": "stream",
       "stream": "stdout",
       "text": [
        "\n",
        "405\n",
        "406\n",
        "407\n",
        "408\n",
        "409\n",
        "410\n",
        "411\n",
        "412\n",
        "413\n",
        "414\n",
        "415\n",
        "416"
       ]
      },
      {
       "output_type": "stream",
       "stream": "stdout",
       "text": [
        "\n",
        "417\n",
        "418"
       ]
      },
      {
       "output_type": "stream",
       "stream": "stdout",
       "text": [
        "\n",
        "419\n",
        "420\n",
        "421\n",
        "422\n",
        "423\n",
        "424"
       ]
      },
      {
       "output_type": "stream",
       "stream": "stdout",
       "text": [
        "\n",
        "425\n",
        "426\n",
        "427"
       ]
      },
      {
       "output_type": "stream",
       "stream": "stdout",
       "text": [
        "\n",
        "428\n",
        "429\n",
        "430\n",
        "431\n",
        "432\n",
        "433\n",
        "434\n",
        "435\n",
        "436\n",
        "437\n",
        "438\n",
        "439\n",
        "440\n",
        "441\n",
        "442\n",
        "443\n",
        "444\n",
        "445\n",
        "446"
       ]
      },
      {
       "output_type": "stream",
       "stream": "stdout",
       "text": [
        "\n",
        "447\n",
        "448\n",
        "449\n",
        "450\n",
        "451\n",
        "452\n",
        "453\n",
        "454\n",
        "455"
       ]
      },
      {
       "output_type": "stream",
       "stream": "stdout",
       "text": [
        "\n",
        "456\n",
        "457\n",
        "458"
       ]
      },
      {
       "output_type": "stream",
       "stream": "stdout",
       "text": [
        "\n",
        "459\n",
        "460\n",
        "461\n",
        "462\n",
        "463\n",
        "464\n",
        "465\n",
        "466\n",
        "467"
       ]
      },
      {
       "output_type": "stream",
       "stream": "stdout",
       "text": [
        "\n",
        "468"
       ]
      },
      {
       "output_type": "stream",
       "stream": "stdout",
       "text": [
        "\n",
        "469\n",
        "470\n",
        "471\n",
        "472"
       ]
      },
      {
       "output_type": "stream",
       "stream": "stdout",
       "text": [
        "\n",
        "473"
       ]
      },
      {
       "output_type": "stream",
       "stream": "stdout",
       "text": [
        "\n",
        "474\n",
        "475\n",
        "476\n",
        "477\n",
        "478"
       ]
      },
      {
       "output_type": "stream",
       "stream": "stdout",
       "text": [
        "\n",
        "479"
       ]
      },
      {
       "output_type": "stream",
       "stream": "stdout",
       "text": [
        "\n",
        "480\n",
        "481\n",
        "482"
       ]
      },
      {
       "output_type": "stream",
       "stream": "stdout",
       "text": [
        "\n",
        "483\n",
        "484\n",
        "485\n",
        "486\n",
        "487"
       ]
      },
      {
       "output_type": "stream",
       "stream": "stdout",
       "text": [
        "\n",
        "488\n",
        "489"
       ]
      },
      {
       "output_type": "stream",
       "stream": "stdout",
       "text": [
        "\n",
        "490\n",
        "491\n",
        "492\n",
        "493\n",
        "494\n",
        "495\n",
        "496\n",
        "497\n",
        "498\n",
        "499\n",
        "500\n",
        "501"
       ]
      },
      {
       "output_type": "stream",
       "stream": "stdout",
       "text": [
        "\n",
        "502\n",
        "503"
       ]
      },
      {
       "output_type": "stream",
       "stream": "stdout",
       "text": [
        "\n",
        "504\n",
        "505\n",
        "506\n",
        "507\n",
        "508\n",
        "509\n",
        "510\n",
        "511\n",
        "512\n",
        "513\n",
        "514\n",
        "515\n",
        "516\n",
        "517\n",
        "518\n",
        "519\n",
        "520\n",
        "521\n",
        "522"
       ]
      },
      {
       "output_type": "stream",
       "stream": "stdout",
       "text": [
        "\n",
        "523\n",
        "524\n",
        "525\n",
        "526\n",
        "527\n",
        "528\n",
        "529\n",
        "530\n",
        "531\n",
        "532\n",
        "533\n",
        "534\n",
        "535\n",
        "536\n",
        "537\n",
        "538\n",
        "539\n",
        "540\n",
        "541\n",
        "542\n",
        "543"
       ]
      },
      {
       "output_type": "stream",
       "stream": "stdout",
       "text": [
        "\n",
        "544\n",
        "545"
       ]
      },
      {
       "output_type": "stream",
       "stream": "stdout",
       "text": [
        "\n",
        "546\n",
        "547\n",
        "548"
       ]
      },
      {
       "output_type": "stream",
       "stream": "stdout",
       "text": [
        "\n",
        "549\n",
        "550\n",
        "551\n",
        "552\n",
        "553"
       ]
      },
      {
       "output_type": "stream",
       "stream": "stdout",
       "text": [
        "\n",
        "554\n",
        "555\n",
        "556\n",
        "557\n",
        "558"
       ]
      },
      {
       "output_type": "stream",
       "stream": "stdout",
       "text": [
        "\n",
        "559"
       ]
      },
      {
       "output_type": "stream",
       "stream": "stdout",
       "text": [
        "\n",
        "560\n",
        "561\n",
        "562\n",
        "563\n",
        "564\n",
        "565\n",
        "566\n",
        "567\n",
        "568\n",
        "569\n",
        "570\n",
        "571\n",
        "572"
       ]
      },
      {
       "output_type": "stream",
       "stream": "stdout",
       "text": [
        "\n",
        "573\n",
        "574\n",
        "575\n",
        "576\n",
        "577\n",
        "578\n",
        "579\n",
        "580"
       ]
      },
      {
       "output_type": "stream",
       "stream": "stdout",
       "text": [
        "\n",
        "581\n",
        "582\n",
        "583\n",
        "584\n",
        "585\n",
        "586\n",
        "587\n",
        "588\n",
        "589"
       ]
      },
      {
       "output_type": "stream",
       "stream": "stdout",
       "text": [
        "\n",
        "590\n",
        "591\n",
        "592\n",
        "593\n",
        "594\n",
        "595\n",
        "596\n",
        "597"
       ]
      },
      {
       "output_type": "stream",
       "stream": "stdout",
       "text": [
        "\n",
        "598\n",
        "599\n",
        "600\n",
        "601\n",
        "602\n",
        "603\n",
        "604\n",
        "605\n",
        "606\n",
        "607\n",
        "608\n",
        "609\n",
        "610\n",
        "611"
       ]
      },
      {
       "output_type": "stream",
       "stream": "stdout",
       "text": [
        "\n",
        "612"
       ]
      },
      {
       "output_type": "stream",
       "stream": "stdout",
       "text": [
        "\n",
        "613\n",
        "614\n",
        "615\n",
        "616\n",
        "617\n",
        "618\n",
        "619"
       ]
      },
      {
       "output_type": "stream",
       "stream": "stdout",
       "text": [
        "\n",
        "620\n",
        "621\n",
        "622\n",
        "623\n",
        "624\n",
        "625\n",
        "626\n",
        "627\n",
        "628\n",
        "629\n",
        "630\n",
        "631\n",
        "632\n",
        "633\n",
        "634"
       ]
      },
      {
       "output_type": "stream",
       "stream": "stdout",
       "text": [
        "\n",
        "635\n",
        "636"
       ]
      },
      {
       "output_type": "stream",
       "stream": "stdout",
       "text": [
        "\n",
        "637\n",
        "638\n",
        "639"
       ]
      },
      {
       "output_type": "stream",
       "stream": "stdout",
       "text": [
        "\n",
        "640\n",
        "641\n",
        "642\n",
        "643\n",
        "644\n",
        "645"
       ]
      },
      {
       "output_type": "stream",
       "stream": "stdout",
       "text": [
        "\n",
        "646\n",
        "647\n",
        "648\n",
        "649\n",
        "650\n",
        "651\n",
        "652"
       ]
      },
      {
       "output_type": "stream",
       "stream": "stdout",
       "text": [
        "\n",
        "653\n",
        "654\n",
        "655\n",
        "656\n",
        "657\n",
        "658\n",
        "659"
       ]
      },
      {
       "output_type": "stream",
       "stream": "stdout",
       "text": [
        "\n",
        "660\n",
        "661\n",
        "662\n",
        "663\n",
        "664\n",
        "665\n",
        "666"
       ]
      },
      {
       "output_type": "stream",
       "stream": "stdout",
       "text": [
        "\n",
        "667"
       ]
      },
      {
       "output_type": "stream",
       "stream": "stdout",
       "text": [
        "\n",
        "668\n",
        "669\n",
        "670"
       ]
      },
      {
       "output_type": "stream",
       "stream": "stdout",
       "text": [
        "\n",
        "671\n",
        "672\n",
        "673\n",
        "674\n",
        "675\n",
        "676"
       ]
      },
      {
       "output_type": "stream",
       "stream": "stdout",
       "text": [
        "\n",
        "677\n",
        "678\n",
        "679\n",
        "680\n",
        "681\n",
        "682\n",
        "683\n",
        "684\n",
        "685"
       ]
      },
      {
       "output_type": "stream",
       "stream": "stdout",
       "text": [
        "\n",
        "686\n",
        "687\n",
        "688\n",
        "689\n",
        "690\n",
        "691\n",
        "692"
       ]
      },
      {
       "output_type": "stream",
       "stream": "stdout",
       "text": [
        "\n",
        "693\n",
        "694"
       ]
      },
      {
       "output_type": "stream",
       "stream": "stdout",
       "text": [
        "\n",
        "695\n",
        "696\n",
        "697\n",
        "698\n",
        "699\n",
        "700\n",
        "701\n",
        "702\n",
        "703\n",
        "704\n",
        "705\n",
        "706\n",
        "707\n",
        "708\n",
        "709\n",
        "710\n",
        "711\n",
        "712\n",
        "713\n",
        "714\n",
        "715\n",
        "716\n",
        "717"
       ]
      },
      {
       "output_type": "stream",
       "stream": "stdout",
       "text": [
        "\n",
        "718\n",
        "719\n",
        "720\n",
        "721\n",
        "722"
       ]
      },
      {
       "output_type": "stream",
       "stream": "stdout",
       "text": [
        "\n",
        "723\n",
        "724\n",
        "725\n",
        "726\n",
        "727\n",
        "728\n",
        "729\n",
        "730"
       ]
      },
      {
       "output_type": "stream",
       "stream": "stdout",
       "text": [
        "\n",
        "731\n",
        "732"
       ]
      },
      {
       "output_type": "stream",
       "stream": "stdout",
       "text": [
        "\n",
        "733"
       ]
      },
      {
       "output_type": "stream",
       "stream": "stdout",
       "text": [
        "\n",
        "734\n",
        "735\n",
        "736"
       ]
      },
      {
       "output_type": "stream",
       "stream": "stdout",
       "text": [
        "\n",
        "737\n",
        "738\n",
        "739\n",
        "740\n",
        "741"
       ]
      },
      {
       "output_type": "stream",
       "stream": "stdout",
       "text": [
        "\n",
        "742\n",
        "743\n",
        "744\n",
        "745\n",
        "746\n",
        "747\n",
        "748\n",
        "749"
       ]
      },
      {
       "output_type": "stream",
       "stream": "stdout",
       "text": [
        "\n",
        "750\n",
        "751\n",
        "752\n",
        "753"
       ]
      },
      {
       "output_type": "stream",
       "stream": "stdout",
       "text": [
        "\n",
        "754\n",
        "755\n",
        "756\n",
        "757\n",
        "758\n",
        "759\n",
        "760\n",
        "761\n",
        "762\n",
        "763"
       ]
      },
      {
       "output_type": "stream",
       "stream": "stdout",
       "text": [
        "\n",
        "764"
       ]
      },
      {
       "output_type": "stream",
       "stream": "stdout",
       "text": [
        "\n",
        "765\n",
        "766\n",
        "767\n",
        "768\n",
        "769\n",
        "770\n",
        "771\n",
        "772\n",
        "773\n",
        "774"
       ]
      },
      {
       "output_type": "stream",
       "stream": "stdout",
       "text": [
        "\n",
        "775\n",
        "776\n",
        "777"
       ]
      },
      {
       "output_type": "stream",
       "stream": "stdout",
       "text": [
        "\n",
        "778\n",
        "779\n",
        "780\n",
        "781\n",
        "782"
       ]
      },
      {
       "output_type": "stream",
       "stream": "stdout",
       "text": [
        "\n",
        "783"
       ]
      },
      {
       "output_type": "stream",
       "stream": "stdout",
       "text": [
        "\n",
        "784\n",
        "785\n",
        "786\n",
        "787\n",
        "788\n",
        "789\n",
        "790"
       ]
      },
      {
       "output_type": "stream",
       "stream": "stdout",
       "text": [
        "\n",
        "791\n",
        "792\n",
        "793"
       ]
      },
      {
       "output_type": "stream",
       "stream": "stdout",
       "text": [
        "\n",
        "794\n",
        "795\n",
        "796\n",
        "797\n",
        "798\n",
        "799"
       ]
      },
      {
       "output_type": "stream",
       "stream": "stdout",
       "text": [
        "\n",
        "800\n",
        "801\n",
        "802\n",
        "803\n",
        "804\n",
        "805\n",
        "806\n",
        "807\n",
        "808\n",
        "809\n",
        "810\n",
        "811\n",
        "812\n",
        "813\n",
        "814\n",
        "815\n",
        "816\n",
        "817\n",
        "818"
       ]
      },
      {
       "output_type": "stream",
       "stream": "stdout",
       "text": [
        "\n",
        "819\n",
        "820\n",
        "821"
       ]
      },
      {
       "output_type": "stream",
       "stream": "stdout",
       "text": [
        "\n",
        "822"
       ]
      },
      {
       "output_type": "stream",
       "stream": "stdout",
       "text": [
        "\n",
        "823\n",
        "824"
       ]
      },
      {
       "output_type": "stream",
       "stream": "stdout",
       "text": [
        "\n",
        "825\n",
        "826\n",
        "827\n",
        "828"
       ]
      },
      {
       "output_type": "stream",
       "stream": "stdout",
       "text": [
        "\n",
        "829\n",
        "830\n",
        "831\n",
        "832\n",
        "833\n",
        "834\n",
        "835\n",
        "836\n",
        "837\n",
        "838"
       ]
      },
      {
       "output_type": "stream",
       "stream": "stdout",
       "text": [
        "\n",
        "839\n",
        "840\n",
        "841\n",
        "842\n",
        "843\n",
        "844\n",
        "845\n",
        "846\n",
        "847"
       ]
      },
      {
       "output_type": "stream",
       "stream": "stdout",
       "text": [
        "\n",
        "848\n",
        "849\n",
        "850\n",
        "851\n",
        "852\n",
        "853\n",
        "854\n",
        "855\n",
        "856\n",
        "857\n",
        "858"
       ]
      },
      {
       "output_type": "stream",
       "stream": "stdout",
       "text": [
        "\n",
        "859\n",
        "860\n",
        "861\n",
        "862\n",
        "863\n",
        "864\n",
        "865\n",
        "866\n",
        "867\n",
        "868\n",
        "869\n",
        "870\n",
        "871\n",
        "872\n",
        "873\n",
        "874\n",
        "875\n",
        "876\n",
        "877\n",
        "878\n",
        "879"
       ]
      },
      {
       "output_type": "stream",
       "stream": "stdout",
       "text": [
        "\n",
        "880\n",
        "881\n",
        "882\n",
        "883\n",
        "884\n",
        "885\n",
        "886\n",
        "887\n",
        "888\n",
        "889\n",
        "890\n",
        "891\n",
        "892\n",
        "893\n",
        "894\n",
        "895\n",
        "896\n",
        "897"
       ]
      },
      {
       "output_type": "stream",
       "stream": "stdout",
       "text": [
        "\n",
        "898\n",
        "899\n",
        "900\n",
        "901\n",
        "902\n",
        "903\n",
        "904\n",
        "905\n",
        "906\n",
        "907\n",
        "908"
       ]
      },
      {
       "output_type": "stream",
       "stream": "stdout",
       "text": [
        "\n",
        "909\n",
        "910\n",
        "911"
       ]
      },
      {
       "output_type": "stream",
       "stream": "stdout",
       "text": [
        "\n",
        "912"
       ]
      },
      {
       "output_type": "stream",
       "stream": "stdout",
       "text": [
        "\n",
        "913\n",
        "914\n",
        "915\n",
        "916"
       ]
      },
      {
       "output_type": "stream",
       "stream": "stdout",
       "text": [
        "\n",
        "917\n",
        "918\n",
        "919\n",
        "920"
       ]
      },
      {
       "output_type": "stream",
       "stream": "stdout",
       "text": [
        "\n",
        "921\n",
        "922\n",
        "923\n",
        "924\n",
        "925\n",
        "926"
       ]
      },
      {
       "output_type": "stream",
       "stream": "stdout",
       "text": [
        "\n",
        "927\n",
        "928\n",
        "929\n",
        "930\n",
        "931\n",
        "932"
       ]
      },
      {
       "output_type": "stream",
       "stream": "stdout",
       "text": [
        "\n",
        "933\n",
        "934\n",
        "935\n",
        "936\n",
        "937\n",
        "938\n",
        "939\n",
        "940"
       ]
      },
      {
       "output_type": "stream",
       "stream": "stdout",
       "text": [
        "\n",
        "941\n",
        "942\n",
        "943\n",
        "944\n",
        "945\n",
        "946"
       ]
      },
      {
       "output_type": "stream",
       "stream": "stdout",
       "text": [
        "\n",
        "947\n",
        "948\n",
        "949\n",
        "950\n",
        "951\n",
        "952\n",
        "953\n",
        "954\n",
        "955"
       ]
      },
      {
       "output_type": "stream",
       "stream": "stdout",
       "text": [
        "\n",
        "956\n",
        "957\n",
        "958\n",
        "959\n",
        "960\n",
        "961\n",
        "962\n",
        "963\n",
        "964"
       ]
      },
      {
       "output_type": "stream",
       "stream": "stdout",
       "text": [
        "\n",
        "965\n",
        "966\n",
        "967\n",
        "968\n",
        "969\n",
        "970\n",
        "971\n",
        "972\n",
        "973"
       ]
      },
      {
       "output_type": "stream",
       "stream": "stdout",
       "text": [
        "\n",
        "974\n",
        "975\n",
        "976\n",
        "977\n",
        "978\n",
        "979\n",
        "980\n",
        "981\n",
        "982\n",
        "983\n",
        "984\n",
        "985\n",
        "986\n",
        "987\n",
        "988"
       ]
      },
      {
       "output_type": "stream",
       "stream": "stdout",
       "text": [
        "\n",
        "989\n",
        "990\n",
        "991\n",
        "992\n",
        "993\n",
        "994\n",
        "995\n",
        "996"
       ]
      },
      {
       "output_type": "stream",
       "stream": "stdout",
       "text": [
        "\n",
        "997"
       ]
      },
      {
       "output_type": "stream",
       "stream": "stdout",
       "text": [
        "\n",
        "998"
       ]
      },
      {
       "output_type": "stream",
       "stream": "stdout",
       "text": [
        "\n",
        "999\n",
        "user --- no_of_reviews in  T ---- no_of_reviews in T-1 by frnds----- no_of_cont_frnds 1 1 423 67\n",
        "user --- no_of_reviews in  T ---- no_of_reviews in T-1 by frnds----- no_of_cont_frnds 2 1 10637 884\n",
        "user --- no_of_reviews in  T ---- no_of_reviews in T-1 by frnds----- no_of_cont_frnds 3 40 5309 310\n",
        "user --- no_of_reviews in  T ---- no_of_reviews in T-1 by frnds----- no_of_cont_frnds 4 1 57 4\n",
        "user --- no_of_reviews in  T ---- no_of_reviews in T-1 by frnds----- no_of_cont_frnds 5 1 29 4\n",
        "user --- no_of_reviews in  T ---- no_of_reviews in T-1 by frnds----- no_of_cont_frnds 6 74 19695 1048\n",
        "user --- no_of_reviews in  T ---- no_of_reviews in T-1 by frnds----- no_of_cont_frnds 7 6 90 11\n",
        "user --- no_of_reviews in  T ---- no_of_reviews in T-1 by frnds----- no_of_cont_frnds 8 1 338 38\n",
        "user --- no_of_reviews in  T ---- no_of_reviews in T-1 by frnds----- no_of_cont_frnds 9 41 22 2\n",
        "user --- no_of_reviews in  T ---- no_of_reviews in T-1 by frnds----- no_of_cont_frnds 10 3 1685 40\n",
        "user --- no_of_reviews in  T ---- no_of_reviews in T-1 by frnds----- no_of_cont_frnds 11 8 22 6\n",
        "user --- no_of_reviews in  T ---- no_of_reviews in T-1 by frnds----- no_of_cont_frnds 12 1 1453 123\n",
        "user --- no_of_reviews in  T ---- no_of_reviews in T-1 by frnds----- no_of_cont_frnds 13 23 94 13\n",
        "user --- no_of_reviews in  T ---- no_of_reviews in T-1 by frnds----- no_of_cont_frnds 14 39 2 1\n",
        "user --- no_of_reviews in  T ---- no_of_reviews in T-1 by frnds----- no_of_cont_frnds 15 8 1402 21\n",
        "user --- no_of_reviews in  T ---- no_of_reviews in T-1 by frnds----- no_of_cont_frnds 16 1 236 12\n",
        "user --- no_of_reviews in  T ---- no_of_reviews in T-1 by frnds----- no_of_cont_frnds 18 1 32 4\n",
        "user --- no_of_reviews in  T ---- no_of_reviews in T-1 by frnds----- no_of_cont_frnds 19 5 2 1\n",
        "user --- no_of_reviews in  T ---- no_of_reviews in T-1 by frnds----- no_of_cont_frnds 20 1 529 2\n",
        "user --- no_of_reviews in  T ---- no_of_reviews in T-1 by frnds----- no_of_cont_frnds 21 1 32 7\n",
        "user --- no_of_reviews in  T ---- no_of_reviews in T-1 by frnds----- no_of_cont_frnds 22 1 40 6\n",
        "user --- no_of_reviews in  T ---- no_of_reviews in T-1 by frnds----- no_of_cont_frnds 23 1 2 1\n",
        "user --- no_of_reviews in  T ---- no_of_reviews in T-1 by frnds----- no_of_cont_frnds 24 15 32 7\n",
        "user --- no_of_reviews in  T ---- no_of_reviews in T-1 by frnds----- no_of_cont_frnds 25 4 161 1\n",
        "user --- no_of_reviews in  T ---- no_of_reviews in T-1 by frnds----- no_of_cont_frnds 26 1 2 1\n",
        "user --- no_of_reviews in  T ---- no_of_reviews in T-1 by frnds----- no_of_cont_frnds 31 6 8 2\n",
        "user --- no_of_reviews in  T ---- no_of_reviews in T-1 by frnds----- no_of_cont_frnds 32 22 0 0\n",
        "user --- no_of_reviews in  T ---- no_of_reviews in T-1 by frnds----- no_of_cont_frnds 33 12 1 1\n",
        "user --- no_of_reviews in  T ---- no_of_reviews in T-1 by frnds----- no_of_cont_frnds 36 7 23 2\n",
        "user --- no_of_reviews in  T ---- no_of_reviews in T-1 by frnds----- no_of_cont_frnds 37 1 15 2\n",
        "user --- no_of_reviews in  T ---- no_of_reviews in T-1 by frnds----- no_of_cont_frnds 38 1 46 1\n",
        "user --- no_of_reviews in  T ---- no_of_reviews in T-1 by frnds----- no_of_cont_frnds 40 1 24 3\n",
        "user --- no_of_reviews in  T ---- no_of_reviews in T-1 by frnds----- no_of_cont_frnds 42 1 81 13\n",
        "user --- no_of_reviews in  T ---- no_of_reviews in T-1 by frnds----- no_of_cont_frnds 44 11 4 1\n",
        "user --- no_of_reviews in  T ---- no_of_reviews in T-1 by frnds----- no_of_cont_frnds 46 15 4 2\n",
        "user --- no_of_reviews in  T ---- no_of_reviews in T-1 by frnds----- no_of_cont_frnds 47 1 1 1\n",
        "user --- no_of_reviews in  T ---- no_of_reviews in T-1 by frnds----- no_of_cont_frnds 49 1 6 1\n",
        "user --- no_of_reviews in  T ---- no_of_reviews in T-1 by frnds----- no_of_cont_frnds 52 286 0 0\n",
        "user --- no_of_reviews in  T ---- no_of_reviews in T-1 by frnds----- no_of_cont_frnds 53 1 86 15\n",
        "user --- no_of_reviews in  T ---- no_of_reviews in T-1 by frnds----- no_of_cont_frnds 55 1 0 0\n",
        "user --- no_of_reviews in  T ---- no_of_reviews in T-1 by frnds----- no_of_cont_frnds 56 2 4 3\n",
        "user --- no_of_reviews in  T ---- no_of_reviews in T-1 by frnds----- no_of_cont_frnds 57 4 8 1\n",
        "user --- no_of_reviews in  T ---- no_of_reviews in T-1 by frnds----- no_of_cont_frnds 63 1 1 1\n",
        "user --- no_of_reviews in  T ---- no_of_reviews in T-1 by frnds----- no_of_cont_frnds 64 1 108 1\n",
        "user --- no_of_reviews in  T ---- no_of_reviews in T-1 by frnds----- no_of_cont_frnds 65 4 2 1\n",
        "user --- no_of_reviews in  T ---- no_of_reviews in T-1 by frnds----- no_of_cont_frnds 74 1 10 1\n",
        "user --- no_of_reviews in  T ---- no_of_reviews in T-1 by frnds----- no_of_cont_frnds 76 1 0 0\n",
        "user --- no_of_reviews in  T ---- no_of_reviews in T-1 by frnds----- no_of_cont_frnds 78 1 0 0\n",
        "user --- no_of_reviews in  T ---- no_of_reviews in T-1 by frnds----- no_of_cont_frnds 91 2 50 9\n",
        "user --- no_of_reviews in  T ---- no_of_reviews in T-1 by frnds----- no_of_cont_frnds 92 1 26 1\n",
        "user --- no_of_reviews in  T ---- no_of_reviews in T-1 by frnds----- no_of_cont_frnds 93 1 252 32\n",
        "user --- no_of_reviews in  T ---- no_of_reviews in T-1 by frnds----- no_of_cont_frnds 94 1 313 24\n",
        "user --- no_of_reviews in  T ---- no_of_reviews in T-1 by frnds----- no_of_cont_frnds 95 22 1769 160\n",
        "user --- no_of_reviews in  T ---- no_of_reviews in T-1 by frnds----- no_of_cont_frnds 96 1 1 1\n",
        "user --- no_of_reviews in  T ---- no_of_reviews in T-1 by frnds----- no_of_cont_frnds 98 5 277 6\n",
        "user --- no_of_reviews in  T ---- no_of_reviews in T-1 by frnds----- no_of_cont_frnds 100 2 99 16\n",
        "user --- no_of_reviews in  T ---- no_of_reviews in T-1 by frnds----- no_of_cont_frnds 101 6 594 38\n",
        "user --- no_of_reviews in  T ---- no_of_reviews in T-1 by frnds----- no_of_cont_frnds 108 1 0 0\n",
        "user --- no_of_reviews in  T ---- no_of_reviews in T-1 by frnds----- no_of_cont_frnds 109 15 2264 23\n",
        "user --- no_of_reviews in  T ---- no_of_reviews in T-1 by frnds----- no_of_cont_frnds 110 3 1 1\n",
        "user --- no_of_reviews in  T ---- no_of_reviews in T-1 by frnds----- no_of_cont_frnds 111 9 5 1\n",
        "user --- no_of_reviews in  T ---- no_of_reviews in T-1 by frnds----- no_of_cont_frnds 112 11 4 1\n",
        "user --- no_of_reviews in  T ---- no_of_reviews in T-1 by frnds----- no_of_cont_frnds 113 1 0 0\n",
        "user --- no_of_reviews in  T ---- no_of_reviews in T-1 by frnds----- no_of_cont_frnds 114 3 1623 14\n",
        "user --- no_of_reviews in  T ---- no_of_reviews in T-1 by frnds----- no_of_cont_frnds 115 18 34 5\n",
        "user --- no_of_reviews in  T ---- no_of_reviews in T-1 by frnds----- no_of_cont_frnds 119 1 18 5\n",
        "user --- no_of_reviews in  T ---- no_of_reviews in T-1 by frnds----- no_of_cont_frnds 124 10 963 84\n",
        "user --- no_of_reviews in  T ---- no_of_reviews in T-1 by frnds----- no_of_cont_frnds 125 1 1 1\n",
        "user --- no_of_reviews in  T ---- no_of_reviews in T-1 by frnds----- no_of_cont_frnds 126 27 13 2\n",
        "user --- no_of_reviews in  T ---- no_of_reviews in T-1 by frnds----- no_of_cont_frnds 127 1 1991 104\n",
        "user --- no_of_reviews in  T ---- no_of_reviews in T-1 by frnds----- no_of_cont_frnds 128 1 568 1\n",
        "user --- no_of_reviews in  T ---- no_of_reviews in T-1 by frnds----- no_of_cont_frnds 130 12 11 1\n",
        "user --- no_of_reviews in  T ---- no_of_reviews in T-1 by frnds----- no_of_cont_frnds 131 8 52 1\n",
        "user --- no_of_reviews in  T ---- no_of_reviews in T-1 by frnds----- no_of_cont_frnds 139 26 0 0\n",
        "user --- no_of_reviews in  T ---- no_of_reviews in T-1 by frnds----- no_of_cont_frnds 144 1 0 0\n",
        "user --- no_of_reviews in  T ---- no_of_reviews in T-1 by frnds----- no_of_cont_frnds 151 1 3 3\n",
        "user --- no_of_reviews in  T ---- no_of_reviews in T-1 by frnds----- no_of_cont_frnds 152 1 1 1\n",
        "user --- no_of_reviews in  T ---- no_of_reviews in T-1 by frnds----- no_of_cont_frnds 153 1 543 17\n",
        "user --- no_of_reviews in  T ---- no_of_reviews in T-1 by frnds----- no_of_cont_frnds 154 3 0 0\n",
        "user --- no_of_reviews in  T ---- no_of_reviews in T-1 by frnds----- no_of_cont_frnds 163 2 18 2\n",
        "user --- no_of_reviews in  T ---- no_of_reviews in T-1 by frnds----- no_of_cont_frnds 167 1 92 3\n",
        "user --- no_of_reviews in  T ---- no_of_reviews in T-1 by frnds----- no_of_cont_frnds 168 8 0 0\n",
        "user --- no_of_reviews in  T ---- no_of_reviews in T-1 by frnds----- no_of_cont_frnds 172 2 23 2\n",
        "user --- no_of_reviews in  T ---- no_of_reviews in T-1 by frnds----- no_of_cont_frnds 173 1 0 0\n",
        "user --- no_of_reviews in  T ---- no_of_reviews in T-1 by frnds----- no_of_cont_frnds 179 6 641 40\n",
        "user --- no_of_reviews in  T ---- no_of_reviews in T-1 by frnds----- no_of_cont_frnds 180 10 36 3\n",
        "user --- no_of_reviews in  T ---- no_of_reviews in T-1 by frnds----- no_of_cont_frnds 181 4 18 2\n",
        "user --- no_of_reviews in  T ---- no_of_reviews in T-1 by frnds----- no_of_cont_frnds 182 1 4933 203\n",
        "user --- no_of_reviews in  T ---- no_of_reviews in T-1 by frnds----- no_of_cont_frnds 183 3 635 5\n",
        "user --- no_of_reviews in  T ---- no_of_reviews in T-1 by frnds----- no_of_cont_frnds 184 2 34 2\n",
        "user --- no_of_reviews in  T ---- no_of_reviews in T-1 by frnds----- no_of_cont_frnds 185 7 41 3\n",
        "user --- no_of_reviews in  T ---- no_of_reviews in T-1 by frnds----- no_of_cont_frnds 186 17 1879 57\n",
        "user --- no_of_reviews in  T ---- no_of_reviews in T-1 by frnds----- no_of_cont_frnds 188 1 0 0\n",
        "user --- no_of_reviews in  T ---- no_of_reviews in T-1 by frnds----- no_of_cont_frnds 189 55 9 1\n",
        "user --- no_of_reviews in  T ---- no_of_reviews in T-1 by frnds----- no_of_cont_frnds 191 15 19 2\n",
        "user --- no_of_reviews in  T ---- no_of_reviews in T-1 by frnds----- no_of_cont_frnds 192 72 0 0\n",
        "user --- no_of_reviews in  T ---- no_of_reviews in T-1 by frnds----- no_of_cont_frnds 193 2 149 7\n",
        "user --- no_of_reviews in  T ---- no_of_reviews in T-1 by frnds----- no_of_cont_frnds 195 123 17528 157\n",
        "user --- no_of_reviews in  T ---- no_of_reviews in T-1 by frnds----- no_of_cont_frnds 196 86 0 0\n",
        "user --- no_of_reviews in  T ---- no_of_reviews in T-1 by frnds----- no_of_cont_frnds 199 25 87 2\n",
        "user --- no_of_reviews in  T ---- no_of_reviews in T-1 by frnds----- no_of_cont_frnds 202 145 27 3\n",
        "user --- no_of_reviews in  T ---- no_of_reviews in T-1 by frnds----- no_of_cont_frnds 203 6 22 2\n",
        "user --- no_of_reviews in  T ---- no_of_reviews in T-1 by frnds----- no_of_cont_frnds 204 1 3 1\n",
        "user --- no_of_reviews in  T ---- no_of_reviews in T-1 by frnds----- no_of_cont_frnds 205 3 1 1\n",
        "user --- no_of_reviews in  T ---- no_of_reviews in T-1 by frnds----- no_of_cont_frnds 206 21 0 0\n",
        "user --- no_of_reviews in  T ---- no_of_reviews in T-1 by frnds----- no_of_cont_frnds 207 23 172 4\n",
        "user --- no_of_reviews in  T ---- no_of_reviews in T-1 by frnds----- no_of_cont_frnds 208 20 7 2\n",
        "user --- no_of_reviews in  T ---- no_of_reviews in T-1 by frnds----- no_of_cont_frnds 209 3 6 1\n",
        "user --- no_of_reviews in  T ---- no_of_reviews in T-1 by frnds----- no_of_cont_frnds 214 5 0 0\n",
        "user --- no_of_reviews in  T ---- no_of_reviews in T-1 by frnds----- no_of_cont_frnds 216 1 48 2\n",
        "user --- no_of_reviews in  T ---- no_of_reviews in T-1 by frnds----- no_of_cont_frnds 217 9 1 1\n",
        "user --- no_of_reviews in  T ---- no_of_reviews in T-1 by frnds----- no_of_cont_frnds 219 1 3 2\n",
        "user --- no_of_reviews in  T ---- no_of_reviews in T-1 by frnds----- no_of_cont_frnds 221 4 177 14\n",
        "user --- no_of_reviews in  T ---- no_of_reviews in T-1 by frnds----- no_of_cont_frnds 223 1 5 2\n",
        "user --- no_of_reviews in  T ---- no_of_reviews in T-1 by frnds----- no_of_cont_frnds 227 5 738 14\n",
        "user --- no_of_reviews in  T ---- no_of_reviews in T-1 by frnds----- no_of_cont_frnds 230 1 38 4\n",
        "user --- no_of_reviews in  T ---- no_of_reviews in T-1 by frnds----- no_of_cont_frnds 232 3 0 0\n",
        "user --- no_of_reviews in  T ---- no_of_reviews in T-1 by frnds----- no_of_cont_frnds 233 20 0 0\n",
        "user --- no_of_reviews in  T ---- no_of_reviews in T-1 by frnds----- no_of_cont_frnds 236 46 0 0\n",
        "user --- no_of_reviews in  T ---- no_of_reviews in T-1 by frnds----- no_of_cont_frnds 239 3 1 1\n",
        "user --- no_of_reviews in  T ---- no_of_reviews in T-1 by frnds----- no_of_cont_frnds 241 156 0 0\n",
        "user --- no_of_reviews in  T ---- no_of_reviews in T-1 by frnds----- no_of_cont_frnds 247 1 1 1\n",
        "user --- no_of_reviews in  T ---- no_of_reviews in T-1 by frnds----- no_of_cont_frnds 248 5 30 9\n",
        "user --- no_of_reviews in  T ---- no_of_reviews in T-1 by frnds----- no_of_cont_frnds 258 1 1 1\n",
        "user --- no_of_reviews in  T ---- no_of_reviews in T-1 by frnds----- no_of_cont_frnds 262 1 2 1\n",
        "user --- no_of_reviews in  T ---- no_of_reviews in T-1 by frnds----- no_of_cont_frnds 265 2 0 0\n",
        "user --- no_of_reviews in  T ---- no_of_reviews in T-1 by frnds----- no_of_cont_frnds 274 1 240 10\n",
        "user --- no_of_reviews in  T ---- no_of_reviews in T-1 by frnds----- no_of_cont_frnds 275 4 960 32\n",
        "user --- no_of_reviews in  T ---- no_of_reviews in T-1 by frnds----- no_of_cont_frnds 276 3 134 23\n",
        "user --- no_of_reviews in  T ---- no_of_reviews in T-1 by frnds----- no_of_cont_frnds 277 68 157 21\n",
        "user --- no_of_reviews in  T ---- no_of_reviews in T-1 by frnds----- no_of_cont_frnds 278 4 319 22\n",
        "user --- no_of_reviews in  T ---- no_of_reviews in T-1 by frnds----- no_of_cont_frnds 279 9 3 1\n",
        "user --- no_of_reviews in  T ---- no_of_reviews in T-1 by frnds----- no_of_cont_frnds 280 8 0 0\n",
        "user --- no_of_reviews in  T ---- no_of_reviews in T-1 by frnds----- no_of_cont_frnds 283 12 32 2\n",
        "user --- no_of_reviews in  T ---- no_of_reviews in T-1 by frnds----- no_of_cont_frnds 285 1 45 6\n",
        "user --- no_of_reviews in  T ---- no_of_reviews in T-1 by frnds----- no_of_cont_frnds 288 3 34 2\n",
        "user --- no_of_reviews in  T ---- no_of_reviews in T-1 by frnds----- no_of_cont_frnds 289 2 13 3\n",
        "user --- no_of_reviews in  T ---- no_of_reviews in T-1 by frnds----- no_of_cont_frnds 290 32 5 1\n",
        "user --- no_of_reviews in  T ---- no_of_reviews in T-1 by frnds----- no_of_cont_frnds 291 34 4 2\n",
        "user --- no_of_reviews in  T ---- no_of_reviews in T-1 by frnds----- no_of_cont_frnds 292 1 8 3\n",
        "user --- no_of_reviews in  T ---- no_of_reviews in T-1 by frnds----- no_of_cont_frnds 294 1 26 7\n",
        "user --- no_of_reviews in  T ---- no_of_reviews in T-1 by frnds----- no_of_cont_frnds 296 1 2 2\n",
        "user --- no_of_reviews in  T ---- no_of_reviews in T-1 by frnds----- no_of_cont_frnds 299 91 44 4\n",
        "user --- no_of_reviews in  T ---- no_of_reviews in T-1 by frnds----- no_of_cont_frnds 301 4 76 3\n",
        "user --- no_of_reviews in  T ---- no_of_reviews in T-1 by frnds----- no_of_cont_frnds 302 2 0 0\n",
        "user --- no_of_reviews in  T ---- no_of_reviews in T-1 by frnds----- no_of_cont_frnds 304 12 61 13\n",
        "user --- no_of_reviews in  T ---- no_of_reviews in T-1 by frnds----- no_of_cont_frnds 306 1 10 4\n",
        "user --- no_of_reviews in  T ---- no_of_reviews in T-1 by frnds----- no_of_cont_frnds 307 3 1027 27\n",
        "user --- no_of_reviews in  T ---- no_of_reviews in T-1 by frnds----- no_of_cont_frnds 310 1 0 0\n",
        "user --- no_of_reviews in  T ---- no_of_reviews in T-1 by frnds----- no_of_cont_frnds 313 1 0 0\n",
        "user --- no_of_reviews in  T ---- no_of_reviews in T-1 by frnds----- no_of_cont_frnds 314 1 0 0\n",
        "user --- no_of_reviews in  T ---- no_of_reviews in T-1 by frnds----- no_of_cont_frnds 315 53 24 1\n",
        "user --- no_of_reviews in  T ---- no_of_reviews in T-1 by frnds----- no_of_cont_frnds 319 2 2 1\n",
        "user --- no_of_reviews in  T ---- no_of_reviews in T-1 by frnds----- no_of_cont_frnds 320 1 563 15\n",
        "user --- no_of_reviews in  T ---- no_of_reviews in T-1 by frnds----- no_of_cont_frnds 321 30 0 0\n",
        "user --- no_of_reviews in  T ---- no_of_reviews in T-1 by frnds----- no_of_cont_frnds 322 3 1 1\n",
        "user --- no_of_reviews in  T ---- no_of_reviews in T-1 by frnds----- no_of_cont_frnds 326 2 17 2\n",
        "user --- no_of_reviews in  T ---- no_of_reviews in T-1 by frnds----- no_of_cont_frnds 327 1 112 13\n",
        "user --- no_of_reviews in  T ---- no_of_reviews in T-1 by frnds----- no_of_cont_frnds 329 2 4 2\n",
        "user --- no_of_reviews in  T ---- no_of_reviews in T-1 by frnds----- no_of_cont_frnds 330 47 23 4\n",
        "user --- no_of_reviews in  T ---- no_of_reviews in T-1 by frnds----- no_of_cont_frnds 332 4 0 0\n",
        "user --- no_of_reviews in  T ---- no_of_reviews in T-1 by frnds----- no_of_cont_frnds 335 1 2 1\n",
        "user --- no_of_reviews in  T ---- no_of_reviews in T-1 by frnds----- no_of_cont_frnds 340 5 0 0\n",
        "user --- no_of_reviews in  T ---- no_of_reviews in T-1 by frnds----- no_of_cont_frnds 342 83 508 2\n",
        "user --- no_of_reviews in  T ---- no_of_reviews in T-1 by frnds----- no_of_cont_frnds 345 2 0 0\n",
        "user --- no_of_reviews in  T ---- no_of_reviews in T-1 by frnds----- no_of_cont_frnds 346 2 0 0\n",
        "user --- no_of_reviews in  T ---- no_of_reviews in T-1 by frnds----- no_of_cont_frnds 351 1 0 0\n",
        "user --- no_of_reviews in  T ---- no_of_reviews in T-1 by frnds----- no_of_cont_frnds 357 15 1 1\n",
        "user --- no_of_reviews in  T ---- no_of_reviews in T-1 by frnds----- no_of_cont_frnds 358 1 47 4\n",
        "user --- no_of_reviews in  T ---- no_of_reviews in T-1 by frnds----- no_of_cont_frnds 360 1 1 1\n",
        "user --- no_of_reviews in  T ---- no_of_reviews in T-1 by frnds----- no_of_cont_frnds 361 4 0 0\n",
        "user --- no_of_reviews in  T ---- no_of_reviews in T-1 by frnds----- no_of_cont_frnds 365 5 366 11\n",
        "user --- no_of_reviews in  T ---- no_of_reviews in T-1 by frnds----- no_of_cont_frnds 366 56 121 7\n",
        "user --- no_of_reviews in  T ---- no_of_reviews in T-1 by frnds----- no_of_cont_frnds 367 1 168 8\n",
        "user --- no_of_reviews in  T ---- no_of_reviews in T-1 by frnds----- no_of_cont_frnds 370 1 95 8\n",
        "user --- no_of_reviews in  T ---- no_of_reviews in T-1 by frnds----- no_of_cont_frnds 371 1 6 1\n",
        "user --- no_of_reviews in  T ---- no_of_reviews in T-1 by frnds----- no_of_cont_frnds 373 1 388 34\n",
        "user --- no_of_reviews in  T ---- no_of_reviews in T-1 by frnds----- no_of_cont_frnds 374 60 1052 31\n",
        "user --- no_of_reviews in  T ---- no_of_reviews in T-1 by frnds----- no_of_cont_frnds 375 6 1839 51\n",
        "user --- no_of_reviews in  T ---- no_of_reviews in T-1 by frnds----- no_of_cont_frnds 377 1 1 1\n",
        "user --- no_of_reviews in  T ---- no_of_reviews in T-1 by frnds----- no_of_cont_frnds 378 2 106 12\n",
        "user --- no_of_reviews in  T ---- no_of_reviews in T-1 by frnds----- no_of_cont_frnds 381 5 247 24\n",
        "user --- no_of_reviews in  T ---- no_of_reviews in T-1 by frnds----- no_of_cont_frnds 383 22 11 7\n",
        "user --- no_of_reviews in  T ---- no_of_reviews in T-1 by frnds----- no_of_cont_frnds 384 3 59 9\n",
        "user --- no_of_reviews in  T ---- no_of_reviews in T-1 by frnds----- no_of_cont_frnds 385 1 3221 56\n",
        "user --- no_of_reviews in  T ---- no_of_reviews in T-1 by frnds----- no_of_cont_frnds 387 48 227 8\n",
        "user --- no_of_reviews in  T ---- no_of_reviews in T-1 by frnds----- no_of_cont_frnds 388 1 65 9\n",
        "user --- no_of_reviews in  T ---- no_of_reviews in T-1 by frnds----- no_of_cont_frnds 390 5 246 11\n",
        "user --- no_of_reviews in  T ---- no_of_reviews in T-1 by frnds----- no_of_cont_frnds 391 1 264 11\n",
        "user --- no_of_reviews in  T ---- no_of_reviews in T-1 by frnds----- no_of_cont_frnds 394 35 5 3\n",
        "user --- no_of_reviews in  T ---- no_of_reviews in T-1 by frnds----- no_of_cont_frnds 396 4 0 0\n",
        "user --- no_of_reviews in  T ---- no_of_reviews in T-1 by frnds----- no_of_cont_frnds 404 15 0 0\n",
        "user --- no_of_reviews in  T ---- no_of_reviews in T-1 by frnds----- no_of_cont_frnds 405 8 120 1\n",
        "user --- no_of_reviews in  T ---- no_of_reviews in T-1 by frnds----- no_of_cont_frnds 407 3 43 1\n",
        "user --- no_of_reviews in  T ---- no_of_reviews in T-1 by frnds----- no_of_cont_frnds 409 2 0 0\n",
        "user --- no_of_reviews in  T ---- no_of_reviews in T-1 by frnds----- no_of_cont_frnds 413 1 3 2\n",
        "user --- no_of_reviews in  T ---- no_of_reviews in T-1 by frnds----- no_of_cont_frnds 416 47 0 0\n",
        "user --- no_of_reviews in  T ---- no_of_reviews in T-1 by frnds----- no_of_cont_frnds 417 3 0 0\n",
        "user --- no_of_reviews in  T ---- no_of_reviews in T-1 by frnds----- no_of_cont_frnds 418 2 0 0\n",
        "user --- no_of_reviews in  T ---- no_of_reviews in T-1 by frnds----- no_of_cont_frnds 419 4 75 10\n",
        "user --- no_of_reviews in  T ---- no_of_reviews in T-1 by frnds----- no_of_cont_frnds 421 9 1 1\n",
        "user --- no_of_reviews in  T ---- no_of_reviews in T-1 by frnds----- no_of_cont_frnds 423 35 3 3\n",
        "user --- no_of_reviews in  T ---- no_of_reviews in T-1 by frnds----- no_of_cont_frnds 425 1 425 5\n",
        "user --- no_of_reviews in  T ---- no_of_reviews in T-1 by frnds----- no_of_cont_frnds 426 1 0 0\n",
        "user --- no_of_reviews in  T ---- no_of_reviews in T-1 by frnds----- no_of_cont_frnds 427 1 52 10\n",
        "user --- no_of_reviews in  T ---- no_of_reviews in T-1 by frnds----- no_of_cont_frnds 428 1 435 30\n",
        "user --- no_of_reviews in  T ---- no_of_reviews in T-1 by frnds----- no_of_cont_frnds 437 230 0 0\n",
        "user --- no_of_reviews in  T ---- no_of_reviews in T-1 by frnds----- no_of_cont_frnds 440 24 0 0\n",
        "user --- no_of_reviews in  T ---- no_of_reviews in T-1 by frnds----- no_of_cont_frnds 447 31 118 3\n",
        "user --- no_of_reviews in  T ---- no_of_reviews in T-1 by frnds----- no_of_cont_frnds 452 1 0 0\n",
        "user --- no_of_reviews in  T ---- no_of_reviews in T-1 by frnds----- no_of_cont_frnds 455 1 35 7\n",
        "user --- no_of_reviews in  T ---- no_of_reviews in T-1 by frnds----- no_of_cont_frnds 456 3 558 77\n",
        "user --- no_of_reviews in  T ---- no_of_reviews in T-1 by frnds----- no_of_cont_frnds 457 2 9 1\n",
        "user --- no_of_reviews in  T ---- no_of_reviews in T-1 by frnds----- no_of_cont_frnds 458 2 5 2\n",
        "user --- no_of_reviews in  T ---- no_of_reviews in T-1 by frnds----- no_of_cont_frnds 459 5 1772 108\n",
        "user --- no_of_reviews in  T ---- no_of_reviews in T-1 by frnds----- no_of_cont_frnds 460 36 0 0\n",
        "user --- no_of_reviews in  T ---- no_of_reviews in T-1 by frnds----- no_of_cont_frnds 462 9 3 1\n",
        "user --- no_of_reviews in  T ---- no_of_reviews in T-1 by frnds----- no_of_cont_frnds 463 1 45 7\n",
        "user --- no_of_reviews in  T ---- no_of_reviews in T-1 by frnds----- no_of_cont_frnds 464 60 0 0\n",
        "user --- no_of_reviews in  T ---- no_of_reviews in T-1 by frnds----- no_of_cont_frnds 465 59 22 3\n",
        "user --- no_of_reviews in  T ---- no_of_reviews in T-1 by frnds----- no_of_cont_frnds 468 19 163 9\n",
        "user --- no_of_reviews in  T ---- no_of_reviews in T-1 by frnds----- no_of_cont_frnds 469 102 188 19\n",
        "user --- no_of_reviews in  T ---- no_of_reviews in T-1 by frnds----- no_of_cont_frnds 470 22 1 1\n",
        "user --- no_of_reviews in  T ---- no_of_reviews in T-1 by frnds----- no_of_cont_frnds 471 2 39 5\n",
        "user --- no_of_reviews in  T ---- no_of_reviews in T-1 by frnds----- no_of_cont_frnds 473 1 196 1\n",
        "user --- no_of_reviews in  T ---- no_of_reviews in T-1 by frnds----- no_of_cont_frnds 474 1 4490 155\n",
        "user --- no_of_reviews in  T ---- no_of_reviews in T-1 by frnds----- no_of_cont_frnds 475 5 2 2\n",
        "user --- no_of_reviews in  T ---- no_of_reviews in T-1 by frnds----- no_of_cont_frnds 476 1 22 2\n",
        "user --- no_of_reviews in  T ---- no_of_reviews in T-1 by frnds----- no_of_cont_frnds 479 2 0 0\n",
        "user --- no_of_reviews in  T ---- no_of_reviews in T-1 by frnds----- no_of_cont_frnds 480 9 1355 16\n",
        "user --- no_of_reviews in  T ---- no_of_reviews in T-1 by frnds----- no_of_cont_frnds 481 1 49 3\n",
        "user --- no_of_reviews in  T ---- no_of_reviews in T-1 by frnds----- no_of_cont_frnds 483 2 10 1\n",
        "user --- no_of_reviews in  T ---- no_of_reviews in T-1 by frnds----- no_of_cont_frnds 486 52 4 1\n",
        "user --- no_of_reviews in  T ---- no_of_reviews in T-1 by frnds----- no_of_cont_frnds 487 2 22 1\n",
        "user --- no_of_reviews in  T ---- no_of_reviews in T-1 by frnds----- no_of_cont_frnds 488 6 267 27\n",
        "user --- no_of_reviews in  T ---- no_of_reviews in T-1 by frnds----- no_of_cont_frnds 489 1 4 3\n",
        "user --- no_of_reviews in  T ---- no_of_reviews in T-1 by frnds----- no_of_cont_frnds 490 19 75 13\n",
        "user --- no_of_reviews in  T ---- no_of_reviews in T-1 by frnds----- no_of_cont_frnds 492 35 0 0\n",
        "user --- no_of_reviews in  T ---- no_of_reviews in T-1 by frnds----- no_of_cont_frnds 499 2 107 4\n",
        "user --- no_of_reviews in  T ---- no_of_reviews in T-1 by frnds----- no_of_cont_frnds 502 2 3535 44\n",
        "user --- no_of_reviews in  T ---- no_of_reviews in T-1 by frnds----- no_of_cont_frnds 504 1 4881 44\n",
        "user --- no_of_reviews in  T ---- no_of_reviews in T-1 by frnds----- no_of_cont_frnds 505 1 5 1\n",
        "user --- no_of_reviews in  T ---- no_of_reviews in T-1 by frnds----- no_of_cont_frnds 514 1 5 1\n",
        "user --- no_of_reviews in  T ---- no_of_reviews in T-1 by frnds----- no_of_cont_frnds 516 1 13 2\n",
        "user --- no_of_reviews in  T ---- no_of_reviews in T-1 by frnds----- no_of_cont_frnds 517 85 0 0\n",
        "user --- no_of_reviews in  T ---- no_of_reviews in T-1 by frnds----- no_of_cont_frnds 521 1 104 10\n",
        "user --- no_of_reviews in  T ---- no_of_reviews in T-1 by frnds----- no_of_cont_frnds 523 1 339 10\n",
        "user --- no_of_reviews in  T ---- no_of_reviews in T-1 by frnds----- no_of_cont_frnds 528 1 0 0\n",
        "user --- no_of_reviews in  T ---- no_of_reviews in T-1 by frnds----- no_of_cont_frnds 531 3 3 1\n",
        "user --- no_of_reviews in  T ---- no_of_reviews in T-1 by frnds----- no_of_cont_frnds 534 59 0 0\n",
        "user --- no_of_reviews in  T ---- no_of_reviews in T-1 by frnds----- no_of_cont_frnds 537 1 0 0\n",
        "user --- no_of_reviews in  T ---- no_of_reviews in T-1 by frnds----- no_of_cont_frnds 538 5 2 1\n",
        "user --- no_of_reviews in  T ---- no_of_reviews in T-1 by frnds----- no_of_cont_frnds 542 1 0 0\n",
        "user --- no_of_reviews in  T ---- no_of_reviews in T-1 by frnds----- no_of_cont_frnds 544 1 388 3\n",
        "user --- no_of_reviews in  T ---- no_of_reviews in T-1 by frnds----- no_of_cont_frnds 545 5 4 1\n",
        "user --- no_of_reviews in  T ---- no_of_reviews in T-1 by frnds----- no_of_cont_frnds 546 1 1592 84\n",
        "user --- no_of_reviews in  T ---- no_of_reviews in T-1 by frnds----- no_of_cont_frnds 547 19 38 14\n",
        "user --- no_of_reviews in  T ---- no_of_reviews in T-1 by frnds----- no_of_cont_frnds 548 1 20 5\n",
        "user --- no_of_reviews in  T ---- no_of_reviews in T-1 by frnds----- no_of_cont_frnds 549 1 72 6\n",
        "user --- no_of_reviews in  T ---- no_of_reviews in T-1 by frnds----- no_of_cont_frnds 550 2 39 4\n",
        "user --- no_of_reviews in  T ---- no_of_reviews in T-1 by frnds----- no_of_cont_frnds 551 1 29 1\n",
        "user --- no_of_reviews in  T ---- no_of_reviews in T-1 by frnds----- no_of_cont_frnds 552 1 2 1\n",
        "user --- no_of_reviews in  T ---- no_of_reviews in T-1 by frnds----- no_of_cont_frnds 554 1 4408 30\n",
        "user --- no_of_reviews in  T ---- no_of_reviews in T-1 by frnds----- no_of_cont_frnds 557 7 0 0\n",
        "user --- no_of_reviews in  T ---- no_of_reviews in T-1 by frnds----- no_of_cont_frnds 558 2 2 1\n",
        "user --- no_of_reviews in  T ---- no_of_reviews in T-1 by frnds----- no_of_cont_frnds 559 1 5112 262\n",
        "user --- no_of_reviews in  T ---- no_of_reviews in T-1 by frnds----- no_of_cont_frnds 560 6 670 3\n",
        "user --- no_of_reviews in  T ---- no_of_reviews in T-1 by frnds----- no_of_cont_frnds 564 1 2 1\n",
        "user --- no_of_reviews in  T ---- no_of_reviews in T-1 by frnds----- no_of_cont_frnds 566 9 20 2\n",
        "user --- no_of_reviews in  T ---- no_of_reviews in T-1 by frnds----- no_of_cont_frnds 568 26 2 1\n",
        "user --- no_of_reviews in  T ---- no_of_reviews in T-1 by frnds----- no_of_cont_frnds 569 1 26 8\n",
        "user --- no_of_reviews in  T ---- no_of_reviews in T-1 by frnds----- no_of_cont_frnds 571 23 15 3\n",
        "user --- no_of_reviews in  T ---- no_of_reviews in T-1 by frnds----- no_of_cont_frnds 573 1 322 2\n",
        "user --- no_of_reviews in  T ---- no_of_reviews in T-1 by frnds----- no_of_cont_frnds 578 8 1 1\n",
        "user --- no_of_reviews in  T ---- no_of_reviews in T-1 by frnds----- no_of_cont_frnds 581 1 589 7\n",
        "user --- no_of_reviews in  T ---- no_of_reviews in T-1 by frnds----- no_of_cont_frnds 583 4 17 1\n",
        "user --- no_of_reviews in  T ---- no_of_reviews in T-1 by frnds----- no_of_cont_frnds 584 21 2 1\n",
        "user --- no_of_reviews in  T ---- no_of_reviews in T-1 by frnds----- no_of_cont_frnds 587 1 34 6\n",
        "user --- no_of_reviews in  T ---- no_of_reviews in T-1 by frnds----- no_of_cont_frnds 590 1 76 3\n",
        "user --- no_of_reviews in  T ---- no_of_reviews in T-1 by frnds----- no_of_cont_frnds 594 1 0 0\n",
        "user --- no_of_reviews in  T ---- no_of_reviews in T-1 by frnds----- no_of_cont_frnds 595 1 102 15\n",
        "user --- no_of_reviews in  T ---- no_of_reviews in T-1 by frnds----- no_of_cont_frnds 596 1 14 6\n",
        "user --- no_of_reviews in  T ---- no_of_reviews in T-1 by frnds----- no_of_cont_frnds 597 1 5 2\n",
        "user --- no_of_reviews in  T ---- no_of_reviews in T-1 by frnds----- no_of_cont_frnds 598 1 446 9\n",
        "user --- no_of_reviews in  T ---- no_of_reviews in T-1 by frnds----- no_of_cont_frnds 599 1 5 2\n",
        "user --- no_of_reviews in  T ---- no_of_reviews in T-1 by frnds----- no_of_cont_frnds 600 12 0 0\n",
        "user --- no_of_reviews in  T ---- no_of_reviews in T-1 by frnds----- no_of_cont_frnds 604 1 15 3\n",
        "user --- no_of_reviews in  T ---- no_of_reviews in T-1 by frnds----- no_of_cont_frnds 612 1 1211 56\n",
        "user --- no_of_reviews in  T ---- no_of_reviews in T-1 by frnds----- no_of_cont_frnds 613 3 0 0\n",
        "user --- no_of_reviews in  T ---- no_of_reviews in T-1 by frnds----- no_of_cont_frnds 615 17 0 0\n",
        "user --- no_of_reviews in  T ---- no_of_reviews in T-1 by frnds----- no_of_cont_frnds 617 2 20 1\n",
        "user --- no_of_reviews in  T ---- no_of_reviews in T-1 by frnds----- no_of_cont_frnds 618 1 20 2\n",
        "user --- no_of_reviews in  T ---- no_of_reviews in T-1 by frnds----- no_of_cont_frnds 620 63 6 1\n",
        "user --- no_of_reviews in  T ---- no_of_reviews in T-1 by frnds----- no_of_cont_frnds 621 11 10 1\n",
        "user --- no_of_reviews in  T ---- no_of_reviews in T-1 by frnds----- no_of_cont_frnds 626 3 21 4\n",
        "user --- no_of_reviews in  T ---- no_of_reviews in T-1 by frnds----- no_of_cont_frnds 627 34 1 1\n",
        "user --- no_of_reviews in  T ---- no_of_reviews in T-1 by frnds----- no_of_cont_frnds 628 2 49 9\n",
        "user --- no_of_reviews in  T ---- no_of_reviews in T-1 by frnds----- no_of_cont_frnds 635 1 38 5\n",
        "user --- no_of_reviews in  T ---- no_of_reviews in T-1 by frnds----- no_of_cont_frnds 637 2 1675 94\n",
        "user --- no_of_reviews in  T ---- no_of_reviews in T-1 by frnds----- no_of_cont_frnds 639 2 3 1\n",
        "user --- no_of_reviews in  T ---- no_of_reviews in T-1 by frnds----- no_of_cont_frnds 640 4 816 8\n",
        "user --- no_of_reviews in  T ---- no_of_reviews in T-1 by frnds----- no_of_cont_frnds 643 2 0 0\n",
        "user --- no_of_reviews in  T ---- no_of_reviews in T-1 by frnds----- no_of_cont_frnds 644 1 1 1\n",
        "user --- no_of_reviews in  T ---- no_of_reviews in T-1 by frnds----- no_of_cont_frnds 646 1 213 6\n",
        "user --- no_of_reviews in  T ---- no_of_reviews in T-1 by frnds----- no_of_cont_frnds 648 19 4 4\n",
        "user --- no_of_reviews in  T ---- no_of_reviews in T-1 by frnds----- no_of_cont_frnds 653 1 206 12\n",
        "user --- no_of_reviews in  T ---- no_of_reviews in T-1 by frnds----- no_of_cont_frnds 654 109 11 3\n",
        "user --- no_of_reviews in  T ---- no_of_reviews in T-1 by frnds----- no_of_cont_frnds 657 1 0 0\n",
        "user --- no_of_reviews in  T ---- no_of_reviews in T-1 by frnds----- no_of_cont_frnds 659 2 21 2\n",
        "user --- no_of_reviews in  T ---- no_of_reviews in T-1 by frnds----- no_of_cont_frnds 660 1 260 15\n",
        "user --- no_of_reviews in  T ---- no_of_reviews in T-1 by frnds----- no_of_cont_frnds 661 1 12 2\n",
        "user --- no_of_reviews in  T ---- no_of_reviews in T-1 by frnds----- no_of_cont_frnds 662 1 28 1\n",
        "user --- no_of_reviews in  T ---- no_of_reviews in T-1 by frnds----- no_of_cont_frnds 664 5 4 2\n",
        "user --- no_of_reviews in  T ---- no_of_reviews in T-1 by frnds----- no_of_cont_frnds 667 1 105 2\n",
        "user --- no_of_reviews in  T ---- no_of_reviews in T-1 by frnds----- no_of_cont_frnds 668 32 324 4\n",
        "user --- no_of_reviews in  T ---- no_of_reviews in T-1 by frnds----- no_of_cont_frnds 671 1 303 17\n",
        "user --- no_of_reviews in  T ---- no_of_reviews in T-1 by frnds----- no_of_cont_frnds 673 1 19 3\n",
        "user --- no_of_reviews in  T ---- no_of_reviews in T-1 by frnds----- no_of_cont_frnds 677 1 420 9\n",
        "user --- no_of_reviews in  T ---- no_of_reviews in T-1 by frnds----- no_of_cont_frnds 679 1 10 1\n",
        "user --- no_of_reviews in  T ---- no_of_reviews in T-1 by frnds----- no_of_cont_frnds 682 1 34 1\n",
        "user --- no_of_reviews in  T ---- no_of_reviews in T-1 by frnds----- no_of_cont_frnds 685 2 2 2\n",
        "user --- no_of_reviews in  T ---- no_of_reviews in T-1 by frnds----- no_of_cont_frnds 686 8 0 0\n",
        "user --- no_of_reviews in  T ---- no_of_reviews in T-1 by frnds----- no_of_cont_frnds 687 1 52 1\n",
        "user --- no_of_reviews in  T ---- no_of_reviews in T-1 by frnds----- no_of_cont_frnds 688 23 6 1\n",
        "user --- no_of_reviews in  T ---- no_of_reviews in T-1 by frnds----- no_of_cont_frnds 691 5 2 1\n",
        "user --- no_of_reviews in  T ---- no_of_reviews in T-1 by frnds----- no_of_cont_frnds 693 1 900 53\n",
        "user --- no_of_reviews in  T ---- no_of_reviews in T-1 by frnds----- no_of_cont_frnds 694 3 4 1\n",
        "user --- no_of_reviews in  T ---- no_of_reviews in T-1 by frnds----- no_of_cont_frnds 695 13 0 0\n",
        "user --- no_of_reviews in  T ---- no_of_reviews in T-1 by frnds----- no_of_cont_frnds 697 3 0 0\n",
        "user --- no_of_reviews in  T ---- no_of_reviews in T-1 by frnds----- no_of_cont_frnds 698 10 0 0\n",
        "user --- no_of_reviews in  T ---- no_of_reviews in T-1 by frnds----- no_of_cont_frnds 702 10 13 1\n",
        "user --- no_of_reviews in  T ---- no_of_reviews in T-1 by frnds----- no_of_cont_frnds 710 1 29 10\n",
        "user --- no_of_reviews in  T ---- no_of_reviews in T-1 by frnds----- no_of_cont_frnds 713 1 3 2\n",
        "user --- no_of_reviews in  T ---- no_of_reviews in T-1 by frnds----- no_of_cont_frnds 718 2 94 13\n",
        "user --- no_of_reviews in  T ---- no_of_reviews in T-1 by frnds----- no_of_cont_frnds 721 1 0 0\n",
        "user --- no_of_reviews in  T ---- no_of_reviews in T-1 by frnds----- no_of_cont_frnds 723 24 265 1\n",
        "user --- no_of_reviews in  T ---- no_of_reviews in T-1 by frnds----- no_of_cont_frnds 730 5 25 2\n",
        "user --- no_of_reviews in  T ---- no_of_reviews in T-1 by frnds----- no_of_cont_frnds 731 2 189 11\n",
        "user --- no_of_reviews in  T ---- no_of_reviews in T-1 by frnds----- no_of_cont_frnds 732 1 70 4\n",
        "user --- no_of_reviews in  T ---- no_of_reviews in T-1 by frnds----- no_of_cont_frnds 733 4 1199 57\n",
        "user --- no_of_reviews in  T ---- no_of_reviews in T-1 by frnds----- no_of_cont_frnds 734 1 521 25\n",
        "user --- no_of_reviews in  T ---- no_of_reviews in T-1 by frnds----- no_of_cont_frnds 736 1 22 7\n",
        "user --- no_of_reviews in  T ---- no_of_reviews in T-1 by frnds----- no_of_cont_frnds 737 1 213 13\n",
        "user --- no_of_reviews in  T ---- no_of_reviews in T-1 by frnds----- no_of_cont_frnds 740 14 5 3\n",
        "user --- no_of_reviews in  T ---- no_of_reviews in T-1 by frnds----- no_of_cont_frnds 742 2 414 7\n",
        "user --- no_of_reviews in  T ---- no_of_reviews in T-1 by frnds----- no_of_cont_frnds 744 16 0 0\n",
        "user --- no_of_reviews in  T ---- no_of_reviews in T-1 by frnds----- no_of_cont_frnds 745 1 0 0\n",
        "user --- no_of_reviews in  T ---- no_of_reviews in T-1 by frnds----- no_of_cont_frnds 748 17 0 0\n",
        "user --- no_of_reviews in  T ---- no_of_reviews in T-1 by frnds----- no_of_cont_frnds 750 1 432 4\n",
        "user --- no_of_reviews in  T ---- no_of_reviews in T-1 by frnds----- no_of_cont_frnds 751 2 0 0\n",
        "user --- no_of_reviews in  T ---- no_of_reviews in T-1 by frnds----- no_of_cont_frnds 752 7 11 4\n",
        "user --- no_of_reviews in  T ---- no_of_reviews in T-1 by frnds----- no_of_cont_frnds 753 4 25 6\n",
        "user --- no_of_reviews in  T ---- no_of_reviews in T-1 by frnds----- no_of_cont_frnds 754 1 4829 69\n",
        "user --- no_of_reviews in  T ---- no_of_reviews in T-1 by frnds----- no_of_cont_frnds 756 17 2 1\n",
        "user --- no_of_reviews in  T ---- no_of_reviews in T-1 by frnds----- no_of_cont_frnds 757 3 6 3\n",
        "user --- no_of_reviews in  T ---- no_of_reviews in T-1 by frnds----- no_of_cont_frnds 758 3 13 2\n",
        "user --- no_of_reviews in  T ---- no_of_reviews in T-1 by frnds----- no_of_cont_frnds 760 1 14 2\n",
        "user --- no_of_reviews in  T ---- no_of_reviews in T-1 by frnds----- no_of_cont_frnds 763 1 33 8\n",
        "user --- no_of_reviews in  T ---- no_of_reviews in T-1 by frnds----- no_of_cont_frnds 764 1 9074 172\n",
        "user --- no_of_reviews in  T ---- no_of_reviews in T-1 by frnds----- no_of_cont_frnds 765 1 1345 29\n",
        "user --- no_of_reviews in  T ---- no_of_reviews in T-1 by frnds----- no_of_cont_frnds 767 25 1 1\n",
        "user --- no_of_reviews in  T ---- no_of_reviews in T-1 by frnds----- no_of_cont_frnds 770 54 0 0\n",
        "user --- no_of_reviews in  T ---- no_of_reviews in T-1 by frnds----- no_of_cont_frnds 771 1 31 4\n",
        "user --- no_of_reviews in  T ---- no_of_reviews in T-1 by frnds----- no_of_cont_frnds 775 1 5097 235\n",
        "user --- no_of_reviews in  T ---- no_of_reviews in T-1 by frnds----- no_of_cont_frnds 777 1 36 9\n",
        "user --- no_of_reviews in  T ---- no_of_reviews in T-1 by frnds----- no_of_cont_frnds 778 1 0"
       ]
      },
      {
       "output_type": "stream",
       "stream": "stdout",
       "text": [
        " 0\n",
        "user --- no_of_reviews in  T ---- no_of_reviews in T-1 by frnds----- no_of_cont_frnds 779 16 0 0\n",
        "user --- no_of_reviews in  T ---- no_of_reviews in T-1 by frnds----- no_of_cont_frnds 780 1 7 1\n",
        "user --- no_of_reviews in  T ---- no_of_reviews in T-1 by frnds----- no_of_cont_frnds 783 1 1526 95\n",
        "user --- no_of_reviews in  T ---- no_of_reviews in T-1 by frnds----- no_of_cont_frnds 784 24 24 1\n",
        "user --- no_of_reviews in  T ---- no_of_reviews in T-1 by frnds----- no_of_cont_frnds 785 1 2 1\n",
        "user --- no_of_reviews in  T ---- no_of_reviews in T-1 by frnds----- no_of_cont_frnds 791 1 437 18\n",
        "user --- no_of_reviews in  T ---- no_of_reviews in T-1 by frnds----- no_of_cont_frnds 793 6 164 5\n",
        "user --- no_of_reviews in  T ---- no_of_reviews in T-1 by frnds----- no_of_cont_frnds 794 6 68 10\n",
        "user --- no_of_reviews in  T ---- no_of_reviews in T-1 by frnds----- no_of_cont_frnds 795 1 43 7\n",
        "user --- no_of_reviews in  T ---- no_of_reviews in T-1 by frnds----- no_of_cont_frnds 797 3 20 10\n",
        "user --- no_of_reviews in  T ---- no_of_reviews in T-1 by frnds----- no_of_cont_frnds 798 27 0 0\n",
        "user --- no_of_reviews in  T ---- no_of_reviews in T-1 by frnds----- no_of_cont_frnds 799 9 9 2\n",
        "user --- no_of_reviews in  T ---- no_of_reviews in T-1 by frnds----- no_of_cont_frnds 800 1 0 0\n",
        "user --- no_of_reviews in  T ---- no_of_reviews in T-1 by frnds----- no_of_cont_frnds 804 45 1 1\n",
        "user --- no_of_reviews in  T ---- no_of_reviews in T-1 by frnds----- no_of_cont_frnds 809 1 2 1\n",
        "user --- no_of_reviews in  T ---- no_of_reviews in T-1 by frnds----- no_of_cont_frnds 815 1 0 0\n",
        "user --- no_of_reviews in  T ---- no_of_reviews in T-1 by frnds----- no_of_cont_frnds 816 1 8 1\n",
        "user --- no_of_reviews in  T ---- no_of_reviews in T-1 by frnds----- no_of_cont_frnds 819 1 856 12\n",
        "user --- no_of_reviews in  T ---- no_of_reviews in T-1 by frnds----- no_of_cont_frnds 822 1 3903 15\n",
        "user --- no_of_reviews in  T ---- no_of_reviews in T-1 by frnds----- no_of_cont_frnds 823 5 2988 23\n",
        "user --- no_of_reviews in  T ---- no_of_reviews in T-1 by frnds----- no_of_cont_frnds 824 3 77 8\n",
        "user --- no_of_reviews in  T ---- no_of_reviews in T-1 by frnds----- no_of_cont_frnds 825 2 137 12\n",
        "user --- no_of_reviews in  T ---- no_of_reviews in T-1 by frnds----- no_of_cont_frnds 829 1 1417 5\n",
        "user --- no_of_reviews in  T ---- no_of_reviews in T-1 by frnds----- no_of_cont_frnds 830 1 67 4\n",
        "user --- no_of_reviews in  T ---- no_of_reviews in T-1 by frnds----- no_of_cont_frnds 832 14 0 0\n",
        "user --- no_of_reviews in  T ---- no_of_reviews in T-1 by frnds----- no_of_cont_frnds 833 9 5 2\n",
        "user --- no_of_reviews in  T ---- no_of_reviews in T-1 by frnds----- no_of_cont_frnds 835 1 3 1\n",
        "user --- no_of_reviews in  T ---- no_of_reviews in T-1 by frnds----- no_of_cont_frnds 836 35 42 6\n",
        "user --- no_of_reviews in  T ---- no_of_reviews in T-1 by frnds----- no_of_cont_frnds 837 1 4 1\n",
        "user --- no_of_reviews in  T ---- no_of_reviews in T-1 by frnds----- no_of_cont_frnds 838 26 1 1\n",
        "user --- no_of_reviews in  T ---- no_of_reviews in T-1 by frnds----- no_of_cont_frnds 839 1 728 49\n",
        "user --- no_of_reviews in  T ---- no_of_reviews in T-1 by frnds----- no_of_cont_frnds 840 2 2 2\n",
        "user --- no_of_reviews in  T ---- no_of_reviews in T-1 by frnds----- no_of_cont_frnds 841 1 0 0\n",
        "user --- no_of_reviews in  T ---- no_of_reviews in T-1 by frnds----- no_of_cont_frnds 843 1 15 1\n",
        "user --- no_of_reviews in  T ---- no_of_reviews in T-1 by frnds----- no_of_cont_frnds 844 1 22 4\n",
        "user --- no_of_reviews in  T ---- no_of_reviews in T-1 by frnds----- no_of_cont_frnds 845 3 2 1\n",
        "user --- no_of_reviews in  T ---- no_of_reviews in T-1 by frnds----- no_of_cont_frnds 848 25 65 11\n",
        "user --- no_of_reviews in  T ---- no_of_reviews in T-1 by frnds----- no_of_cont_frnds 849 25 11 2\n",
        "user --- no_of_reviews in  T ---- no_of_reviews in T-1 by frnds----- no_of_cont_frnds 852 2 17 1\n",
        "user --- no_of_reviews in  T ---- no_of_reviews in T-1 by frnds----- no_of_cont_frnds 855 1 3 3\n",
        "user --- no_of_reviews in  T ---- no_of_reviews in T-1 by frnds----- no_of_cont_frnds 857 1 0 0\n",
        "user --- no_of_reviews in  T ---- no_of_reviews in T-1 by frnds----- no_of_cont_frnds 859 1 543 19\n",
        "user --- no_of_reviews in  T ---- no_of_reviews in T-1 by frnds----- no_of_cont_frnds 861 1 0 0\n",
        "user --- no_of_reviews in  T ---- no_of_reviews in T-1 by frnds----- no_of_cont_frnds 864 1 0 0\n",
        "user --- no_of_reviews in  T ---- no_of_reviews in T-1 by frnds----- no_of_cont_frnds 865 5 0 0\n",
        "user --- no_of_reviews in  T ---- no_of_reviews in T-1 by frnds----- no_of_cont_frnds 868 1 0 0\n",
        "user --- no_of_reviews in  T ---- no_of_reviews in T-1 by frnds----- no_of_cont_frnds 871 1 0 0\n",
        "user --- no_of_reviews in  T ---- no_of_reviews in T-1 by frnds----- no_of_cont_frnds 873 3 11 1\n",
        "user --- no_of_reviews in  T ---- no_of_reviews in T-1 by frnds----- no_of_cont_frnds 876 1 0 0\n",
        "user --- no_of_reviews in  T ---- no_of_reviews in T-1 by frnds----- no_of_cont_frnds 877 2 0 0\n",
        "user --- no_of_reviews in  T ---- no_of_reviews in T-1 by frnds----- no_of_cont_frnds 880 1 0 0\n",
        "user --- no_of_reviews in  T ---- no_of_reviews in T-1 by frnds----- no_of_cont_frnds 882 1 10 5\n",
        "user --- no_of_reviews in  T ---- no_of_reviews in T-1 by frnds----- no_of_cont_frnds 884 4 5 2\n",
        "user --- no_of_reviews in  T ---- no_of_reviews in T-1 by frnds----- no_of_cont_frnds 898 1 187 4\n",
        "user --- no_of_reviews in  T ---- no_of_reviews in T-1 by frnds----- no_of_cont_frnds 899 1 1 1\n",
        "user --- no_of_reviews in  T ---- no_of_reviews in T-1 by frnds----- no_of_cont_frnds 905 2 1 1\n",
        "user --- no_of_reviews in  T ---- no_of_reviews in T-1 by frnds----- no_of_cont_frnds 908 1 19 6\n",
        "user --- no_of_reviews in  T ---- no_of_reviews in T-1 by frnds----- no_of_cont_frnds 909 6 155 21\n",
        "user --- no_of_reviews in  T ---- no_of_reviews in T-1 by frnds----- no_of_cont_frnds 910 16 38 5\n",
        "user --- no_of_reviews in  T ---- no_of_reviews in T-1 by frnds----- no_of_cont_frnds 911 3 36 5\n",
        "user --- no_of_reviews in  T ---- no_of_reviews in T-1 by frnds----- no_of_cont_frnds 912 6 89 19\n",
        "user --- no_of_reviews in  T ---- no_of_reviews in T-1 by frnds----- no_of_cont_frnds 913 4 225 10\n",
        "user --- no_of_reviews in  T ---- no_of_reviews in T-1 by frnds----- no_of_cont_frnds 914 6 103 17\n",
        "user --- no_of_reviews in  T ---- no_of_reviews in T-1 by frnds----- no_of_cont_frnds 916 13 16 6\n",
        "user --- no_of_reviews in  T ---- no_of_reviews in T-1 by frnds----- no_of_cont_frnds 917 1 134 4\n",
        "user --- no_of_reviews in  T ---- no_of_reviews in T-1 by frnds----- no_of_cont_frnds 918 1 83 15\n",
        "user --- no_of_reviews in  T ---- no_of_reviews in T-1 by frnds----- no_of_cont_frnds 919 1 12 4\n",
        "user --- no_of_reviews in  T ---- no_of_reviews in T-1 by frnds----- no_of_cont_frnds 920 2 3 2\n",
        "user --- no_of_reviews in  T ---- no_of_reviews in T-1 by frnds----- no_of_cont_frnds 921 1 397 27\n",
        "user --- no_of_reviews in  T ---- no_of_reviews in T-1 by frnds----- no_of_cont_frnds 923 35 38 8\n",
        "user --- no_of_reviews in  T ---- no_of_reviews in T-1 by frnds----- no_of_cont_frnds 924 66 109 15\n",
        "user --- no_of_reviews in  T ---- no_of_reviews in T-1 by frnds----- no_of_cont_frnds 926 8 13 3\n",
        "user --- no_of_reviews in  T ---- no_of_reviews in T-1 by frnds----- no_of_cont_frnds 927 12 0 0\n",
        "user --- no_of_reviews in  T ---- no_of_reviews in T-1 by frnds----- no_of_cont_frnds 930 4 0 0\n",
        "user --- no_of_reviews in  T ---- no_of_reviews in T-1 by frnds----- no_of_cont_frnds 932 16 29 2\n",
        "user --- no_of_reviews in  T ---- no_of_reviews in T-1 by frnds----- no_of_cont_frnds 933 2 261 30\n",
        "user --- no_of_reviews in  T ---- no_of_reviews in T-1 by frnds----- no_of_cont_frnds 934 1 2 1\n",
        "user --- no_of_reviews in  T ---- no_of_reviews in T-1 by frnds----- no_of_cont_frnds 936 30 14 3\n",
        "user --- no_of_reviews in  T ---- no_of_reviews in T-1 by frnds----- no_of_cont_frnds 937 2 23 4\n",
        "user --- no_of_reviews in  T ---- no_of_reviews in T-1 by frnds----- no_of_cont_frnds 939 4 0 0\n",
        "user --- no_of_reviews in  T ---- no_of_reviews in T-1 by frnds----- no_of_cont_frnds 940 18 13 4\n",
        "user --- no_of_reviews in  T ---- no_of_reviews in T-1 by frnds----- no_of_cont_frnds 941 2 74 8\n",
        "user --- no_of_reviews in  T ---- no_of_reviews in T-1 by frnds----- no_of_cont_frnds 942 3 19 6\n",
        "user --- no_of_reviews in  T ---- no_of_reviews in T-1 by frnds----- no_of_cont_frnds 943 1 3 2\n",
        "user --- no_of_reviews in  T ---- no_of_reviews in T-1 by frnds----- no_of_cont_frnds 947 2 263 11\n",
        "user --- no_of_reviews in  T ---- no_of_reviews in T-1 by frnds----- no_of_cont_frnds 948 6 11 1\n",
        "user --- no_of_reviews in  T ---- no_of_reviews in T-1 by frnds----- no_of_cont_frnds 952 5 38 4\n",
        "user --- no_of_reviews in  T ---- no_of_reviews in T-1 by frnds----- no_of_cont_frnds 954 2 9 5\n",
        "user --- no_of_reviews in  T ---- no_of_reviews in T-1 by frnds----- no_of_cont_frnds 956 1 142 6\n",
        "user --- no_of_reviews in  T ---- no_of_reviews in T-1 by frnds----- no_of_cont_frnds 957 1 5 1\n",
        "user --- no_of_reviews in  T ---- no_of_reviews in T-1 by frnds----- no_of_cont_frnds 961 1 2 1\n",
        "user --- no_of_reviews in  T ---- no_of_reviews in T-1 by frnds----- no_of_cont_frnds 962 5 0 0\n",
        "user --- no_of_reviews in  T ---- no_of_reviews in T-1 by frnds----- no_of_cont_frnds 963 47 1 1\n",
        "user --- no_of_reviews in  T ---- no_of_reviews in T-1 by frnds----- no_of_cont_frnds 965 1 153 2\n",
        "user --- no_of_reviews in  T ---- no_of_reviews in T-1 by frnds----- no_of_cont_frnds 969 1 0 0\n",
        "user --- no_of_reviews in  T ---- no_of_reviews in T-1 by frnds----- no_of_cont_frnds 974 1 95 11\n",
        "user --- no_of_reviews in  T ---- no_of_reviews in T-1 by frnds----- no_of_cont_frnds 977 3 0 0\n",
        "user --- no_of_reviews in  T ---- no_of_reviews in T-1 by frnds----- no_of_cont_frnds 980 13 0 0\n",
        "user --- no_of_reviews in  T ---- no_of_reviews in T-1 by frnds----- no_of_cont_frnds 983 5 0 0\n",
        "user --- no_of_reviews in  T ---- no_of_reviews in T-1 by frnds----- no_of_cont_frnds 987 2 2 1\n",
        "user --- no_of_reviews in  T ---- no_of_reviews in T-1 by frnds----- no_of_cont_frnds 989 1 423 3\n",
        "user --- no_of_reviews in  T ---- no_of_reviews in T-1 by frnds----- no_of_cont_frnds 997 3 727 10\n",
        "user --- no_of_reviews in  T ---- no_of_reviews in T-1 by frnds----- no_of_cont_frnds 998 5 536 43\n",
        "user --- no_of_reviews in  T ---- no_of_reviews in T-1 by frnds----- no_of_cont_frnds 999 52 4576 91\n",
        "user --- no_of_reviews in  T ---- no_of_reviews in T-1 by frnds----- no_of_cont_frnds 1001 3 2 1\n"
       ]
      }
     ],
     "prompt_number": 69
    },
    {
     "cell_type": "code",
     "collapsed": false,
     "input": [
      "from scipy.stats.stats import pearsonr"
     ],
     "language": "python",
     "metadata": {},
     "outputs": [],
     "prompt_number": 20
    },
    {
     "cell_type": "code",
     "collapsed": false,
     "input": [
      "x = [1,2,3]\n",
      "y = [1,4,9]\n",
      "pearsonr(x, y)\n"
     ],
     "language": "python",
     "metadata": {},
     "outputs": [
      {
       "metadata": {},
       "output_type": "pyout",
       "prompt_number": 21,
       "text": [
        "(0.98974331861078702, 0.091257896685979931)"
       ]
      }
     ],
     "prompt_number": 21
    },
    {
     "cell_type": "code",
     "collapsed": false,
     "input": [
      "pearsonr(x,y)"
     ],
     "language": "python",
     "metadata": {},
     "outputs": [
      {
       "metadata": {},
       "output_type": "pyout",
       "prompt_number": 60,
       "text": [
        "(0.69789715780600214, 5.4433296451913106e-147)"
       ]
      }
     ],
     "prompt_number": 60
    },
    {
     "cell_type": "code",
     "collapsed": false,
     "input": [
      "pearsonr(w[0:100],x[0:100])"
     ],
     "language": "python",
     "metadata": {},
     "outputs": [
      {
       "metadata": {},
       "output_type": "pyout",
       "prompt_number": 71,
       "text": [
        "(0.30737614018013792, 0.0018658659872238231)"
       ]
      }
     ],
     "prompt_number": 71
    },
    {
     "cell_type": "code",
     "collapsed": false,
     "input": [
      "pearsonr(w,y)"
     ],
     "language": "python",
     "metadata": {},
     "outputs": [
      {
       "metadata": {},
       "output_type": "pyout",
       "prompt_number": 62,
       "text": [
        "(0.034306284148751649, 0.27820287756646661)"
       ]
      }
     ],
     "prompt_number": 62
    },
    {
     "cell_type": "code",
     "collapsed": false,
     "input": [
      "pearsonr(w,z)"
     ],
     "language": "python",
     "metadata": {},
     "outputs": [
      {
       "metadata": {},
       "output_type": "pyout",
       "prompt_number": 63,
       "text": [
        "(0.059210666945504288, 0.061117543835712225)"
       ]
      }
     ],
     "prompt_number": 63
    },
    {
     "cell_type": "code",
     "collapsed": false,
     "input": [
      "pearsonr(x,z)"
     ],
     "language": "python",
     "metadata": {},
     "outputs": [
      {
       "metadata": {},
       "output_type": "pyout",
       "prompt_number": 28,
       "text": [
        "(0.81281565892487129, 3.861788889153274e-112)"
       ]
      }
     ],
     "prompt_number": 28
    },
    {
     "cell_type": "code",
     "collapsed": false,
     "input": [
      "arr1 = []\n",
      "arr2 = []\n",
      "i = 0\n",
      "while i<901:\n",
      "    val = pearsonr(w[0:i+100],x[0:i+100])\n",
      "    arr1.append(i+100)\n",
      "    arr2.append(val[0])\n",
      "    i = i+100\n",
      "\n",
      "print arr1,arr2"
     ],
     "language": "python",
     "metadata": {},
     "outputs": [
      {
       "output_type": "stream",
       "stream": "stdout",
       "text": [
        "[100, 200, 300, 400, 500, 600, 700, 800, 900, 1000] [0.30737614018013792, 0.23075652132762633, 0.1588485470585618, 0.13068568191043423, 0.14119085173249407, 0.14119085173249407, 0.14119085173249407, 0.14119085173249407, 0.14119085173249407, 0.14119085173249407]\n"
       ]
      }
     ],
     "prompt_number": 92
    },
    {
     "cell_type": "code",
     "collapsed": false,
     "input": [
      "import pylab\n",
      "pylab.plot(arr1,arr2)\n",
      "pylab.xlabel('Number of Users/Nodes')\n",
      "pylab.ylabel('Corelation Coefficient')\n",
      "pylab.title('Users Contribution in T/Friends Contribution in T-1')\n",
      "pylab.show()\n",
      "pylab.savefig('E:\\\\SocialNetworks\\\\project\\\\fig1.png')"
     ],
     "language": "python",
     "metadata": {},
     "outputs": [
      {
       "metadata": {},
       "output_type": "display_data",
       "png": "[encoded data removed]",
       "text": [
        "<matplotlib.figure.Figure at 0x21f44be0>"
       ]
      },
      {
       "metadata": {},
       "output_type": "display_data",
       "text": [
        "<matplotlib.figure.Figure at 0x414d5748>"
       ]
      }
     ],
     "prompt_number": 94
    },
    {
     "cell_type": "code",
     "collapsed": false,
     "input": [
      "user_stat = []\n",
      "cnt = 0\n",
      "for i in range(len(user_data)):\n",
      "    inf_map = {}\n",
      "    curr_user_id = user_data['user_id'][i]\n",
      "    curr_friends = user_data['friends'][i]\n",
      "    curr_user_reviews = user_review_dic[curr_user_id] #list of reviews made by this user\n",
      "    #print curr_friends\n",
      "    for review in curr_user_reviews:\n",
      "        strong_list = []\n",
      "        weak_list = []\n",
      "        curr_bus = review_data['business_id'][review-1]\n",
      "        curr_date = review_data['date'][review-1]\n",
      "        curr_stars = review_data['stars'][review-1]\n",
      "        for friend in range(len(curr_friends)):\n",
      "            #print \"Friend: \",friend\n",
      "            #x =  curr_friends[friend]\n",
      "            #x = str(x)\n",
      "            #x = x.replace(\"'\",\"\")\n",
      "            #print \"X value is: \", type(x)\n",
      "            #print \"Dictionary is : \", user_review_dic[int(x)]\n",
      "            curr_friend_reviews = user_review_dic[int(curr_friends[friend])] #list of reviews made by this friend\n",
      "            #print len(curr_friend_reviews)\n",
      "            for f_review in curr_friend_reviews:\n",
      "                curr_f_bus = review_data['business_id'][f_review-1]\n",
      "                curr_f_date = review_data['date'][f_review-1]\n",
      "                curr_f_stars = review_data['stars'][f_review-1]\n",
      "                if(curr_f_bus==curr_bus):\n",
      "                    cnt = cnt  + 1\n",
      "                    #print curr_f_bus,curr_bus\n",
      "                    #x= str(curr_f_date).split(' ')\n",
      "#                     y= str(curr_date).split(' ')\n",
      "                    #print x[0],y[0]\n",
      "#                     if(date_compare(x[0],y[0])):\n",
      "#                         if(((curr_f_stars >= 3) and (curr_stars >= 3)) or ((curr_f_stars < 3) and (curr_stars < 3))):\n",
      "#                             strong_list.append(f_review)\n",
      "#                         else:\n",
      "#                             weak_list.append(f_review)\n",
      "        #print len(strong_list)\n",
      "        #print len(weak_list)\n",
      "#         inf_map[review] = match_list\n",
      "    #u = user_statistics(curr_user_id,inf_map)   \n",
      "    #user_stat.append(u)\n",
      "print cnt\n",
      "print i\n",
      "if(i==100): break\n",
      "# print len(strong_list)\n",
      "# print len(weak_list)"
     ],
     "language": "python",
     "metadata": {},
     "outputs": []
    },
    {
     "cell_type": "code",
     "collapsed": false,
     "input": [
      "user_stat = []\n",
      "cnt = 0\n",
      "for i in range(len(user_data)):\n",
      "    inf_map = {}\n",
      "    curr_user_id = user_data['user_id'][i]\n",
      "    curr_friends = user_data['friends'][i]\n",
      "    curr_user_reviews = user_review_dic[curr_user_id] #list of reviews made by this user\n",
      "    #print curr_friends\n",
      "    for review in curr_user_reviews:\n",
      "        strong_list = []\n",
      "        weak_list = []\n",
      "        curr_bus = review_data['business_id'][review-1]\n",
      "        curr_date = review_data['date'][review-1]\n",
      "        curr_stars = review_data['stars'][review-1]\n",
      "        for friend in range(len(curr_friends)):\n",
      "            #print \"Friend: \",friend\n",
      "            #x =  curr_friends[friend]\n",
      "            #x = str(x)\n",
      "            #x = x.replace(\"'\",\"\")\n",
      "            #print \"X value is: \", type(x)\n",
      "            #print \"Dictionary is : \", user_review_dic[int(x)]\n",
      "            curr_friend_reviews = user_review_dic[int(curr_friends[friend])] #list of reviews made by this friend\n",
      "            #print len(curr_friend_reviews)\n",
      "            for f_review in curr_friend_reviews:\n",
      "                curr_f_bus = review_data['business_id'][f_review-1]\n",
      "                curr_f_date = review_data['date'][f_review-1]\n",
      "                curr_f_stars = review_data['stars'][f_review-1]\n",
      "                if(curr_f_bus==curr_bus):\n",
      "                    cnt = cnt  + 1\n",
      "                    #print curr_f_bus,curr_bus\n",
      "                    x= str(curr_f_date).split(' ')\n",
      "                    y= str(curr_date).split(' ')\n",
      "                    dt1 = dateutil.parser.parse(x[0])\n",
      "                    dt2 = dateutil.parser.parse(y[0])\n",
      "                    if(dt1.date()<dt2.date()):\n",
      "                         #if(((curr_f_stars >= 3) and (curr_stars >= 3)) or ((curr_f_stars < 3) and (curr_stars < 3))):\n",
      "                        strong_list.append(f_review)\n",
      "                         #else:\n",
      "                             #weak_list.append(f_review)\n",
      "        #print len(strong_list)\n",
      "        #print len(weak_list)\n",
      "#         inf_map[review] = match_list\n",
      "    #u = user_statistics(curr_user_id,inf_map)   \n",
      "    #user_stat.append(u)\n",
      "    print cnt\n",
      "    print i\n",
      "    if(i==100): break\n",
      "print len(strong_list)\n",
      "# print len(weak_list)"
     ],
     "language": "python",
     "metadata": {},
     "outputs": [
      {
       "output_type": "stream",
       "stream": "stdout",
       "text": [
        "4\n",
        "0\n",
        "875"
       ]
      },
      {
       "output_type": "stream",
       "stream": "stdout",
       "text": [
        "\n",
        "1\n",
        "890"
       ]
      },
      {
       "output_type": "stream",
       "stream": "stdout",
       "text": [
        "\n",
        "2\n",
        "894\n",
        "3\n",
        "894\n",
        "4\n",
        "894"
       ]
      },
      {
       "output_type": "stream",
       "stream": "stdout",
       "text": [
        "\n",
        "5\n",
        "894\n",
        "6\n",
        "895"
       ]
      },
      {
       "output_type": "stream",
       "stream": "stdout",
       "text": [
        "\n",
        "7\n",
        "896\n",
        "8\n",
        "918"
       ]
      },
      {
       "output_type": "stream",
       "stream": "stdout",
       "text": [
        "\n",
        "9\n",
        "918\n",
        "10\n",
        "999"
       ]
      },
      {
       "output_type": "stream",
       "stream": "stdout",
       "text": [
        "\n",
        "11\n",
        "999\n",
        "12\n",
        "999\n",
        "13\n",
        "999"
       ]
      },
      {
       "output_type": "stream",
       "stream": "stdout",
       "text": [
        "\n",
        "14\n",
        "999"
       ]
      },
      {
       "output_type": "stream",
       "stream": "stdout",
       "text": [
        "\n",
        "15\n",
        "999\n",
        "16\n",
        "1000\n",
        "17\n",
        "1000\n",
        "18\n",
        "1003"
       ]
      },
      {
       "output_type": "stream",
       "stream": "stdout",
       "text": [
        "\n",
        "19\n",
        "1003\n",
        "20\n",
        "1005\n",
        "21\n",
        "1005\n",
        "22\n",
        "1007\n",
        "23\n",
        "1008"
       ]
      },
      {
       "output_type": "stream",
       "stream": "stdout",
       "text": [
        "\n",
        "24\n",
        "1008\n",
        "25\n",
        "1008\n",
        "26\n",
        "1008\n",
        "27\n",
        "1008\n",
        "28\n",
        "1008\n",
        "29\n",
        "1008\n",
        "30\n",
        "1008\n",
        "31\n",
        "1008\n",
        "32\n",
        "1008\n",
        "33\n",
        "1008\n",
        "34\n",
        "1008\n",
        "35\n",
        "1008\n",
        "36\n",
        "1008\n",
        "37\n",
        "1008\n",
        "38\n",
        "1009\n",
        "39\n",
        "1009\n",
        "40\n",
        "1010\n",
        "41\n",
        "1010\n",
        "42\n",
        "1010\n",
        "43\n",
        "1010\n",
        "44\n",
        "1010\n",
        "45\n",
        "1010"
       ]
      },
      {
       "output_type": "stream",
       "stream": "stdout",
       "text": [
        "\n",
        "46\n",
        "1010\n",
        "47\n",
        "1010\n",
        "48\n",
        "1010\n",
        "49\n",
        "1010\n",
        "50\n",
        "1012"
       ]
      },
      {
       "output_type": "stream",
       "stream": "stdout",
       "text": [
        "\n",
        "51\n",
        "1013\n",
        "52\n",
        "1013\n",
        "53\n",
        "1013\n",
        "54\n",
        "1013\n",
        "55\n",
        "1013\n",
        "56\n",
        "1013\n",
        "57\n",
        "1013\n",
        "58\n",
        "1013\n",
        "59\n",
        "1013\n",
        "60\n",
        "1013\n",
        "61\n",
        "1013\n",
        "62\n",
        "1014\n",
        "63\n",
        "1015\n",
        "64\n",
        "1015\n",
        "65\n",
        "1015\n",
        "66\n",
        "1015\n",
        "67\n",
        "1015\n",
        "68\n",
        "1015\n",
        "69\n",
        "1015\n",
        "70\n",
        "1015\n",
        "71\n",
        "1015\n",
        "72\n",
        "1015\n",
        "73\n",
        "1015\n",
        "74\n",
        "1015\n",
        "75\n",
        "1015\n",
        "76\n",
        "1015\n",
        "77\n",
        "1015\n",
        "78\n",
        "1015\n",
        "79\n",
        "1015\n",
        "80\n",
        "1015\n",
        "81\n",
        "1015\n",
        "82\n",
        "1015\n",
        "83\n",
        "1015\n",
        "84\n",
        "1015\n",
        "85\n",
        "1015\n",
        "86\n",
        "1015\n",
        "87\n",
        "1015\n",
        "88\n",
        "1015\n",
        "89\n",
        "1016"
       ]
      },
      {
       "output_type": "stream",
       "stream": "stdout",
       "text": [
        "\n",
        "90\n",
        "1016\n",
        "91\n",
        "1018\n",
        "92\n",
        "1018\n",
        "93\n",
        "1096"
       ]
      },
      {
       "output_type": "stream",
       "stream": "stdout",
       "text": [
        "\n",
        "94\n",
        "1096\n",
        "95\n",
        "1096\n",
        "96\n",
        "1188"
       ]
      },
      {
       "output_type": "stream",
       "stream": "stdout",
       "text": [
        "\n",
        "97\n",
        "1188\n",
        "98\n",
        "1190\n",
        "99\n",
        "1205"
       ]
      },
      {
       "output_type": "stream",
       "stream": "stdout",
       "text": [
        "\n",
        "100\n",
        "0\n"
       ]
      }
     ],
     "prompt_number": 11
    },
    {
     "cell_type": "code",
     "collapsed": false,
     "input": [
      "user_stat = []\n",
      "user_dictionary = {}\n",
      "cnt = 0\n",
      "user_list = []\n",
      "strong_list = []\n",
      "moderate_list = []\n",
      "user_array = []\n",
      "influenced_user_array = []\n",
      "user_influencing_friends = {} \n",
      "user_influencing_reviews = {}\n",
      "index = 0\n",
      "total_reviews = []\n",
      "for i in range(len(user_data)):\n",
      "    inf_map = {}\n",
      "    curr_user_id = user_data['user_id'][i]\n",
      "    curr_friends = user_data['friends'][i]\n",
      "    curr_user_reviews = user_review_dic[curr_user_id] #list of reviews made by this user\n",
      "    #print curr_friends\n",
      "    influencing_friends = []\n",
      "    influencing_reviews = []\n",
      "    for review in curr_user_reviews:\n",
      "        match_list = []\n",
      "    \n",
      "        curr_bus = review_data['business_id'][review-1]\n",
      "        curr_date = review_data['date'][review-1]\n",
      "        curr_stars = review_data['stars'][review-1]\n",
      "        for friend in range(len(curr_friends)):\n",
      "            #print \"Friend: \",friend\n",
      "            #x =  curr_friends[friend]\n",
      "            #x = str(x)\n",
      "            #x = x.replace(\"'\",\"\")\n",
      "            #print \"X value is: \", type(x)\n",
      "            #print \"Dictionary is : \", user_review_dic[int(x)]\n",
      "            curr_friend_reviews = user_review_dic[int(curr_friends[friend])] #list of reviews made by this friend\n",
      "            #print len(curr_friend_reviews)\n",
      "            for f_review in curr_friend_reviews:\n",
      "                curr_f_bus = review_data['business_id'][f_review-1]\n",
      "                curr_f_date = review_data['date'][f_review-1]\n",
      "                curr_f_stars = review_data['stars'][f_review-1]\n",
      "                if(curr_f_bus==curr_bus):\n",
      "                    #print curr_f_bus,curr_bus\n",
      "                    x= str(curr_f_date).split(' ')\n",
      "                    y= str(curr_date).split(' ')\n",
      "                    #print x[0],y[0]\n",
      "                    if(date_compare(x[0],y[0])):\n",
      "                        match_list.append(f_review)\n",
      "                        if review_data['user_id'][f_review-1] in influencing_friends:\n",
      "                            influencing_reviews.append(review_data['review_id'][f_review-1])\n",
      "                            print(\"\")\n",
      "                        else:\n",
      "                            influencing_friends.append(review_data['user_id'][f_review-1])\n",
      "                            influencing_reviews.append(review_data['review_id'][f_review-1])\n",
      "                        if curr_user_id in user_list:\n",
      "                            print \" \"\n",
      "                        else:\n",
      "                            user_list.append(curr_user_id)\n",
      "#                         if(((curr_stars >= 3) and (curr_f_stars >= 3)) or ((curr_stars < 3) or (curr_f_stars <3))):\n",
      "#                             if curr_user_id in strong_list:\n",
      "#                                 print(\" \")\n",
      "#                             else:\n",
      "#                                 strong_list.append(curr_user_id)\n",
      "#                         else:\n",
      "#                             if curr_user_id in moderate_list:\n",
      "#                                 print(\" \")\n",
      "#                             else:\n",
      "#                                 moderate_list.append(curr_user_id)\n",
      "    if curr_user_id in user_list:\n",
      "        user_influencing_friends[index] = {'user_id':curr_user_id,'influencing_friends':len(influencing_friends)}\n",
      "        user_influencing_reviews[index] = {'user_id':curr_user_id,'influencing_reviews':len(influencing_reviews)}\n",
      "        index = index + 1\n",
      "    if(i==200): break\n",
      "for j in range(0,len(user_influencing_friends)):\n",
      "        print user_influencing_friends[j]['user_id'],user_influencing_friends[j]['influencing_friends']\n",
      "for j in range(0,len(user_influencing_reviews)):\n",
      "        print \"User_id and influencing reviews\"\n",
      "        print user_influencing_reviews[j]['user_id'],user_influencing_reviews[j]['influencing_reviews']\n",
      "print len(user_list)\n",
      "print len(strong_list)\n",
      "print len(moderate_list)\n",
      "\n"
     ],
     "language": "python",
     "metadata": {},
     "outputs": [
      {
       "output_type": "stream",
       "stream": "stdout",
       "text": [
        " \n",
        " \n",
        " "
       ]
      },
      {
       "output_type": "stream",
       "stream": "stdout",
       "text": [
        "\n",
        " \n",
        " \n",
        " \n",
        " "
       ]
      },
      {
       "output_type": "stream",
       "stream": "stdout",
       "text": [
        "\n",
        " \n",
        " \n",
        " \n",
        " "
       ]
      },
      {
       "output_type": "stream",
       "stream": "stdout",
       "text": [
        "\n",
        " "
       ]
      },
      {
       "output_type": "stream",
       "stream": "stdout",
       "text": [
        "\n",
        " "
       ]
      },
      {
       "output_type": "stream",
       "stream": "stdout",
       "text": [
        "\n",
        " "
       ]
      },
      {
       "output_type": "stream",
       "stream": "stdout",
       "text": [
        "\n",
        " \n",
        " "
       ]
      },
      {
       "output_type": "stream",
       "stream": "stdout",
       "text": [
        "\n",
        " "
       ]
      },
      {
       "output_type": "stream",
       "stream": "stdout",
       "text": [
        "\n",
        " "
       ]
      },
      {
       "output_type": "stream",
       "stream": "stdout",
       "text": [
        "\n",
        " \n",
        " "
       ]
      },
      {
       "output_type": "stream",
       "stream": "stdout",
       "text": [
        "\n",
        " "
       ]
      },
      {
       "output_type": "stream",
       "stream": "stdout",
       "text": [
        "\n",
        " "
       ]
      },
      {
       "output_type": "stream",
       "stream": "stdout",
       "text": [
        "\n",
        " "
       ]
      },
      {
       "output_type": "stream",
       "stream": "stdout",
       "text": [
        "\n",
        " \n",
        " "
       ]
      },
      {
       "output_type": "stream",
       "stream": "stdout",
       "text": [
        "\n",
        " "
       ]
      },
      {
       "output_type": "stream",
       "stream": "stdout",
       "text": [
        "\n",
        " "
       ]
      },
      {
       "output_type": "stream",
       "stream": "stdout",
       "text": [
        "\n",
        " "
       ]
      },
      {
       "output_type": "stream",
       "stream": "stdout",
       "text": [
        "\n",
        " "
       ]
      },
      {
       "output_type": "stream",
       "stream": "stdout",
       "text": [
        "\n",
        " "
       ]
      },
      {
       "output_type": "stream",
       "stream": "stdout",
       "text": [
        "\n",
        " "
       ]
      },
      {
       "output_type": "stream",
       "stream": "stdout",
       "text": [
        "\n",
        " "
       ]
      },
      {
       "output_type": "stream",
       "stream": "stdout",
       "text": [
        "\n"
       ]
      },
      {
       "output_type": "stream",
       "stream": "stdout",
       "text": [
        "\n",
        " \n",
        " "
       ]
      },
      {
       "output_type": "stream",
       "stream": "stdout",
       "text": [
        "\n",
        "\n",
        " \n",
        " "
       ]
      },
      {
       "output_type": "stream",
       "stream": "stdout",
       "text": [
        "\n",
        " "
       ]
      },
      {
       "output_type": "stream",
       "stream": "stdout",
       "text": [
        "\n",
        " "
       ]
      },
      {
       "output_type": "stream",
       "stream": "stdout",
       "text": [
        "\n",
        " "
       ]
      },
      {
       "output_type": "stream",
       "stream": "stdout",
       "text": [
        "\n",
        " "
       ]
      },
      {
       "output_type": "stream",
       "stream": "stdout",
       "text": [
        "\n",
        " \n",
        " \n",
        " \n",
        " "
       ]
      },
      {
       "output_type": "stream",
       "stream": "stdout",
       "text": [
        "\n",
        " \n",
        " \n",
        " \n",
        " \n",
        " "
       ]
      },
      {
       "output_type": "stream",
       "stream": "stdout",
       "text": [
        "\n",
        " \n",
        " \n",
        " \n",
        " \n",
        " "
       ]
      },
      {
       "output_type": "stream",
       "stream": "stdout",
       "text": [
        "\n",
        " "
       ]
      },
      {
       "output_type": "stream",
       "stream": "stdout",
       "text": [
        "\n",
        " \n",
        " \n",
        " \n",
        " \n",
        " \n",
        " "
       ]
      },
      {
       "output_type": "stream",
       "stream": "stdout",
       "text": [
        "\n",
        " "
       ]
      },
      {
       "output_type": "stream",
       "stream": "stdout",
       "text": [
        "\n",
        " "
       ]
      },
      {
       "output_type": "stream",
       "stream": "stdout",
       "text": [
        "\n",
        " \n",
        " "
       ]
      },
      {
       "output_type": "stream",
       "stream": "stdout",
       "text": [
        "\n",
        " "
       ]
      },
      {
       "output_type": "stream",
       "stream": "stdout",
       "text": [
        "\n",
        " "
       ]
      },
      {
       "output_type": "stream",
       "stream": "stdout",
       "text": [
        "\n",
        " "
       ]
      },
      {
       "output_type": "stream",
       "stream": "stdout",
       "text": [
        "\n",
        " "
       ]
      },
      {
       "output_type": "stream",
       "stream": "stdout",
       "text": [
        "\n",
        " \n",
        " "
       ]
      },
      {
       "output_type": "stream",
       "stream": "stdout",
       "text": [
        "\n"
       ]
      },
      {
       "output_type": "stream",
       "stream": "stdout",
       "text": [
        "\n",
        " \n",
        " "
       ]
      },
      {
       "output_type": "stream",
       "stream": "stdout",
       "text": [
        "\n",
        " \n",
        " "
       ]
      },
      {
       "output_type": "stream",
       "stream": "stdout",
       "text": [
        "\n",
        " "
       ]
      },
      {
       "output_type": "stream",
       "stream": "stdout",
       "text": [
        "\n",
        " "
       ]
      },
      {
       "output_type": "stream",
       "stream": "stdout",
       "text": [
        "\n",
        " \n",
        " "
       ]
      },
      {
       "output_type": "stream",
       "stream": "stdout",
       "text": [
        "\n",
        " "
       ]
      },
      {
       "output_type": "stream",
       "stream": "stdout",
       "text": [
        "\n",
        " "
       ]
      },
      {
       "output_type": "stream",
       "stream": "stdout",
       "text": [
        "\n",
        " "
       ]
      },
      {
       "output_type": "stream",
       "stream": "stdout",
       "text": [
        "\n",
        " "
       ]
      },
      {
       "output_type": "stream",
       "stream": "stdout",
       "text": [
        "\n",
        " "
       ]
      },
      {
       "output_type": "stream",
       "stream": "stdout",
       "text": [
        "\n",
        "\n",
        " \n",
        " "
       ]
      },
      {
       "output_type": "stream",
       "stream": "stdout",
       "text": [
        "\n",
        "\n",
        " \n",
        " \n",
        " \n",
        "\n",
        " \n",
        "\n",
        " \n",
        "\n",
        " \n",
        " \n",
        " \n",
        " "
       ]
      },
      {
       "output_type": "stream",
       "stream": "stdout",
       "text": [
        "\n",
        " \n",
        " \n",
        " "
       ]
      },
      {
       "output_type": "stream",
       "stream": "stdout",
       "text": [
        "\n",
        " \n",
        " \n",
        " \n",
        "\n",
        " \n",
        "\n",
        " \n",
        " "
       ]
      },
      {
       "output_type": "stream",
       "stream": "stdout",
       "text": [
        "\n",
        "\n",
        " \n",
        "\n",
        " \n",
        " \n",
        " \n",
        " \n",
        " "
       ]
      },
      {
       "output_type": "stream",
       "stream": "stdout",
       "text": [
        "\n",
        " \n",
        " \n",
        "\n",
        " \n",
        " \n",
        " \n",
        " \n",
        "\n",
        " \n",
        " "
       ]
      },
      {
       "output_type": "stream",
       "stream": "stdout",
       "text": [
        "\n",
        "\n",
        " \n",
        " \n",
        "\n",
        " \n",
        " "
       ]
      },
      {
       "output_type": "stream",
       "stream": "stdout",
       "text": [
        "\n",
        " \n",
        " "
       ]
      },
      {
       "output_type": "stream",
       "stream": "stdout",
       "text": [
        "\n",
        " \n",
        "\n",
        " \n",
        " "
       ]
      },
      {
       "output_type": "stream",
       "stream": "stdout",
       "text": [
        "\n",
        " "
       ]
      },
      {
       "output_type": "stream",
       "stream": "stdout",
       "text": [
        "\n",
        " \n",
        " "
       ]
      },
      {
       "output_type": "stream",
       "stream": "stdout",
       "text": [
        "\n",
        " "
       ]
      },
      {
       "output_type": "stream",
       "stream": "stdout",
       "text": [
        "\n",
        " \n",
        " "
       ]
      },
      {
       "output_type": "stream",
       "stream": "stdout",
       "text": [
        "\n",
        " "
       ]
      },
      {
       "output_type": "stream",
       "stream": "stdout",
       "text": [
        "\n",
        " \n",
        " "
       ]
      },
      {
       "output_type": "stream",
       "stream": "stdout",
       "text": [
        "\n",
        " "
       ]
      },
      {
       "output_type": "stream",
       "stream": "stdout",
       "text": [
        "\n",
        " \n",
        " "
       ]
      },
      {
       "output_type": "stream",
       "stream": "stdout",
       "text": [
        "\n",
        " "
       ]
      },
      {
       "output_type": "stream",
       "stream": "stdout",
       "text": [
        "\n",
        " "
       ]
      },
      {
       "output_type": "stream",
       "stream": "stdout",
       "text": [
        "\n",
        " "
       ]
      },
      {
       "output_type": "stream",
       "stream": "stdout",
       "text": [
        "\n"
       ]
      },
      {
       "output_type": "stream",
       "stream": "stdout",
       "text": [
        "\n",
        " \n",
        " "
       ]
      },
      {
       "output_type": "stream",
       "stream": "stdout",
       "text": [
        "\n",
        " \n",
        " "
       ]
      },
      {
       "output_type": "stream",
       "stream": "stdout",
       "text": [
        "\n",
        "\n",
        " \n"
       ]
      },
      {
       "output_type": "stream",
       "stream": "stdout",
       "text": [
        "\n",
        " \n"
       ]
      },
      {
       "output_type": "stream",
       "stream": "stdout",
       "text": [
        "\n",
        " \n"
       ]
      },
      {
       "output_type": "stream",
       "stream": "stdout",
       "text": [
        "\n",
        " \n"
       ]
      },
      {
       "output_type": "stream",
       "stream": "stdout",
       "text": [
        "\n",
        " \n",
        " "
       ]
      },
      {
       "output_type": "stream",
       "stream": "stdout",
       "text": [
        "\n",
        " "
       ]
      },
      {
       "output_type": "stream",
       "stream": "stdout",
       "text": [
        "\n",
        " "
       ]
      },
      {
       "output_type": "stream",
       "stream": "stdout",
       "text": [
        "\n"
       ]
      },
      {
       "output_type": "stream",
       "stream": "stdout",
       "text": [
        "\n",
        " \n",
        " "
       ]
      },
      {
       "output_type": "stream",
       "stream": "stdout",
       "text": [
        "\n"
       ]
      },
      {
       "output_type": "stream",
       "stream": "stdout",
       "text": [
        "\n",
        " \n",
        " \n",
        " \n",
        " \n"
       ]
      },
      {
       "output_type": "stream",
       "stream": "stdout",
       "text": [
        "\n",
        " \n",
        " "
       ]
      },
      {
       "output_type": "stream",
       "stream": "stdout",
       "text": [
        "\n",
        "\n",
        " \n",
        " "
       ]
      },
      {
       "output_type": "stream",
       "stream": "stdout",
       "text": [
        "\n"
       ]
      },
      {
       "output_type": "stream",
       "stream": "stdout",
       "text": [
        "\n",
        " \n",
        " "
       ]
      },
      {
       "output_type": "stream",
       "stream": "stdout",
       "text": [
        "\n"
       ]
      },
      {
       "output_type": "stream",
       "stream": "stdout",
       "text": [
        "\n",
        " \n",
        " "
       ]
      },
      {
       "output_type": "stream",
       "stream": "stdout",
       "text": [
        "\n",
        " "
       ]
      },
      {
       "output_type": "stream",
       "stream": "stdout",
       "text": [
        "\n",
        " "
       ]
      },
      {
       "output_type": "stream",
       "stream": "stdout",
       "text": [
        "\n"
       ]
      },
      {
       "output_type": "stream",
       "stream": "stdout",
       "text": [
        "\n",
        " \n",
        " \n",
        "\n",
        " \n",
        " "
       ]
      },
      {
       "output_type": "stream",
       "stream": "stdout",
       "text": [
        "\n",
        " \n",
        " \n",
        " "
       ]
      },
      {
       "output_type": "stream",
       "stream": "stdout",
       "text": [
        "\n",
        " "
       ]
      },
      {
       "output_type": "stream",
       "stream": "stdout",
       "text": [
        "\n",
        " "
       ]
      },
      {
       "output_type": "stream",
       "stream": "stdout",
       "text": [
        "\n",
        " "
       ]
      },
      {
       "output_type": "stream",
       "stream": "stdout",
       "text": [
        "\n"
       ]
      },
      {
       "output_type": "stream",
       "stream": "stdout",
       "text": [
        "\n",
        " \n"
       ]
      },
      {
       "output_type": "stream",
       "stream": "stdout",
       "text": [
        "\n",
        " \n",
        " "
       ]
      },
      {
       "output_type": "stream",
       "stream": "stdout",
       "text": [
        "\n"
       ]
      },
      {
       "output_type": "stream",
       "stream": "stdout",
       "text": [
        "\n",
        " \n",
        " "
       ]
      },
      {
       "output_type": "stream",
       "stream": "stdout",
       "text": [
        "\n",
        " "
       ]
      },
      {
       "output_type": "stream",
       "stream": "stdout",
       "text": [
        "\n",
        " "
       ]
      },
      {
       "output_type": "stream",
       "stream": "stdout",
       "text": [
        "\n"
       ]
      },
      {
       "output_type": "stream",
       "stream": "stdout",
       "text": [
        "\n",
        " \n",
        " "
       ]
      },
      {
       "output_type": "stream",
       "stream": "stdout",
       "text": [
        "\n"
       ]
      },
      {
       "output_type": "stream",
       "stream": "stdout",
       "text": [
        "\n",
        " \n"
       ]
      },
      {
       "output_type": "stream",
       "stream": "stdout",
       "text": [
        "\n",
        " \n",
        " "
       ]
      },
      {
       "output_type": "stream",
       "stream": "stdout",
       "text": [
        "\n",
        " "
       ]
      },
      {
       "output_type": "stream",
       "stream": "stdout",
       "text": [
        "\n",
        " \n",
        " "
       ]
      },
      {
       "output_type": "stream",
       "stream": "stdout",
       "text": [
        "\n",
        " \n",
        " \n",
        "\n",
        " \n",
        " "
       ]
      },
      {
       "output_type": "stream",
       "stream": "stdout",
       "text": [
        "\n",
        " "
       ]
      },
      {
       "output_type": "stream",
       "stream": "stdout",
       "text": [
        "\n",
        " \n",
        "\n",
        " \n",
        " "
       ]
      },
      {
       "output_type": "stream",
       "stream": "stdout",
       "text": [
        "\n",
        " \n"
       ]
      },
      {
       "output_type": "stream",
       "stream": "stdout",
       "text": [
        "\n",
        " \n",
        "\n",
        " \n",
        " \n",
        " \n",
        " \n"
       ]
      },
      {
       "output_type": "stream",
       "stream": "stdout",
       "text": [
        "\n",
        " \n",
        " \n",
        " "
       ]
      },
      {
       "output_type": "stream",
       "stream": "stdout",
       "text": [
        "\n",
        "\n",
        " \n",
        " \n"
       ]
      },
      {
       "output_type": "stream",
       "stream": "stdout",
       "text": [
        "\n",
        " \n",
        "\n",
        " \n",
        " \n",
        " \n",
        " "
       ]
      },
      {
       "output_type": "stream",
       "stream": "stdout",
       "text": [
        "\n",
        " \n",
        "\n",
        " \n"
       ]
      },
      {
       "output_type": "stream",
       "stream": "stdout",
       "text": [
        "\n",
        " \n",
        " "
       ]
      },
      {
       "output_type": "stream",
       "stream": "stdout",
       "text": [
        "\n",
        " \n",
        " "
       ]
      },
      {
       "output_type": "stream",
       "stream": "stdout",
       "text": [
        "\n",
        " "
       ]
      },
      {
       "output_type": "stream",
       "stream": "stdout",
       "text": [
        "\n",
        " "
       ]
      },
      {
       "output_type": "stream",
       "stream": "stdout",
       "text": [
        "\n",
        " \n"
       ]
      },
      {
       "output_type": "stream",
       "stream": "stdout",
       "text": [
        "\n",
        " \n",
        " \n",
        " "
       ]
      },
      {
       "output_type": "stream",
       "stream": "stdout",
       "text": [
        "\n",
        " \n"
       ]
      },
      {
       "output_type": "stream",
       "stream": "stdout",
       "text": [
        "\n",
        " \n",
        " \n",
        " \n",
        " "
       ]
      },
      {
       "output_type": "stream",
       "stream": "stdout",
       "text": [
        "\n",
        " "
       ]
      },
      {
       "output_type": "stream",
       "stream": "stdout",
       "text": [
        "\n"
       ]
      },
      {
       "output_type": "stream",
       "stream": "stdout",
       "text": [
        "\n",
        " \n",
        " "
       ]
      },
      {
       "output_type": "stream",
       "stream": "stdout",
       "text": [
        "\n"
       ]
      },
      {
       "output_type": "stream",
       "stream": "stdout",
       "text": [
        "\n",
        " \n"
       ]
      },
      {
       "output_type": "stream",
       "stream": "stdout",
       "text": [
        "\n",
        " \n",
        " "
       ]
      },
      {
       "output_type": "stream",
       "stream": "stdout",
       "text": [
        "\n",
        " \n",
        " "
       ]
      },
      {
       "output_type": "stream",
       "stream": "stdout",
       "text": [
        "\n",
        " "
       ]
      },
      {
       "output_type": "stream",
       "stream": "stdout",
       "text": [
        "\n"
       ]
      },
      {
       "output_type": "stream",
       "stream": "stdout",
       "text": [
        "\n",
        " \n",
        " "
       ]
      },
      {
       "output_type": "stream",
       "stream": "stdout",
       "text": [
        "\n",
        " "
       ]
      },
      {
       "output_type": "stream",
       "stream": "stdout",
       "text": [
        "\n",
        " "
       ]
      },
      {
       "output_type": "stream",
       "stream": "stdout",
       "text": [
        "\n",
        " "
       ]
      },
      {
       "output_type": "stream",
       "stream": "stdout",
       "text": [
        "\n",
        " "
       ]
      },
      {
       "output_type": "stream",
       "stream": "stdout",
       "text": [
        "\n",
        "\n",
        " \n"
       ]
      },
      {
       "output_type": "stream",
       "stream": "stdout",
       "text": [
        "\n",
        " \n",
        " "
       ]
      },
      {
       "output_type": "stream",
       "stream": "stdout",
       "text": [
        "\n",
        " "
       ]
      },
      {
       "output_type": "stream",
       "stream": "stdout",
       "text": [
        "\n",
        " "
       ]
      },
      {
       "output_type": "stream",
       "stream": "stdout",
       "text": [
        "\n",
        " "
       ]
      },
      {
       "output_type": "stream",
       "stream": "stdout",
       "text": [
        "\n",
        " "
       ]
      },
      {
       "output_type": "stream",
       "stream": "stdout",
       "text": [
        "\n",
        " "
       ]
      },
      {
       "output_type": "stream",
       "stream": "stdout",
       "text": [
        "\n"
       ]
      },
      {
       "output_type": "stream",
       "stream": "stdout",
       "text": [
        "\n",
        " \n",
        " "
       ]
      },
      {
       "output_type": "stream",
       "stream": "stdout",
       "text": [
        "\n",
        " "
       ]
      },
      {
       "output_type": "stream",
       "stream": "stdout",
       "text": [
        "\n"
       ]
      },
      {
       "output_type": "stream",
       "stream": "stdout",
       "text": [
        "\n",
        " \n",
        " "
       ]
      },
      {
       "output_type": "stream",
       "stream": "stdout",
       "text": [
        "\n",
        " "
       ]
      },
      {
       "output_type": "stream",
       "stream": "stdout",
       "text": [
        "\n",
        " "
       ]
      },
      {
       "output_type": "stream",
       "stream": "stdout",
       "text": [
        "\n"
       ]
      },
      {
       "output_type": "stream",
       "stream": "stdout",
       "text": [
        "\n",
        " \n",
        " "
       ]
      },
      {
       "output_type": "stream",
       "stream": "stdout",
       "text": [
        "\n",
        " "
       ]
      },
      {
       "output_type": "stream",
       "stream": "stdout",
       "text": [
        "\n"
       ]
      },
      {
       "output_type": "stream",
       "stream": "stdout",
       "text": [
        "\n",
        " \n",
        "\n",
        " \n",
        " "
       ]
      },
      {
       "output_type": "stream",
       "stream": "stdout",
       "text": [
        "\n",
        " "
       ]
      },
      {
       "output_type": "stream",
       "stream": "stdout",
       "text": [
        "\n",
        " "
       ]
      },
      {
       "output_type": "stream",
       "stream": "stdout",
       "text": [
        "\n",
        " "
       ]
      },
      {
       "output_type": "stream",
       "stream": "stdout",
       "text": [
        "\n",
        " \n",
        " "
       ]
      },
      {
       "output_type": "stream",
       "stream": "stdout",
       "text": [
        "\n",
        " "
       ]
      },
      {
       "output_type": "stream",
       "stream": "stdout",
       "text": [
        "\n",
        " "
       ]
      },
      {
       "output_type": "stream",
       "stream": "stdout",
       "text": [
        "\n",
        " "
       ]
      },
      {
       "output_type": "stream",
       "stream": "stdout",
       "text": [
        "\n",
        " "
       ]
      },
      {
       "output_type": "stream",
       "stream": "stdout",
       "text": [
        "\n"
       ]
      },
      {
       "output_type": "stream",
       "stream": "stdout",
       "text": [
        "\n",
        " \n"
       ]
      },
      {
       "output_type": "stream",
       "stream": "stdout",
       "text": [
        "\n",
        " \n",
        " "
       ]
      },
      {
       "output_type": "stream",
       "stream": "stdout",
       "text": [
        "\n",
        " "
       ]
      },
      {
       "output_type": "stream",
       "stream": "stdout",
       "text": [
        "\n",
        " \n",
        " \n"
       ]
      },
      {
       "output_type": "stream",
       "stream": "stdout",
       "text": [
        "\n",
        " \n",
        " \n",
        " \n",
        " \n",
        " \n",
        " \n",
        " \n"
       ]
      },
      {
       "output_type": "stream",
       "stream": "stdout",
       "text": [
        "\n",
        " \n",
        "\n",
        " \n",
        " \n",
        "\n",
        " \n",
        "\n",
        " \n",
        " \n",
        " \n",
        " \n",
        " "
       ]
      },
      {
       "output_type": "stream",
       "stream": "stdout",
       "text": [
        "\n",
        " \n",
        "\n",
        " \n",
        " \n",
        " "
       ]
      },
      {
       "output_type": "stream",
       "stream": "stdout",
       "text": [
        "\n",
        " \n"
       ]
      },
      {
       "output_type": "stream",
       "stream": "stdout",
       "text": [
        "\n",
        " \n"
       ]
      },
      {
       "output_type": "stream",
       "stream": "stdout",
       "text": [
        "\n",
        " \n"
       ]
      },
      {
       "output_type": "stream",
       "stream": "stdout",
       "text": [
        "\n",
        " \n",
        " "
       ]
      },
      {
       "output_type": "stream",
       "stream": "stdout",
       "text": [
        "\n",
        " "
       ]
      },
      {
       "output_type": "stream",
       "stream": "stdout",
       "text": [
        "\n"
       ]
      },
      {
       "output_type": "stream",
       "stream": "stdout",
       "text": [
        "\n",
        " \n"
       ]
      },
      {
       "output_type": "stream",
       "stream": "stdout",
       "text": [
        "\n",
        " \n",
        " \n",
        " "
       ]
      },
      {
       "output_type": "stream",
       "stream": "stdout",
       "text": [
        "\n",
        " "
       ]
      },
      {
       "output_type": "stream",
       "stream": "stdout",
       "text": [
        "\n",
        " "
       ]
      },
      {
       "output_type": "stream",
       "stream": "stdout",
       "text": [
        "\n",
        " \n",
        " \n",
        " "
       ]
      },
      {
       "output_type": "stream",
       "stream": "stdout",
       "text": [
        "\n",
        " "
       ]
      },
      {
       "output_type": "stream",
       "stream": "stdout",
       "text": [
        "\n",
        " \n",
        "\n",
        " \n",
        " \n",
        " \n",
        "\n",
        " \n",
        " "
       ]
      },
      {
       "output_type": "stream",
       "stream": "stdout",
       "text": [
        "\n",
        " \n",
        " \n",
        " "
       ]
      },
      {
       "output_type": "stream",
       "stream": "stdout",
       "text": [
        "\n"
       ]
      },
      {
       "output_type": "stream",
       "stream": "stdout",
       "text": [
        "\n",
        " \n",
        " "
       ]
      },
      {
       "output_type": "stream",
       "stream": "stdout",
       "text": [
        "\n",
        " "
       ]
      },
      {
       "output_type": "stream",
       "stream": "stdout",
       "text": [
        "\n",
        " \n",
        " "
       ]
      },
      {
       "output_type": "stream",
       "stream": "stdout",
       "text": [
        "\n",
        " "
       ]
      },
      {
       "output_type": "stream",
       "stream": "stdout",
       "text": [
        "\n",
        "\n",
        " \n",
        " "
       ]
      },
      {
       "output_type": "stream",
       "stream": "stdout",
       "text": [
        "\n"
       ]
      },
      {
       "output_type": "stream",
       "stream": "stdout",
       "text": [
        "\n",
        " \n"
       ]
      },
      {
       "output_type": "stream",
       "stream": "stdout",
       "text": [
        "\n",
        " \n",
        "\n",
        " \n"
       ]
      },
      {
       "output_type": "stream",
       "stream": "stdout",
       "text": [
        "\n",
        " \n",
        "\n",
        " \n"
       ]
      },
      {
       "output_type": "stream",
       "stream": "stdout",
       "text": [
        "\n",
        " \n",
        "\n",
        " \n"
       ]
      },
      {
       "output_type": "stream",
       "stream": "stdout",
       "text": [
        "\n",
        " \n",
        "\n",
        " \n"
       ]
      },
      {
       "output_type": "stream",
       "stream": "stdout",
       "text": [
        "\n",
        " \n",
        "\n",
        " \n",
        "\n",
        " \n"
       ]
      },
      {
       "output_type": "stream",
       "stream": "stdout",
       "text": [
        "\n",
        " \n",
        "\n",
        " \n",
        "\n",
        " \n",
        "\n",
        " \n"
       ]
      },
      {
       "output_type": "stream",
       "stream": "stdout",
       "text": [
        "\n",
        " \n"
       ]
      },
      {
       "output_type": "stream",
       "stream": "stdout",
       "text": [
        "\n",
        " \n"
       ]
      },
      {
       "output_type": "stream",
       "stream": "stdout",
       "text": [
        "\n",
        " \n",
        "\n",
        " \n",
        "\n",
        " \n"
       ]
      },
      {
       "output_type": "stream",
       "stream": "stdout",
       "text": [
        "\n",
        " \n",
        "\n",
        " \n"
       ]
      },
      {
       "output_type": "stream",
       "stream": "stdout",
       "text": [
        "\n",
        " \n"
       ]
      },
      {
       "output_type": "stream",
       "stream": "stdout",
       "text": [
        "\n",
        " \n",
        "\n",
        " \n",
        "\n",
        " \n",
        " \n"
       ]
      },
      {
       "output_type": "stream",
       "stream": "stdout",
       "text": [
        "\n",
        " \n",
        " \n",
        "\n",
        " \n",
        " "
       ]
      },
      {
       "output_type": "stream",
       "stream": "stdout",
       "text": [
        "\n",
        " \n",
        "\n",
        " \n",
        " \n"
       ]
      },
      {
       "output_type": "stream",
       "stream": "stdout",
       "text": [
        "\n",
        " \n",
        "\n",
        " \n",
        "\n",
        " \n",
        "\n",
        " \n",
        " "
       ]
      },
      {
       "output_type": "stream",
       "stream": "stdout",
       "text": [
        "\n"
       ]
      },
      {
       "output_type": "stream",
       "stream": "stdout",
       "text": [
        "\n",
        " \n"
       ]
      },
      {
       "output_type": "stream",
       "stream": "stdout",
       "text": [
        "\n",
        " \n",
        "\n",
        " \n",
        "\n",
        " \n",
        " "
       ]
      },
      {
       "output_type": "stream",
       "stream": "stdout",
       "text": [
        "\n",
        " "
       ]
      },
      {
       "output_type": "stream",
       "stream": "stdout",
       "text": [
        "\n",
        "\n",
        " \n"
       ]
      },
      {
       "output_type": "stream",
       "stream": "stdout",
       "text": [
        "\n",
        " \n"
       ]
      },
      {
       "output_type": "stream",
       "stream": "stdout",
       "text": [
        "\n",
        " \n",
        "\n",
        " \n",
        " "
       ]
      },
      {
       "output_type": "stream",
       "stream": "stdout",
       "text": [
        "\n",
        "\n",
        " \n"
       ]
      },
      {
       "output_type": "stream",
       "stream": "stdout",
       "text": [
        "\n",
        " \n",
        " \n",
        "\n",
        " \n"
       ]
      },
      {
       "output_type": "stream",
       "stream": "stdout",
       "text": [
        "\n",
        " \n",
        " "
       ]
      },
      {
       "output_type": "stream",
       "stream": "stdout",
       "text": [
        "\n",
        " "
       ]
      },
      {
       "output_type": "stream",
       "stream": "stdout",
       "text": [
        "\n"
       ]
      },
      {
       "output_type": "stream",
       "stream": "stdout",
       "text": [
        "\n",
        " \n"
       ]
      },
      {
       "output_type": "stream",
       "stream": "stdout",
       "text": [
        "\n",
        " \n",
        " "
       ]
      },
      {
       "output_type": "stream",
       "stream": "stdout",
       "text": [
        "\n",
        "\n",
        " \n"
       ]
      },
      {
       "output_type": "stream",
       "stream": "stdout",
       "text": [
        "\n",
        " \n",
        " "
       ]
      },
      {
       "output_type": "stream",
       "stream": "stdout",
       "text": [
        "\n"
       ]
      },
      {
       "output_type": "stream",
       "stream": "stdout",
       "text": [
        "\n",
        " \n",
        "\n",
        " \n"
       ]
      },
      {
       "output_type": "stream",
       "stream": "stdout",
       "text": [
        "\n",
        " \n"
       ]
      },
      {
       "output_type": "stream",
       "stream": "stdout",
       "text": [
        "\n",
        " \n",
        " "
       ]
      },
      {
       "output_type": "stream",
       "stream": "stdout",
       "text": [
        "\n"
       ]
      },
      {
       "output_type": "stream",
       "stream": "stdout",
       "text": [
        "\n",
        " \n"
       ]
      },
      {
       "output_type": "stream",
       "stream": "stdout",
       "text": [
        "\n",
        " \n"
       ]
      },
      {
       "output_type": "stream",
       "stream": "stdout",
       "text": [
        "\n",
        " \n",
        " "
       ]
      },
      {
       "output_type": "stream",
       "stream": "stdout",
       "text": [
        "\n"
       ]
      },
      {
       "output_type": "stream",
       "stream": "stdout",
       "text": [
        "\n",
        " \n",
        "\n",
        " \n",
        "\n",
        " \n"
       ]
      },
      {
       "output_type": "stream",
       "stream": "stdout",
       "text": [
        "\n",
        " \n"
       ]
      },
      {
       "output_type": "stream",
       "stream": "stdout",
       "text": [
        "\n",
        " \n"
       ]
      },
      {
       "output_type": "stream",
       "stream": "stdout",
       "text": [
        "\n",
        " \n",
        " "
       ]
      },
      {
       "output_type": "stream",
       "stream": "stdout",
       "text": [
        "\n"
       ]
      },
      {
       "output_type": "stream",
       "stream": "stdout",
       "text": [
        "\n",
        " \n",
        " "
       ]
      },
      {
       "output_type": "stream",
       "stream": "stdout",
       "text": [
        "\n",
        " "
       ]
      },
      {
       "output_type": "stream",
       "stream": "stdout",
       "text": [
        "\n"
       ]
      },
      {
       "output_type": "stream",
       "stream": "stdout",
       "text": [
        "\n",
        " \n"
       ]
      },
      {
       "output_type": "stream",
       "stream": "stdout",
       "text": [
        "\n",
        " \n"
       ]
      },
      {
       "output_type": "stream",
       "stream": "stdout",
       "text": [
        "\n",
        " \n",
        "\n",
        " \n"
       ]
      },
      {
       "output_type": "stream",
       "stream": "stdout",
       "text": [
        "\n",
        " \n"
       ]
      },
      {
       "output_type": "stream",
       "stream": "stdout",
       "text": [
        "\n",
        " \n"
       ]
      },
      {
       "output_type": "stream",
       "stream": "stdout",
       "text": [
        "\n",
        " \n"
       ]
      },
      {
       "output_type": "stream",
       "stream": "stdout",
       "text": [
        "\n",
        " \n",
        "\n",
        " \n"
       ]
      },
      {
       "output_type": "stream",
       "stream": "stdout",
       "text": [
        "\n",
        " \n"
       ]
      },
      {
       "output_type": "stream",
       "stream": "stdout",
       "text": [
        "\n",
        " \n"
       ]
      },
      {
       "output_type": "stream",
       "stream": "stdout",
       "text": [
        "\n",
        " \n"
       ]
      },
      {
       "output_type": "stream",
       "stream": "stdout",
       "text": [
        "\n",
        " \n"
       ]
      },
      {
       "output_type": "stream",
       "stream": "stdout",
       "text": [
        "\n",
        " \n"
       ]
      },
      {
       "output_type": "stream",
       "stream": "stdout",
       "text": [
        "\n",
        " \n"
       ]
      },
      {
       "output_type": "stream",
       "stream": "stdout",
       "text": [
        "\n",
        " \n",
        "\n",
        " \n"
       ]
      },
      {
       "output_type": "stream",
       "stream": "stdout",
       "text": [
        "\n",
        " \n",
        "\n",
        " \n"
       ]
      },
      {
       "output_type": "stream",
       "stream": "stdout",
       "text": [
        "\n",
        " \n"
       ]
      },
      {
       "output_type": "stream",
       "stream": "stdout",
       "text": [
        "\n",
        " \n",
        "\n",
        " \n"
       ]
      },
      {
       "output_type": "stream",
       "stream": "stdout",
       "text": [
        "\n",
        " \n"
       ]
      },
      {
       "output_type": "stream",
       "stream": "stdout",
       "text": [
        "\n",
        " \n"
       ]
      },
      {
       "output_type": "stream",
       "stream": "stdout",
       "text": [
        "\n",
        " \n"
       ]
      },
      {
       "output_type": "stream",
       "stream": "stdout",
       "text": [
        "\n",
        " \n"
       ]
      },
      {
       "output_type": "stream",
       "stream": "stdout",
       "text": [
        "\n",
        " \n"
       ]
      },
      {
       "output_type": "stream",
       "stream": "stdout",
       "text": [
        "\n",
        " \n"
       ]
      },
      {
       "output_type": "stream",
       "stream": "stdout",
       "text": [
        "\n",
        " \n"
       ]
      },
      {
       "output_type": "stream",
       "stream": "stdout",
       "text": [
        "\n",
        " \n",
        "\n",
        " \n"
       ]
      },
      {
       "output_type": "stream",
       "stream": "stdout",
       "text": [
        "\n",
        " \n",
        " "
       ]
      },
      {
       "output_type": "stream",
       "stream": "stdout",
       "text": [
        "\n",
        " \n"
       ]
      },
      {
       "output_type": "stream",
       "stream": "stdout",
       "text": [
        "\n",
        " \n"
       ]
      },
      {
       "output_type": "stream",
       "stream": "stdout",
       "text": [
        "\n",
        " \n",
        " "
       ]
      },
      {
       "output_type": "stream",
       "stream": "stdout",
       "text": [
        "\n"
       ]
      },
      {
       "output_type": "stream",
       "stream": "stdout",
       "text": [
        "\n",
        " \n"
       ]
      },
      {
       "output_type": "stream",
       "stream": "stdout",
       "text": [
        "\n",
        " \n"
       ]
      },
      {
       "output_type": "stream",
       "stream": "stdout",
       "text": [
        "\n",
        " \n"
       ]
      },
      {
       "output_type": "stream",
       "stream": "stdout",
       "text": [
        "\n",
        " \n",
        "\n",
        " \n"
       ]
      },
      {
       "output_type": "stream",
       "stream": "stdout",
       "text": [
        "\n",
        " \n",
        " "
       ]
      },
      {
       "output_type": "stream",
       "stream": "stdout",
       "text": [
        "\n",
        " \n",
        " "
       ]
      },
      {
       "output_type": "stream",
       "stream": "stdout",
       "text": [
        "\n",
        " "
       ]
      },
      {
       "output_type": "stream",
       "stream": "stdout",
       "text": [
        "\n",
        "\n",
        " \n",
        " "
       ]
      },
      {
       "output_type": "stream",
       "stream": "stdout",
       "text": [
        "\n",
        " \n",
        " "
       ]
      },
      {
       "output_type": "stream",
       "stream": "stdout",
       "text": [
        "\n",
        " \n",
        " \n",
        " \n",
        " \n",
        " "
       ]
      },
      {
       "output_type": "stream",
       "stream": "stdout",
       "text": [
        "\n",
        " "
       ]
      },
      {
       "output_type": "stream",
       "stream": "stdout",
       "text": [
        "\n",
        " "
       ]
      },
      {
       "output_type": "stream",
       "stream": "stdout",
       "text": [
        "\n",
        " "
       ]
      },
      {
       "output_type": "stream",
       "stream": "stdout",
       "text": [
        "\n",
        "\n",
        " \n",
        "\n",
        " \n",
        " "
       ]
      },
      {
       "output_type": "stream",
       "stream": "stdout",
       "text": [
        "\n",
        "\n",
        " \n",
        " "
       ]
      },
      {
       "output_type": "stream",
       "stream": "stdout",
       "text": [
        "\n",
        " "
       ]
      },
      {
       "output_type": "stream",
       "stream": "stdout",
       "text": [
        "\n"
       ]
      },
      {
       "output_type": "stream",
       "stream": "stdout",
       "text": [
        "\n",
        " \n",
        " \n",
        " "
       ]
      },
      {
       "output_type": "stream",
       "stream": "stdout",
       "text": [
        "\n",
        " "
       ]
      },
      {
       "output_type": "stream",
       "stream": "stdout",
       "text": [
        "\n"
       ]
      },
      {
       "output_type": "stream",
       "stream": "stdout",
       "text": [
        "\n",
        " \n",
        "\n",
        " \n"
       ]
      },
      {
       "output_type": "stream",
       "stream": "stdout",
       "text": [
        "\n",
        " \n",
        " "
       ]
      },
      {
       "output_type": "stream",
       "stream": "stdout",
       "text": [
        "\n"
       ]
      },
      {
       "output_type": "stream",
       "stream": "stdout",
       "text": [
        "\n",
        " \n"
       ]
      },
      {
       "output_type": "stream",
       "stream": "stdout",
       "text": [
        "\n",
        " \n",
        "\n",
        " \n",
        " "
       ]
      },
      {
       "output_type": "stream",
       "stream": "stdout",
       "text": [
        "\n"
       ]
      },
      {
       "output_type": "stream",
       "stream": "stdout",
       "text": [
        "\n",
        " \n",
        "\n",
        " \n",
        " \n",
        "\n",
        " \n",
        " "
       ]
      },
      {
       "output_type": "stream",
       "stream": "stdout",
       "text": [
        "\n"
       ]
      },
      {
       "output_type": "stream",
       "stream": "stdout",
       "text": [
        "\n",
        " \n",
        " \n",
        " "
       ]
      },
      {
       "output_type": "stream",
       "stream": "stdout",
       "text": [
        "\n"
       ]
      },
      {
       "output_type": "stream",
       "stream": "stdout",
       "text": [
        "\n",
        " \n",
        " "
       ]
      },
      {
       "output_type": "stream",
       "stream": "stdout",
       "text": [
        "\n",
        " \n",
        " "
       ]
      },
      {
       "output_type": "stream",
       "stream": "stdout",
       "text": [
        "\n",
        "\n",
        " \n"
       ]
      },
      {
       "output_type": "stream",
       "stream": "stdout",
       "text": [
        "\n",
        " \n",
        " "
       ]
      },
      {
       "output_type": "stream",
       "stream": "stdout",
       "text": [
        "\n",
        " "
       ]
      },
      {
       "output_type": "stream",
       "stream": "stdout",
       "text": [
        "\n",
        "\n",
        " \n",
        " \n",
        " \n",
        " \n",
        " "
       ]
      },
      {
       "output_type": "stream",
       "stream": "stdout",
       "text": [
        "\n",
        " \n",
        " "
       ]
      },
      {
       "output_type": "stream",
       "stream": "stdout",
       "text": [
        "\n"
       ]
      },
      {
       "output_type": "stream",
       "stream": "stdout",
       "text": [
        "\n",
        " \n",
        " "
       ]
      },
      {
       "output_type": "stream",
       "stream": "stdout",
       "text": [
        "\n",
        " \n",
        " \n",
        " "
       ]
      },
      {
       "output_type": "stream",
       "stream": "stdout",
       "text": [
        "\n",
        " \n",
        "\n",
        " \n",
        " "
       ]
      },
      {
       "output_type": "stream",
       "stream": "stdout",
       "text": [
        "\n",
        " \n",
        " \n",
        " "
       ]
      },
      {
       "output_type": "stream",
       "stream": "stdout",
       "text": [
        "\n",
        " "
       ]
      },
      {
       "output_type": "stream",
       "stream": "stdout",
       "text": [
        "\n",
        " "
       ]
      },
      {
       "output_type": "stream",
       "stream": "stdout",
       "text": [
        "\n",
        " "
       ]
      },
      {
       "output_type": "stream",
       "stream": "stdout",
       "text": [
        "\n",
        "\n",
        " \n",
        " \n"
       ]
      },
      {
       "output_type": "stream",
       "stream": "stdout",
       "text": [
        "\n",
        " \n"
       ]
      },
      {
       "output_type": "stream",
       "stream": "stdout",
       "text": [
        "\n",
        " \n",
        " \n",
        " "
       ]
      },
      {
       "output_type": "stream",
       "stream": "stdout",
       "text": [
        "\n",
        "\n",
        " \n",
        " "
       ]
      },
      {
       "output_type": "stream",
       "stream": "stdout",
       "text": [
        "\n",
        " \n",
        " \n",
        " \n",
        " \n",
        "\n",
        " \n",
        " \n",
        " \n",
        " "
       ]
      },
      {
       "output_type": "stream",
       "stream": "stdout",
       "text": [
        "\n",
        "\n",
        " \n",
        "\n",
        " \n",
        " \n",
        " \n",
        " \n",
        " "
       ]
      },
      {
       "output_type": "stream",
       "stream": "stdout",
       "text": [
        "\n",
        " \n",
        " "
       ]
      },
      {
       "output_type": "stream",
       "stream": "stdout",
       "text": [
        "\n"
       ]
      },
      {
       "output_type": "stream",
       "stream": "stdout",
       "text": [
        "\n",
        " \n",
        "\n",
        " \n",
        " \n",
        " "
       ]
      },
      {
       "output_type": "stream",
       "stream": "stdout",
       "text": [
        "\n",
        " "
       ]
      },
      {
       "output_type": "stream",
       "stream": "stdout",
       "text": [
        "\n"
       ]
      },
      {
       "output_type": "stream",
       "stream": "stdout",
       "text": [
        "\n",
        " \n",
        "\n",
        " \n",
        " "
       ]
      },
      {
       "output_type": "stream",
       "stream": "stdout",
       "text": [
        "\n",
        " \n",
        "\n",
        " \n",
        " "
       ]
      },
      {
       "output_type": "stream",
       "stream": "stdout",
       "text": [
        "\n",
        " "
       ]
      },
      {
       "output_type": "stream",
       "stream": "stdout",
       "text": [
        "\n"
       ]
      },
      {
       "output_type": "stream",
       "stream": "stdout",
       "text": [
        "\n",
        " \n",
        " "
       ]
      },
      {
       "output_type": "stream",
       "stream": "stdout",
       "text": [
        "\n",
        " "
       ]
      },
      {
       "output_type": "stream",
       "stream": "stdout",
       "text": [
        "\n",
        " "
       ]
      },
      {
       "output_type": "stream",
       "stream": "stdout",
       "text": [
        "\n"
       ]
      },
      {
       "output_type": "stream",
       "stream": "stdout",
       "text": [
        "\n",
        " \n",
        " "
       ]
      },
      {
       "output_type": "stream",
       "stream": "stdout",
       "text": [
        "\n",
        " "
       ]
      },
      {
       "output_type": "stream",
       "stream": "stdout",
       "text": [
        "\n",
        "\n",
        " \n",
        "\n",
        " \n",
        " \n",
        " "
       ]
      },
      {
       "output_type": "stream",
       "stream": "stdout",
       "text": [
        "\n",
        "\n",
        " \n",
        " "
       ]
      },
      {
       "output_type": "stream",
       "stream": "stdout",
       "text": [
        "\n",
        "\n",
        " \n",
        " "
       ]
      },
      {
       "output_type": "stream",
       "stream": "stdout",
       "text": [
        "\n",
        " "
       ]
      },
      {
       "output_type": "stream",
       "stream": "stdout",
       "text": [
        "\n",
        " "
       ]
      },
      {
       "output_type": "stream",
       "stream": "stdout",
       "text": [
        "\n",
        " "
       ]
      },
      {
       "output_type": "stream",
       "stream": "stdout",
       "text": [
        "\n",
        " "
       ]
      },
      {
       "output_type": "stream",
       "stream": "stdout",
       "text": [
        "\n"
       ]
      },
      {
       "output_type": "stream",
       "stream": "stdout",
       "text": [
        "\n",
        " \n"
       ]
      },
      {
       "output_type": "stream",
       "stream": "stdout",
       "text": [
        "\n",
        " \n"
       ]
      },
      {
       "output_type": "stream",
       "stream": "stdout",
       "text": [
        "\n",
        " \n",
        " "
       ]
      },
      {
       "output_type": "stream",
       "stream": "stdout",
       "text": [
        "\n"
       ]
      },
      {
       "output_type": "stream",
       "stream": "stdout",
       "text": [
        "\n",
        " \n"
       ]
      },
      {
       "output_type": "stream",
       "stream": "stdout",
       "text": [
        "\n",
        " \n",
        " "
       ]
      },
      {
       "output_type": "stream",
       "stream": "stdout",
       "text": [
        "\n",
        " "
       ]
      },
      {
       "output_type": "stream",
       "stream": "stdout",
       "text": [
        "\n",
        " "
       ]
      },
      {
       "output_type": "stream",
       "stream": "stdout",
       "text": [
        "\n",
        " "
       ]
      },
      {
       "output_type": "stream",
       "stream": "stdout",
       "text": [
        "\n",
        " "
       ]
      },
      {
       "output_type": "stream",
       "stream": "stdout",
       "text": [
        "\n",
        " "
       ]
      },
      {
       "output_type": "stream",
       "stream": "stdout",
       "text": [
        "\n",
        "\n",
        " \n",
        " "
       ]
      },
      {
       "output_type": "stream",
       "stream": "stdout",
       "text": [
        "\n",
        " "
       ]
      },
      {
       "output_type": "stream",
       "stream": "stdout",
       "text": [
        "\n",
        " "
       ]
      },
      {
       "output_type": "stream",
       "stream": "stdout",
       "text": [
        "\n",
        " "
       ]
      },
      {
       "output_type": "stream",
       "stream": "stdout",
       "text": [
        "\n",
        " "
       ]
      },
      {
       "output_type": "stream",
       "stream": "stdout",
       "text": [
        "\n"
       ]
      },
      {
       "output_type": "stream",
       "stream": "stdout",
       "text": [
        "\n",
        " \n",
        " "
       ]
      },
      {
       "output_type": "stream",
       "stream": "stdout",
       "text": [
        "\n",
        " "
       ]
      },
      {
       "output_type": "stream",
       "stream": "stdout",
       "text": [
        "\n",
        " "
       ]
      },
      {
       "output_type": "stream",
       "stream": "stdout",
       "text": [
        "\n"
       ]
      },
      {
       "output_type": "stream",
       "stream": "stdout",
       "text": [
        "\n",
        " \n",
        " "
       ]
      },
      {
       "output_type": "stream",
       "stream": "stdout",
       "text": [
        "\n",
        " "
       ]
      },
      {
       "output_type": "stream",
       "stream": "stdout",
       "text": [
        "\n"
       ]
      },
      {
       "output_type": "stream",
       "stream": "stdout",
       "text": [
        "\n",
        " \n",
        " "
       ]
      },
      {
       "output_type": "stream",
       "stream": "stdout",
       "text": [
        "\n"
       ]
      },
      {
       "output_type": "stream",
       "stream": "stdout",
       "text": [
        "\n",
        " \n"
       ]
      },
      {
       "output_type": "stream",
       "stream": "stdout",
       "text": [
        "\n",
        " \n",
        "\n",
        " \n",
        " "
       ]
      },
      {
       "output_type": "stream",
       "stream": "stdout",
       "text": [
        "\n",
        " "
       ]
      },
      {
       "output_type": "stream",
       "stream": "stdout",
       "text": [
        "\n",
        " \n",
        "\n",
        " \n",
        "\n",
        " \n",
        " "
       ]
      },
      {
       "output_type": "stream",
       "stream": "stdout",
       "text": [
        "\n",
        " "
       ]
      },
      {
       "output_type": "stream",
       "stream": "stdout",
       "text": [
        "\n",
        " "
       ]
      },
      {
       "output_type": "stream",
       "stream": "stdout",
       "text": [
        "\n"
       ]
      },
      {
       "output_type": "stream",
       "stream": "stdout",
       "text": [
        "\n",
        " \n",
        "\n",
        " \n",
        " "
       ]
      },
      {
       "output_type": "stream",
       "stream": "stdout",
       "text": [
        "\n",
        " "
       ]
      },
      {
       "output_type": "stream",
       "stream": "stdout",
       "text": [
        "\n"
       ]
      },
      {
       "output_type": "stream",
       "stream": "stdout",
       "text": [
        "\n",
        " \n",
        " "
       ]
      },
      {
       "output_type": "stream",
       "stream": "stdout",
       "text": [
        "\n",
        "\n",
        " \n",
        " "
       ]
      },
      {
       "output_type": "stream",
       "stream": "stdout",
       "text": [
        "\n",
        " \n",
        " "
       ]
      },
      {
       "output_type": "stream",
       "stream": "stdout",
       "text": [
        "\n",
        " "
       ]
      },
      {
       "output_type": "stream",
       "stream": "stdout",
       "text": [
        "\n"
       ]
      },
      {
       "output_type": "stream",
       "stream": "stdout",
       "text": [
        "\n",
        " \n",
        " "
       ]
      },
      {
       "output_type": "stream",
       "stream": "stdout",
       "text": [
        "\n",
        "\n",
        " \n",
        " "
       ]
      },
      {
       "output_type": "stream",
       "stream": "stdout",
       "text": [
        "\n"
       ]
      },
      {
       "output_type": "stream",
       "stream": "stdout",
       "text": [
        "\n",
        " \n"
       ]
      },
      {
       "output_type": "stream",
       "stream": "stdout",
       "text": [
        "\n",
        " \n"
       ]
      },
      {
       "output_type": "stream",
       "stream": "stdout",
       "text": [
        "\n",
        " \n"
       ]
      },
      {
       "output_type": "stream",
       "stream": "stdout",
       "text": [
        "\n",
        " \n",
        " "
       ]
      },
      {
       "output_type": "stream",
       "stream": "stdout",
       "text": [
        "\n"
       ]
      },
      {
       "output_type": "stream",
       "stream": "stdout",
       "text": [
        "\n",
        " \n"
       ]
      },
      {
       "output_type": "stream",
       "stream": "stdout",
       "text": [
        "\n",
        " \n"
       ]
      },
      {
       "output_type": "stream",
       "stream": "stdout",
       "text": [
        "\n",
        " \n"
       ]
      },
      {
       "output_type": "stream",
       "stream": "stdout",
       "text": [
        "\n",
        " \n"
       ]
      },
      {
       "output_type": "stream",
       "stream": "stdout",
       "text": [
        "\n",
        " \n"
       ]
      },
      {
       "output_type": "stream",
       "stream": "stdout",
       "text": [
        "\n",
        " \n",
        " "
       ]
      },
      {
       "output_type": "stream",
       "stream": "stdout",
       "text": [
        "\n",
        " "
       ]
      },
      {
       "output_type": "stream",
       "stream": "stdout",
       "text": [
        "\n"
       ]
      },
      {
       "output_type": "stream",
       "stream": "stdout",
       "text": [
        "\n",
        " \n",
        " "
       ]
      },
      {
       "output_type": "stream",
       "stream": "stdout",
       "text": [
        "\n",
        "\n",
        " \n"
       ]
      },
      {
       "output_type": "stream",
       "stream": "stdout",
       "text": [
        "\n",
        " \n",
        "\n",
        " \n"
       ]
      },
      {
       "output_type": "stream",
       "stream": "stdout",
       "text": [
        "\n",
        " \n",
        "\n",
        " \n"
       ]
      },
      {
       "output_type": "stream",
       "stream": "stdout",
       "text": [
        "\n",
        " \n"
       ]
      },
      {
       "output_type": "stream",
       "stream": "stdout",
       "text": [
        "\n",
        " \n"
       ]
      },
      {
       "output_type": "stream",
       "stream": "stdout",
       "text": [
        "\n",
        " \n",
        "\n",
        " \n"
       ]
      },
      {
       "output_type": "stream",
       "stream": "stdout",
       "text": [
        "\n",
        " \n"
       ]
      },
      {
       "output_type": "stream",
       "stream": "stdout",
       "text": [
        "\n",
        " \n"
       ]
      },
      {
       "output_type": "stream",
       "stream": "stdout",
       "text": [
        "\n",
        " \n",
        " "
       ]
      },
      {
       "output_type": "stream",
       "stream": "stdout",
       "text": [
        "\n",
        "\n",
        " \n"
       ]
      },
      {
       "output_type": "stream",
       "stream": "stdout",
       "text": [
        "\n",
        " \n"
       ]
      },
      {
       "output_type": "stream",
       "stream": "stdout",
       "text": [
        "\n",
        " \n",
        " \n",
        " "
       ]
      },
      {
       "output_type": "stream",
       "stream": "stdout",
       "text": [
        "\n"
       ]
      },
      {
       "output_type": "stream",
       "stream": "stdout",
       "text": [
        "\n",
        " \n"
       ]
      },
      {
       "output_type": "stream",
       "stream": "stdout",
       "text": [
        "\n",
        " \n",
        "\n",
        " \n"
       ]
      },
      {
       "output_type": "stream",
       "stream": "stdout",
       "text": [
        "\n",
        " \n"
       ]
      },
      {
       "output_type": "stream",
       "stream": "stdout",
       "text": [
        "\n",
        " \n",
        "\n",
        " \n",
        " "
       ]
      },
      {
       "output_type": "stream",
       "stream": "stdout",
       "text": [
        "\n"
       ]
      },
      {
       "output_type": "stream",
       "stream": "stdout",
       "text": [
        "\n",
        " \n"
       ]
      },
      {
       "output_type": "stream",
       "stream": "stdout",
       "text": [
        "\n",
        " \n"
       ]
      },
      {
       "output_type": "stream",
       "stream": "stdout",
       "text": [
        "\n",
        " \n"
       ]
      },
      {
       "output_type": "stream",
       "stream": "stdout",
       "text": [
        "\n",
        " \n",
        "\n",
        " \n"
       ]
      },
      {
       "output_type": "stream",
       "stream": "stdout",
       "text": [
        "\n",
        " \n"
       ]
      },
      {
       "output_type": "stream",
       "stream": "stdout",
       "text": [
        "\n",
        " \n",
        "\n",
        " \n"
       ]
      },
      {
       "output_type": "stream",
       "stream": "stdout",
       "text": [
        "\n",
        " \n",
        " "
       ]
      },
      {
       "output_type": "stream",
       "stream": "stdout",
       "text": [
        "\n",
        " "
       ]
      },
      {
       "output_type": "stream",
       "stream": "stdout",
       "text": [
        "\n"
       ]
      },
      {
       "output_type": "stream",
       "stream": "stdout",
       "text": [
        "\n",
        " \n"
       ]
      },
      {
       "output_type": "stream",
       "stream": "stdout",
       "text": [
        "\n",
        " \n"
       ]
      },
      {
       "output_type": "stream",
       "stream": "stdout",
       "text": [
        "\n",
        " \n"
       ]
      },
      {
       "output_type": "stream",
       "stream": "stdout",
       "text": [
        "\n",
        " \n"
       ]
      },
      {
       "output_type": "stream",
       "stream": "stdout",
       "text": [
        "\n",
        " \n"
       ]
      },
      {
       "output_type": "stream",
       "stream": "stdout",
       "text": [
        "\n",
        " \n"
       ]
      },
      {
       "output_type": "stream",
       "stream": "stdout",
       "text": [
        "\n",
        " \n"
       ]
      },
      {
       "output_type": "stream",
       "stream": "stdout",
       "text": [
        "\n",
        " \n"
       ]
      },
      {
       "output_type": "stream",
       "stream": "stdout",
       "text": [
        "\n",
        " \n",
        "\n",
        " \n",
        " "
       ]
      },
      {
       "output_type": "stream",
       "stream": "stdout",
       "text": [
        "\n",
        "\n",
        " \n",
        "\n",
        " \n",
        " "
       ]
      },
      {
       "output_type": "stream",
       "stream": "stdout",
       "text": [
        "\n"
       ]
      },
      {
       "output_type": "stream",
       "stream": "stdout",
       "text": [
        "\n",
        " \n"
       ]
      },
      {
       "output_type": "stream",
       "stream": "stdout",
       "text": [
        "\n",
        " \n",
        "\n",
        " \n"
       ]
      },
      {
       "output_type": "stream",
       "stream": "stdout",
       "text": [
        "\n",
        " \n",
        " "
       ]
      },
      {
       "output_type": "stream",
       "stream": "stdout",
       "text": [
        "\n"
       ]
      },
      {
       "output_type": "stream",
       "stream": "stdout",
       "text": [
        "\n",
        " \n"
       ]
      },
      {
       "output_type": "stream",
       "stream": "stdout",
       "text": [
        "\n",
        " \n"
       ]
      },
      {
       "output_type": "stream",
       "stream": "stdout",
       "text": [
        "\n",
        " \n"
       ]
      },
      {
       "output_type": "stream",
       "stream": "stdout",
       "text": [
        "\n",
        " \n",
        "\n",
        " \n",
        "\n",
        " \n"
       ]
      },
      {
       "output_type": "stream",
       "stream": "stdout",
       "text": [
        "\n",
        " \n",
        "\n",
        " \n"
       ]
      },
      {
       "output_type": "stream",
       "stream": "stdout",
       "text": [
        "\n",
        " \n",
        "\n",
        " \n",
        " "
       ]
      },
      {
       "output_type": "stream",
       "stream": "stdout",
       "text": [
        "\n"
       ]
      },
      {
       "output_type": "stream",
       "stream": "stdout",
       "text": [
        "\n",
        " \n",
        " "
       ]
      },
      {
       "output_type": "stream",
       "stream": "stdout",
       "text": [
        "\n"
       ]
      },
      {
       "output_type": "stream",
       "stream": "stdout",
       "text": [
        "\n",
        " \n",
        "\n",
        " \n"
       ]
      },
      {
       "output_type": "stream",
       "stream": "stdout",
       "text": [
        "\n",
        " \n",
        "\n",
        " \n"
       ]
      },
      {
       "output_type": "stream",
       "stream": "stdout",
       "text": [
        "\n",
        " \n"
       ]
      },
      {
       "output_type": "stream",
       "stream": "stdout",
       "text": [
        "\n",
        " \n"
       ]
      },
      {
       "output_type": "stream",
       "stream": "stdout",
       "text": [
        "\n",
        " \n"
       ]
      },
      {
       "output_type": "stream",
       "stream": "stdout",
       "text": [
        "\n",
        " \n"
       ]
      },
      {
       "output_type": "stream",
       "stream": "stdout",
       "text": [
        "\n",
        " \n",
        " "
       ]
      },
      {
       "output_type": "stream",
       "stream": "stdout",
       "text": [
        "\n",
        " "
       ]
      },
      {
       "output_type": "stream",
       "stream": "stdout",
       "text": [
        "\n"
       ]
      },
      {
       "output_type": "stream",
       "stream": "stdout",
       "text": [
        "\n",
        " \n"
       ]
      },
      {
       "output_type": "stream",
       "stream": "stdout",
       "text": [
        "\n",
        " \n",
        " "
       ]
      },
      {
       "output_type": "stream",
       "stream": "stdout",
       "text": [
        "\n"
       ]
      },
      {
       "output_type": "stream",
       "stream": "stdout",
       "text": [
        "\n",
        " \n",
        "\n",
        " \n"
       ]
      },
      {
       "output_type": "stream",
       "stream": "stdout",
       "text": [
        "\n",
        " \n",
        " "
       ]
      },
      {
       "output_type": "stream",
       "stream": "stdout",
       "text": [
        "\n"
       ]
      },
      {
       "output_type": "stream",
       "stream": "stdout",
       "text": [
        "\n",
        " \n"
       ]
      },
      {
       "output_type": "stream",
       "stream": "stdout",
       "text": [
        "\n",
        " \n",
        " "
       ]
      },
      {
       "output_type": "stream",
       "stream": "stdout",
       "text": [
        "\n"
       ]
      },
      {
       "output_type": "stream",
       "stream": "stdout",
       "text": [
        "\n",
        " \n",
        "\n",
        " \n"
       ]
      },
      {
       "output_type": "stream",
       "stream": "stdout",
       "text": [
        "\n",
        " \n"
       ]
      },
      {
       "output_type": "stream",
       "stream": "stdout",
       "text": [
        "\n",
        " \n"
       ]
      },
      {
       "output_type": "stream",
       "stream": "stdout",
       "text": [
        "\n",
        " \n"
       ]
      },
      {
       "output_type": "stream",
       "stream": "stdout",
       "text": [
        "\n",
        " \n"
       ]
      },
      {
       "output_type": "stream",
       "stream": "stdout",
       "text": [
        "\n",
        " \n"
       ]
      },
      {
       "output_type": "stream",
       "stream": "stdout",
       "text": [
        "\n",
        " \n"
       ]
      },
      {
       "output_type": "stream",
       "stream": "stdout",
       "text": [
        "\n",
        " \n"
       ]
      },
      {
       "output_type": "stream",
       "stream": "stdout",
       "text": [
        "\n",
        " \n"
       ]
      },
      {
       "output_type": "stream",
       "stream": "stdout",
       "text": [
        "\n",
        " \n"
       ]
      },
      {
       "output_type": "stream",
       "stream": "stdout",
       "text": [
        "\n",
        " \n"
       ]
      },
      {
       "output_type": "stream",
       "stream": "stdout",
       "text": [
        "\n",
        " \n"
       ]
      },
      {
       "output_type": "stream",
       "stream": "stdout",
       "text": [
        "\n",
        " \n",
        " "
       ]
      },
      {
       "output_type": "stream",
       "stream": "stdout",
       "text": [
        "\n"
       ]
      },
      {
       "output_type": "stream",
       "stream": "stdout",
       "text": [
        "\n",
        " \n"
       ]
      },
      {
       "output_type": "stream",
       "stream": "stdout",
       "text": [
        "\n",
        " \n"
       ]
      },
      {
       "output_type": "stream",
       "stream": "stdout",
       "text": [
        "\n",
        " \n"
       ]
      },
      {
       "output_type": "stream",
       "stream": "stdout",
       "text": [
        "\n",
        " \n",
        " "
       ]
      },
      {
       "output_type": "stream",
       "stream": "stdout",
       "text": [
        "\n",
        "\n",
        " \n"
       ]
      },
      {
       "output_type": "stream",
       "stream": "stdout",
       "text": [
        "\n",
        " \n"
       ]
      },
      {
       "output_type": "stream",
       "stream": "stdout",
       "text": [
        "\n",
        " \n"
       ]
      },
      {
       "output_type": "stream",
       "stream": "stdout",
       "text": [
        "\n",
        " \n"
       ]
      },
      {
       "output_type": "stream",
       "stream": "stdout",
       "text": [
        "\n",
        " \n"
       ]
      },
      {
       "output_type": "stream",
       "stream": "stdout",
       "text": [
        "\n",
        " \n"
       ]
      },
      {
       "output_type": "stream",
       "stream": "stdout",
       "text": [
        "\n",
        " \n"
       ]
      },
      {
       "output_type": "stream",
       "stream": "stdout",
       "text": [
        "\n",
        " \n",
        "\n",
        " \n",
        "\n",
        " \n"
       ]
      },
      {
       "output_type": "stream",
       "stream": "stdout",
       "text": [
        "\n",
        " \n",
        "\n",
        " \n",
        "\n",
        " \n",
        "\n",
        " \n"
       ]
      },
      {
       "output_type": "stream",
       "stream": "stdout",
       "text": [
        "\n",
        " \n",
        "\n",
        " \n",
        " \n",
        " \n"
       ]
      },
      {
       "output_type": "stream",
       "stream": "stdout",
       "text": [
        "\n",
        " \n"
       ]
      },
      {
       "output_type": "stream",
       "stream": "stdout",
       "text": [
        "\n",
        " \n",
        "\n",
        " \n",
        " "
       ]
      },
      {
       "output_type": "stream",
       "stream": "stdout",
       "text": [
        "\n",
        "\n",
        " \n",
        "\n",
        " \n",
        "\n",
        " \n"
       ]
      },
      {
       "output_type": "stream",
       "stream": "stdout",
       "text": [
        "\n",
        " \n",
        "\n",
        " \n",
        "\n",
        " \n"
       ]
      },
      {
       "output_type": "stream",
       "stream": "stdout",
       "text": [
        "\n",
        " \n",
        "\n",
        " \n",
        "\n",
        " \n"
       ]
      },
      {
       "output_type": "stream",
       "stream": "stdout",
       "text": [
        "\n",
        " \n",
        "\n",
        " \n"
       ]
      },
      {
       "output_type": "stream",
       "stream": "stdout",
       "text": [
        "\n",
        " \n"
       ]
      },
      {
       "output_type": "stream",
       "stream": "stdout",
       "text": [
        "\n",
        " \n",
        "\n",
        " \n",
        "\n",
        " \n"
       ]
      },
      {
       "output_type": "stream",
       "stream": "stdout",
       "text": [
        "\n",
        " \n",
        "\n",
        " \n"
       ]
      },
      {
       "output_type": "stream",
       "stream": "stdout",
       "text": [
        "\n",
        " \n",
        "\n",
        " \n"
       ]
      },
      {
       "output_type": "stream",
       "stream": "stdout",
       "text": [
        "\n",
        " \n"
       ]
      },
      {
       "output_type": "stream",
       "stream": "stdout",
       "text": [
        "\n",
        " \n"
       ]
      },
      {
       "output_type": "stream",
       "stream": "stdout",
       "text": [
        "\n",
        " \n"
       ]
      },
      {
       "output_type": "stream",
       "stream": "stdout",
       "text": [
        "\n",
        " \n"
       ]
      },
      {
       "output_type": "stream",
       "stream": "stdout",
       "text": [
        "\n",
        " \n"
       ]
      },
      {
       "output_type": "stream",
       "stream": "stdout",
       "text": [
        "\n",
        " \n"
       ]
      },
      {
       "output_type": "stream",
       "stream": "stdout",
       "text": [
        "\n",
        " \n"
       ]
      },
      {
       "output_type": "stream",
       "stream": "stdout",
       "text": [
        "\n",
        " \n"
       ]
      },
      {
       "output_type": "stream",
       "stream": "stdout",
       "text": [
        "\n",
        " \n",
        "\n",
        " \n"
       ]
      },
      {
       "output_type": "stream",
       "stream": "stdout",
       "text": [
        "\n",
        " \n"
       ]
      },
      {
       "output_type": "stream",
       "stream": "stdout",
       "text": [
        "\n",
        " \n"
       ]
      },
      {
       "output_type": "stream",
       "stream": "stdout",
       "text": [
        "\n",
        " \n"
       ]
      },
      {
       "output_type": "stream",
       "stream": "stdout",
       "text": [
        "\n",
        " \n"
       ]
      },
      {
       "output_type": "stream",
       "stream": "stdout",
       "text": [
        "\n",
        " \n"
       ]
      },
      {
       "output_type": "stream",
       "stream": "stdout",
       "text": [
        "\n",
        " \n"
       ]
      },
      {
       "output_type": "stream",
       "stream": "stdout",
       "text": [
        "\n",
        " \n"
       ]
      },
      {
       "output_type": "stream",
       "stream": "stdout",
       "text": [
        "\n",
        " \n"
       ]
      },
      {
       "output_type": "stream",
       "stream": "stdout",
       "text": [
        "\n",
        " \n"
       ]
      },
      {
       "output_type": "stream",
       "stream": "stdout",
       "text": [
        "\n",
        " \n",
        "\n",
        " \n"
       ]
      },
      {
       "output_type": "stream",
       "stream": "stdout",
       "text": [
        "\n",
        " \n",
        "\n",
        " \n"
       ]
      },
      {
       "output_type": "stream",
       "stream": "stdout",
       "text": [
        "\n",
        " \n"
       ]
      },
      {
       "output_type": "stream",
       "stream": "stdout",
       "text": [
        "\n",
        " \n"
       ]
      },
      {
       "output_type": "stream",
       "stream": "stdout",
       "text": [
        "\n",
        " \n"
       ]
      },
      {
       "output_type": "stream",
       "stream": "stdout",
       "text": [
        "\n",
        " \n"
       ]
      },
      {
       "output_type": "stream",
       "stream": "stdout",
       "text": [
        "\n",
        " \n",
        "\n",
        " \n"
       ]
      },
      {
       "output_type": "stream",
       "stream": "stdout",
       "text": [
        "\n",
        " \n",
        "\n",
        " \n"
       ]
      },
      {
       "output_type": "stream",
       "stream": "stdout",
       "text": [
        "\n",
        " \n"
       ]
      },
      {
       "output_type": "stream",
       "stream": "stdout",
       "text": [
        "\n",
        " \n"
       ]
      },
      {
       "output_type": "stream",
       "stream": "stdout",
       "text": [
        "\n",
        " \n"
       ]
      },
      {
       "output_type": "stream",
       "stream": "stdout",
       "text": [
        "\n",
        " \n"
       ]
      },
      {
       "output_type": "stream",
       "stream": "stdout",
       "text": [
        "\n",
        " \n",
        "\n",
        " \n",
        " "
       ]
      },
      {
       "output_type": "stream",
       "stream": "stdout",
       "text": [
        "\n",
        "\n",
        " \n",
        "\n",
        " \n"
       ]
      },
      {
       "output_type": "stream",
       "stream": "stdout",
       "text": [
        "\n",
        " \n",
        "\n",
        " \n"
       ]
      },
      {
       "output_type": "stream",
       "stream": "stdout",
       "text": [
        "\n",
        " \n"
       ]
      },
      {
       "output_type": "stream",
       "stream": "stdout",
       "text": [
        "\n",
        " \n"
       ]
      },
      {
       "output_type": "stream",
       "stream": "stdout",
       "text": [
        "\n",
        " \n"
       ]
      },
      {
       "output_type": "stream",
       "stream": "stdout",
       "text": [
        "\n",
        " \n",
        " "
       ]
      },
      {
       "output_type": "stream",
       "stream": "stdout",
       "text": [
        "\n"
       ]
      },
      {
       "output_type": "stream",
       "stream": "stdout",
       "text": [
        "\n",
        " \n"
       ]
      },
      {
       "output_type": "stream",
       "stream": "stdout",
       "text": [
        "\n",
        " \n"
       ]
      },
      {
       "output_type": "stream",
       "stream": "stdout",
       "text": [
        "\n",
        " \n"
       ]
      },
      {
       "output_type": "stream",
       "stream": "stdout",
       "text": [
        "\n",
        " \n"
       ]
      },
      {
       "output_type": "stream",
       "stream": "stdout",
       "text": [
        "\n",
        " \n"
       ]
      },
      {
       "output_type": "stream",
       "stream": "stdout",
       "text": [
        "\n",
        " \n",
        "\n",
        " \n"
       ]
      },
      {
       "output_type": "stream",
       "stream": "stdout",
       "text": [
        "\n",
        " \n",
        "\n",
        " \n"
       ]
      },
      {
       "output_type": "stream",
       "stream": "stdout",
       "text": [
        "\n",
        " \n"
       ]
      },
      {
       "output_type": "stream",
       "stream": "stdout",
       "text": [
        "\n",
        " \n"
       ]
      },
      {
       "output_type": "stream",
       "stream": "stdout",
       "text": [
        "\n",
        " \n",
        "\n",
        " \n",
        "\n",
        " \n",
        " "
       ]
      },
      {
       "output_type": "stream",
       "stream": "stdout",
       "text": [
        "\n",
        "\n",
        " \n"
       ]
      },
      {
       "output_type": "stream",
       "stream": "stdout",
       "text": [
        "\n",
        " \n"
       ]
      },
      {
       "output_type": "stream",
       "stream": "stdout",
       "text": [
        "\n",
        " \n"
       ]
      },
      {
       "output_type": "stream",
       "stream": "stdout",
       "text": [
        "\n",
        " \n"
       ]
      },
      {
       "output_type": "stream",
       "stream": "stdout",
       "text": [
        "\n",
        " \n"
       ]
      },
      {
       "output_type": "stream",
       "stream": "stdout",
       "text": [
        "\n",
        " \n"
       ]
      },
      {
       "output_type": "stream",
       "stream": "stdout",
       "text": [
        "\n",
        " \n"
       ]
      },
      {
       "output_type": "stream",
       "stream": "stdout",
       "text": [
        "\n",
        " \n",
        "\n",
        " \n",
        "\n",
        " \n",
        "\n",
        " \n"
       ]
      },
      {
       "output_type": "stream",
       "stream": "stdout",
       "text": [
        "\n",
        " \n"
       ]
      },
      {
       "output_type": "stream",
       "stream": "stdout",
       "text": [
        "\n",
        " \n"
       ]
      },
      {
       "output_type": "stream",
       "stream": "stdout",
       "text": [
        "\n",
        " \n",
        " "
       ]
      },
      {
       "output_type": "stream",
       "stream": "stdout",
       "text": [
        "\n"
       ]
      },
      {
       "output_type": "stream",
       "stream": "stdout",
       "text": [
        "\n",
        " \n",
        "\n",
        " \n"
       ]
      },
      {
       "output_type": "stream",
       "stream": "stdout",
       "text": [
        "\n",
        " \n"
       ]
      },
      {
       "output_type": "stream",
       "stream": "stdout",
       "text": [
        "\n",
        " \n"
       ]
      },
      {
       "output_type": "stream",
       "stream": "stdout",
       "text": [
        "\n",
        " \n",
        "\n",
        " \n"
       ]
      },
      {
       "output_type": "stream",
       "stream": "stdout",
       "text": [
        "\n",
        " \n"
       ]
      },
      {
       "output_type": "stream",
       "stream": "stdout",
       "text": [
        "\n",
        " \n"
       ]
      },
      {
       "output_type": "stream",
       "stream": "stdout",
       "text": [
        "\n",
        " \n"
       ]
      },
      {
       "output_type": "stream",
       "stream": "stdout",
       "text": [
        "\n",
        " \n",
        "\n",
        " \n"
       ]
      },
      {
       "output_type": "stream",
       "stream": "stdout",
       "text": [
        "\n",
        " \n",
        "\n",
        " \n"
       ]
      },
      {
       "output_type": "stream",
       "stream": "stdout",
       "text": [
        "\n",
        " \n"
       ]
      },
      {
       "output_type": "stream",
       "stream": "stdout",
       "text": [
        "\n",
        " \n"
       ]
      },
      {
       "output_type": "stream",
       "stream": "stdout",
       "text": [
        "\n",
        " \n",
        " "
       ]
      },
      {
       "output_type": "stream",
       "stream": "stdout",
       "text": [
        "\n",
        "\n",
        " \n"
       ]
      },
      {
       "output_type": "stream",
       "stream": "stdout",
       "text": [
        "\n",
        " \n"
       ]
      },
      {
       "output_type": "stream",
       "stream": "stdout",
       "text": [
        "\n",
        " \n"
       ]
      },
      {
       "output_type": "stream",
       "stream": "stdout",
       "text": [
        "\n",
        " \n"
       ]
      },
      {
       "output_type": "stream",
       "stream": "stdout",
       "text": [
        "\n",
        " \n"
       ]
      },
      {
       "output_type": "stream",
       "stream": "stdout",
       "text": [
        "\n",
        " \n"
       ]
      },
      {
       "output_type": "stream",
       "stream": "stdout",
       "text": [
        "\n",
        " \n"
       ]
      },
      {
       "output_type": "stream",
       "stream": "stdout",
       "text": [
        "\n",
        " \n"
       ]
      },
      {
       "output_type": "stream",
       "stream": "stdout",
       "text": [
        "\n",
        " \n",
        "\n",
        " \n",
        " "
       ]
      },
      {
       "output_type": "stream",
       "stream": "stdout",
       "text": [
        "\n",
        "\n",
        " \n",
        "\n",
        " \n",
        " "
       ]
      },
      {
       "output_type": "stream",
       "stream": "stdout",
       "text": [
        "\n"
       ]
      },
      {
       "output_type": "stream",
       "stream": "stdout",
       "text": [
        "\n",
        " \n",
        "\n",
        " \n"
       ]
      },
      {
       "output_type": "stream",
       "stream": "stdout",
       "text": [
        "\n",
        " \n"
       ]
      },
      {
       "output_type": "stream",
       "stream": "stdout",
       "text": [
        "\n",
        " \n"
       ]
      },
      {
       "output_type": "stream",
       "stream": "stdout",
       "text": [
        "\n",
        " \n"
       ]
      },
      {
       "output_type": "stream",
       "stream": "stdout",
       "text": [
        "\n",
        " \n",
        "\n",
        " \n"
       ]
      },
      {
       "output_type": "stream",
       "stream": "stdout",
       "text": [
        "\n",
        " \n",
        "\n",
        " \n"
       ]
      },
      {
       "output_type": "stream",
       "stream": "stdout",
       "text": [
        "\n",
        " \n"
       ]
      },
      {
       "output_type": "stream",
       "stream": "stdout",
       "text": [
        "\n",
        " \n",
        "\n",
        " \n"
       ]
      },
      {
       "output_type": "stream",
       "stream": "stdout",
       "text": [
        "\n",
        " \n"
       ]
      },
      {
       "output_type": "stream",
       "stream": "stdout",
       "text": [
        "\n",
        " \n"
       ]
      },
      {
       "output_type": "stream",
       "stream": "stdout",
       "text": [
        "\n",
        " \n"
       ]
      },
      {
       "output_type": "stream",
       "stream": "stdout",
       "text": [
        "\n",
        " \n"
       ]
      },
      {
       "output_type": "stream",
       "stream": "stdout",
       "text": [
        "\n",
        " \n"
       ]
      },
      {
       "output_type": "stream",
       "stream": "stdout",
       "text": [
        "\n",
        " \n"
       ]
      },
      {
       "output_type": "stream",
       "stream": "stdout",
       "text": [
        "\n",
        " \n"
       ]
      },
      {
       "output_type": "stream",
       "stream": "stdout",
       "text": [
        "\n",
        " \n"
       ]
      },
      {
       "output_type": "stream",
       "stream": "stdout",
       "text": [
        "\n",
        " \n"
       ]
      },
      {
       "output_type": "stream",
       "stream": "stdout",
       "text": [
        "\n",
        " \n",
        " "
       ]
      },
      {
       "output_type": "stream",
       "stream": "stdout",
       "text": [
        "\n"
       ]
      },
      {
       "output_type": "stream",
       "stream": "stdout",
       "text": [
        "\n",
        " \n",
        "\n",
        " \n"
       ]
      },
      {
       "output_type": "stream",
       "stream": "stdout",
       "text": [
        "\n",
        " \n",
        "\n",
        " \n"
       ]
      },
      {
       "output_type": "stream",
       "stream": "stdout",
       "text": [
        "\n",
        " \n",
        "\n",
        " \n"
       ]
      },
      {
       "output_type": "stream",
       "stream": "stdout",
       "text": [
        "\n",
        " \n"
       ]
      },
      {
       "output_type": "stream",
       "stream": "stdout",
       "text": [
        "\n",
        " \n"
       ]
      },
      {
       "output_type": "stream",
       "stream": "stdout",
       "text": [
        "\n",
        " \n"
       ]
      },
      {
       "output_type": "stream",
       "stream": "stdout",
       "text": [
        "\n",
        " \n"
       ]
      },
      {
       "output_type": "stream",
       "stream": "stdout",
       "text": [
        "\n",
        " \n"
       ]
      },
      {
       "output_type": "stream",
       "stream": "stdout",
       "text": [
        "\n",
        " \n",
        "\n",
        " \n",
        "\n",
        " \n"
       ]
      },
      {
       "output_type": "stream",
       "stream": "stdout",
       "text": [
        "\n",
        " \n",
        " "
       ]
      },
      {
       "output_type": "stream",
       "stream": "stdout",
       "text": [
        "\n"
       ]
      },
      {
       "output_type": "stream",
       "stream": "stdout",
       "text": [
        "\n",
        " \n"
       ]
      },
      {
       "output_type": "stream",
       "stream": "stdout",
       "text": [
        "\n",
        " \n",
        " "
       ]
      },
      {
       "output_type": "stream",
       "stream": "stdout",
       "text": [
        "\n"
       ]
      },
      {
       "output_type": "stream",
       "stream": "stdout",
       "text": [
        "\n",
        " \n"
       ]
      },
      {
       "output_type": "stream",
       "stream": "stdout",
       "text": [
        "\n",
        " \n"
       ]
      },
      {
       "output_type": "stream",
       "stream": "stdout",
       "text": [
        "\n",
        " \n"
       ]
      },
      {
       "output_type": "stream",
       "stream": "stdout",
       "text": [
        "\n",
        " \n",
        " "
       ]
      },
      {
       "output_type": "stream",
       "stream": "stdout",
       "text": [
        "\n"
       ]
      },
      {
       "output_type": "stream",
       "stream": "stdout",
       "text": [
        "\n",
        " \n"
       ]
      },
      {
       "output_type": "stream",
       "stream": "stdout",
       "text": [
        "\n",
        " \n"
       ]
      },
      {
       "output_type": "stream",
       "stream": "stdout",
       "text": [
        "\n",
        " \n"
       ]
      },
      {
       "output_type": "stream",
       "stream": "stdout",
       "text": [
        "\n",
        " \n"
       ]
      },
      {
       "output_type": "stream",
       "stream": "stdout",
       "text": [
        "\n",
        " \n"
       ]
      },
      {
       "output_type": "stream",
       "stream": "stdout",
       "text": [
        "\n",
        " \n"
       ]
      },
      {
       "output_type": "stream",
       "stream": "stdout",
       "text": [
        "\n",
        " \n"
       ]
      },
      {
       "output_type": "stream",
       "stream": "stdout",
       "text": [
        "\n",
        " \n"
       ]
      },
      {
       "output_type": "stream",
       "stream": "stdout",
       "text": [
        "\n",
        " \n"
       ]
      },
      {
       "output_type": "stream",
       "stream": "stdout",
       "text": [
        "\n",
        " \n"
       ]
      },
      {
       "output_type": "stream",
       "stream": "stdout",
       "text": [
        "\n",
        " \n",
        " "
       ]
      },
      {
       "output_type": "stream",
       "stream": "stdout",
       "text": [
        "\n"
       ]
      },
      {
       "output_type": "stream",
       "stream": "stdout",
       "text": [
        "\n",
        " \n"
       ]
      },
      {
       "output_type": "stream",
       "stream": "stdout",
       "text": [
        "\n",
        " \n"
       ]
      },
      {
       "output_type": "stream",
       "stream": "stdout",
       "text": [
        "\n",
        " \n"
       ]
      },
      {
       "output_type": "stream",
       "stream": "stdout",
       "text": [
        "\n",
        " \n",
        "\n",
        " \n"
       ]
      },
      {
       "output_type": "stream",
       "stream": "stdout",
       "text": [
        "\n",
        " \n"
       ]
      },
      {
       "output_type": "stream",
       "stream": "stdout",
       "text": [
        "\n",
        " \n"
       ]
      },
      {
       "output_type": "stream",
       "stream": "stdout",
       "text": [
        "\n",
        " \n",
        " "
       ]
      },
      {
       "output_type": "stream",
       "stream": "stdout",
       "text": [
        "\n"
       ]
      },
      {
       "output_type": "stream",
       "stream": "stdout",
       "text": [
        "\n",
        " \n"
       ]
      },
      {
       "output_type": "stream",
       "stream": "stdout",
       "text": [
        "\n",
        " \n"
       ]
      },
      {
       "output_type": "stream",
       "stream": "stdout",
       "text": [
        "\n",
        " \n",
        " \n"
       ]
      },
      {
       "output_type": "stream",
       "stream": "stdout",
       "text": [
        "\n",
        " \n"
       ]
      },
      {
       "output_type": "stream",
       "stream": "stdout",
       "text": [
        "\n",
        " \n"
       ]
      },
      {
       "output_type": "stream",
       "stream": "stdout",
       "text": [
        "\n",
        " \n"
       ]
      },
      {
       "output_type": "stream",
       "stream": "stdout",
       "text": [
        "\n",
        " \n"
       ]
      },
      {
       "output_type": "stream",
       "stream": "stdout",
       "text": [
        "\n",
        " \n"
       ]
      },
      {
       "output_type": "stream",
       "stream": "stdout",
       "text": [
        "\n",
        " \n"
       ]
      },
      {
       "output_type": "stream",
       "stream": "stdout",
       "text": [
        "\n",
        " \n"
       ]
      },
      {
       "output_type": "stream",
       "stream": "stdout",
       "text": [
        "\n",
        " \n"
       ]
      },
      {
       "output_type": "stream",
       "stream": "stdout",
       "text": [
        "\n",
        " \n"
       ]
      },
      {
       "output_type": "stream",
       "stream": "stdout",
       "text": [
        "\n",
        " \n"
       ]
      },
      {
       "output_type": "stream",
       "stream": "stdout",
       "text": [
        "\n",
        " \n"
       ]
      },
      {
       "output_type": "stream",
       "stream": "stdout",
       "text": [
        "\n",
        " \n"
       ]
      },
      {
       "output_type": "stream",
       "stream": "stdout",
       "text": [
        "\n",
        " \n"
       ]
      },
      {
       "output_type": "stream",
       "stream": "stdout",
       "text": [
        "\n",
        " \n"
       ]
      },
      {
       "output_type": "stream",
       "stream": "stdout",
       "text": [
        "\n",
        " \n",
        " \n"
       ]
      },
      {
       "output_type": "stream",
       "stream": "stdout",
       "text": [
        "\n",
        " \n",
        " "
       ]
      },
      {
       "output_type": "stream",
       "stream": "stdout",
       "text": [
        "\n"
       ]
      },
      {
       "output_type": "stream",
       "stream": "stdout",
       "text": [
        "\n",
        " \n"
       ]
      },
      {
       "output_type": "stream",
       "stream": "stdout",
       "text": [
        "\n",
        " \n"
       ]
      },
      {
       "output_type": "stream",
       "stream": "stdout",
       "text": [
        "\n",
        " \n",
        "\n",
        " \n"
       ]
      },
      {
       "output_type": "stream",
       "stream": "stdout",
       "text": [
        "\n",
        " \n"
       ]
      },
      {
       "output_type": "stream",
       "stream": "stdout",
       "text": [
        "\n",
        " \n"
       ]
      },
      {
       "output_type": "stream",
       "stream": "stdout",
       "text": [
        "\n",
        " \n"
       ]
      },
      {
       "output_type": "stream",
       "stream": "stdout",
       "text": [
        "\n",
        " \n",
        "\n",
        " \n"
       ]
      },
      {
       "output_type": "stream",
       "stream": "stdout",
       "text": [
        "\n",
        " \n"
       ]
      },
      {
       "output_type": "stream",
       "stream": "stdout",
       "text": [
        "\n",
        " \n",
        "\n",
        " \n"
       ]
      },
      {
       "output_type": "stream",
       "stream": "stdout",
       "text": [
        "\n",
        " \n"
       ]
      },
      {
       "output_type": "stream",
       "stream": "stdout",
       "text": [
        "\n",
        " \n"
       ]
      },
      {
       "output_type": "stream",
       "stream": "stdout",
       "text": [
        "\n",
        " \n"
       ]
      },
      {
       "output_type": "stream",
       "stream": "stdout",
       "text": [
        "\n",
        " \n"
       ]
      },
      {
       "output_type": "stream",
       "stream": "stdout",
       "text": [
        "\n",
        " \n"
       ]
      },
      {
       "output_type": "stream",
       "stream": "stdout",
       "text": [
        "\n",
        " \n"
       ]
      },
      {
       "output_type": "stream",
       "stream": "stdout",
       "text": [
        "\n",
        " \n"
       ]
      },
      {
       "output_type": "stream",
       "stream": "stdout",
       "text": [
        "\n",
        " \n"
       ]
      },
      {
       "output_type": "stream",
       "stream": "stdout",
       "text": [
        "\n",
        " \n"
       ]
      },
      {
       "output_type": "stream",
       "stream": "stdout",
       "text": [
        "\n",
        " \n"
       ]
      },
      {
       "output_type": "stream",
       "stream": "stdout",
       "text": [
        "\n",
        " \n"
       ]
      },
      {
       "output_type": "stream",
       "stream": "stdout",
       "text": [
        "\n",
        " \n",
        "\n",
        " \n"
       ]
      },
      {
       "output_type": "stream",
       "stream": "stdout",
       "text": [
        "\n",
        " \n",
        "\n",
        " \n"
       ]
      },
      {
       "output_type": "stream",
       "stream": "stdout",
       "text": [
        "\n",
        " \n",
        "\n",
        " \n"
       ]
      },
      {
       "output_type": "stream",
       "stream": "stdout",
       "text": [
        "\n",
        " \n",
        "\n",
        " \n"
       ]
      },
      {
       "output_type": "stream",
       "stream": "stdout",
       "text": [
        "\n",
        " \n"
       ]
      },
      {
       "output_type": "stream",
       "stream": "stdout",
       "text": [
        "\n",
        " \n"
       ]
      },
      {
       "output_type": "stream",
       "stream": "stdout",
       "text": [
        "\n",
        " \n"
       ]
      },
      {
       "output_type": "stream",
       "stream": "stdout",
       "text": [
        "\n",
        " \n"
       ]
      },
      {
       "output_type": "stream",
       "stream": "stdout",
       "text": [
        "\n",
        " \n"
       ]
      },
      {
       "output_type": "stream",
       "stream": "stdout",
       "text": [
        "\n",
        " \n"
       ]
      },
      {
       "output_type": "stream",
       "stream": "stdout",
       "text": [
        "\n",
        " \n"
       ]
      },
      {
       "output_type": "stream",
       "stream": "stdout",
       "text": [
        "\n",
        " \n"
       ]
      },
      {
       "output_type": "stream",
       "stream": "stdout",
       "text": [
        "\n",
        " \n"
       ]
      },
      {
       "output_type": "stream",
       "stream": "stdout",
       "text": [
        "\n",
        " \n",
        " "
       ]
      },
      {
       "output_type": "stream",
       "stream": "stdout",
       "text": [
        "\n"
       ]
      },
      {
       "output_type": "stream",
       "stream": "stdout",
       "text": [
        "\n",
        " \n",
        " "
       ]
      },
      {
       "output_type": "stream",
       "stream": "stdout",
       "text": [
        "\n"
       ]
      },
      {
       "output_type": "stream",
       "stream": "stdout",
       "text": [
        "\n",
        " \n"
       ]
      },
      {
       "output_type": "stream",
       "stream": "stdout",
       "text": [
        "\n",
        " \n",
        " "
       ]
      },
      {
       "output_type": "stream",
       "stream": "stdout",
       "text": [
        "\n"
       ]
      },
      {
       "output_type": "stream",
       "stream": "stdout",
       "text": [
        "\n",
        " \n"
       ]
      },
      {
       "output_type": "stream",
       "stream": "stdout",
       "text": [
        "\n",
        " \n"
       ]
      },
      {
       "output_type": "stream",
       "stream": "stdout",
       "text": [
        "\n",
        " \n"
       ]
      },
      {
       "output_type": "stream",
       "stream": "stdout",
       "text": [
        "\n",
        " \n"
       ]
      },
      {
       "output_type": "stream",
       "stream": "stdout",
       "text": [
        "\n",
        " \n"
       ]
      },
      {
       "output_type": "stream",
       "stream": "stdout",
       "text": [
        "\n",
        " \n",
        "\n",
        " \n"
       ]
      },
      {
       "output_type": "stream",
       "stream": "stdout",
       "text": [
        "\n",
        " \n",
        "\n",
        " \n"
       ]
      },
      {
       "output_type": "stream",
       "stream": "stdout",
       "text": [
        "\n",
        " \n",
        " "
       ]
      },
      {
       "output_type": "stream",
       "stream": "stdout",
       "text": [
        "\n"
       ]
      },
      {
       "output_type": "stream",
       "stream": "stdout",
       "text": [
        "\n",
        " \n",
        " "
       ]
      },
      {
       "output_type": "stream",
       "stream": "stdout",
       "text": [
        "\n",
        " "
       ]
      },
      {
       "output_type": "stream",
       "stream": "stdout",
       "text": [
        "\n"
       ]
      },
      {
       "output_type": "stream",
       "stream": "stdout",
       "text": [
        "\n",
        " \n"
       ]
      },
      {
       "output_type": "stream",
       "stream": "stdout",
       "text": [
        "\n",
        " \n",
        " \n"
       ]
      },
      {
       "output_type": "stream",
       "stream": "stdout",
       "text": [
        "\n",
        " \n",
        " "
       ]
      },
      {
       "output_type": "stream",
       "stream": "stdout",
       "text": [
        "\n"
       ]
      },
      {
       "output_type": "stream",
       "stream": "stdout",
       "text": [
        "\n",
        " \n"
       ]
      },
      {
       "output_type": "stream",
       "stream": "stdout",
       "text": [
        "\n",
        " \n"
       ]
      },
      {
       "output_type": "stream",
       "stream": "stdout",
       "text": [
        "\n",
        " \n",
        "136381 1\n",
        "33562 215\n",
        "176468 6\n",
        "142231 1\n",
        "65500 4\n",
        "123483 21\n",
        "15147 1\n",
        "114350 1\n",
        "211463 2\n",
        "39971 1\n",
        "158683 1\n",
        "103115 1\n",
        "318606 1\n",
        "297386 1\n",
        "214917 1\n",
        "24926 19\n",
        "879 5\n",
        "150040 1\n",
        "165228 5\n",
        "116591 17\n",
        "346574 5\n",
        "127058 9\n",
        "78480 2\n",
        "186071 1\n",
        "97105 1\n",
        "254519 1\n",
        "7622 15\n",
        "139741 1\n",
        "132261 41\n",
        "57945 4\n",
        "250645 1\n",
        "35958 1\n",
        "39233 100\n",
        "12856 1\n",
        "User_id and influencing reviews\n",
        "136381 1\n",
        "User_id and influencing reviews\n",
        "33562 275\n",
        "User_id and influencing reviews\n",
        "176468 6\n",
        "User_id and influencing reviews\n",
        "142231 1\n",
        "User_id and influencing reviews\n",
        "65500 6\n",
        "User_id and influencing reviews\n",
        "123483 31\n",
        "User_id and influencing reviews\n",
        "15147 1\n",
        "User_id and influencing reviews\n",
        "114350 2\n",
        "User_id and influencing reviews\n",
        "211463 2\n",
        "User_id and influencing reviews\n",
        "39971 1\n",
        "User_id and influencing reviews\n",
        "158683 1\n",
        "User_id and influencing reviews\n",
        "103115 1\n",
        "User_id and influencing reviews\n",
        "318606 1\n",
        "User_id and influencing reviews\n",
        "297386 1\n",
        "User_id and influencing reviews\n",
        "214917 1\n",
        "User_id and influencing reviews\n",
        "24926 22\n",
        "User_id and influencing reviews\n",
        "879 35\n",
        "User_id and influencing reviews\n",
        "150040 1\n",
        "User_id and influencing reviews\n",
        "165228 14\n",
        "User_id and influencing reviews\n",
        "116591 83\n",
        "User_id and influencing reviews\n",
        "346574 6\n",
        "User_id and influencing reviews\n",
        "127058 9\n",
        "User_id and influencing reviews\n",
        "78480 2\n",
        "User_id and influencing reviews\n",
        "186071 1\n",
        "User_id and influencing reviews\n",
        "97105 1\n",
        "User_id and influencing reviews\n",
        "254519 1\n",
        "User_id and influencing reviews\n",
        "7622 29\n",
        "User_id and influencing reviews\n",
        "139741 2\n",
        "User_id and influencing reviews\n",
        "132261 53\n",
        "User_id and influencing reviews\n",
        "57945 6\n",
        "User_id and influencing reviews\n",
        "250645 1\n",
        "User_id and influencing reviews\n",
        "35958 3\n",
        "User_id and influencing reviews\n",
        "39233 509\n",
        "User_id and influencing reviews\n",
        "12856 2\n",
        "34\n",
        "0\n",
        "0\n"
       ]
      }
     ],
     "prompt_number": 25
    },
    {
     "cell_type": "code",
     "collapsed": false,
     "input": [],
     "language": "python",
     "metadata": {},
     "outputs": []
    },
    {
     "cell_type": "code",
     "collapsed": false,
     "input": [],
     "language": "python",
     "metadata": {},
     "outputs": []
    }
   ],
   "metadata": {}
  }
 ]
}